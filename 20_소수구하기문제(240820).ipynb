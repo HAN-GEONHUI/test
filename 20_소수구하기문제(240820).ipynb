{
  "nbformat": 4,
  "nbformat_minor": 0,
  "metadata": {
    "colab": {
      "provenance": [],
      "authorship_tag": "ABX9TyNGEAo6YQrVd/g0oqJdlRIb",
      "include_colab_link": true
    },
    "kernelspec": {
      "name": "python3",
      "display_name": "Python 3"
    },
    "language_info": {
      "name": "python"
    }
  },
  "cells": [
    {
      "cell_type": "markdown",
      "metadata": {
        "id": "view-in-github",
        "colab_type": "text"
      },
      "source": [
        "<a href=\"https://colab.research.google.com/github/HAN-GEONHUI/test/blob/t_academy_%EC%88%98%EC%97%85/20_%EC%86%8C%EC%88%98%EA%B5%AC%ED%95%98%EA%B8%B0%EB%AC%B8%EC%A0%9C(240820).ipynb\" target=\"_parent\"><img src=\"https://colab.research.google.com/assets/colab-badge.svg\" alt=\"Open In Colab\"/></a>"
      ]
    },
    {
      "cell_type": "code",
      "execution_count": null,
      "metadata": {
        "id": "S_dCvspaHwZk"
      },
      "outputs": [],
      "source": [
        "#반복문 패턴 1-7까지 안보고 할 수 있는 정도로 연습하면 데이터 헨들링 할때 문제가 없다.\n",
        "#코테는 1-7번정렬까지 해두면 어느정도는 하는데 문제는 없다."
      ]
    },
    {
      "cell_type": "code",
      "source": [
        "#-2022년 카카오 2번 문제\n",
        "# - https://school.programmers.co.kr/learn/courses/30/lessons/92335"
      ],
      "metadata": {
        "id": "WUfHoq96I13L"
      },
      "execution_count": null,
      "outputs": []
    },
    {
      "cell_type": "code",
      "source": [
        "#1부터 100까지의 소수들을 출력하는 문제"
      ],
      "metadata": {
        "id": "hZs9VnfIJfc8"
      },
      "execution_count": null,
      "outputs": []
    },
    {
      "cell_type": "code",
      "source": [
        "#정의: 소수의 정의:1하고,자기 자신만 나눠 떨어지면 n까지의 소수를 찾아주세요\n",
        "#--> 2~(n-1)까지 다 나눠보면서,,,,for\n",
        "#                       n-1까지 나눠떨어지지 않으면,,\n",
        "#                                     소수\n",
        "#                        혹시 중간에 떨어지면\n",
        "#                                     합성수\n",
        "#                        if//%==0/%==!0\n",
        "\n",
        "# 예) n= 6 : 6 % 2 == 0 ---> pass\n",
        "#     n = 7 : 7%2(X), 7%3(X), 7%4(X), 7%5(X), 7%6(X)\n",
        "#             ===> 나머지가 0이 되지 않아서 소수다!\n",
        "\n",
        "#기본문제: 전체적인 2중 for문에 대해서 정확히 사용!\n",
        "#           +if +컨트롤하는(continue,break,pass etc)-> 전체적인 골격에 대한 이해를 체크하는 기본 문제"
      ],
      "metadata": {
        "id": "Pf7K8IaTJkja"
      },
      "execution_count": null,
      "outputs": []
    },
    {
      "cell_type": "code",
      "source": [
        "for i in range(1,100):\n",
        "  if i % 2 != 0 and i % 3 != 0 and i % 5 !=0 and i % 7!=0:\n",
        "   print(i)\n",
        "  i+=1"
      ],
      "metadata": {
        "colab": {
          "base_uri": "https://localhost:8080/"
        },
        "id": "svPeh1jSK44t",
        "outputId": "3abd3aeb-c562-40b9-a947-b0097c50c1e2"
      },
      "execution_count": null,
      "outputs": [
        {
          "output_type": "stream",
          "name": "stdout",
          "text": [
            "1\n",
            "11\n",
            "13\n",
            "17\n",
            "19\n",
            "23\n",
            "29\n",
            "31\n",
            "37\n",
            "41\n",
            "43\n",
            "47\n",
            "53\n",
            "59\n",
            "61\n",
            "67\n",
            "71\n",
            "73\n",
            "79\n",
            "83\n",
            "89\n",
            "97\n"
          ]
        }
      ]
    },
    {
      "cell_type": "code",
      "source": [
        "n = 100\n",
        "for i in range(2, n+1): # 2~n까지 테스트할 숫자들 롤링!!!\n",
        "    # 1개 숫자가 선택이 된다면 : 예 --> 8 (i)\n",
        "    # i라는 숫자를 바탕으로 할 일!!!! : 나눌 값 2~~i/i-1 etc\n",
        "    for j in range(2, i+1): # 2부터 i까지 나누기...\n",
        "        if i % j ==0:\n",
        "            break\n",
        "    if j == i: # <--- 나머지 테스트를 다 통과해서 온 값이면,,\n",
        "        print(i)"
      ],
      "metadata": {
        "colab": {
          "base_uri": "https://localhost:8080/"
        },
        "id": "UUsGrjElNC6s",
        "outputId": "50cd8bfb-e1ba-4abc-b442-93a4a06dbc51"
      },
      "execution_count": null,
      "outputs": [
        {
          "output_type": "stream",
          "name": "stdout",
          "text": [
            "2\n",
            "3\n",
            "5\n",
            "7\n",
            "11\n",
            "13\n",
            "17\n",
            "19\n",
            "23\n",
            "29\n",
            "31\n",
            "37\n",
            "41\n",
            "43\n",
            "47\n",
            "53\n",
            "59\n",
            "61\n",
            "67\n",
            "71\n",
            "73\n",
            "79\n",
            "83\n",
            "89\n",
            "97\n"
          ]
        }
      ]
    },
    {
      "cell_type": "code",
      "source": [
        "# 중요사항\n",
        "# - 2중 for문에 대한 처리\n",
        "# - 골격에 대한 부분에서 정확하게 처리안하면 이상한값들 나타남\n",
        "#   ==> 정확하게 코드작업( 인덱스 )\n",
        "# - 가장 기본적인 구조!!!!"
      ],
      "metadata": {
        "id": "GZ1VQ_nFNnUz"
      },
      "execution_count": null,
      "outputs": []
    },
    {
      "cell_type": "code",
      "source": [],
      "metadata": {
        "id": "lReDxt55Rs7r"
      },
      "execution_count": null,
      "outputs": []
    },
    {
      "cell_type": "code",
      "source": [
        "# ==> n 자연수 ---> k진법으로 변환 ---> 조건에 맞는 소수의 카운팅!!!\n",
        "# 엇 : 우리가 일반적으로 아는 P의 기준과 좀 다르네...\n",
        "#      101은 일반적인 기준에서 소수\n",
        "#      ==> 중간에 0이 있는 친구들을 소수로 인정하지 X"
      ],
      "metadata": {
        "id": "9gex8s89SB0B"
      },
      "execution_count": null,
      "outputs": []
    },
    {
      "cell_type": "code",
      "source": [
        "# 문제의 체크\n",
        "# 1) n(입력 10진수) ---> k진법 ---> 변환\n",
        "# 2) 0을 중심으로 쪼개기\n",
        "# 3) 쪼갠 부분들을 돌리면서 for\n",
        "#    -->10진수 기준으로 소수인지 체크\n",
        "#       소수면+1 카운"
      ],
      "metadata": {
        "id": "fMRuguF0SFjR"
      },
      "execution_count": null,
      "outputs": []
    },
    {
      "cell_type": "code",
      "source": [],
      "metadata": {
        "id": "Z_4c6ZqdajCy"
      },
      "execution_count": null,
      "outputs": []
    },
    {
      "cell_type": "code",
      "source": [
        "#1)입력 n을 k진법으로 변환을 하는 함수\n",
        "#입력: 숫자n,진법k\n",
        "#출력: k진법으로 변환된 n의 결과--> 문자열(쪼개고,역순처리)\n",
        "\n",
        "#기능: n을 k로 계속계속 나무면 됨! while-->\n",
        "#      -->break: 몫이 0이하인 경우\n",
        "#      나누면서 할 일 : 몫 -- while go/stop\n",
        "#                       나머지 --> 기록을 하기!\n",
        "#                                  나중에 편하게 싹 역순으로 돌리면\n",
        "#                                  자료형:문자열\n",
        "\n",
        "\n",
        "#cf)진법 변화시 나머지들을 역순처리:슬라이싱\n",
        "#--> 그 다음 단계에서 0을 중심으로 분리 : split메서드"
      ],
      "metadata": {
        "id": "wbrBty8yajZi"
      },
      "execution_count": null,
      "outputs": []
    },
    {
      "cell_type": "code",
      "source": [
        "a=[1,2,3,4]\n",
        "a.reverse()\n",
        "a"
      ],
      "metadata": {
        "colab": {
          "base_uri": "https://localhost:8080/"
        },
        "id": "Vhl7vixba77s",
        "outputId": "61a7fe8d-67f4-4af6-8c05-b0fdcc52e421"
      },
      "execution_count": null,
      "outputs": [
        {
          "output_type": "execute_result",
          "data": {
            "text/plain": [
              "[4, 3, 2, 1]"
            ]
          },
          "metadata": {},
          "execution_count": 17
        }
      ]
    },
    {
      "cell_type": "code",
      "source": [
        "a=[1,2,3,4]\n",
        "a[::-1]"
      ],
      "metadata": {
        "colab": {
          "base_uri": "https://localhost:8080/"
        },
        "id": "JI58adTobAkx",
        "outputId": "2e534116-1325-4411-ba5a-ecd99b31ec6e"
      },
      "execution_count": null,
      "outputs": [
        {
          "output_type": "execute_result",
          "data": {
            "text/plain": [
              "[4, 3, 2, 1]"
            ]
          },
          "metadata": {},
          "execution_count": 18
        }
      ]
    },
    {
      "cell_type": "code",
      "source": [
        "a=list(\"Abcd\")\n",
        "a.reverse()\n",
        "a"
      ],
      "metadata": {
        "colab": {
          "base_uri": "https://localhost:8080/"
        },
        "id": "LBW0p4rGbFy4",
        "outputId": "f223b65f-92be-4875-8e28-b3794ee13a21"
      },
      "execution_count": null,
      "outputs": [
        {
          "output_type": "execute_result",
          "data": {
            "text/plain": [
              "['d', 'c', 'b', 'A']"
            ]
          },
          "metadata": {},
          "execution_count": 19
        }
      ]
    },
    {
      "cell_type": "code",
      "source": [
        "\"abcd[::-1]\""
      ],
      "metadata": {
        "colab": {
          "base_uri": "https://localhost:8080/",
          "height": 35
        },
        "id": "qEYvrAoDbM1-",
        "outputId": "d73ae40c-9d92-44af-8ae7-81d69b8d0745"
      },
      "execution_count": null,
      "outputs": [
        {
          "output_type": "execute_result",
          "data": {
            "text/plain": [
              "'abcd[::-1]'"
            ],
            "application/vnd.google.colaboratory.intrinsic+json": {
              "type": "string"
            }
          },
          "metadata": {},
          "execution_count": 20
        }
      ]
    },
    {
      "cell_type": "code",
      "source": [
        "# 참고 : k ==10인경우는 굳이 할 필요가 없기는하지만,,,\n",
        "#        일단 신경 안쓰고 코드를 작성했음.!!!\n",
        "#        ==> 좀 더 시간을 줄여야 한다면,,,이 부분도 처리!!!\n",
        "#        if k==10 : return str(n)\n",
        "#        else:   기존 방식...\n",
        "#   ====> 문제 조건을 보면,,,그닥 효율이 없을 거 같아서 생략!!!\n",
        "\n",
        "def convert_k_system(n,k):\n",
        "  #나머지들을 문자열로 하나씩 기록해 둘것\n",
        "  k_sys=\"\"\n",
        "  while n>0:#몫이 0 이상일 때...\n",
        "      k_sys += str(n % k) #나머지 결과를 기록\n",
        "      n = n//k            #나눌 수는 몫으로 계속 경신\n",
        "  #--> 순서 정확히 주의해야 함\n",
        "  #진법 변환을 위해서 역순 --> 문자열 역슬라이싱\n",
        "  k_sys = k_sys[::-1]\n",
        "  return k_sys"
      ],
      "metadata": {
        "id": "_OkSd3igbQz_"
      },
      "execution_count": null,
      "outputs": []
    },
    {
      "cell_type": "code",
      "source": [
        "# test\n",
        "n = 437674\n",
        "k = 3\n",
        "# 211020101011\n",
        "convert_k_system(n,k)"
      ],
      "metadata": {
        "colab": {
          "base_uri": "https://localhost:8080/",
          "height": 35
        },
        "id": "VsgTaMMUbRBl",
        "outputId": "415ee093-9231-4ca2-9f5d-7648f9cc0fd7"
      },
      "execution_count": null,
      "outputs": [
        {
          "output_type": "execute_result",
          "data": {
            "text/plain": [
              "'211020101011'"
            ],
            "application/vnd.google.colaboratory.intrinsic+json": {
              "type": "string"
            }
          },
          "metadata": {},
          "execution_count": 23
        }
      ]
    },
    {
      "cell_type": "code",
      "source": [
        "# test\n",
        "n = 101011\n",
        "k = 3\n",
        "# 211020101011\n",
        "convert_k_system(n,k)"
      ],
      "metadata": {
        "id": "HGi3-ZuJdRak",
        "outputId": "25da00ea-886e-49b3-9569-5f9cd3a40edf",
        "colab": {
          "base_uri": "https://localhost:8080/",
          "height": 35
        }
      },
      "execution_count": null,
      "outputs": [
        {
          "output_type": "execute_result",
          "data": {
            "text/plain": [
              "'12010120011'"
            ],
            "application/vnd.google.colaboratory.intrinsic+json": {
              "type": "string"
            }
          },
          "metadata": {},
          "execution_count": 24
        }
      ]
    },
    {
      "cell_type": "code",
      "source": [
        "# step2) 0을 중심으로 쪼개기!!!\n",
        "convert_k_system(n,k).split(\"0\")"
      ],
      "metadata": {
        "id": "2KMt4-54dRkE",
        "colab": {
          "base_uri": "https://localhost:8080/"
        },
        "outputId": "84265192-7c85-49ab-b56e-4cfe0fe900f8"
      },
      "execution_count": null,
      "outputs": [
        {
          "output_type": "execute_result",
          "data": {
            "text/plain": [
              "['12', '1', '12', '', '11']"
            ]
          },
          "metadata": {},
          "execution_count": 26
        }
      ]
    },
    {
      "cell_type": "code",
      "source": [
        "temp = convert_k_system(n,k).split(\"0\")\n",
        "temp"
      ],
      "metadata": {
        "colab": {
          "base_uri": "https://localhost:8080/"
        },
        "id": "SvNXYID5egXj",
        "outputId": "d2bcbce9-1e71-4504-c852-2de10f8f9feb"
      },
      "execution_count": null,
      "outputs": [
        {
          "output_type": "execute_result",
          "data": {
            "text/plain": [
              "['12', '1', '12', '', '11']"
            ]
          },
          "metadata": {},
          "execution_count": 28
        }
      ]
    },
    {
      "cell_type": "code",
      "source": [
        "for i in temp:\n",
        "    if i != \"\":\n",
        "        print(i)\n",
        "        # --> 소수인지 판별하고,,,\n",
        "        #     소수이면 카운팅!!!!!!\n",
        "        #     ==> 함수화!!!!\n",
        "    else:\n",
        "        pass"
      ],
      "metadata": {
        "colab": {
          "base_uri": "https://localhost:8080/"
        },
        "id": "yHTVTr9XfrZO",
        "outputId": "3184bb1a-5561-4390-a3af-8d9ee5249232"
      },
      "execution_count": null,
      "outputs": [
        {
          "output_type": "stream",
          "name": "stdout",
          "text": [
            "12\n",
            "1\n",
            "12\n",
            "11\n"
          ]
        }
      ]
    },
    {
      "cell_type": "code",
      "source": [
        "# step3) 소수 판별 함수\n",
        "# 입력 : 숫자\n",
        "# 출력 : 소수판별Y/N --> True(소수), False(수소X)\n",
        "# point) 일단 정의대로 구현!!!! ---> 나중에 수정하지 뭐...\n",
        "# point) 입력이 1인 경우와 아닌 경우로 분리해서!!!\n",
        "def check_prime(m):\n",
        "    c = 2 #--> 2부터 계속 나누기!!!!!!!\n",
        "    if m==1:\n",
        "        return False\n",
        "    else:\n",
        "        while c < m: # 2~m-1까지 계속 나누기!!!\n",
        "            if m % c ==0:\n",
        "                return False\n",
        "            else:\n",
        "                c += 1\n",
        "    return True"
      ],
      "metadata": {
        "id": "_tjG0t0vegZx"
      },
      "execution_count": null,
      "outputs": []
    },
    {
      "cell_type": "code",
      "source": [
        "print( check_prime(211))"
      ],
      "metadata": {
        "colab": {
          "base_uri": "https://localhost:8080/"
        },
        "id": "M4PeM1iZf3a0",
        "outputId": "ac0f5e4e-1780-423e-be7b-c13d5cc62cb9"
      },
      "execution_count": null,
      "outputs": [
        {
          "output_type": "stream",
          "name": "stdout",
          "text": [
            "True\n"
          ]
        }
      ]
    },
    {
      "cell_type": "code",
      "source": [
        "print( check_prime(2))"
      ],
      "metadata": {
        "colab": {
          "base_uri": "https://localhost:8080/"
        },
        "id": "aitKLk_Bf3fG",
        "outputId": "9ccca8bf-5f42-4189-b67d-86c1cfe23b40"
      },
      "execution_count": null,
      "outputs": [
        {
          "output_type": "stream",
          "name": "stdout",
          "text": [
            "True\n"
          ]
        }
      ]
    },
    {
      "cell_type": "code",
      "source": [
        "print( check_prime(11))"
      ],
      "metadata": {
        "id": "TesU1MrZf9Ql",
        "colab": {
          "base_uri": "https://localhost:8080/"
        },
        "outputId": "e42582b8-7bb3-4cad-88f6-dc14d3f56ca8"
      },
      "execution_count": null,
      "outputs": [
        {
          "output_type": "stream",
          "name": "stdout",
          "text": [
            "True\n"
          ]
        }
      ]
    },
    {
      "cell_type": "code",
      "source": [
        "print( check_prime(1))"
      ],
      "metadata": {
        "id": "eM9cx9HPf3h9",
        "colab": {
          "base_uri": "https://localhost:8080/"
        },
        "outputId": "015c7fa8-2dfd-4d57-a1b4-21254e8d738a"
      },
      "execution_count": null,
      "outputs": [
        {
          "output_type": "stream",
          "name": "stdout",
          "text": [
            "False\n"
          ]
        }
      ]
    },
    {
      "cell_type": "code",
      "source": [
        "# step3) 소수 판별 함수\n",
        "# 입력 : 숫자\n",
        "# 출력 : 소수판별Y/N --> True(소수), False(수소X)\n",
        "# point) 일단 정의대로 구현!!!! ---> 나중에 수정하지 뭐...\n",
        "# point) 입력이 1인 경우와 아닌 경우로 분리해서!!!\n",
        "def check_prime(m):\n",
        "    c = 2 #--> 2부터 계속 나누기!!!!!!!\n",
        "    if m==1:\n",
        "        return False\n",
        "    else:\n",
        "        while c < m: # 2~m-1까지 계속 나누기!!!\n",
        "            if m % c ==0:\n",
        "                return False\n",
        "            else:\n",
        "                c += 1\n",
        "    return True"
      ],
      "metadata": {
        "id": "7S-dQvLtf3ka"
      },
      "execution_count": null,
      "outputs": []
    },
    {
      "cell_type": "code",
      "source": [
        "print( check_prime(211))"
      ],
      "metadata": {
        "colab": {
          "base_uri": "https://localhost:8080/"
        },
        "id": "lj7WVeYCiPYJ",
        "outputId": "3596195d-921a-443a-862c-4d0f3df92d19"
      },
      "execution_count": null,
      "outputs": [
        {
          "output_type": "stream",
          "name": "stdout",
          "text": [
            "True\n"
          ]
        }
      ]
    },
    {
      "cell_type": "code",
      "source": [
        "print( check_prime(2))"
      ],
      "metadata": {
        "colab": {
          "base_uri": "https://localhost:8080/"
        },
        "id": "bMmLxzLUiPbJ",
        "outputId": "1f258ec6-3757-4971-d4e0-1ebfc0af1dc8"
      },
      "execution_count": null,
      "outputs": [
        {
          "output_type": "stream",
          "name": "stdout",
          "text": [
            "True\n"
          ]
        }
      ]
    },
    {
      "cell_type": "code",
      "source": [
        "print( check_prime(11))"
      ],
      "metadata": {
        "colab": {
          "base_uri": "https://localhost:8080/"
        },
        "id": "_ZfXR2jdiPdz",
        "outputId": "1b30cda7-2def-45b7-c870-f7f0fec18408"
      },
      "execution_count": null,
      "outputs": [
        {
          "output_type": "stream",
          "name": "stdout",
          "text": [
            "True\n"
          ]
        }
      ]
    },
    {
      "cell_type": "code",
      "source": [
        "print( check_prime(10))"
      ],
      "metadata": {
        "colab": {
          "base_uri": "https://localhost:8080/"
        },
        "id": "MMh1AFLBi3aF",
        "outputId": "f422289f-e45f-4537-c212-d98e4cafdc59"
      },
      "execution_count": null,
      "outputs": [
        {
          "output_type": "stream",
          "name": "stdout",
          "text": [
            "False\n"
          ]
        }
      ]
    },
    {
      "cell_type": "code",
      "source": [
        "def solution(n, k):\n",
        "    answer = 0 # <-- 소수가 하나도 없는 경우 : 카운팅 0으로 초기화\n",
        "    # 1) 입력n --> k진법으로 변환... --> 문자열\n",
        "    n_to_k = ~~~~~\n",
        "    # 2) n_to_k 문자열을 \"0\"기준으로 분리 ---> 리스트\n",
        "\n",
        "    # 3) n_to_k의 덩어리들을 돌아가면서...소수인지 판별\n",
        "    for~~~~~~\n",
        "        if 덩어리가 빈 문자열이 아니면,,\n",
        "            if 그 숫자 덩어리가 소수면,,\n",
        "                answer += 1 # 카운팅....\n",
        "\n",
        "    return answer"
      ],
      "metadata": {
        "colab": {
          "base_uri": "https://localhost:8080/",
          "height": 110
        },
        "id": "7o40EV_bi3ch",
        "outputId": "8a455ae0-1825-4394-86a9-5c9df6778afe"
      },
      "execution_count": null,
      "outputs": [
        {
          "output_type": "error",
          "ename": "SyntaxError",
          "evalue": "invalid syntax (<ipython-input-50-051f1ef91ace>, line 4)",
          "traceback": [
            "\u001b[0;36m  File \u001b[0;32m\"<ipython-input-50-051f1ef91ace>\"\u001b[0;36m, line \u001b[0;32m4\u001b[0m\n\u001b[0;31m    n_to_k = ~~~~~\u001b[0m\n\u001b[0m                  ^\u001b[0m\n\u001b[0;31mSyntaxError\u001b[0m\u001b[0;31m:\u001b[0m invalid syntax\n"
          ]
        }
      ]
    },
    {
      "cell_type": "code",
      "source": [
        "def convert_k_system( n,k):\n",
        "    k_sys = \"\"\n",
        "    while n >0 : # 몫이 0이상일 때...\n",
        "        k_sys += str(n % k) # 나머지 결과를 기록\n",
        "        n = n // k          # 나눌 수는 몫으로 계속 갱신!!!!\n",
        "    k_sys = k_sys[::-1]\n",
        "    return k_sys\n",
        "\n",
        "def check_prime(m):\n",
        "    c = 2 #--> 2부터 계속 나누기!!!!!!!\n",
        "    if m==1:\n",
        "        return False\n",
        "    else:\n",
        "        while c < m: # 2~m-1까지 계속 나누기!!!\n",
        "            if m % c ==0:\n",
        "                return False\n",
        "            else:\n",
        "                c += 1\n",
        "    return True\n",
        "\n",
        "\n",
        "def solution(n, k):\n",
        "    answer = 0\n",
        "    n_to_k = convert_k_system(n, k ) # \"21100101011\"\n",
        "    for num in n_to_k.split(\"0\"): # [\"211\",\"\",\"1\",\"1\",\"11\"]\n",
        "        if num ==\"\": # 빈 문자열은 넘기기 위해서..\n",
        "            continue\n",
        "        else: # 소수인지 아닌지 체크\n",
        "            if check_prime(int(num)) == True:\n",
        "                answer += 1 # 카운팅!!!!\n",
        "    return answer"
      ],
      "metadata": {
        "id": "qj42J5GDi3hJ"
      },
      "execution_count": null,
      "outputs": []
    },
    {
      "cell_type": "code",
      "source": [
        "# test\n",
        "n = 437674\n",
        "k = 3\n",
        "# 3개\n",
        "solution(n,k)"
      ],
      "metadata": {
        "colab": {
          "base_uri": "https://localhost:8080/"
        },
        "id": "Ww53ueY1i3lD",
        "outputId": "7c21fa4b-48c2-467f-d00f-754364674adc"
      },
      "execution_count": null,
      "outputs": [
        {
          "output_type": "execute_result",
          "data": {
            "text/plain": [
              "2"
            ]
          },
          "metadata": {},
          "execution_count": 41
        }
      ]
    },
    {
      "cell_type": "code",
      "source": [
        "# test\n",
        "n = 110011\n",
        "k = 10\n",
        "# 2개\n",
        "solution(n,k)"
      ],
      "metadata": {
        "colab": {
          "base_uri": "https://localhost:8080/"
        },
        "id": "GU_7BqhnjmEW",
        "outputId": "fda9f18a-992d-4981-a737-8d4090fee4a4"
      },
      "execution_count": null,
      "outputs": [
        {
          "output_type": "execute_result",
          "data": {
            "text/plain": [
              "1"
            ]
          },
          "metadata": {},
          "execution_count": 42
        }
      ]
    },
    {
      "cell_type": "code",
      "source": [
        "# 카카오 지난 기출들을 좀 보면 : 효율성을 하는 간단한 원리\n",
        "#                               ==> 대칭성!!!!!\n",
        "# : 지식적인 부분이 100%까지는 아니여도..\n",
        "#   종종 사용되거나, 이쪽에 대해서 조금 공부하면 그래도 힌트!!!\n",
        "#   나올 수 있는 것 같음!!!\n",
        "#   최대한 간단한 아이디어로 해결해보련느 노력!!!!\n",
        "#   종종 나오는 원리/아이디어 중 하나가 \"대칭성\""
      ],
      "metadata": {
        "id": "1Hf4pUzsjmHA"
      },
      "execution_count": null,
      "outputs": []
    },
    {
      "cell_type": "code",
      "source": [
        "def check_prime(m):\n",
        "    if m == 1:\n",
        "        return False\n",
        "    elif m == 2:\n",
        "        return False\n",
        "    else:\n",
        "        c = 2\n",
        "        end = int(m**0.5) + 1\n",
        "        while c <= end:\n",
        "            if m % c ==0:\n",
        "                return False\n",
        "            else:\n",
        "                c += 1\n",
        "    return True"
      ],
      "metadata": {
        "id": "t1hLAU_SjmJ0"
      },
      "execution_count": null,
      "outputs": []
    },
    {
      "cell_type": "code",
      "source": [
        "### 운이 좋게도...파이썬 처리할 수 있는 정수범위가 커요!!!\n",
        "import sys"
      ],
      "metadata": {
        "id": "4ZQSynoRjmMb"
      },
      "execution_count": null,
      "outputs": []
    },
    {
      "cell_type": "code",
      "source": [
        "a = sys.maxsize\n",
        "b = sys.maxsize\n",
        "print(a)\n",
        "print(b)"
      ],
      "metadata": {
        "id": "CwvQXMuNdRmy",
        "colab": {
          "base_uri": "https://localhost:8080/"
        },
        "outputId": "48bdceb2-8dc4-4e81-e87b-aafb880830ae"
      },
      "execution_count": null,
      "outputs": [
        {
          "output_type": "stream",
          "name": "stdout",
          "text": [
            "9223372036854775807\n",
            "9223372036854775807\n"
          ]
        }
      ]
    },
    {
      "cell_type": "code",
      "source": [],
      "metadata": {
        "id": "bUqRb3Q2k8M8"
      },
      "execution_count": null,
      "outputs": []
    },
    {
      "cell_type": "code",
      "source": [
        "# ==> 지금은 아니지만,,,\n",
        "#     큰 숫자들을 처리할 때 어디까지 감당 가능한지 체크!!!\n",
        "#     고민/ 어림에 대한 부분에 대한 파악!!!!!\n",
        "# 코테에서 메인으로 나오기는 그러지 않을까함;;;;;;;"
      ],
      "metadata": {
        "id": "ULvlle90k8PJ"
      },
      "execution_count": null,
      "outputs": []
    },
    {
      "cell_type": "code",
      "source": [],
      "metadata": {
        "id": "vWr53HEck8RS"
      },
      "execution_count": null,
      "outputs": []
    },
    {
      "cell_type": "code",
      "source": [
        "def is_prime(num):\n",
        "    \"\"\"주어진 숫자가 소수인지 확인하는 함수\"\"\"\n",
        "    if num < 2:\n",
        "        return False\n",
        "    if num in (2, 3):\n",
        "        return True\n",
        "    if num % 2 == 0 or num % 3 == 0:\n",
        "        return False\n",
        "    i = 5\n",
        "    while i * i <= num:\n",
        "        if num % i == 0 or num % (i + 2) == 0:\n",
        "            return False\n",
        "        i += 6\n",
        "    return True\n",
        "\n",
        "def to_base_k(n, k):\n",
        "    \"\"\"숫자 n을 k진수 문자열로 변환하는 함수\"\"\"\n",
        "    if n == 0:\n",
        "        return \"0\"\n",
        "    digits = []\n",
        "    while n:\n",
        "        digits.append(int(n % k))\n",
        "        n //= k\n",
        "    return ''.join(str(x) for x in digits[::-1])\n",
        "\n",
        "def solution(n, k):\n",
        "    \"\"\"주어진 숫자 n을 k진수로 변환한 후, 특정 조건을 만족하는 소수의 개수를 반환하는 함수\"\"\"\n",
        "\n",
        "    # n을 k진수 문자열로 변환\n",
        "    base_k_str = to_base_k(n, k)\n",
        "\n",
        "    # 소수를 저장할 set (중복을 방지)\n",
        "    primes = set()\n",
        "\n",
        "    def add_prime_candidates(substr):\n",
        "        \"\"\"서브스트링이 소수인지 확인하고 소수 집합에 추가하는 함수\"\"\"\n",
        "        if substr and '0' not in substr:\n",
        "            num = int(substr, k)\n",
        "            if is_prime(num):\n",
        "                primes.add(num)\n",
        "\n",
        "    # 문자열의 모든 서브스트링을 검사\n",
        "    for start in range(len(base_k_str)):\n",
        "        for end in range(start + 1, len(base_k_str) + 1):\n",
        "            sub = base_k_str[start:end]\n",
        "\n",
        "            if '0' in sub:\n",
        "                # 서브스트링에 0이 포함된 경우\n",
        "                parts = sub.split('0')\n",
        "                for part in parts:\n",
        "                    add_prime_candidates(part)\n",
        "\n",
        "                # 0이 문자열의 양쪽 끝에 있을 때 처리\n",
        "                if sub.startswith('0') or sub.endswith('0'):\n",
        "                    if len(sub) > 1:\n",
        "                        # 시작 또는 끝의 0을 제거하고 소수 확인\n",
        "                        trimmed = sub.lstrip('0') if sub.startswith('0') else sub.rstrip('0')\n",
        "                        add_prime_candidates(trimmed)\n",
        "            else:\n",
        "                # 서브스트링에 0이 없을 때\n",
        "                add_prime_candidates(sub)\n",
        "\n",
        "    # 유효한 소수의 개수를 반환\n",
        "    return len(primes)\n",
        "\n",
        "# Example usage\n",
        "print(solution(437674, 3))  # Output: 3\n",
        "print(solution(110011, 10)) # Output: 2\n"
      ],
      "metadata": {
        "colab": {
          "base_uri": "https://localhost:8080/"
        },
        "id": "R3ardDfqYZ_h",
        "outputId": "42d4bdfa-c842-47e1-b628-f9edaa83d84a"
      },
      "execution_count": null,
      "outputs": [
        {
          "output_type": "stream",
          "name": "stdout",
          "text": [
            "2\n",
            "1\n"
          ]
        }
      ]
    },
    {
      "cell_type": "code",
      "source": [],
      "metadata": {
        "id": "OuKxBLMqaflD"
      },
      "execution_count": null,
      "outputs": []
    }
  ]
}