{
  "nbformat": 4,
  "nbformat_minor": 0,
  "metadata": {
    "colab": {
      "provenance": [],
      "authorship_tag": "ABX9TyNgq/2LKxnXPBYl17uAtJph",
      "include_colab_link": true
    },
    "kernelspec": {
      "name": "python3",
      "display_name": "Python 3"
    },
    "language_info": {
      "name": "python"
    }
  },
  "cells": [
    {
      "cell_type": "markdown",
      "metadata": {
        "id": "view-in-github",
        "colab_type": "text"
      },
      "source": [
        "<a href=\"https://colab.research.google.com/github/HAN-GEONHUI/test/blob/t_academy_%EC%88%98%EC%97%85_pandas/01_numpy_%EC%A0%95%EB%A6%AC(240826).ipynb\" target=\"_parent\"><img src=\"https://colab.research.google.com/assets/colab-badge.svg\" alt=\"Open In Colab\"/></a>"
      ]
    },
    {
      "cell_type": "code",
      "execution_count": null,
      "metadata": {
        "id": "pElbLwMhCas2"
      },
      "outputs": [],
      "source": [
        "### 지금 부터의 방향: 파이썬을 활용해서 내가 원하는 데이터를 수집/가져오고 원하는대로 전처리/가공\n",
        "### 결과들에 대한 표/시각화/그래프-: EDA--> ML/DL(모델링)\n",
        "###______________________________________________________________________________________________\n",
        "#주어진 데이터들에 대해서 \"데이터 핸들링\" 파이썬 ++++기본적인 파이썬 문법\n",
        "#++파이썬 계열에서 주로 데이터를 다루는 자료형:DF\n",
        "#++ 기저:numpy\n",
        "# and 사람들이 편하게 잘 만들어둔 패키지들을 잘 활용하기\n",
        "\n",
        "#전제 조건:패키지들은 다운 로드가 되어 있는 상태여야 한다.\n",
        "#colab,anaconda로 설치하면 이미 기본적인 것들은 다 다운받아져 있지만 여기는 업데이트를 자주 하기 때문에 아침에 잘 되던 코드가 저녁에 안될 수도 있다.(버전 이슈)\n",
        "#DL:tensorflow,pytorhc,transformer etc 다 틀어지는 경향: OS 버전까지 맞춰야 한다..\n",
        "\n",
        "#numpy는 데이터를 처리하는 가장 파이썬에서 기본이 되는 패키지!\n",
        "#==> numerical Python: 수치 연산!\n",
        "#++ pandas,scikit-learn,tf/pytorch etc\n",
        "#-->numpy: 자료형 Array 자료형을 개발!!\n",
        "#--> 수치연산을 위한 벡터연산이 필요\n"
      ]
    },
    {
      "cell_type": "code",
      "source": [
        "import numpy as np\n",
        "import pandas as pd"
      ],
      "metadata": {
        "id": "cauMhCZREMps"
      },
      "execution_count": null,
      "outputs": []
    },
    {
      "cell_type": "code",
      "source": [
        "#내가 사용하는 패키지의 버전\n",
        "pd.__version__ #언더바 2개 이어서 앞뒤로 쓰기\n",
        "#--> pandas의 경우에 'colab에 대해서 2024.08.26 오후 2시 기준\n",
        "##최신 버전 2.2.2이지만 충돌이나 안정성을 생각해 많은 텀이 있다."
      ],
      "metadata": {
        "colab": {
          "base_uri": "https://localhost:8080/",
          "height": 35
        },
        "id": "QnyRZefUEYNC",
        "outputId": "3755ae9d-0c08-4bf1-a955-9e06f1e2b745"
      },
      "execution_count": null,
      "outputs": [
        {
          "output_type": "execute_result",
          "data": {
            "text/plain": [
              "'2.1.4'"
            ],
            "application/vnd.google.colaboratory.intrinsic+json": {
              "type": "string"
            }
          },
          "metadata": {},
          "execution_count": 3
        }
      ]
    },
    {
      "cell_type": "code",
      "source": [
        "np.__version__ #어느 정도 성숙이 된 패키지여서 아주 크게\n",
        "#--> dl특정 패키지들이 종소고디는 경향이 있음."
      ],
      "metadata": {
        "colab": {
          "base_uri": "https://localhost:8080/",
          "height": 35
        },
        "id": "8TLzOEtGFATF",
        "outputId": "648c6f9c-9af1-4025-eaa9-3e74ae874471"
      },
      "execution_count": null,
      "outputs": [
        {
          "output_type": "execute_result",
          "data": {
            "text/plain": [
              "'1.26.4'"
            ],
            "application/vnd.google.colaboratory.intrinsic+json": {
              "type": "string"
            }
          },
          "metadata": {},
          "execution_count": 4
        }
      ]
    },
    {
      "cell_type": "code",
      "source": [
        "#정리:pandas를 가지고 데이터를 핸들링을 하겠다!\n",
        "#--> pandas 2.1~2.2 정도에서 체크"
      ],
      "metadata": {
        "id": "0DDVj4gQFAZF"
      },
      "execution_count": null,
      "outputs": []
    },
    {
      "cell_type": "code",
      "source": [
        "#numpy를 만들게 된 이유\n",
        "#-->수치연산을 파이썬에서 하자!\n",
        "#--> 기존의 파이썬의 자료형: 리스트,튜플,dict etc에서는 하기  힘들다\n",
        "#--> 수치연산: 벡터연산\n",
        "#              실제 데이터는 그때 끄때 다름\n",
        "#              하려는 연산 /모델의 기본적인 방법은 고정! 논문상 서술\n",
        "#              수식을 간한히 표현하는 도구(1.2)\n",
        "#              수식을 그대로 코드화!!(벡터 연산이 기본)\n",
        "#-> 모든 원소에 일괄되게 기능이 적용되는 벡터연산이 핵심\n",
        "#문제는 이런 용도에 맞는 파이썬의 자료형이 없었다.\n",
        "\n",
        "# 쌩파이썬 리스트: 값들을 모아준다! 모든 값에 일괄적용하는 벡터연산가능함(x)\n",
        "#          for 문을 통해서 받아들여야 함.\n",
        "\n",
        "# x = [1,2,3] : [1+1, 2+1, 3+1]\n",
        "# x = [1,2,3,4,5] : [1+1, 2+1, 3+1, 4+1, 5+1]\n",
        "# ==> x + 1"
      ],
      "metadata": {
        "id": "dLU0ca9AFcDz"
      },
      "execution_count": null,
      "outputs": []
    },
    {
      "cell_type": "code",
      "source": [
        "a = [ 100,200,300,400,500]\n",
        "a\n",
        "# --> 쌩 파이선의 리크트로 5개의 값을 모아둠!!!\n",
        "#     쌩 파이썬의 자료형이여서 모든 원소에 일괄적용 기능 없음!!!\n",
        "# ==> 하고 싶은 일 : a의 모든 원소에 +10을 하고 싶다!!!!!"
      ],
      "metadata": {
        "colab": {
          "base_uri": "https://localhost:8080/"
        },
        "id": "PqmIzqWYIDhc",
        "outputId": "0d028af5-4cee-4113-9e63-c460fe960018"
      },
      "execution_count": null,
      "outputs": [
        {
          "output_type": "execute_result",
          "data": {
            "text/plain": [
              "[100, 200, 300, 400, 500]"
            ]
          },
          "metadata": {},
          "execution_count": 10
        }
      ]
    },
    {
      "cell_type": "code",
      "source": [
        "# m1) 쌩 파이썬 : 꾸역 돌리기\n",
        "b= []\n",
        "for i in a:\n",
        "    b.append(i+10)\n",
        "print(b)"
      ],
      "metadata": {
        "colab": {
          "base_uri": "https://localhost:8080/"
        },
        "id": "fGeV1IgzIdSz",
        "outputId": "79046ed1-a75c-4de3-a02c-085784cbba1b"
      },
      "execution_count": null,
      "outputs": [
        {
          "output_type": "stream",
          "name": "stdout",
          "text": [
            "[110, 210, 310, 410, 510]\n"
          ]
        }
      ]
    },
    {
      "cell_type": "code",
      "source": [
        "# m2) 쌩 파이썬 업글 : 리스트 컴프리해션\n",
        "[ i+10 for i in a]"
      ],
      "metadata": {
        "colab": {
          "base_uri": "https://localhost:8080/"
        },
        "id": "yw9c-D5TIdkD",
        "outputId": "4aa3f8d2-2388-445d-a7d8-8ed59d87eeca"
      },
      "execution_count": null,
      "outputs": [
        {
          "output_type": "execute_result",
          "data": {
            "text/plain": [
              "[110, 210, 310, 410, 510]"
            ]
          },
          "metadata": {},
          "execution_count": 12
        }
      ]
    },
    {
      "cell_type": "code",
      "source": [
        "a+10"
      ],
      "metadata": {
        "colab": {
          "base_uri": "https://localhost:8080/",
          "height": 146
        },
        "id": "DaY-FwWtNKEb",
        "outputId": "86539e3f-e0fc-4296-870e-a55f4e56f892"
      },
      "execution_count": null,
      "outputs": [
        {
          "output_type": "error",
          "ename": "TypeError",
          "evalue": "can only concatenate list (not \"int\") to list",
          "traceback": [
            "\u001b[0;31m---------------------------------------------------------------------------\u001b[0m",
            "\u001b[0;31mTypeError\u001b[0m                                 Traceback (most recent call last)",
            "\u001b[0;32m<ipython-input-13-62ad895bdfa8>\u001b[0m in \u001b[0;36m<cell line: 1>\u001b[0;34m()\u001b[0m\n\u001b[0;32m----> 1\u001b[0;31m \u001b[0ma\u001b[0m\u001b[0;34m+\u001b[0m\u001b[0;36m10\u001b[0m\u001b[0;34m\u001b[0m\u001b[0;34m\u001b[0m\u001b[0m\n\u001b[0m",
            "\u001b[0;31mTypeError\u001b[0m: can only concatenate list (not \"int\") to list"
          ]
        }
      ]
    },
    {
      "cell_type": "code",
      "source": [
        "# m3) numpy 패키지의 array 새로운 자료형을 사용해보자!!!\n",
        "#   ==> 외부 패키지를 설치 & 불러와야 함!!!\n",
        "a_arr = np.array( a)\n",
        "a_arr"
      ],
      "metadata": {
        "colab": {
          "base_uri": "https://localhost:8080/"
        },
        "id": "q2QL61wNNKG6",
        "outputId": "70deb115-0164-43a8-9ab7-6ad9eeef9c60"
      },
      "execution_count": null,
      "outputs": [
        {
          "output_type": "execute_result",
          "data": {
            "text/plain": [
              "array([100, 200, 300, 400, 500])"
            ]
          },
          "metadata": {},
          "execution_count": 14
        }
      ]
    },
    {
      "cell_type": "code",
      "source": [
        "a_arr + 10"
      ],
      "metadata": {
        "colab": {
          "base_uri": "https://localhost:8080/"
        },
        "id": "93VAbMrpNKJi",
        "outputId": "9c789618-59bf-4517-e576-63bf8f65bad5"
      },
      "execution_count": null,
      "outputs": [
        {
          "output_type": "execute_result",
          "data": {
            "text/plain": [
              "array([110, 210, 310, 410, 510])"
            ]
          },
          "metadata": {},
          "execution_count": 15
        }
      ]
    },
    {
      "cell_type": "code",
      "source": [
        "# ===> 벡터연산이 기본적으로 \"기능중심의 표현!!!\"\n",
        "#      코드작성이 \"기능 중심\"으로 코드 작성의 방향!!!\n",
        "#      데이터 처리/표현 : 기능 중심으로 간결해짐!!!"
      ],
      "metadata": {
        "id": "muTpkgksNKLy"
      },
      "execution_count": null,
      "outputs": []
    },
    {
      "cell_type": "code",
      "source": [
        "x = [ 1,2,3,4,5]\n",
        "y = [10,20,30,40,50]\n",
        "# 하고 싶은 일 :(1+10, 2+20, 3+30, 4+40, 5+50)\n",
        "# ==> 벡터적인 표현 : x+y (벡터적인 표현 : 두 벡터의 합)"
      ],
      "metadata": {
        "id": "E6tk-BnQNPUT"
      },
      "execution_count": null,
      "outputs": []
    },
    {
      "cell_type": "code",
      "source": [
        "# m1) 쌩 파이썬으로\n",
        "z = []\n",
        "for i in range(len(x)):\n",
        "    z.append( x[i]+ y[i])\n",
        "z"
      ],
      "metadata": {
        "colab": {
          "base_uri": "https://localhost:8080/"
        },
        "id": "ZETDGI2vNPW7",
        "outputId": "cd400180-28aa-411c-f241-c38094adfc22"
      },
      "execution_count": null,
      "outputs": [
        {
          "output_type": "execute_result",
          "data": {
            "text/plain": [
              "[11, 22, 33, 44, 55]"
            ]
          },
          "metadata": {},
          "execution_count": 18
        }
      ]
    },
    {
      "cell_type": "code",
      "source": [
        "[  x[i]+ y[i] for i in range(len(x))]"
      ],
      "metadata": {
        "colab": {
          "base_uri": "https://localhost:8080/"
        },
        "id": "0lFZUczcNPab",
        "outputId": "625cda3a-a871-4d76-80d5-14a18704ad13"
      },
      "execution_count": null,
      "outputs": [
        {
          "output_type": "execute_result",
          "data": {
            "text/plain": [
              "[11, 22, 33, 44, 55]"
            ]
          },
          "metadata": {},
          "execution_count": 19
        }
      ]
    },
    {
      "cell_type": "code",
      "source": [
        "# m3) np를 활용해서 수식을 그대로 코드화해보자!!!!!\n",
        "#     ==> 수식 : 벡터/행렬기반의 선형대수로 표현\n",
        "x_arr = np.array(x)\n",
        "y_arr = np.array(y)"
      ],
      "metadata": {
        "id": "KdsALz8hNPdF"
      },
      "execution_count": null,
      "outputs": []
    },
    {
      "cell_type": "code",
      "source": [
        "x_arr"
      ],
      "metadata": {
        "colab": {
          "base_uri": "https://localhost:8080/"
        },
        "id": "18_5FXA4NKOT",
        "outputId": "1d09b1b6-2b87-42f3-9b75-6e8919ad895f"
      },
      "execution_count": null,
      "outputs": [
        {
          "output_type": "execute_result",
          "data": {
            "text/plain": [
              "array([1, 2, 3, 4, 5])"
            ]
          },
          "metadata": {},
          "execution_count": 22
        }
      ]
    },
    {
      "cell_type": "code",
      "source": [
        "y_arr"
      ],
      "metadata": {
        "colab": {
          "base_uri": "https://localhost:8080/"
        },
        "id": "5-3736HKNfbD",
        "outputId": "0ec1a38c-21f2-4f1f-82ef-c65c67486022"
      },
      "execution_count": null,
      "outputs": [
        {
          "output_type": "execute_result",
          "data": {
            "text/plain": [
              "array([10, 20, 30, 40, 50])"
            ]
          },
          "metadata": {},
          "execution_count": 23
        }
      ]
    },
    {
      "cell_type": "code",
      "source": [
        "x_arr + y_arr"
      ],
      "metadata": {
        "colab": {
          "base_uri": "https://localhost:8080/"
        },
        "id": "cTWfebG2Nfdr",
        "outputId": "dab4ca00-dfea-4440-edc6-505c2c45f00c"
      },
      "execution_count": null,
      "outputs": [
        {
          "output_type": "execute_result",
          "data": {
            "text/plain": [
              "array([11, 22, 33, 44, 55])"
            ]
          },
          "metadata": {},
          "execution_count": 24
        }
      ]
    },
    {
      "cell_type": "code",
      "source": [
        "# 참고) 벡터연산 되는 것이 나하고 무슨 관계?????\n",
        "# ==> 데이터를 핸들링을 할 때\n",
        "#     고려의 요소가 개별 원소의 값이 아니라\n",
        "#     줄 단위(컬럼, row)으로 무엇을 할지에 대한 기능 중심으로 생각!!!\n",
        "#     : 기능 중심으로 코드화!!!\n",
        "#     : 즉, 개별 원소를 도는 코드는 신경쓰지 않아도 됨!!!!\n",
        "# ==> 내가 할 역할 : 기능을 줄 단위로 무엇을 할지 중심 사고!!!!\n",
        "#                    사고를 그대로 코드화!!!!!\n",
        "#     (개별 원소들을 어찌할지에 대해서는 고려의 대상이 아님!!!)"
      ],
      "metadata": {
        "id": "OeP5a-6MNfgT"
      },
      "execution_count": null,
      "outputs": []
    },
    {
      "cell_type": "code",
      "source": [
        "# numpy는 사용이 수치연산을 위해서 개발을 한 자료형!!!\n",
        "# ==> 조금은 값들에 대한 통일성을 가지고 사용을 해야 함!!!\n",
        "# ==> 그래야 원하는 대로 동작을 한다는 의미1!!!\n",
        "# 쌩 파이썬의 리스트 : 값들을 모아두는 것!!\n",
        "#                     숫자, 문자, 리슽, dict etc\n",
        "#                     차원에 대한 정보는 가지고 있지 않음!!!!!!\n",
        "m = [\n",
        "    [1,2,3],\n",
        "    [4,5,6]\n",
        "]\n",
        "m[가로줄][세로줄]\n",
        "\n",
        "# numpy의 array 자료형 :  값들을 모아두는 것!!!!!\n",
        "#                         숫자 ,문자, 리스트 dic etc,,,,\n",
        "#                        + 차원을 생성 : 오/열/값의 종류 맞춰야 차원에 대한 인식!!!\n",
        "#                        + 기능을 부여하면 : 기본적으로 모든 값에 일괄적용!!!\n",
        "#                                          (벡터연산을 기본으로 내제!!!)"
      ],
      "metadata": {
        "id": "lgbzrj9fNfi7"
      },
      "execution_count": null,
      "outputs": []
    },
    {
      "cell_type": "code",
      "source": [
        "a = [ 1,2,3, [\"a\",\"b\",\"c\",[1,2,3]]]\n",
        "a"
      ],
      "metadata": {
        "colab": {
          "base_uri": "https://localhost:8080/"
        },
        "id": "l2etM16pNfli",
        "outputId": "383fef99-6628-43b5-db04-8c1ad7e99070"
      },
      "execution_count": null,
      "outputs": [
        {
          "output_type": "execute_result",
          "data": {
            "text/plain": [
              "[1, 2, 3, ['a', 'b', 'c', [1, 2, 3]]]"
            ]
          },
          "metadata": {},
          "execution_count": 26
        }
      ]
    },
    {
      "cell_type": "code",
      "source": [
        "test_arr = np.array(a)\n",
        "test_arr"
      ],
      "metadata": {
        "colab": {
          "base_uri": "https://localhost:8080/",
          "height": 182
        },
        "id": "aSIo7IjxNsTz",
        "outputId": "28d2c981-28a1-4691-a9db-905f8cbac818"
      },
      "execution_count": null,
      "outputs": [
        {
          "output_type": "error",
          "ename": "ValueError",
          "evalue": "setting an array element with a sequence. The requested array has an inhomogeneous shape after 1 dimensions. The detected shape was (4,) + inhomogeneous part.",
          "traceback": [
            "\u001b[0;31m---------------------------------------------------------------------------\u001b[0m",
            "\u001b[0;31mValueError\u001b[0m                                Traceback (most recent call last)",
            "\u001b[0;32m<ipython-input-27-8c6f2054f0a5>\u001b[0m in \u001b[0;36m<cell line: 1>\u001b[0;34m()\u001b[0m\n\u001b[0;32m----> 1\u001b[0;31m \u001b[0mtest_arr\u001b[0m \u001b[0;34m=\u001b[0m \u001b[0mnp\u001b[0m\u001b[0;34m.\u001b[0m\u001b[0marray\u001b[0m\u001b[0;34m(\u001b[0m\u001b[0ma\u001b[0m\u001b[0;34m)\u001b[0m\u001b[0;34m\u001b[0m\u001b[0;34m\u001b[0m\u001b[0m\n\u001b[0m\u001b[1;32m      2\u001b[0m \u001b[0mtest_arr\u001b[0m\u001b[0;34m\u001b[0m\u001b[0;34m\u001b[0m\u001b[0m\n",
            "\u001b[0;31mValueError\u001b[0m: setting an array element with a sequence. The requested array has an inhomogeneous shape after 1 dimensions. The detected shape was (4,) + inhomogeneous part."
          ]
        }
      ]
    },
    {
      "cell_type": "code",
      "source": [
        "test_arr = np.array([1,2,3, \"a\",\"b\",\"c\"])\n",
        "test_arr"
      ],
      "metadata": {
        "colab": {
          "base_uri": "https://localhost:8080/"
        },
        "id": "8B_kWqhHNsWC",
        "outputId": "245d1bd2-ed70-4433-f00d-dbb7ef56be7d"
      },
      "execution_count": null,
      "outputs": [
        {
          "output_type": "execute_result",
          "data": {
            "text/plain": [
              "array(['1', '2', '3', 'a', 'b', 'c'], dtype='<U21')"
            ]
          },
          "metadata": {},
          "execution_count": 28
        }
      ]
    },
    {
      "cell_type": "code",
      "source": [
        "type(test_arr)"
      ],
      "metadata": {
        "colab": {
          "base_uri": "https://localhost:8080/"
        },
        "id": "E46Dm032NfoE",
        "outputId": "2fca2944-2dd3-4798-d135-fa31376a811d"
      },
      "execution_count": null,
      "outputs": [
        {
          "output_type": "execute_result",
          "data": {
            "text/plain": [
              "numpy.ndarray"
            ]
          },
          "metadata": {},
          "execution_count": 29
        }
      ]
    },
    {
      "cell_type": "code",
      "source": [
        "test_arr.dtype\n",
        "# ==> array가 가지는 개별 원소의 형식!!!"
      ],
      "metadata": {
        "colab": {
          "base_uri": "https://localhost:8080/"
        },
        "id": "n1pfMMYlNxyy",
        "outputId": "36112c69-c325-4bb7-cca2-b16855eb7f9c"
      },
      "execution_count": null,
      "outputs": [
        {
          "output_type": "execute_result",
          "data": {
            "text/plain": [
              "dtype('<U21')"
            ]
          },
          "metadata": {},
          "execution_count": 30
        }
      ]
    },
    {
      "cell_type": "code",
      "source": [
        "test_arr+\"1\""
      ],
      "metadata": {
        "colab": {
          "base_uri": "https://localhost:8080/",
          "height": 164
        },
        "id": "WcZENu9INx1K",
        "outputId": "3fb4ec33-875a-4f75-ad9f-69af039eb4a4"
      },
      "execution_count": null,
      "outputs": [
        {
          "output_type": "error",
          "ename": "UFuncTypeError",
          "evalue": "ufunc 'add' did not contain a loop with signature matching types (dtype('<U21'), dtype('<U1')) -> None",
          "traceback": [
            "\u001b[0;31m---------------------------------------------------------------------------\u001b[0m",
            "\u001b[0;31mUFuncTypeError\u001b[0m                            Traceback (most recent call last)",
            "\u001b[0;32m<ipython-input-31-4c2a520fa218>\u001b[0m in \u001b[0;36m<cell line: 1>\u001b[0;34m()\u001b[0m\n\u001b[0;32m----> 1\u001b[0;31m \u001b[0mtest_arr\u001b[0m\u001b[0;34m+\u001b[0m\u001b[0;34m\"1\"\u001b[0m\u001b[0;34m\u001b[0m\u001b[0;34m\u001b[0m\u001b[0m\n\u001b[0m",
            "\u001b[0;31mUFuncTypeError\u001b[0m: ufunc 'add' did not contain a loop with signature matching types (dtype('<U21'), dtype('<U1')) -> None"
          ]
        }
      ]
    },
    {
      "cell_type": "code",
      "source": [
        "# array 사용하실 때에는 형식을 딱 맞춰서 사용하는 것이 일반적!!!!\n",
        "test_arr2 = np.array( [1,2,3,4,5])\n",
        "test_arr2"
      ],
      "metadata": {
        "colab": {
          "base_uri": "https://localhost:8080/"
        },
        "id": "KbAFOrfWN7yD",
        "outputId": "a89b8ce8-2ec4-49eb-ea07-8ea8966ac6ed"
      },
      "execution_count": null,
      "outputs": [
        {
          "output_type": "execute_result",
          "data": {
            "text/plain": [
              "array([1, 2, 3, 4, 5])"
            ]
          },
          "metadata": {},
          "execution_count": 32
        }
      ]
    },
    {
      "cell_type": "code",
      "source": [
        "# 1) 이 array의 개별 값들의 자료형..\n",
        "# 2) 이 array의 차원에 대한 정보\n",
        "# 3) 어떤 모양으로 이루어져 있는지 정보..."
      ],
      "metadata": {
        "id": "Y8g6LRVVN9QS"
      },
      "execution_count": null,
      "outputs": []
    },
    {
      "cell_type": "code",
      "source": [
        "test_arr2.dtype"
      ],
      "metadata": {
        "colab": {
          "base_uri": "https://localhost:8080/"
        },
        "id": "_YPZdec0N_Lz",
        "outputId": "1e535e40-88e2-4130-ca19-c8b396ce34a4"
      },
      "execution_count": null,
      "outputs": [
        {
          "output_type": "execute_result",
          "data": {
            "text/plain": [
              "dtype('int64')"
            ]
          },
          "metadata": {},
          "execution_count": 34
        }
      ]
    },
    {
      "cell_type": "code",
      "source": [
        "test_arr2 + 1"
      ],
      "metadata": {
        "colab": {
          "base_uri": "https://localhost:8080/"
        },
        "id": "_czPltkbOInj",
        "outputId": "c36bd445-15b0-41a0-be5c-12303e78344f"
      },
      "execution_count": null,
      "outputs": [
        {
          "output_type": "execute_result",
          "data": {
            "text/plain": [
              "array([2, 3, 4, 5, 6])"
            ]
          },
          "metadata": {},
          "execution_count": 36
        }
      ]
    },
    {
      "cell_type": "code",
      "source": [
        "test_arr2 * 100"
      ],
      "metadata": {
        "colab": {
          "base_uri": "https://localhost:8080/"
        },
        "id": "q2E-k-kHP_cr",
        "outputId": "329de288-2f28-40f8-c5fa-091af1893084"
      },
      "execution_count": null,
      "outputs": [
        {
          "output_type": "execute_result",
          "data": {
            "text/plain": [
              "array([100, 200, 300, 400, 500])"
            ]
          },
          "metadata": {},
          "execution_count": 37
        }
      ]
    },
    {
      "cell_type": "code",
      "source": [
        "test_arr2.ndim"
      ],
      "metadata": {
        "colab": {
          "base_uri": "https://localhost:8080/"
        },
        "id": "jW20kcx-P_fa",
        "outputId": "a94deb71-3b5c-41d3-9751-204e96147cc5"
      },
      "execution_count": null,
      "outputs": [
        {
          "output_type": "execute_result",
          "data": {
            "text/plain": [
              "1"
            ]
          },
          "metadata": {},
          "execution_count": 38
        }
      ]
    },
    {
      "cell_type": "code",
      "source": [
        "test_arr2.shape"
      ],
      "metadata": {
        "colab": {
          "base_uri": "https://localhost:8080/"
        },
        "id": "K4WAjAbBP_ie",
        "outputId": "0051cbe3-c557-4211-e789-bf31b470b831"
      },
      "execution_count": null,
      "outputs": [
        {
          "output_type": "execute_result",
          "data": {
            "text/plain": [
              "(5,)"
            ]
          },
          "metadata": {},
          "execution_count": 39
        }
      ]
    },
    {
      "cell_type": "code",
      "source": [
        "# 참고) 2차원 : 평면에서 하게 되면,,,\n",
        "test = [\n",
        "    [1,2,3],\n",
        "    [4,5,6]\n",
        "]\n",
        "test"
      ],
      "metadata": {
        "colab": {
          "base_uri": "https://localhost:8080/"
        },
        "id": "GgqZTIxMP_ki",
        "outputId": "c14d48e2-60fe-48e8-b55d-5769db6c2276"
      },
      "execution_count": null,
      "outputs": [
        {
          "output_type": "execute_result",
          "data": {
            "text/plain": [
              "[[1, 2, 3], [4, 5, 6]]"
            ]
          },
          "metadata": {},
          "execution_count": 40
        }
      ]
    },
    {
      "cell_type": "code",
      "source": [
        "len(test)"
      ],
      "metadata": {
        "colab": {
          "base_uri": "https://localhost:8080/"
        },
        "id": "NMIxigRfP_nD",
        "outputId": "fafde0f9-a19d-47b8-8d0c-6acee734c765"
      },
      "execution_count": null,
      "outputs": [
        {
          "output_type": "execute_result",
          "data": {
            "text/plain": [
              "2"
            ]
          },
          "metadata": {},
          "execution_count": 41
        }
      ]
    },
    {
      "cell_type": "code",
      "source": [
        "test_arr = np.array(test)\n",
        "test_arr"
      ],
      "metadata": {
        "colab": {
          "base_uri": "https://localhost:8080/"
        },
        "id": "g4ulPHQSQ-wR",
        "outputId": "769f0fbf-1462-4abd-c036-85eb0496e3ce"
      },
      "execution_count": null,
      "outputs": [
        {
          "output_type": "execute_result",
          "data": {
            "text/plain": [
              "array([[1, 2, 3],\n",
              "       [4, 5, 6]])"
            ]
          },
          "metadata": {},
          "execution_count": 53
        }
      ]
    },
    {
      "cell_type": "code",
      "source": [
        "test_arr.dtype"
      ],
      "metadata": {
        "colab": {
          "base_uri": "https://localhost:8080/"
        },
        "id": "4ALcLcKXP_pz",
        "outputId": "d3efebb8-5d86-4182-9de2-70b3a939ae1b"
      },
      "execution_count": null,
      "outputs": [
        {
          "output_type": "execute_result",
          "data": {
            "text/plain": [
              "dtype('int64')"
            ]
          },
          "metadata": {},
          "execution_count": 54
        }
      ]
    },
    {
      "cell_type": "code",
      "source": [
        "test_arr.ndim # ==> 2차원의 자료형,,,, 차원 정보가 있음.."
      ],
      "metadata": {
        "colab": {
          "base_uri": "https://localhost:8080/"
        },
        "id": "LvwmTqtCP_rz",
        "outputId": "b8bec388-3773-41ad-e9af-61baa5213d64"
      },
      "execution_count": null,
      "outputs": [
        {
          "output_type": "execute_result",
          "data": {
            "text/plain": [
              "2"
            ]
          },
          "metadata": {},
          "execution_count": 55
        }
      ]
    },
    {
      "cell_type": "code",
      "source": [
        "test_arr.shape # ==> 모양이 어찌되나..."
      ],
      "metadata": {
        "colab": {
          "base_uri": "https://localhost:8080/"
        },
        "id": "lX1lTZkbQIyb",
        "outputId": "6b21bf85-6b4e-4d02-ca4b-3fab73f1dd8a"
      },
      "execution_count": null,
      "outputs": [
        {
          "output_type": "execute_result",
          "data": {
            "text/plain": [
              "(2, 3)"
            ]
          },
          "metadata": {},
          "execution_count": 56
        }
      ]
    },
    {
      "cell_type": "code",
      "source": [
        "len(test_arr) # --> 2차원의 가로줄의 수!!!!!!!\n",
        "#               --> len(pandas.DF) : 가로줄 수 == 데이터의 수"
      ],
      "metadata": {
        "colab": {
          "base_uri": "https://localhost:8080/"
        },
        "id": "UmQ2KFuKQI1M",
        "outputId": "d25c1b05-10f2-4097-e60d-dbca9319fb66"
      },
      "execution_count": null,
      "outputs": [
        {
          "output_type": "execute_result",
          "data": {
            "text/plain": [
              "2"
            ]
          },
          "metadata": {},
          "execution_count": 57
        }
      ]
    },
    {
      "cell_type": "code",
      "source": [
        "# 참고: test에서 1번 가로줄, 2번 세로줄에 있는 2를 접근.\n",
        "test[0][1]"
      ],
      "metadata": {
        "colab": {
          "base_uri": "https://localhost:8080/"
        },
        "id": "VX0Wwb3GQI3z",
        "outputId": "cbc0212d-153b-4a08-808d-9f72acdf57c9"
      },
      "execution_count": null,
      "outputs": [
        {
          "output_type": "execute_result",
          "data": {
            "text/plain": [
              "2"
            ]
          },
          "metadata": {},
          "execution_count": 58
        }
      ]
    },
    {
      "cell_type": "code",
      "source": [
        "# 참고 : array 는 차원이 있는 자료형...모양 => 포지션이 있음!!\n",
        "test_arr[0][1]"
      ],
      "metadata": {
        "colab": {
          "base_uri": "https://localhost:8080/"
        },
        "id": "q7MdsMrcQI6r",
        "outputId": "18cb4a6c-f4ba-4913-9870-7866d10b3fc4"
      },
      "execution_count": null,
      "outputs": [
        {
          "output_type": "execute_result",
          "data": {
            "text/plain": [
              "2"
            ]
          },
          "metadata": {},
          "execution_count": 59
        }
      ]
    },
    {
      "cell_type": "code",
      "source": [
        "test_arr[0, 1] # ==> 차원에 대한 인덱스로 바로 접근이 가능함!!!"
      ],
      "metadata": {
        "colab": {
          "base_uri": "https://localhost:8080/"
        },
        "id": "UGVRQI2mQMWs",
        "outputId": "1fc930e6-19d8-400e-83f8-5c1bbf08f4de"
      },
      "execution_count": null,
      "outputs": [
        {
          "output_type": "execute_result",
          "data": {
            "text/plain": [
              "2"
            ]
          },
          "metadata": {},
          "execution_count": 60
        }
      ]
    },
    {
      "cell_type": "code",
      "source": [
        "test[0,1] # 쌩 리스트는 한 큐에 못 가고, 하나씩 순차 접근을 해야함!!!"
      ],
      "metadata": {
        "colab": {
          "base_uri": "https://localhost:8080/",
          "height": 146
        },
        "id": "ceZ7xmebQMZT",
        "outputId": "8967fd3a-71ea-4d7c-ae71-36c970a9e55f"
      },
      "execution_count": null,
      "outputs": [
        {
          "output_type": "error",
          "ename": "TypeError",
          "evalue": "list indices must be integers or slices, not tuple",
          "traceback": [
            "\u001b[0;31m---------------------------------------------------------------------------\u001b[0m",
            "\u001b[0;31mTypeError\u001b[0m                                 Traceback (most recent call last)",
            "\u001b[0;32m<ipython-input-61-22dd1bab4433>\u001b[0m in \u001b[0;36m<cell line: 1>\u001b[0;34m()\u001b[0m\n\u001b[0;32m----> 1\u001b[0;31m \u001b[0mtest\u001b[0m\u001b[0;34m[\u001b[0m\u001b[0;36m0\u001b[0m\u001b[0;34m,\u001b[0m\u001b[0;36m1\u001b[0m\u001b[0;34m]\u001b[0m \u001b[0;31m# 쌩 리스트는 한 큐에 못 가고, 하나씩 순차 접근을 해야함!!!\u001b[0m\u001b[0;34m\u001b[0m\u001b[0;34m\u001b[0m\u001b[0m\n\u001b[0m",
            "\u001b[0;31mTypeError\u001b[0m: list indices must be integers or slices, not tuple"
          ]
        }
      ]
    },
    {
      "cell_type": "code",
      "source": [
        "# 정리!!!()\n",
        "# numpy  패키지의 array 새로운 자료형!!!\n",
        "# 1) 모든 원소에 일괄 적용이 되는 벡터연산을 기본!!!\n",
        "# 2) --> 모든 코드 작업이 기능 중심으로 작성을 할 수 있음!!!\n",
        "#        (+수식을 그대로 코드화!!)\n",
        "# 3) 내가 필요한 자료의 차원, 모양들을 접근/수정......\n",
        "#    ==> DL에서 중요한 역할을 함!!!!!\n",
        "# 4) 기본은 여러개의 값을 다루는 자료형 중 하나!!!!!!!"
      ],
      "metadata": {
        "id": "jyKsiHLGQMb7"
      },
      "execution_count": null,
      "outputs": []
    },
    {
      "cell_type": "code",
      "source": [
        "# 필요한 값에 대한 접근!!!!\n",
        "# ==> 리스트 : 정수 인덱스, 슬라이싱(여러개 & 규칙)\n",
        "a = [10,20,30,40,50]\n",
        "a_arr = np.array(a)\n",
        "print(a)\n",
        "print(a_arr)"
      ],
      "metadata": {
        "colab": {
          "base_uri": "https://localhost:8080/"
        },
        "id": "pAEm7ZosQMeg",
        "outputId": "66949707-2abb-4003-abec-dbab9569467e"
      },
      "execution_count": null,
      "outputs": [
        {
          "output_type": "stream",
          "name": "stdout",
          "text": [
            "[10, 20, 30, 40, 50]\n",
            "[10 20 30 40 50]\n"
          ]
        }
      ]
    },
    {
      "cell_type": "code",
      "source": [
        "a[0]"
      ],
      "metadata": {
        "colab": {
          "base_uri": "https://localhost:8080/"
        },
        "id": "51qJIMQNROcK",
        "outputId": "4ec8e710-24a5-4c7a-9f2e-633dc01d54bb"
      },
      "execution_count": null,
      "outputs": [
        {
          "output_type": "execute_result",
          "data": {
            "text/plain": [
              "10"
            ]
          },
          "metadata": {},
          "execution_count": 63
        }
      ]
    },
    {
      "cell_type": "code",
      "source": [
        "a_arr[0]"
      ],
      "metadata": {
        "colab": {
          "base_uri": "https://localhost:8080/"
        },
        "id": "vJZmxvGBQMhM",
        "outputId": "546c8b8d-8d17-4a88-d209-e332e6dbd222"
      },
      "execution_count": null,
      "outputs": [
        {
          "output_type": "execute_result",
          "data": {
            "text/plain": [
              "10"
            ]
          },
          "metadata": {},
          "execution_count": 64
        }
      ]
    },
    {
      "cell_type": "code",
      "source": [
        "a[:3]"
      ],
      "metadata": {
        "colab": {
          "base_uri": "https://localhost:8080/"
        },
        "id": "wuKh-y2qRSSk",
        "outputId": "1c81d562-dfb0-4e68-d404-a32b79ee587c"
      },
      "execution_count": null,
      "outputs": [
        {
          "output_type": "execute_result",
          "data": {
            "text/plain": [
              "[10, 20, 30]"
            ]
          },
          "metadata": {},
          "execution_count": 65
        }
      ]
    },
    {
      "cell_type": "code",
      "source": [
        "# 참고) a의 원소 중에서 0,1,3번째 원소만 보고 싶어요!!!\n",
        "a[ [0,1,3]]"
      ],
      "metadata": {
        "colab": {
          "base_uri": "https://localhost:8080/",
          "height": 164
        },
        "id": "CUOc-lztRWQz",
        "outputId": "04a07537-4eea-46d0-a75f-35bf05e61290"
      },
      "execution_count": null,
      "outputs": [
        {
          "output_type": "error",
          "ename": "TypeError",
          "evalue": "list indices must be integers or slices, not list",
          "traceback": [
            "\u001b[0;31m---------------------------------------------------------------------------\u001b[0m",
            "\u001b[0;31mTypeError\u001b[0m                                 Traceback (most recent call last)",
            "\u001b[0;32m<ipython-input-66-76a7edd83c8e>\u001b[0m in \u001b[0;36m<cell line: 2>\u001b[0;34m()\u001b[0m\n\u001b[1;32m      1\u001b[0m \u001b[0;31m# 참고) a의 원소 중에서 0,1,3번째 원소만 보고 싶어요!!!\u001b[0m\u001b[0;34m\u001b[0m\u001b[0;34m\u001b[0m\u001b[0m\n\u001b[0;32m----> 2\u001b[0;31m \u001b[0ma\u001b[0m\u001b[0;34m[\u001b[0m \u001b[0;34m[\u001b[0m\u001b[0;36m0\u001b[0m\u001b[0;34m,\u001b[0m\u001b[0;36m1\u001b[0m\u001b[0;34m,\u001b[0m\u001b[0;36m3\u001b[0m\u001b[0;34m]\u001b[0m\u001b[0;34m]\u001b[0m\u001b[0;34m\u001b[0m\u001b[0;34m\u001b[0m\u001b[0m\n\u001b[0m",
            "\u001b[0;31mTypeError\u001b[0m: list indices must be integers or slices, not list"
          ]
        }
      ]
    },
    {
      "cell_type": "code",
      "source": [
        "a_arr[ [0,1,3] ] # ==> 인덱스 자리에 내가 보고자하는 것들을 리스트업도 가능!!!\n",
        "#                  ==> 덩어리로 인덱스 안에 던질 수 있음!!!!!!\n",
        "# ==> numpy를 기반으로 값에 대한 접근이\n",
        "#     쌩 파이썬보다 상당히 유연함!!!!!!\n",
        "#     (차원에 대해서 바로 접근, 여러개 리스트업,)\n",
        "#     (기본적인 정수인덱스, + 슬라이싱도 가능함!!)"
      ],
      "metadata": {
        "colab": {
          "base_uri": "https://localhost:8080/"
        },
        "id": "bZmwXqiURi4E",
        "outputId": "c55ce52d-25db-46ac-f4c3-a13ba31139de"
      },
      "execution_count": null,
      "outputs": [
        {
          "output_type": "execute_result",
          "data": {
            "text/plain": [
              "array([10, 20, 40])"
            ]
          },
          "metadata": {},
          "execution_count": 67
        }
      ]
    },
    {
      "cell_type": "code",
      "source": [
        "# 참고) 강제로 개별 값에 대한 타입을 변경..\n",
        "b = [1,2,3]\n",
        "b_arr = np.array(b)\n",
        "b_arr.dtype"
      ],
      "metadata": {
        "colab": {
          "base_uri": "https://localhost:8080/"
        },
        "id": "eax0avHcRkuc",
        "outputId": "26fd3f0a-388c-4e7f-9272-301069525fbf"
      },
      "execution_count": null,
      "outputs": [
        {
          "output_type": "execute_result",
          "data": {
            "text/plain": [
              "dtype('int64')"
            ]
          },
          "metadata": {},
          "execution_count": 68
        }
      ]
    },
    {
      "cell_type": "code",
      "source": [
        "# numpy가 자체적으로 만들어둔 자료타입\n",
        "# ref) https://numpy.org/doc/stable/reference/arrays.dtypes.html\n",
        "# ==> 엄청 다양하게 존재를 함!!!! 유효숫자도 큰 자료타입도 있음..\n",
        "b_arr = np.array(b, dtype = np.string_)\n",
        "b_arr.dtype"
      ],
      "metadata": {
        "colab": {
          "base_uri": "https://localhost:8080/"
        },
        "id": "e8EQg7IVRoxc",
        "outputId": "6798f2a4-7650-41fa-b5e8-0f65c329ea32"
      },
      "execution_count": null,
      "outputs": [
        {
          "output_type": "execute_result",
          "data": {
            "text/plain": [
              "dtype('S1')"
            ]
          },
          "metadata": {},
          "execution_count": 69
        }
      ]
    },
    {
      "cell_type": "code",
      "source": [],
      "metadata": {
        "id": "_jP4mAdcSmpa"
      },
      "execution_count": null,
      "outputs": []
    },
    {
      "cell_type": "code",
      "source": [
        "b_arr"
      ],
      "metadata": {
        "colab": {
          "base_uri": "https://localhost:8080/"
        },
        "id": "jOoVzce-Roz8",
        "outputId": "7c659d7b-818d-415e-9bb5-4be166203329"
      },
      "execution_count": null,
      "outputs": [
        {
          "output_type": "execute_result",
          "data": {
            "text/plain": [
              "array([b'1', b'2', b'3'], dtype='|S1')"
            ]
          },
          "metadata": {},
          "execution_count": 70
        }
      ]
    },
    {
      "cell_type": "code",
      "source": [
        "# 데이터를 불러놓고, 원하는 형이 아니여서 추후 변경할 때\n",
        "# ==> 강제적으로 형을 변환할 때..\n",
        "str(1)"
      ],
      "metadata": {
        "colab": {
          "base_uri": "https://localhost:8080/",
          "height": 35
        },
        "id": "b1R3WX6kSnSE",
        "outputId": "6b590e38-e068-426f-c6fa-e10b4dbabef1"
      },
      "execution_count": null,
      "outputs": [
        {
          "output_type": "execute_result",
          "data": {
            "text/plain": [
              "'1'"
            ],
            "application/vnd.google.colaboratory.intrinsic+json": {
              "type": "string"
            }
          },
          "metadata": {},
          "execution_count": 71
        }
      ]
    },
    {
      "cell_type": "code",
      "source": [
        "b_arr"
      ],
      "metadata": {
        "colab": {
          "base_uri": "https://localhost:8080/"
        },
        "id": "t5RSDxWdSnZT",
        "outputId": "b9e2d8e5-6889-45fc-d124-f37c60974232"
      },
      "execution_count": null,
      "outputs": [
        {
          "output_type": "execute_result",
          "data": {
            "text/plain": [
              "array([b'1', b'2', b'3'], dtype='|S1')"
            ]
          },
          "metadata": {},
          "execution_count": 72
        }
      ]
    },
    {
      "cell_type": "code",
      "source": [
        "# Numpy의 인덱싱에 대해서 연습!\n",
        "# ==> 2차원의 Array에 대해서 생성!\n",
        "# m1) 그냥 직접 값을 다 작성하는 방법\n",
        "# m2) 벡터연산을 활용하는 방법 : 규칙 & 보기 위한 용도."
      ],
      "metadata": {
        "id": "GrZhJgZzW9Ii"
      },
      "execution_count": null,
      "outputs": []
    },
    {
      "cell_type": "markdown",
      "source": [
        "![image.png](data:image/png;base64,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)"
      ],
      "metadata": {
        "id": "cc28-NcbSsXn"
      }
    },
    {
      "cell_type": "code",
      "source": [
        "m =[\n",
        "     [0,1,2,3,4,5],\n",
        "     [6,7,8,9,10,11],\n",
        "     [12,13,14,15,16,17],\n",
        "     [18,19,20,21,22,23],\n",
        "     [24,25,26,27,28,29],\n",
        "     [30,31,32,33,34,35]\n",
        "]"
      ],
      "metadata": {
        "id": "jK-SRUrCXGKT"
      },
      "execution_count": null,
      "outputs": []
    },
    {
      "cell_type": "code",
      "source": [
        "list(range(0,6,1))"
      ],
      "metadata": {
        "colab": {
          "base_uri": "https://localhost:8080/"
        },
        "id": "Wwsv3cZZXVn7",
        "outputId": "9bd7df05-5b31-4bf9-cec0-1d62746ce689"
      },
      "execution_count": null,
      "outputs": [
        {
          "output_type": "execute_result",
          "data": {
            "text/plain": [
              "[0, 1, 2, 3, 4, 5]"
            ]
          },
          "metadata": {},
          "execution_count": 74
        }
      ]
    },
    {
      "cell_type": "code",
      "source": [
        "# 앞에서 시작하는 컬럼백터:0,10,20,30,40,50:2d로 필요함\n",
        "np.arange(0,51,10)[:,np.newaxis]"
      ],
      "metadata": {
        "colab": {
          "base_uri": "https://localhost:8080/"
        },
        "id": "qPMeKKXrXaZC",
        "outputId": "af355fad-bec8-42b4-8a22-6de80808e38a"
      },
      "execution_count": null,
      "outputs": [
        {
          "output_type": "execute_result",
          "data": {
            "text/plain": [
              "array([[ 0],\n",
              "       [10],\n",
              "       [20],\n",
              "       [30],\n",
              "       [40],\n",
              "       [50]])"
            ]
          },
          "metadata": {},
          "execution_count": 76
        }
      ]
    },
    {
      "cell_type": "code",
      "source": [
        "np.arange(0,51,10)[:,np.newaxis]+list(range(0,6,1))\n",
        "a"
      ],
      "metadata": {
        "colab": {
          "base_uri": "https://localhost:8080/"
        },
        "id": "R1P_jO6lXqZj",
        "outputId": "c4e74c5a-addf-444e-d7bf-e3a7c9c332ea"
      },
      "execution_count": null,
      "outputs": [
        {
          "output_type": "execute_result",
          "data": {
            "text/plain": [
              "[10, 20, 30, 40, 50]"
            ]
          },
          "metadata": {},
          "execution_count": 77
        }
      ]
    },
    {
      "cell_type": "code",
      "source": [
        "a = np.arange(0,51,10)[:, np.newaxis] + list(range(0,6,1))\n",
        "a"
      ],
      "metadata": {
        "colab": {
          "base_uri": "https://localhost:8080/"
        },
        "id": "YB-V7YqlYQzq",
        "outputId": "de9624ce-c96b-4193-ab76-07739dab8beb"
      },
      "execution_count": null,
      "outputs": [
        {
          "output_type": "execute_result",
          "data": {
            "text/plain": [
              "array([[ 0,  1,  2,  3,  4,  5],\n",
              "       [10, 11, 12, 13, 14, 15],\n",
              "       [20, 21, 22, 23, 24, 25],\n",
              "       [30, 31, 32, 33, 34, 35],\n",
              "       [40, 41, 42, 43, 44, 45],\n",
              "       [50, 51, 52, 53, 54, 55]])"
            ]
          },
          "metadata": {},
          "execution_count": 78
        }
      ]
    },
    {
      "cell_type": "code",
      "source": [
        "print(a.dtype)"
      ],
      "metadata": {
        "colab": {
          "base_uri": "https://localhost:8080/"
        },
        "id": "g61igwXJYWET",
        "outputId": "6069df01-711f-4aec-cc3f-e36c0be35bbe"
      },
      "execution_count": null,
      "outputs": [
        {
          "output_type": "stream",
          "name": "stdout",
          "text": [
            "int64\n"
          ]
        }
      ]
    },
    {
      "cell_type": "code",
      "source": [
        "print(a.ndim)"
      ],
      "metadata": {
        "colab": {
          "base_uri": "https://localhost:8080/"
        },
        "id": "WQ2TYkOLYWHD",
        "outputId": "ec6379fc-4570-4085-8763-d2fc357467a4"
      },
      "execution_count": null,
      "outputs": [
        {
          "output_type": "stream",
          "name": "stdout",
          "text": [
            "2\n"
          ]
        }
      ]
    },
    {
      "cell_type": "code",
      "source": [
        "print(a.shape)"
      ],
      "metadata": {
        "colab": {
          "base_uri": "https://localhost:8080/"
        },
        "id": "xg0QxhumYaVa",
        "outputId": "5676debb-b96b-4ec0-cd1b-b82b9c71dc7f"
      },
      "execution_count": null,
      "outputs": [
        {
          "output_type": "stream",
          "name": "stdout",
          "text": [
            "(6, 6)\n"
          ]
        }
      ]
    },
    {
      "cell_type": "code",
      "source": [
        "# 원하는 값에 대한 2차원에 대한 접근 연습!!!\n",
        "# 예) 12값에 대한 접근을 하기 위해서는,,\n",
        "# 쌩파이썬은....순차적으로 가로부터 접근,,,\n",
        "a[1][2]"
      ],
      "metadata": {
        "colab": {
          "base_uri": "https://localhost:8080/"
        },
        "id": "ockAcrK2YaYb",
        "outputId": "74276393-1715-4621-b922-ca3f635b63c0"
      },
      "execution_count": null,
      "outputs": [
        {
          "output_type": "execute_result",
          "data": {
            "text/plain": [
              "12"
            ]
          },
          "metadata": {},
          "execution_count": 82
        }
      ]
    },
    {
      "cell_type": "code",
      "source": [
        "#a가 numpy의 array 자료형!!!-> 바로 위치에 접근!\n",
        "a[1,2]"
      ],
      "metadata": {
        "colab": {
          "base_uri": "https://localhost:8080/"
        },
        "id": "OjdZQgkYYmxa",
        "outputId": "1a0688ae-9171-4a35-efba-b060f50e5c0d"
      },
      "execution_count": null,
      "outputs": [
        {
          "output_type": "execute_result",
          "data": {
            "text/plain": [
              "12"
            ]
          },
          "metadata": {},
          "execution_count": 83
        }
      ]
    },
    {
      "cell_type": "code",
      "source": [
        "# 정리) numpy에서 2D차원에 대한 값의 접근 방식! --> 요렇게 생각하면 찾기 편함\n",
        "# 1) 썡 파이썬의 리스트 처럼 : 가로 접근 후에 --> 세로로 접근...\n",
        "#    a[가로위치][세로위치]\n",
        "# 2) + 원하는 포지션을 직접 접근...\n",
        "#    a[가로위치, 세로위치]\n",
        "# ===> 가로어디에 있는지, 세로에 어디에 있는지!"
      ],
      "metadata": {
        "id": "RxDZyZo8Y3-E"
      },
      "execution_count": null,
      "outputs": []
    },
    {
      "cell_type": "code",
      "source": [
        "#q)처음 줄의 주황핵 3,4값을 접근하는 방식\n",
        "a[0][3:5]"
      ],
      "metadata": {
        "colab": {
          "base_uri": "https://localhost:8080/"
        },
        "id": "rQKJI1SqZIms",
        "outputId": "4994e7a6-8060-41e4-c6e3-8d610261120f"
      },
      "execution_count": null,
      "outputs": [
        {
          "output_type": "execute_result",
          "data": {
            "text/plain": [
              "array([3, 4])"
            ]
          },
          "metadata": {},
          "execution_count": 84
        }
      ]
    },
    {
      "cell_type": "code",
      "source": [
        "a[0,3:5]"
      ],
      "metadata": {
        "colab": {
          "base_uri": "https://localhost:8080/"
        },
        "id": "vscsICuVZTIj",
        "outputId": "4517e6aa-eded-42c1-95ae-5944e107a215"
      },
      "execution_count": null,
      "outputs": [
        {
          "output_type": "execute_result",
          "data": {
            "text/plain": [
              "array([3, 4])"
            ]
          },
          "metadata": {},
          "execution_count": 85
        }
      ]
    },
    {
      "cell_type": "code",
      "source": [
        "#Q)주어진 빨간색 세로줄 접근 방식"
      ],
      "metadata": {
        "id": "2dxyIAuhZZgU"
      },
      "execution_count": null,
      "outputs": []
    },
    {
      "cell_type": "code",
      "source": [
        "a[:,2]\n",
        "#--> 내가 접근할 값의 가로 위치(들),세로 위치(들)\n"
      ],
      "metadata": {
        "colab": {
          "base_uri": "https://localhost:8080/"
        },
        "id": "Llzvj9BDZnSL",
        "outputId": "74a93aa9-5206-4fa0-9d4f-cbafffc13ef9"
      },
      "execution_count": null,
      "outputs": [
        {
          "output_type": "execute_result",
          "data": {
            "text/plain": [
              "array([ 2, 12, 22, 32, 42, 52])"
            ]
          },
          "metadata": {},
          "execution_count": 86
        }
      ]
    },
    {
      "cell_type": "code",
      "source": [
        "#Q) 초록색에 대한 접급-> 중간에 값들이 퐁당퐁당\n",
        "#--> 가로: 규칙이 있음 & 여러개 값\n",
        "#    2번째 가로줄부터,퐁당\n",
        "#--> 세로: 규칙이 있음 & 여러개 값\n",
        "#    0번째 세로줄 부터 ,퐁당\n",
        "a[2::2,::2]"
      ],
      "metadata": {
        "colab": {
          "base_uri": "https://localhost:8080/"
        },
        "id": "skr25HgdaNBL",
        "outputId": "82c0419f-f39e-44dc-b9ad-3165e500a7d9"
      },
      "execution_count": null,
      "outputs": [
        {
          "output_type": "execute_result",
          "data": {
            "text/plain": [
              "array([[20, 22, 24],\n",
              "       [40, 42, 44]])"
            ]
          },
          "metadata": {},
          "execution_count": 87
        }
      ]
    },
    {
      "cell_type": "code",
      "source": [
        "#Q) 오른쪽 하단: 사각형\n",
        "#--> 가로: 4번째 가로줄 부터~~\n",
        "a[4:,4:]"
      ],
      "metadata": {
        "colab": {
          "base_uri": "https://localhost:8080/"
        },
        "id": "yEpkpJigaxLr",
        "outputId": "09668b02-e1bf-458c-e465-9f37c1937eab"
      },
      "execution_count": null,
      "outputs": [
        {
          "output_type": "execute_result",
          "data": {
            "text/plain": [
              "array([[44, 45],\n",
              "       [54, 55]])"
            ]
          },
          "metadata": {},
          "execution_count": 88
        }
      ]
    },
    {
      "cell_type": "code",
      "source": [
        "#중요\n",
        "#불리언 인덱싱!!\n",
        "#인덱스:정수,슬라이싱,리스트(주의해야)\n",
        "#++ 조건식이 들어감\n",
        "\n",
        "#불리한 인덱싱:numpy의 array 자료형의 인덱스 자리[]안에 조건식이 들어갈 수 있다.\n",
        "#--> 필터링!(조건식에 의한 데이터 필터링)\n",
        "#sql: where/having!\n",
        "#pandas 에서 데이터를 필터링을 할 때에도 그대로 적용\n",
        "#필터링을 하고자 하는 조건을 인덱스 자리에 작성을 함\n",
        "# Why? 벡터연산을 기본으로 하고 있어서 임!"
      ],
      "metadata": {
        "id": "rGzRPMy8bQ0j"
      },
      "execution_count": null,
      "outputs": []
    },
    {
      "cell_type": "code",
      "source": [
        "test_arr = np.arange(10)\n",
        "test_arr"
      ],
      "metadata": {
        "colab": {
          "base_uri": "https://localhost:8080/"
        },
        "id": "QjV1B9z2cFEj",
        "outputId": "d6536d4d-04e4-4cae-9f38-021dc870c5b8"
      },
      "execution_count": null,
      "outputs": [
        {
          "output_type": "execute_result",
          "data": {
            "text/plain": [
              "array([0, 1, 2, 3, 4, 5, 6, 7, 8, 9])"
            ]
          },
          "metadata": {},
          "execution_count": 89
        }
      ]
    },
    {
      "cell_type": "code",
      "source": [
        "# 예) 5보다 작은 값들만 추리고 싶다!\n",
        "#     ===> sql : where a<5, having a<5\n",
        "#     ===> 쌩 파이선 : 리스트컴프리핸션\n",
        "test_arr < 5 # 원본의 갯수 그대로! 10개"
      ],
      "metadata": {
        "colab": {
          "base_uri": "https://localhost:8080/"
        },
        "id": "QGoG19zbcyyy",
        "outputId": "56e62a70-8f49-4fc2-b99a-0c6e321b7e94"
      },
      "execution_count": null,
      "outputs": [
        {
          "output_type": "execute_result",
          "data": {
            "text/plain": [
              "array([ True,  True,  True,  True,  True, False, False, False, False,\n",
              "       False])"
            ]
          },
          "metadata": {},
          "execution_count": 90
        }
      ]
    },
    {
      "cell_type": "code",
      "source": [
        "test_arr[ test_arr < 5]\n",
        "# ==> 인덱스 자리에 조건식이 들어가서\n",
        "#     조건식 : 모은 원소에 해당하는 조건에 맞는 여부를 물어보고!(벡터연산)\n",
        "# ==> 인덱스 T/F : 해당하는 위치의 값을 보일지 말지!!! ==> 필터링!\n"
      ],
      "metadata": {
        "colab": {
          "base_uri": "https://localhost:8080/"
        },
        "id": "L0eVdW-dc0sr",
        "outputId": "8c338f54-07a9-4d65-8a14-8ae191a1a9d7"
      },
      "execution_count": null,
      "outputs": [
        {
          "output_type": "execute_result",
          "data": {
            "text/plain": [
              "array([0, 1, 2, 3, 4])"
            ]
          },
          "metadata": {},
          "execution_count": 91
        }
      ]
    },
    {
      "cell_type": "code",
      "source": [
        "# 참고) 쌩파이썬의 리스트로\n",
        "test_list =list(test_arr)\n",
        "[ i for i in test_list if i < 5]"
      ],
      "metadata": {
        "colab": {
          "base_uri": "https://localhost:8080/"
        },
        "id": "65ZL1OpGdjlL",
        "outputId": "6a6609e4-14a9-4dba-fef9-471df230e2ee"
      },
      "execution_count": null,
      "outputs": [
        {
          "output_type": "execute_result",
          "data": {
            "text/plain": [
              "[0, 1, 2, 3, 4]"
            ]
          },
          "metadata": {},
          "execution_count": 92
        }
      ]
    },
    {
      "cell_type": "code",
      "source": [
        "# 참고)  numpy가 수식 연산을 위한 패키지!\n",
        "# ==> 수식 함수들이 쌩 파이썬보다는 많이 존재를 함!\n",
        "# 자세한 것들은 메뉴얼 검색!"
      ],
      "metadata": {
        "id": "E3e7aDLAdmO7"
      },
      "execution_count": null,
      "outputs": []
    },
    {
      "cell_type": "code",
      "source": [
        "sum(test_list) # 파이썬의 sum함수에, 파이썬 리스트를 적용..."
      ],
      "metadata": {
        "colab": {
          "base_uri": "https://localhost:8080/"
        },
        "id": "m0KsH8-vdpIz",
        "outputId": "a2456b37-c373-4df0-8075-d6ddf2abb1ee"
      },
      "execution_count": null,
      "outputs": [
        {
          "output_type": "execute_result",
          "data": {
            "text/plain": [
              "45"
            ]
          },
          "metadata": {},
          "execution_count": 93
        }
      ]
    },
    {
      "cell_type": "code",
      "source": [
        "test_arr.sum() # --> 이미 만들어준 메서드로 활용!!!!!!\n",
        "#                ==> 추천을 함!! sum(test_arr)보다는..."
      ],
      "metadata": {
        "colab": {
          "base_uri": "https://localhost:8080/"
        },
        "id": "sMQnD03Kd_Vp",
        "outputId": "4fe46289-2105-4b61-d841-3a8e085ab9d0"
      },
      "execution_count": null,
      "outputs": [
        {
          "output_type": "execute_result",
          "data": {
            "text/plain": [
              "45"
            ]
          },
          "metadata": {},
          "execution_count": 94
        }
      ]
    },
    {
      "cell_type": "code",
      "source": [
        "sum(test_arr)"
      ],
      "metadata": {
        "colab": {
          "base_uri": "https://localhost:8080/"
        },
        "id": "ddMulZwGeC3I",
        "outputId": "cb1e65fb-45bd-475b-95c6-93d0e8ee711a"
      },
      "execution_count": null,
      "outputs": [
        {
          "output_type": "execute_result",
          "data": {
            "text/plain": [
              "45"
            ]
          },
          "metadata": {},
          "execution_count": 95
        }
      ]
    },
    {
      "cell_type": "code",
      "source": [],
      "metadata": {
        "id": "wf-Df3ObgAB0"
      },
      "execution_count": null,
      "outputs": []
    },
    {
      "cell_type": "code",
      "source": [
        "###### Numpy  총정리 #####\n",
        "# 1) 모든 원소에 대한 일괄 적용이 가능한 벡터연산!!\n",
        "#    + 차원에 대한 정보를 활용하기 위해서는\n",
        "#       (오,열,값의 종류를 다 매칭해서 ...)\n",
        "# 2) 인덱스 자리에 많은 형식을 지원을 함!!\n",
        "#    어레이[정수]\n",
        "#    어레이[슬라이싱]\n",
        "#    어레이[ 리스트 ] : 2D 이상의 array에서는 주의 필요함!!\n",
        "#    어레이[ 조건식!!] : 필터링을 할 수 있는 불리언 인덱싱!!\n",
        "# ===> 2차원의 array의 관점으로 본다면,,,\n",
        "#      가로/세로에 대해서 각각 독립적으로 접근!!\n",
        "#    어레이[가로, 세로]\n",
        "#    어레이[가로정수, 세로정수]\n",
        "#    어레이[가로에 대한 슬라이싱, 세로에 대한 슬라이싱]\n",
        "#    어레이[가로정수, 세로 슬라이싱..]에서 섞에서 사용이 가능함!\n",
        "#    어레이[가로에 대한 조건식, 세로에 대한 조건식,,,,]\n",
        "\n",
        "# 참고) 알아야 하는 속성정보\n",
        "arr.ndim\n",
        "arr.shape\n",
        "arr.dtype\n",
        "\n",
        "# + 기타 잡다한 수식 함수도 있다!!!!!!!\n",
        "\n",
        "# 결론) 쌩 파이썬의 리스트와 numpy의 array 자료형은\n",
        "#       여러개의 값을 다루는 관점에서는 유사함!\n",
        "#       + 개별 원소에 일괄 적용이 되는 벡터연산\n",
        "#       + 인덱스 부분에 있어서 유연성!!!!\n",
        "#       ==> 기능 중심으로 코드 구현/작성이 가능함!"
      ],
      "metadata": {
        "id": "_RJCHdLTgAXF"
      },
      "execution_count": null,
      "outputs": []
    },
    {
      "cell_type": "code",
      "source": [],
      "metadata": {
        "id": "CxJXOFo9gLoy"
      },
      "execution_count": null,
      "outputs": []
    }
  ]
}