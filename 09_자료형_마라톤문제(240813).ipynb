{
  "nbformat": 4,
  "nbformat_minor": 0,
  "metadata": {
    "colab": {
      "provenance": [],
      "authorship_tag": "ABX9TyNz+oRMq0Tpg1JDlEkG7qAX",
      "include_colab_link": true
    },
    "kernelspec": {
      "name": "python3",
      "display_name": "Python 3"
    },
    "language_info": {
      "name": "python"
    }
  },
  "cells": [
    {
      "cell_type": "markdown",
      "metadata": {
        "id": "view-in-github",
        "colab_type": "text"
      },
      "source": [
        "<a href=\"https://colab.research.google.com/github/HAN-GEONHUI/test/blob/t_academy_%EC%88%98%EC%97%85/09_%EC%9E%90%EB%A3%8C%ED%98%95_%EB%A7%88%EB%9D%BC%ED%86%A4%EB%AC%B8%EC%A0%9C(240813).ipynb\" target=\"_parent\"><img src=\"https://colab.research.google.com/assets/colab-badge.svg\" alt=\"Open In Colab\"/></a>"
      ]
    },
    {
      "cell_type": "code",
      "execution_count": null,
      "metadata": {
        "id": "3Ic6mV1rHL0U"
      },
      "outputs": [],
      "source": [
        "# 마라톤 문제\n",
        "# ref) https://school.programmers.co.kr/learn/courses/30/lessons/42576"
      ]
    },
    {
      "cell_type": "code",
      "source": [
        "#문제의 틀: 참가자 리스트/완주자 리스트 --> 중간에 행불 1명\n",
        "#조건: 참가자 리스트 수 = 완주자 리스트 수 +1\n",
        "#      이름은 영문소문자만 (1~20글자)\n",
        "#      *동명이인!!!!"
      ],
      "metadata": {
        "id": "2-m-lBfmH79m"
      },
      "execution_count": null,
      "outputs": []
    },
    {
      "cell_type": "code",
      "source": [],
      "metadata": {
        "id": "crhx28tkI2_T"
      },
      "execution_count": null,
      "outputs": []
    },
    {
      "cell_type": "code",
      "source": [
        "#시도1) 효율성 신경쓰지 말고: 리스트 구현\n",
        "def solution(participant, completion):\n",
        "    answer = ''\n",
        "    for name in completion: #완주한 사람들을 참가자에서 제거\n",
        "        participant.remove(name)    # 최악의 케이스: N^2\n",
        "    #answer = participant[0]\n",
        "    return participant\n",
        "     #return answer\n",
        "    return answer[0]"
      ],
      "metadata": {
        "id": "FrX0KiNAI3Ea"
      },
      "execution_count": null,
      "outputs": []
    },
    {
      "cell_type": "code",
      "source": [
        "#시도2) dict 구현: 이런 패턴들이 실제 출제로 많이 활용!\n",
        "#--> 핵심은 어떻게 dict를 구성할지 dict활용해서 어떻게 주어진 문제 해결할지!\n",
        "\n",
        "#--> dict = {이름: 몇 명}정리를 하려고 함!\n",
        "#p = [\"mislav\",\"stanko\",\"mislav\",\"ana\"]\n",
        "#    {\"misjav\":1}\n",
        "#    {\"misjav\":1,\"stknko\":1}\n",
        "#    {\"misjav\":1+1,\"stknko\":1}\n",
        "#    {\"misjav\":1+1,\"stknko\":1,\"ana\"+1}\n",
        "#--> {\"misjav\":2,\"stknko\":1,\"ana\"+1}\n",
        "#     value에는 무조건 1이상의 값이!!!!!\n",
        "# 등록과정의 이슈 : 기존 신규 이름--> k:v=1,  (신규등록)\n",
        "#                   기 등록된 이름--> k:v+=1\n",
        "\n",
        "# 완주자 명단\n",
        "# c = [\"stanko\", \"ana\", \"mislav\"]\n",
        "# ---> {\"mislav\":2, \"stanko\":1, \"ana\":1}\n",
        "#      {\"mislav\":2,  \"ana\":1}\n",
        "#      {\"mislav\":2 }\n",
        "#      {\"mislav\":2-1}\n",
        "# ===> 남은 원소의 key 완주하지 못한 사람!!!!!!\n",
        "#\n",
        "# 제거를 할 때 이슈 : 그 키로 조회했을 때 value 1 : ==> 삭제\n",
        "#                                         value 2이상 : ==>\n",
        "#                                           value -=1 (갱신)"
      ],
      "metadata": {
        "id": "lK6p2-swJAMt"
      },
      "execution_count": null,
      "outputs": []
    },
    {
      "cell_type": "code",
      "source": [
        "def solution(participant, completion):\n",
        "    answer = ''\n",
        "    # 0) 자료들을 정리할 나의 변수 & 자료형 세팅!!\n",
        "    # ---> 참가자 이름 : 키, 참가자 수 : v ==> dict\n",
        "    people_dict = {}\n",
        "    # 1) 참가자 명단 정리 : 참가자 수를 롤링\n",
        "    for p in participant:\n",
        "        # 기준 : 기등록이름 vs 처음 등록되는 이름\n",
        "        if p in people_dict: # --> key가 있냐요?\n",
        "            # 기등록이름\n",
        "            people_dict[p] += 1\n",
        "        else: # 신규등록\n",
        "            people_dict[p] = 1\n",
        "    #---> 참가자 명단이 dict로 정리 : 어떤 이름이 몇 명 참가\n",
        "\n",
        "    # 2) 완주자 명단을 롤링 : 하나씩 제거!!\n",
        "    for c in completion:\n",
        "        # 기준 : 그 완주자가 1명이냐 vs 아직 여러명 있냐\n",
        "        if people_dict[c] == 1: # 1명 남/참가해서 1명 완주한 경우\n",
        "            del people_dict[c]\n",
        "        else: # 아직 동명이인들이 2명 이상 남아 있음..\n",
        "            people_dict[c] -= 1\n",
        "    # ===> { \"XXX\": 1}\n",
        "    answer = list(people_dict.keys())[0]\n",
        "\n",
        "    return answer"
      ],
      "metadata": {
        "id": "bktpvN56SCJn"
      },
      "execution_count": null,
      "outputs": []
    },
    {
      "cell_type": "code",
      "source": [
        "#test\n",
        "p =[\"mislav\", \"stanko\", \"mislav\", \"ana\"]\n",
        "c= [\"stanko\", \"ana\", \"mislav\"]\n",
        "solution(p,c)"
      ],
      "metadata": {
        "colab": {
          "base_uri": "https://localhost:8080/",
          "height": 35
        },
        "id": "D4m_Xk-DUKqg",
        "outputId": "28897f55-c68b-4f1e-c629-58de24b6ff52"
      },
      "execution_count": null,
      "outputs": [
        {
          "output_type": "execute_result",
          "data": {
            "text/plain": [
              "'mislav'"
            ],
            "application/vnd.google.colaboratory.intrinsic+json": {
              "type": "string"
            }
          },
          "metadata": {},
          "execution_count": 6
        }
      ]
    }
  ]
}