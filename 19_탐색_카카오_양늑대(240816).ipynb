{
  "nbformat": 4,
  "nbformat_minor": 0,
  "metadata": {
    "colab": {
      "provenance": [],
      "authorship_tag": "ABX9TyNTfCWXAF6qjE5JPLQhlSja",
      "include_colab_link": true
    },
    "kernelspec": {
      "name": "python3",
      "display_name": "Python 3"
    },
    "language_info": {
      "name": "python"
    }
  },
  "cells": [
    {
      "cell_type": "markdown",
      "metadata": {
        "id": "view-in-github",
        "colab_type": "text"
      },
      "source": [
        "<a href=\"https://colab.research.google.com/github/HAN-GEONHUI/test/blob/t_academy_%EC%88%98%EC%97%85/19_%ED%83%90%EC%83%89_%EC%B9%B4%EC%B9%B4%EC%98%A4_%EC%96%91%EB%8A%91%EB%8C%80(240816).ipynb\" target=\"_parent\"><img src=\"https://colab.research.google.com/assets/colab-badge.svg\" alt=\"Open In Colab\"/></a>"
      ]
    },
    {
      "cell_type": "code",
      "execution_count": null,
      "metadata": {
        "id": "XLwJaGiREhau"
      },
      "outputs": [],
      "source": [
        "# ref ) https://school.programmers.co.kr/learn/courses/30/lessons/92343\n",
        "# 양과 늑대 문제"
      ]
    },
    {
      "cell_type": "code",
      "source": [
        "# 실제 이 문제의 정답률 : 7.76%\n",
        "# ==> 그래도 좀 쉬운 문제가 조금 더 뒤에 있을 수 있으니 문제 전체적으로 파악을 하고 보는 것이 중요함."
      ],
      "metadata": {
        "id": "CKbTvbF6I_br"
      },
      "execution_count": null,
      "outputs": []
    },
    {
      "cell_type": "code",
      "source": [
        "# 접근 기본 탐색을 활용을 하려고 함!!!\n",
        "# ==> 이진트리탐색알고리즘X\n",
        "# ==> 전체 모든 것들을 다 탐색해서 풀어도 됨!!!!"
      ],
      "metadata": {
        "id": "wQNQzIEAKri5"
      },
      "execution_count": null,
      "outputs": []
    },
    {
      "cell_type": "code",
      "source": [
        "#의도\n",
        "#1) 일반적인 탐색을 해도 되는 유형인 것 같음:일반 탐색을 해도 되는\n",
        "#2) 세팅에 대한 부분을 어떻게 할까!!\n",
        "#--> 탐색의 기본적인 상황을 녹일까\n",
        "\n",
        "#구현할 때: 주어진 상황을 여러 자료형으로 세팅\n",
        "# 한 일/할 일에 대한 세팅적인 부분을 고민해야 함\n",
        "#--> 그때 그때 다름/여러 유형을 풀어봐야함"
      ],
      "metadata": {
        "id": "u5VaUb-PKrlg"
      },
      "execution_count": null,
      "outputs": []
    },
    {
      "cell_type": "code",
      "source": [
        "from collections import deque"
      ],
      "metadata": {
        "id": "FL1u-o8vUTf5"
      },
      "execution_count": null,
      "outputs": []
    },
    {
      "cell_type": "code",
      "source": [
        "def solution(info, edges):\n",
        "  answer=0 #--> 지금까지 모인 양의 최대수\n",
        "\n",
        "  #)1 입력에 대한 처리: 주어진 경우가 tree/네트워크 --> 노드 번호\n",
        "  #   노드의 번호: key\n",
        "  #   노드간의 연결에 대한 부분을 value\n",
        "  #--> 노드의 수 == len(info)\n",
        "  n = len(info)\n",
        "  tree = { i:[] for i in range(n)} # dict로 컴프리핸션으로 구현 할 수 있음\n",
        "  #0번 노드가 1,8번에 연결: [0,1],[0,8]\n",
        "  #-->{0:[1,8],1:[],,,,,}\n",
        "  #노드간의 연결-->tree 키값 중심으로 정리 --> 그 도시에서 연결된  도시들을 리스트업\n",
        "  for s,e in edges:\n",
        "    tree[s].append(e)\n",
        "  # tree : {0:[1,8], 1:[4], 2:[],3:[], 4:[3,6],,,,}\n",
        "  # ===> 그래프에서 인접리스트 방식으로 dict 통해서 코드화!!!\n",
        "\n",
        "  #2) 실제 다 돌아가는 탐색\n",
        "  # ===> 나 어디에, 이동 가능한 노드, 양, 늑대\n",
        "  que = deque([ [ 0, tree[0]], 1, 0 ]) # 0번 root -node 의 상황 세팅!!!\n",
        "  while que:\n",
        "      # 일단 큐에서 하나 꺼내자... : popleft, pop 다 통과 됨!!!\n",
        "      now_node, move_nodes,num_sheep,num_wolf=que.popleft()\n",
        "      #기존의 양의 수보다, 지금 경로의 양의 수가 많으면 갱신\n",
        "      if answer <num_sheep:\n",
        "        answer = num_sheep\n",
        "      #--> 최고 숫자가 갱신\n",
        "      # 이제 여기서 더 이동할 수 있는 것들을 돌려가면서...\n",
        "      for i, node in enumerate(move_nodes):\n",
        "        # 이동을 해본다면,,,,거기에는 늑대가 있을겁니다.\n",
        "        if info[node] == 1: # 늑대가 있네;;;;\n",
        "            # 늑대가 양보다 같거나 큰지를 체크!!!!\n",
        "            if num_sheep >  num_wolf + 1:\n",
        "                que.append( [node, move_nodes[:i]+move_nodes[i+1:] + tree[node], num_sheep, num_wolf + 1 ])\n",
        "        else: # 갔더니,,,양이 있네!!!!\n",
        "            que.append( [node, move_nodes[:i]+move_nodes[i+1:] + tree[node], num_sheep, num_wolf  ])\n",
        "\n",
        "    ###########################\n",
        "  return answer"
      ],
      "metadata": {
        "id": "SL4sYBtgKwWY"
      },
      "execution_count": null,
      "outputs": []
    },
    {
      "cell_type": "code",
      "source": [
        "# test1\n",
        "a = [0,0,1,1,1,0,1,0,1,0,1,1]\n",
        "b = [[0,1],[1,2],[1,4],[0,8],[8,7],[9,10],[9,11],[4,3],[6,5],[4,6],[8,9]]\n",
        "# 5\n",
        "solution(a,b)"
      ],
      "metadata": {
        "id": "bYHJRS3EScH6",
        "colab": {
          "base_uri": "https://localhost:8080/",
          "height": 313
        },
        "outputId": "e205cf0c-78dd-4e94-ee77-855c912b1a43"
      },
      "execution_count": null,
      "outputs": [
        {
          "output_type": "error",
          "ename": "ValueError",
          "evalue": "not enough values to unpack (expected 4, got 2)",
          "traceback": [
            "\u001b[0;31m---------------------------------------------------------------------------\u001b[0m",
            "\u001b[0;31mValueError\u001b[0m                                Traceback (most recent call last)",
            "\u001b[0;32m<ipython-input-3-98fbf70e255e>\u001b[0m in \u001b[0;36m<cell line: 5>\u001b[0;34m()\u001b[0m\n\u001b[1;32m      3\u001b[0m \u001b[0mb\u001b[0m \u001b[0;34m=\u001b[0m \u001b[0;34m[\u001b[0m\u001b[0;34m[\u001b[0m\u001b[0;36m0\u001b[0m\u001b[0;34m,\u001b[0m\u001b[0;36m1\u001b[0m\u001b[0;34m]\u001b[0m\u001b[0;34m,\u001b[0m\u001b[0;34m[\u001b[0m\u001b[0;36m1\u001b[0m\u001b[0;34m,\u001b[0m\u001b[0;36m2\u001b[0m\u001b[0;34m]\u001b[0m\u001b[0;34m,\u001b[0m\u001b[0;34m[\u001b[0m\u001b[0;36m1\u001b[0m\u001b[0;34m,\u001b[0m\u001b[0;36m4\u001b[0m\u001b[0;34m]\u001b[0m\u001b[0;34m,\u001b[0m\u001b[0;34m[\u001b[0m\u001b[0;36m0\u001b[0m\u001b[0;34m,\u001b[0m\u001b[0;36m8\u001b[0m\u001b[0;34m]\u001b[0m\u001b[0;34m,\u001b[0m\u001b[0;34m[\u001b[0m\u001b[0;36m8\u001b[0m\u001b[0;34m,\u001b[0m\u001b[0;36m7\u001b[0m\u001b[0;34m]\u001b[0m\u001b[0;34m,\u001b[0m\u001b[0;34m[\u001b[0m\u001b[0;36m9\u001b[0m\u001b[0;34m,\u001b[0m\u001b[0;36m10\u001b[0m\u001b[0;34m]\u001b[0m\u001b[0;34m,\u001b[0m\u001b[0;34m[\u001b[0m\u001b[0;36m9\u001b[0m\u001b[0;34m,\u001b[0m\u001b[0;36m11\u001b[0m\u001b[0;34m]\u001b[0m\u001b[0;34m,\u001b[0m\u001b[0;34m[\u001b[0m\u001b[0;36m4\u001b[0m\u001b[0;34m,\u001b[0m\u001b[0;36m3\u001b[0m\u001b[0;34m]\u001b[0m\u001b[0;34m,\u001b[0m\u001b[0;34m[\u001b[0m\u001b[0;36m6\u001b[0m\u001b[0;34m,\u001b[0m\u001b[0;36m5\u001b[0m\u001b[0;34m]\u001b[0m\u001b[0;34m,\u001b[0m\u001b[0;34m[\u001b[0m\u001b[0;36m4\u001b[0m\u001b[0;34m,\u001b[0m\u001b[0;36m6\u001b[0m\u001b[0;34m]\u001b[0m\u001b[0;34m,\u001b[0m\u001b[0;34m[\u001b[0m\u001b[0;36m8\u001b[0m\u001b[0;34m,\u001b[0m\u001b[0;36m9\u001b[0m\u001b[0;34m]\u001b[0m\u001b[0;34m]\u001b[0m\u001b[0;34m\u001b[0m\u001b[0;34m\u001b[0m\u001b[0m\n\u001b[1;32m      4\u001b[0m \u001b[0;31m# 5\u001b[0m\u001b[0;34m\u001b[0m\u001b[0;34m\u001b[0m\u001b[0m\n\u001b[0;32m----> 5\u001b[0;31m \u001b[0msolution\u001b[0m\u001b[0;34m(\u001b[0m\u001b[0ma\u001b[0m\u001b[0;34m,\u001b[0m\u001b[0mb\u001b[0m\u001b[0;34m)\u001b[0m\u001b[0;34m\u001b[0m\u001b[0;34m\u001b[0m\u001b[0m\n\u001b[0m",
            "\u001b[0;32m<ipython-input-2-43b2ca65dc64>\u001b[0m in \u001b[0;36msolution\u001b[0;34m(info, edges)\u001b[0m\n\u001b[1;32m     21\u001b[0m   \u001b[0;32mwhile\u001b[0m \u001b[0mque\u001b[0m\u001b[0;34m:\u001b[0m\u001b[0;34m\u001b[0m\u001b[0;34m\u001b[0m\u001b[0m\n\u001b[1;32m     22\u001b[0m       \u001b[0;31m# 일단 큐에서 하나 꺼내자... : popleft, pop 다 통과 됨!!!\u001b[0m\u001b[0;34m\u001b[0m\u001b[0;34m\u001b[0m\u001b[0m\n\u001b[0;32m---> 23\u001b[0;31m       \u001b[0mnow_node\u001b[0m\u001b[0;34m,\u001b[0m \u001b[0mmove_nodes\u001b[0m\u001b[0;34m,\u001b[0m\u001b[0mnum_sheep\u001b[0m\u001b[0;34m,\u001b[0m\u001b[0mnum_wolf\u001b[0m\u001b[0;34m=\u001b[0m\u001b[0mque\u001b[0m\u001b[0;34m.\u001b[0m\u001b[0mpopleft\u001b[0m\u001b[0;34m(\u001b[0m\u001b[0;34m)\u001b[0m\u001b[0;34m\u001b[0m\u001b[0;34m\u001b[0m\u001b[0m\n\u001b[0m\u001b[1;32m     24\u001b[0m       \u001b[0;31m#기존의 양의 수보다, 지금 경로의 양의 수가 많으면 갱신\u001b[0m\u001b[0;34m\u001b[0m\u001b[0;34m\u001b[0m\u001b[0m\n\u001b[1;32m     25\u001b[0m       \u001b[0;32mif\u001b[0m \u001b[0manswer\u001b[0m \u001b[0;34m<\u001b[0m\u001b[0mnum_sheep\u001b[0m\u001b[0;34m:\u001b[0m\u001b[0;34m\u001b[0m\u001b[0;34m\u001b[0m\u001b[0m\n",
            "\u001b[0;31mValueError\u001b[0m: not enough values to unpack (expected 4, got 2)"
          ]
        }
      ]
    },
    {
      "cell_type": "code",
      "source": [
        "# test2\n",
        "a = [0,1,0,1,1,0,1,0,0,1,0]\n",
        "b = [[0,1],[0,2],[1,3],[1,4],[2,5],[2,6],[3,7],[4,8],[6,9],[9,10]]\n",
        "# 5\n",
        "solution(a,b)"
      ],
      "metadata": {
        "id": "bnLCc_fMX5M2",
        "colab": {
          "base_uri": "https://localhost:8080/",
          "height": 313
        },
        "outputId": "5a03fbfd-181f-427f-ad18-cf5d0c35084a"
      },
      "execution_count": null,
      "outputs": [
        {
          "output_type": "error",
          "ename": "ValueError",
          "evalue": "not enough values to unpack (expected 4, got 2)",
          "traceback": [
            "\u001b[0;31m---------------------------------------------------------------------------\u001b[0m",
            "\u001b[0;31mValueError\u001b[0m                                Traceback (most recent call last)",
            "\u001b[0;32m<ipython-input-4-0673b1403dbc>\u001b[0m in \u001b[0;36m<cell line: 5>\u001b[0;34m()\u001b[0m\n\u001b[1;32m      3\u001b[0m \u001b[0mb\u001b[0m \u001b[0;34m=\u001b[0m \u001b[0;34m[\u001b[0m\u001b[0;34m[\u001b[0m\u001b[0;36m0\u001b[0m\u001b[0;34m,\u001b[0m\u001b[0;36m1\u001b[0m\u001b[0;34m]\u001b[0m\u001b[0;34m,\u001b[0m\u001b[0;34m[\u001b[0m\u001b[0;36m0\u001b[0m\u001b[0;34m,\u001b[0m\u001b[0;36m2\u001b[0m\u001b[0;34m]\u001b[0m\u001b[0;34m,\u001b[0m\u001b[0;34m[\u001b[0m\u001b[0;36m1\u001b[0m\u001b[0;34m,\u001b[0m\u001b[0;36m3\u001b[0m\u001b[0;34m]\u001b[0m\u001b[0;34m,\u001b[0m\u001b[0;34m[\u001b[0m\u001b[0;36m1\u001b[0m\u001b[0;34m,\u001b[0m\u001b[0;36m4\u001b[0m\u001b[0;34m]\u001b[0m\u001b[0;34m,\u001b[0m\u001b[0;34m[\u001b[0m\u001b[0;36m2\u001b[0m\u001b[0;34m,\u001b[0m\u001b[0;36m5\u001b[0m\u001b[0;34m]\u001b[0m\u001b[0;34m,\u001b[0m\u001b[0;34m[\u001b[0m\u001b[0;36m2\u001b[0m\u001b[0;34m,\u001b[0m\u001b[0;36m6\u001b[0m\u001b[0;34m]\u001b[0m\u001b[0;34m,\u001b[0m\u001b[0;34m[\u001b[0m\u001b[0;36m3\u001b[0m\u001b[0;34m,\u001b[0m\u001b[0;36m7\u001b[0m\u001b[0;34m]\u001b[0m\u001b[0;34m,\u001b[0m\u001b[0;34m[\u001b[0m\u001b[0;36m4\u001b[0m\u001b[0;34m,\u001b[0m\u001b[0;36m8\u001b[0m\u001b[0;34m]\u001b[0m\u001b[0;34m,\u001b[0m\u001b[0;34m[\u001b[0m\u001b[0;36m6\u001b[0m\u001b[0;34m,\u001b[0m\u001b[0;36m9\u001b[0m\u001b[0;34m]\u001b[0m\u001b[0;34m,\u001b[0m\u001b[0;34m[\u001b[0m\u001b[0;36m9\u001b[0m\u001b[0;34m,\u001b[0m\u001b[0;36m10\u001b[0m\u001b[0;34m]\u001b[0m\u001b[0;34m]\u001b[0m\u001b[0;34m\u001b[0m\u001b[0;34m\u001b[0m\u001b[0m\n\u001b[1;32m      4\u001b[0m \u001b[0;31m# 5\u001b[0m\u001b[0;34m\u001b[0m\u001b[0;34m\u001b[0m\u001b[0m\n\u001b[0;32m----> 5\u001b[0;31m \u001b[0msolution\u001b[0m\u001b[0;34m(\u001b[0m\u001b[0ma\u001b[0m\u001b[0;34m,\u001b[0m\u001b[0mb\u001b[0m\u001b[0;34m)\u001b[0m\u001b[0;34m\u001b[0m\u001b[0;34m\u001b[0m\u001b[0m\n\u001b[0m",
            "\u001b[0;32m<ipython-input-2-43b2ca65dc64>\u001b[0m in \u001b[0;36msolution\u001b[0;34m(info, edges)\u001b[0m\n\u001b[1;32m     21\u001b[0m   \u001b[0;32mwhile\u001b[0m \u001b[0mque\u001b[0m\u001b[0;34m:\u001b[0m\u001b[0;34m\u001b[0m\u001b[0;34m\u001b[0m\u001b[0m\n\u001b[1;32m     22\u001b[0m       \u001b[0;31m# 일단 큐에서 하나 꺼내자... : popleft, pop 다 통과 됨!!!\u001b[0m\u001b[0;34m\u001b[0m\u001b[0;34m\u001b[0m\u001b[0m\n\u001b[0;32m---> 23\u001b[0;31m       \u001b[0mnow_node\u001b[0m\u001b[0;34m,\u001b[0m \u001b[0mmove_nodes\u001b[0m\u001b[0;34m,\u001b[0m\u001b[0mnum_sheep\u001b[0m\u001b[0;34m,\u001b[0m\u001b[0mnum_wolf\u001b[0m\u001b[0;34m=\u001b[0m\u001b[0mque\u001b[0m\u001b[0;34m.\u001b[0m\u001b[0mpopleft\u001b[0m\u001b[0;34m(\u001b[0m\u001b[0;34m)\u001b[0m\u001b[0;34m\u001b[0m\u001b[0;34m\u001b[0m\u001b[0m\n\u001b[0m\u001b[1;32m     24\u001b[0m       \u001b[0;31m#기존의 양의 수보다, 지금 경로의 양의 수가 많으면 갱신\u001b[0m\u001b[0;34m\u001b[0m\u001b[0;34m\u001b[0m\u001b[0m\n\u001b[1;32m     25\u001b[0m       \u001b[0;32mif\u001b[0m \u001b[0manswer\u001b[0m \u001b[0;34m<\u001b[0m\u001b[0mnum_sheep\u001b[0m\u001b[0;34m:\u001b[0m\u001b[0;34m\u001b[0m\u001b[0;34m\u001b[0m\u001b[0m\n",
            "\u001b[0;31mValueError\u001b[0m: not enough values to unpack (expected 4, got 2)"
          ]
        }
      ]
    },
    {
      "cell_type": "code",
      "source": [
        "#양은 0 늑대는 1 양의 수가> 늑대보다 많아햐 하고 늑대가 더 많아지면 게임종료\n",
        "#양은 최대 5마리"
      ],
      "metadata": {
        "id": "F39RZnUXKLwZ"
      },
      "execution_count": null,
      "outputs": []
    },
    {
      "cell_type": "code",
      "source": [
        "def solution(info, edges):\n",
        "  if graph[row_init][col_init]==0:\n",
        "    a = deque([row_init],[col_init])\n",
        "    graph[row_init][col_init] =1\n",
        "\n",
        "#1 양의 대한 기록\n",
        "  if much([])\n",
        "  if info ==0:\n",
        "    sheep_count +=1\n",
        "  else info ==1:\n",
        "    wolf_count +=1\n",
        "\n",
        "    while True:\n",
        "      if sheep_count== 5:\n",
        "        return 1\n",
        "\n",
        "      row, col = q.popleft()\n",
        "\n",
        "      for dx,dy in[[0,-1],[0,1],[-1,0],[1,0]]:\n",
        "        if\n",
        "\n",
        "\n",
        "\n",
        "    answer = 0\n",
        "    return answer"
      ],
      "metadata": {
        "id": "Umwkfoy6Kd44"
      },
      "execution_count": null,
      "outputs": []
    },
    {
      "cell_type": "code",
      "source": [],
      "metadata": {
        "id": "ASbqglpTSYpS"
      },
      "execution_count": null,
      "outputs": []
    },
    {
      "cell_type": "code",
      "source": [
        "# ++++ 남은 대표 유형 중 하나가 : 수학적인 경우의 수 문제를 탐색으로 푸는 경우!!\n",
        "# ===:> 2022년 4번 문제(양궁 문제 )"
      ],
      "metadata": {
        "id": "W_d9Uq_BSbWS"
      },
      "execution_count": null,
      "outputs": []
    },
    {
      "cell_type": "code",
      "source": [
        "# ++ sql // 클래스 간단한 설명, 경우의 수 문제 , 최단거리(다익스트라 알고리즘)\n",
        "# ===> 주말에 꼭!!! 지금까지 했던 것들 리뷰\n",
        "#      (level_0문제들은 꼭! 숙지하셔야 함)\n",
        "\n",
        "#--> 코테들은 취업 하려면 필요하기에.. 할 수 있는 만큼 리뷰 복습하기\n",
        "# 다음주 월화 코테 평가(했던것들에서 나옴)"
      ],
      "metadata": {
        "id": "-lc74oDzKelg"
      },
      "execution_count": null,
      "outputs": []
    },
    {
      "cell_type": "code",
      "source": [
        "from collections import deque\n",
        "def solution(info, edges):\n",
        "    answer = 0 # --> 지금까지 모인 양의 최대수....\n",
        "    ###########################\n",
        "    # 1) 입력에 대한 처리 : 주어진 경우가 tree/네트워크 ==> 노드 번호!!!\n",
        "    #    노드의 번호 : key\n",
        "    #    노드간의 연결에 대한 부분을 value\n",
        "    # ==> 노드의 수 == len(info)\n",
        "    n = len(info)\n",
        "    tree = { i:[] for i in range(n)} # dict로 컴프리핸션으로 구현!!!--> 초기\n",
        "    # 0 노드가 1,8번에 연결 : [0,1], [0,8]\n",
        "    # ==> { 0: [1,8], 1: [],,,,,,,,,}\n",
        "    # 노드간의 연결 -===> tree 키값 중심으로 정리!!!! --> 그 도시에서 연결된 도시들을 리스트업\n",
        "    for s, e in edges:\n",
        "        tree[s].append(e)\n",
        "    # tree : {0:[1,8], 1:[4], 2:[],3:[], 4:[3,6],,,,}\n",
        "    # ===> 그래프에서 인접리스트 방식으로 dict 통해서 코드화!!!\n",
        "\n",
        "    # 2) 실제 다 돌아가는 탐색!!!!!!\n",
        "    # ===> 나 어디에, 이동 가능한 노드, 양, 늑대\n",
        "    que = deque([ [ 0, tree[0], 1, 0 ] ]) # 0번 root -node 의 상황 세팅!!!\n",
        "    while que:\n",
        "        # 일단 큐에서 하나 꺼내자... : popleft, pop 다 통과 됨!!!\n",
        "        now_node, move_nodes, num_sheep, num_wolf = que.popleft()\n",
        "        # 기존의 양의 수보다, 지금 경로의 양의 수가 많으면,,,갱신!!!!\n",
        "        if answer < num_sheep:\n",
        "            answer = num_sheep\n",
        "        # ==> 최고 숫자가 갱신!!\n",
        "        #\n",
        "        # 이제 여기서 더 이동할 수 있는 것들을 돌려가면서...\n",
        "        for i, node in enumerate(move_nodes):\n",
        "            # 이동을 해본다면,,,,거기에는 늑대가 있을 수 있을 것입...\n",
        "            if info[node] == 1: # 늑대가 있네;;;;\n",
        "                # 늑대가 양보다 같거나 큰지를 체크!!!!@\n",
        "                if num_sheep >  num_wolf + 1:\n",
        "                    que.append( [node, move_nodes[:i]+move_nodes[i+1:] + tree[node], num_sheep, num_wolf + 1 ])\n",
        "            else: # 갔더니,,,양이 있네!!!!\n",
        "                que.append( [node, move_nodes[:i]+move_nodes[i+1:] + tree[node], num_sheep + 1, num_wolf  ])\n",
        "\n",
        "    ###########################\n",
        "    return answer\n",
        "# test1\n",
        "a = [0,0,1,1,1,0,1,0,1,0,1,1]\n",
        "b = [[0,1],[1,2],[1,4],[0,8],[8,7],[9,10],[9,11],[4,3],[6,5],[4,6],[8,9]]\n",
        "# 5\n",
        "solution(a,b)\n"
      ],
      "metadata": {
        "id": "yIfDiG8cF_1y"
      },
      "execution_count": null,
      "outputs": []
    }
  ]
}