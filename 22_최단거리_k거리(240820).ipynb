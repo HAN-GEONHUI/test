{
  "nbformat": 4,
  "nbformat_minor": 0,
  "metadata": {
    "colab": {
      "provenance": [],
      "authorship_tag": "ABX9TyO10bsfIjaUhrQ4H6W5Dyof",
      "include_colab_link": true
    },
    "kernelspec": {
      "name": "python3",
      "display_name": "Python 3"
    },
    "language_info": {
      "name": "python"
    }
  },
  "cells": [
    {
      "cell_type": "markdown",
      "metadata": {
        "id": "view-in-github",
        "colab_type": "text"
      },
      "source": [
        "<a href=\"https://colab.research.google.com/github/HAN-GEONHUI/test/blob/t_academy_%EC%88%98%EC%97%85/22_%EC%B5%9C%EB%8B%A8%EA%B1%B0%EB%A6%AC_k%EA%B1%B0%EB%A6%AC(240820).ipynb\" target=\"_parent\"><img src=\"https://colab.research.google.com/assets/colab-badge.svg\" alt=\"Open In Colab\"/></a>"
      ]
    },
    {
      "cell_type": "code",
      "execution_count": null,
      "metadata": {
        "id": "uFZXfPELcBeZ"
      },
      "outputs": [],
      "source": [
        "# ref : https://www.acmicpc.net/problem/18352\n",
        "# 참고"
      ]
    },
    {
      "cell_type": "code",
      "source": [
        "n,m,k,x = map(int, input(\"도시수,도루수,거리,출발점\").split(\" \"))\n",
        "print(n,m,k,x)"
      ],
      "metadata": {
        "colab": {
          "base_uri": "https://localhost:8080/"
        },
        "id": "Y-TVMASrcPPY",
        "outputId": "ca44696e-6d85-4424-a075-e36f15f367a8"
      },
      "execution_count": null,
      "outputs": [
        {
          "output_type": "stream",
          "name": "stdout",
          "text": [
            "도시수,도루수,거리,출발점4 4 2 1\n",
            "4 4 2 1\n"
          ]
        }
      ]
    },
    {
      "cell_type": "code",
      "source": [
        "graph = [ [] for _ in range(n+1)]\n",
        "graph"
      ],
      "metadata": {
        "colab": {
          "base_uri": "https://localhost:8080/"
        },
        "id": "Z_CH9Eb2cV8_",
        "outputId": "3899f06e-29c9-4305-d7f7-7b56cea2d093"
      },
      "execution_count": null,
      "outputs": [
        {
          "output_type": "execute_result",
          "data": {
            "text/plain": [
              "[[], [], [], [], []]"
            ]
          },
          "metadata": {},
          "execution_count": 3
        }
      ]
    },
    {
      "cell_type": "code",
      "source": [
        "for _ in range(m):\n",
        "    # 출발도시 s, 도착도시 e, ==> 그래프에 정리!!!!!\n",
        "    s, e = map( int ,input(\"출발 도착도시 공백으로\").split(\" \") )\n",
        "    # graph[s].append(e) # 기존 BFS중심으로 할 때\n",
        "    graph[s].append((e,1)) #기존과 달라지는 부분: 명시적으로 거\n",
        "graph"
      ],
      "metadata": {
        "colab": {
          "base_uri": "https://localhost:8080/"
        },
        "id": "_z0jKk2NcYFH",
        "outputId": "d1ca7e45-5693-44f6-f82b-ec245a7a34aa"
      },
      "execution_count": null,
      "outputs": [
        {
          "name": "stdout",
          "output_type": "stream",
          "text": [
            "출발 도착도시 공백으로1 2\n",
            "출발 도착도시 공백으로1 3\n",
            "출발 도착도시 공백으로2 3\n",
            "출발 도착도시 공백으로2 4\n"
          ]
        },
        {
          "output_type": "execute_result",
          "data": {
            "text/plain": [
              "[[], [(2, 1), (3, 1)], [(3, 1), (4, 1)], [], []]"
            ]
          },
          "metadata": {},
          "execution_count": 4
        }
      ]
    },
    {
      "cell_type": "code",
      "source": [
        "#최단 거리 알고리즘: 다익스트라알고리즘"
      ],
      "metadata": {
        "id": "NbDSdKbDczgg"
      },
      "execution_count": null,
      "outputs": []
    },
    {
      "cell_type": "code",
      "source": [
        "import heapq"
      ],
      "metadata": {
        "id": "DExtTqAKdAFN"
      },
      "execution_count": null,
      "outputs": []
    },
    {
      "cell_type": "code",
      "source": [
        "# 거리 초기화\n",
        "INF = float(\"inf\")\n",
        "# 거리에 대한 정보 세팅\n",
        "distance = [INF] * (n+1)\n",
        "\n",
        "# 최단거리 탐색 함수\n",
        "def dijk_city(start):\n",
        "    q = []\n",
        "    heapq.heappush( q, (0,start)) # 거리,도시 --> 우선순위가 앞에서,\n",
        "    distance[start] = 0\n",
        "\n",
        "    # 큐를 비울 때 까지..\n",
        "    while q:\n",
        "        dist, now = heapq.heappop(q)\n",
        "        # 이미 왔던 곳인지....\n",
        "        if distance[now] < dist:\n",
        "            continue\n",
        "        else:\n",
        "            for i in graph[now]: # i : (종착도시, 거리)\n",
        "                cost = dist + i[1] # 예상 거리\n",
        "                if cost < distance[i[0]]:\n",
        "                    distance[i[0]] = cost\n",
        "                    heapq.heappush(q, (cost, i[0]))"
      ],
      "metadata": {
        "id": "p-q6VACheh1a"
      },
      "execution_count": null,
      "outputs": []
    },
    {
      "cell_type": "code",
      "source": [],
      "metadata": {
        "id": "vBEXsWGPe9_y"
      },
      "execution_count": null,
      "outputs": []
    },
    {
      "cell_type": "code",
      "source": [
        "dijk_city(x)"
      ],
      "metadata": {
        "id": "d-ljsMR-eW4k"
      },
      "execution_count": null,
      "outputs": []
    },
    {
      "cell_type": "code",
      "source": [
        "distance"
      ],
      "metadata": {
        "colab": {
          "base_uri": "https://localhost:8080/"
        },
        "id": "1ZcDFBX3fA6z",
        "outputId": "b5ad4f1c-141f-47ed-dd7b-9b3eae1cac06"
      },
      "execution_count": null,
      "outputs": [
        {
          "output_type": "execute_result",
          "data": {
            "text/plain": [
              "[inf, 0, 1, 1, 2]"
            ]
          },
          "metadata": {},
          "execution_count": 17
        }
      ]
    },
    {
      "cell_type": "code",
      "source": [
        "dis_k = [i for i,v in enumerate(distance) if v == k]\n",
        "dis_k"
      ],
      "metadata": {
        "colab": {
          "base_uri": "https://localhost:8080/"
        },
        "id": "pqzIe1lefA_q",
        "outputId": "30993e24-19cb-4983-8730-3771110f9a4a"
      },
      "execution_count": null,
      "outputs": [
        {
          "output_type": "execute_result",
          "data": {
            "text/plain": [
              "[4]"
            ]
          },
          "metadata": {},
          "execution_count": 18
        }
      ]
    },
    {
      "cell_type": "code",
      "source": [
        "if dis_k == []:\n",
        "    print(-1)\n",
        "else:\n",
        "    while dis_k:\n",
        "        print(dis_k.pop(0))"
      ],
      "metadata": {
        "id": "LaEf9fZYfDyy",
        "outputId": "fa37264e-a6dc-4cb1-93d0-375ee6403b96",
        "colab": {
          "base_uri": "https://localhost:8080/"
        }
      },
      "execution_count": null,
      "outputs": [
        {
          "output_type": "stream",
          "name": "stdout",
          "text": [
            "4\n"
          ]
        }
      ]
    },
    {
      "cell_type": "code",
      "source": [],
      "metadata": {
        "id": "88-Nw8PrfD8K"
      },
      "execution_count": null,
      "outputs": []
    }
  ]
}