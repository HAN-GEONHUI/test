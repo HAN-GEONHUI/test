{
  "cells": [
    {
      "cell_type": "markdown",
      "metadata": {
        "id": "view-in-github",
        "colab_type": "text"
      },
      "source": [
        "<a href=\"https://colab.research.google.com/github/HAN-GEONHUI/test/blob/t_academy_%EC%88%98%EC%97%85_pandas/10_selenium_local(240830).ipynb\" target=\"_parent\"><img src=\"https://colab.research.google.com/assets/colab-badge.svg\" alt=\"Open In Colab\"/></a>"
      ]
    },
    {
      "cell_type": "code",
      "execution_count": null,
      "id": "f073b4a6-6468-459c-9e84-f555874dbf40",
      "metadata": {
        "id": "f073b4a6-6468-459c-9e84-f555874dbf40"
      },
      "outputs": [],
      "source": [
        "import pandas as pd"
      ]
    },
    {
      "cell_type": "code",
      "execution_count": null,
      "id": "c508cb83-874a-4c0a-9872-5111e76843c3",
      "metadata": {
        "id": "c508cb83-874a-4c0a-9872-5111e76843c3",
        "outputId": "8ed43fb4-4fa0-4438-87fa-e77f372dc8dc"
      },
      "outputs": [
        {
          "data": {
            "text/plain": [
              "'2.2.2'"
            ]
          },
          "execution_count": 45,
          "metadata": {},
          "output_type": "execute_result"
        }
      ],
      "source": [
        "pd.__version__"
      ]
    },
    {
      "cell_type": "code",
      "execution_count": null,
      "id": "c4a0a6c5-b022-41c1-bdae-b329f4a40e07",
      "metadata": {
        "id": "c4a0a6c5-b022-41c1-bdae-b329f4a40e07"
      },
      "outputs": [],
      "source": [
        "##HEAD"
      ]
    },
    {
      "cell_type": "code",
      "execution_count": null,
      "id": "8e82d777-6055-474a-9d43-eac485622193",
      "metadata": {
        "id": "8e82d777-6055-474a-9d43-eac485622193"
      },
      "outputs": [],
      "source": [
        "import selenium"
      ]
    },
    {
      "cell_type": "code",
      "execution_count": null,
      "id": "4fce9ae6-6012-43d6-a4ee-4c7d67d33336",
      "metadata": {
        "id": "4fce9ae6-6012-43d6-a4ee-4c7d67d33336"
      },
      "outputs": [],
      "source": [
        "import selenium"
      ]
    },
    {
      "cell_type": "code",
      "execution_count": null,
      "id": "6dfc6873-3712-449c-99d3-db675f5e4589",
      "metadata": {
        "id": "6dfc6873-3712-449c-99d3-db675f5e4589"
      },
      "outputs": [],
      "source": [
        "#셀레니움 패키지 관련되어서 로드: 지금 시점 기준으로는..4.XXXXX\n",
        "#--> 구글이나 이런 검색을 하면 예전 버전이 나옴->최신 기간으로 체크하기\n",
        "#접속 관련 부분\n",
        "from selenium import webdriver\n",
        "from selenium.webdriver.chrome.service import Service\n",
        "#--> 가정 chrome 브라우저를 통해서 사용할 예정, 다른 브라우저를 통해서 하실려면 변경하시면 됩니다."
      ]
    },
    {
      "cell_type": "code",
      "execution_count": null,
      "id": "f29ef3b9-2f1c-4cfd-b0b6-caaf9a8623db",
      "metadata": {
        "id": "f29ef3b9-2f1c-4cfd-b0b6-caaf9a8623db"
      },
      "outputs": [],
      "source": []
    },
    {
      "cell_type": "code",
      "execution_count": null,
      "id": "ec7437b8-7f55-497b-b410-7fcf065a567f",
      "metadata": {
        "id": "ec7437b8-7f55-497b-b410-7fcf065a567f"
      },
      "outputs": [],
      "source": [
        "#필요한 정보들을 접근! By.찾을 요소-->4.X 주된 변화 중 하나\n",
        "#by.~~~구조 중심으로 찾을 요소를 지정을 함\n",
        "from selenium.webdriver.common.by import By"
      ]
    },
    {
      "cell_type": "code",
      "execution_count": null,
      "id": "fe1078ef-d79f-4b70-b773-588921e5eb3e",
      "metadata": {
        "id": "fe1078ef-d79f-4b70-b773-588921e5eb3e"
      },
      "outputs": [],
      "source": [
        "#+++ opt)키보드로 뭔가 조작을 해야한다면,,,마우스로 스크롤을 해야한다면\n",
        "from selenium.webdriver.common.keys import Keys"
      ]
    },
    {
      "cell_type": "code",
      "execution_count": null,
      "id": "24f594a7-51d7-4926-a5c4-2314596dbe2b",
      "metadata": {
        "id": "24f594a7-51d7-4926-a5c4-2314596dbe2b"
      },
      "outputs": [],
      "source": [
        "#webdriver 프로그램이 브라우저마다 있습니다.\n",
        "#-->가정:크롬 브라우저를 가지고 하려고 하였음, 필요한 것이 크롬브라우저에 관한 wbdriver"
      ]
    },
    {
      "cell_type": "code",
      "execution_count": null,
      "id": "888b2e19-6110-4b44-9d58-fa05ac6cfce9",
      "metadata": {
        "id": "888b2e19-6110-4b44-9d58-fa05ac6cfce9"
      },
      "outputs": [],
      "source": [
        "path=r\"C:\\Users\\NT551_11TH\\Desktop\\chromedriver-win64\\chromedriver.exe\"\n",
        "#--> 개인별로 본인 환경에 맟춰서 경로를 지정해야 함\n",
        "#--> 다운 받을 때 본인 브라우저의 버전을 체크하고 다운 받아야 함."
      ]
    },
    {
      "cell_type": "code",
      "execution_count": null,
      "id": "7280f45b-5b9c-4f78-97e5-e71affb399bd",
      "metadata": {
        "id": "7280f45b-5b9c-4f78-97e5-e71affb399bd"
      },
      "outputs": [],
      "source": [
        "#참고: 셀레니움4.x접속도 변경이 되었습니다.\n",
        "s= Service(path)\n",
        "#컨트롤 하려는 브라우저에 대한 변수화!:driver\n",
        "driver = webdriver.Chrome(service=s)\n",
        "#old version: webdriver.Chrome(\"~~~.exe\")\n",
        "\n",
        "#내가 웹브라우저에 하는 모든 행동들을 다 코드화 할 수 있다\n",
        "#-->  자세한 부분은 메뉴얼 참조\n",
        "driver.set_window_size(1000,1000)\n",
        "\n",
        "#내가 가려는 url에 대해서 접속하자\n",
        "url=\"https://naver.com\"\n",
        "driver.get(url)\n",
        "\n",
        "#혹시 이 페이지의 소스코드를 봐야한다.\n",
        "#driver.page_source\n",
        "\n",
        "#네이버 창에 검색어를 입력하고 싶다!\n",
        "#-->검색창의 검색어는\n",
        "query_txt=\"bts\"\n",
        "#네이버 사이트의 어느 위치에/어디에 이 검색어를 입력할지 찾아야 함!!\n",
        "#--> 그 요소의 경로 xpath\n",
        "#규칙이 안 잡히면 ,full_xpath,.css,js~~etc\n",
        "element = driver.find_element(By.XPATH,'//*[@id=\"query\"]')\n",
        "\n",
        "element.send_keys(query_txt)\n",
        "\n",
        "#-->그 검색어로 결과를 요청!! 클릭!\n",
        "driver.find_element(By.XPATH,'//*[@id=\"search-btn\"]').click()\n",
        "\n",
        "#참고)화면 캡쳐\n",
        "driver.save_screenshot(\"test_bts.png\")\n",
        "#참고 )자동으로 브라우저 종료!\n",
        "driver.quit()"
      ]
    },
    {
      "cell_type": "code",
      "execution_count": null,
      "id": "ab84ef9b-098f-4f97-9b60-0dbe11b197d4",
      "metadata": {
        "id": "ab84ef9b-098f-4f97-9b60-0dbe11b197d4"
      },
      "outputs": [],
      "source": []
    }
  ],
  "metadata": {
    "kernelspec": {
      "display_name": "Python 3 (ipykernel)",
      "language": "python",
      "name": "python3"
    },
    "language_info": {
      "codemirror_mode": {
        "name": "ipython",
        "version": 3
      },
      "file_extension": ".py",
      "mimetype": "text/x-python",
      "name": "python",
      "nbconvert_exporter": "python",
      "pygments_lexer": "ipython3",
      "version": "3.12.4"
    },
    "colab": {
      "provenance": [],
      "include_colab_link": true
    }
  },
  "nbformat": 4,
  "nbformat_minor": 5
}