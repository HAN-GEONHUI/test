{
  "nbformat": 4,
  "nbformat_minor": 0,
  "metadata": {
    "colab": {
      "provenance": [],
      "toc_visible": true,
      "authorship_tag": "ABX9TyMbkV5ZvYc6t3k1MUZoDZlH",
      "include_colab_link": true
    },
    "kernelspec": {
      "name": "python3",
      "display_name": "Python 3"
    },
    "language_info": {
      "name": "python"
    }
  },
  "cells": [
    {
      "cell_type": "markdown",
      "metadata": {
        "id": "view-in-github",
        "colab_type": "text"
      },
      "source": [
        "<a href=\"https://colab.research.google.com/github/HAN-GEONHUI/test/blob/main/20240809.ipynb\" target=\"_parent\"><img src=\"https://colab.research.google.com/assets/colab-badge.svg\" alt=\"Open In Colab\"/></a>"
      ]
    },
    {
      "cell_type": "code",
      "execution_count": null,
      "metadata": {
        "id": "9djh-vrJciT9"
      },
      "outputs": [],
      "source": [
        "#어제 한 내용은: 파이썬의 자료형 + 반복문(for)+ 제어(if)\n",
        "\n",
        "#변수: 어떠한 값/대상들을 연결을 해주는 것\n",
        "#-->값을 할당하는 / 연결하는 연산자 : =\n",
        "\n",
        "#값:1개의 값 vs 여러개의 값!\n",
        "#case1)1개 값 :파이썬 만들어둔 자료형: 숫자(정수,실수,복소수... 엄밀하게 numpy계열이나 다른패키지),논리 값(True/False),문자(\"a\",\"\"\"a\"\"\")\n",
        "#case2) 여러개의 값을 나타내는 자료형\n",
        "# ----> 리스트 : [값,값,값]--> 추가,제거,etc\n",
        "#----> 튜플:(값,값)-->추가X,제거X->값의 접근만\n",
        "#리스트/튜플 개별값에 대한 접근: 몇 번째 -> 정수인가,양수인가, 음수인가\n",
        "#집합 : {값, 값, 값,값}-> 수학적인 집합, {1,1,1,2,2,2}= {1,2}\n",
        "#dict:{키1:값1,키2:값2}-> 주민번호/이름,\n",
        "#핵심:key,개별 값에 대한 접근:[키값]/.keys(),.values()/ dict.times():k/v 처리를 할 수 있음(리스트:enumerate(리스트))->정수인덱스\n",
        "\n",
        "#골격: 반복문 &제어문!!!\n",
        "#1)제어문: if~else\n",
        "#          if~elif~elif\n",
        "#=> 조건의 순서(크게 잘 거리는 조건을 위로)\n",
        "#-> else 특별하게 하지 않으면 pass 등으로 문법적으로 설정, 안할것이면 ,else는 생략\n",
        "#2) 반복문: for,while\n",
        "#-> 데이터 분석: for문을 주로 사용하게 됨\n",
        "#for: 딱 정해진 여러개의 값들을 롤링!-> for 대표문자(들) in 여러개의 값(리스트,튜플,dict)\n",
        "#while: 조건이 만족할 때까지 주구장창 돌리기++ 탈출 조건에 대한 설계가 필\n",
        "#필요한 숫자 여러개/규칙적 range(시작점,끝점)/ 끝점에서 대해서는 확인이 필\n"
      ]
    },
    {
      "cell_type": "code",
      "source": [
        "#필터링에 조건이 규칙적으로 표현이 가능하면 if조건식 작성\n",
        "#sol2) 규칙이 없다고 가정-> 데이터를 수집 할 때 예외처리가 많이 발생함.\n",
        "#      코테에서도 종종 사용이 됨."
      ],
      "metadata": {
        "id": "qh50WFcgeFpe"
      },
      "execution_count": null,
      "outputs": []
    },
    {
      "cell_type": "code",
      "source": [
        "#규칙을 만들 수 없는 상황-> 예외적인 상황들을 나열\n",
        "a = [1,2,3,4,5]\n",
        "for i in a:\n",
        "  if i == 1 or i == 3 or i ==5 :\n",
        "    print(i)"
      ],
      "metadata": {
        "colab": {
          "base_uri": "https://localhost:8080/"
        },
        "id": "aqZ1Y1Q_jMng",
        "outputId": "b46e5732-2922-4e72-e7b9-3d04a193ba2a"
      },
      "execution_count": null,
      "outputs": [
        {
          "output_type": "stream",
          "name": "stdout",
          "text": [
            "1\n",
            "3\n",
            "5\n"
          ]
        }
      ]
    },
    {
      "cell_type": "code",
      "source": [
        "#필터링을 하려는 것들도 여러개들\n",
        "a=[1,2,2,2,2,4,3,4,5,6,7,5,33]\n",
        "b = [1,3,5]\n",
        "for i in a:\n",
        "  if i in b:\n",
        "    print(i)"
      ],
      "metadata": {
        "colab": {
          "base_uri": "https://localhost:8080/"
        },
        "id": "bE13op1sjw0P",
        "outputId": "990a62eb-6324-446c-9d82-9d2e29dc7443"
      },
      "execution_count": null,
      "outputs": [
        {
          "output_type": "stream",
          "name": "stdout",
          "text": [
            "1\n",
            "3\n",
            "5\n",
            "5\n"
          ]
        }
      ]
    },
    {
      "cell_type": "code",
      "source": [
        "a = [1,2,3,4,5]\n",
        "for i in a:\n",
        "  if i % 2 == 1:\n",
        "    print(i)"
      ],
      "metadata": {
        "colab": {
          "base_uri": "https://localhost:8080/"
        },
        "id": "oZX5MdeNjeJe",
        "outputId": "04e8a78b-b703-4839-e6aa-dc46763ae209"
      },
      "execution_count": null,
      "outputs": [
        {
          "output_type": "stream",
          "name": "stdout",
          "text": [
            "1\n",
            "3\n",
            "5\n"
          ]
        }
      ]
    },
    {
      "cell_type": "code",
      "source": [
        "# in은 중요\n",
        "# for문에서 in은 돌릴 대상들을 지정하는 것\n",
        "# if문에서 필터링들의 대상들을 나타날 때 리스트업할 때"
      ],
      "metadata": {
        "id": "fe5FkBgVkZ5_"
      },
      "execution_count": null,
      "outputs": []
    },
    {
      "cell_type": "code",
      "source": [
        "#a의 원소들 중에서 1,3,5를 제외한 원소들에 한해서 값을 +10하세요->[12,12,14,12,12]\n",
        "a = [1,1,2,2,3,4,3,3,5,2,2]\n",
        "for i in a:\n",
        "  if i % 2 == 0:\n",
        "    print(i+10)\n"
      ],
      "metadata": {
        "colab": {
          "base_uri": "https://localhost:8080/"
        },
        "id": "PgiOWrInkoZN",
        "outputId": "11434c8a-3711-4833-efed-a94ad1f107ea"
      },
      "execution_count": null,
      "outputs": [
        {
          "output_type": "stream",
          "name": "stdout",
          "text": [
            "12\n",
            "12\n",
            "14\n",
            "12\n",
            "12\n"
          ]
        }
      ]
    },
    {
      "cell_type": "code",
      "source": [
        "#a의 원소들 중에서 1,3,5를 제외한 원소들에 한해서 값을 +10하세요->[12,12,14,12,12]\n",
        "[i+10 for i in a if i not in[1,3,5]]"
      ],
      "metadata": {
        "colab": {
          "base_uri": "https://localhost:8080/"
        },
        "id": "G8279pQUlnF3",
        "outputId": "11c9e88b-5d7d-42d6-bb62-04fe0fc50382"
      },
      "execution_count": null,
      "outputs": [
        {
          "output_type": "execute_result",
          "data": {
            "text/plain": [
              "[12, 12, 14, 12, 12]"
            ]
          },
          "metadata": {},
          "execution_count": 8
        }
      ]
    },
    {
      "cell_type": "code",
      "source": [
        "#정리)\n",
        "#if"
      ],
      "metadata": {
        "id": "8MI4qdAul-1j"
      },
      "execution_count": null,
      "outputs": []
    },
    {
      "cell_type": "code",
      "source": [
        "#문제: 시험을 봤습니다\n",
        "#      시험 성적 a =[90,80,30,50,60,70,85,99]\n",
        "#-> 통과 기준을 60점 이상이라고 할 때 몇명이 통과했나요\n",
        "#1꾸역꾸역\n",
        "a =[90,80,30,50,60,70,85,99]\n",
        "for i in a:\n",
        "  if i > 60:\n",
        "    print(i)\n",
        "\n",
        "\n",
        "#2 리스트 컴프리핸션\n",
        "[i for i in a if i > 60]"
      ],
      "metadata": {
        "colab": {
          "base_uri": "https://localhost:8080/"
        },
        "id": "DVK4XvCtmD_b",
        "outputId": "064a5590-e159-499f-c345-4751f95a1685"
      },
      "execution_count": null,
      "outputs": [
        {
          "output_type": "stream",
          "name": "stdout",
          "text": [
            "90\n",
            "80\n",
            "70\n",
            "85\n",
            "99\n"
          ]
        },
        {
          "output_type": "execute_result",
          "data": {
            "text/plain": [
              "[90, 80, 70, 85, 99]"
            ]
          },
          "metadata": {},
          "execution_count": 24
        }
      ]
    },
    {
      "cell_type": "code",
      "source": [
        "#정답\n",
        "#1)\n",
        "cnt=0\n",
        "for i in a:\n",
        "  if i >=60:\n",
        "    cnt+=1\n",
        "print(cnt)"
      ],
      "metadata": {
        "colab": {
          "base_uri": "https://localhost:8080/"
        },
        "id": "4Yqf81PAr_bL",
        "outputId": "e4f12f18-85ec-41fc-c558-85e7a78f68fc"
      },
      "execution_count": null,
      "outputs": [
        {
          "output_type": "stream",
          "name": "stdout",
          "text": [
            "6\n"
          ]
        }
      ]
    },
    {
      "cell_type": "code",
      "source": [
        "#2\n",
        "len([i for i in a if i >=60])"
      ],
      "metadata": {
        "colab": {
          "base_uri": "https://localhost:8080/"
        },
        "id": "as8CHceksOYi",
        "outputId": "88ee63f6-9dbb-4c01-e322-c28229445c9d"
      },
      "execution_count": null,
      "outputs": [
        {
          "output_type": "execute_result",
          "data": {
            "text/plain": [
              "6"
            ]
          },
          "metadata": {},
          "execution_count": 26
        }
      ]
    },
    {
      "cell_type": "code",
      "source": [
        "#정리\n",
        "#값/ 조건에 대해서 정리/필터링-> 규칙이 있느냐 없느냐!\n",
        "#규칙이 있다면: 규칙을 코드화\n",
        "#규칙이 없다면: 최소한으로 리스트화하는 방식"
      ],
      "metadata": {
        "id": "YTgKCHdds7gy"
      },
      "execution_count": null,
      "outputs": []
    },
    {
      "cell_type": "code",
      "source": [
        "#문제) a = {\"A\":90,\"B\":80,\"C\":70}\n",
        "#이 중에서 \"B\"의 점수를 출력하세요!\n",
        "a = {\"A\":90,\"B\":80,\"C\":70}\n"
      ],
      "metadata": {
        "id": "lyxFpIPLtQdH"
      },
      "execution_count": null,
      "outputs": []
    },
    {
      "cell_type": "code",
      "source": [
        "a[\"B\"]"
      ],
      "metadata": {
        "colab": {
          "base_uri": "https://localhost:8080/"
        },
        "id": "_3aQJgxjtlyp",
        "outputId": "43693f4a-3616-4810-9aec-ec878eb25a99"
      },
      "execution_count": null,
      "outputs": [
        {
          "output_type": "execute_result",
          "data": {
            "text/plain": [
              "80"
            ]
          },
          "metadata": {},
          "execution_count": 29
        }
      ]
    },
    {
      "cell_type": "code",
      "source": [
        "a{\"b\"}\n",
        "#대소문자 잘 확인 ,공백으로도 오류가 발생할 수 있다"
      ],
      "metadata": {
        "colab": {
          "base_uri": "https://localhost:8080/",
          "height": 110
        },
        "id": "J4DWSVm0trTp",
        "outputId": "555d15ac-e145-41bc-bb58-407d2c1255e9"
      },
      "execution_count": null,
      "outputs": [
        {
          "output_type": "error",
          "ename": "SyntaxError",
          "evalue": "invalid syntax (<ipython-input-30-84cce9ea1238>, line 1)",
          "traceback": [
            "\u001b[0;36m  File \u001b[0;32m\"<ipython-input-30-84cce9ea1238>\"\u001b[0;36m, line \u001b[0;32m1\u001b[0m\n\u001b[0;31m    a{\"b\"}\u001b[0m\n\u001b[0m     ^\u001b[0m\n\u001b[0;31mSyntaxError\u001b[0m\u001b[0;31m:\u001b[0m invalid syntax\n"
          ]
        }
      ]
    },
    {
      "cell_type": "code",
      "source": [
        "#참고)a가 어떤 자료형이냐에 따라서 다르게 동작\n",
        "#[~~]: 공통점--> 값을 접근\n",
        "#리스트-->a[정수],a[슬라이싱]\n",
        "#딕션어리-->a[키값]: 공백문자/대소문자 Exact Matching!\n",
        "#numpy의 array 자료형 -->a[정수],a[슬라이싱],a[리스트]\n",
        "#pandas의 DataFrame/Seriese 자료형-> a[정수],a[여러개],a[내가 만든 인덱스]\n",
        "#데이터 처리할 때 기본적으로 사용하는 패키지\n"
      ],
      "metadata": {
        "id": "Bl0Zk9TGt1UJ"
      },
      "execution_count": null,
      "outputs": []
    },
    {
      "cell_type": "code",
      "source": [
        "#문제2) #최고점하고,최저점을 찾아주세요, 가정 많은 학생들의 점수가 있다고 가정함\n",
        "#기존의 최고값을 찾아주는 함수 max,최저값 min\n",
        "#검색을 하거나 파이썬의 기본 메뉴얼\n",
        "a={\"A\":30,\"B\":40,\"C\":10,\"D\":70,\"E\":90}\n",
        "max(a)\n",
        "# 컴퓨터는 문자도 내부적으로 다 숫자값으로 가지고 있기 때문에 우리가 원하는 숫자의 최고 값이 나오지 않음.\n"
      ],
      "metadata": {
        "colab": {
          "base_uri": "https://localhost:8080/",
          "height": 35
        },
        "id": "vUzHajF7vNCh",
        "outputId": "5d5cf476-00bb-4210-cac8-98beee5b8275"
      },
      "execution_count": null,
      "outputs": [
        {
          "output_type": "execute_result",
          "data": {
            "text/plain": [
              "'E'"
            ],
            "application/vnd.google.colaboratory.intrinsic+json": {
              "type": "string"
            }
          },
          "metadata": {},
          "execution_count": 32
        }
      ]
    },
    {
      "cell_type": "code",
      "source": [
        "ord(\"A\")"
      ],
      "metadata": {
        "colab": {
          "base_uri": "https://localhost:8080/"
        },
        "id": "T5Z1eil_wIu-",
        "outputId": "ecc18f19-4471-4f17-bbfe-c56e558ced3a"
      },
      "execution_count": null,
      "outputs": [
        {
          "output_type": "execute_result",
          "data": {
            "text/plain": [
              "65"
            ]
          },
          "metadata": {},
          "execution_count": 33
        }
      ]
    },
    {
      "cell_type": "code",
      "source": [
        "ord(\"E\")"
      ],
      "metadata": {
        "colab": {
          "base_uri": "https://localhost:8080/"
        },
        "id": "mXsuMr5VwN0k",
        "outputId": "75dc9165-ef79-4467-c3ba-95d14837b744"
      },
      "execution_count": null,
      "outputs": [
        {
          "output_type": "execute_result",
          "data": {
            "text/plain": [
              "69"
            ]
          },
          "metadata": {},
          "execution_count": 34
        }
      ]
    },
    {
      "cell_type": "code",
      "source": [
        "#dict에서 기본은 항상 key 중심의 세상\n",
        "#-> 어떤 항목에 대해서 할지 명시\n",
        "#대상이 key: dict.keys()\n",
        "#대상이 value: dict.values()"
      ],
      "metadata": {
        "id": "ohg-xzs3wW6k"
      },
      "execution_count": null,
      "outputs": []
    },
    {
      "cell_type": "code",
      "source": [
        "max(a.values())"
      ],
      "metadata": {
        "colab": {
          "base_uri": "https://localhost:8080/"
        },
        "id": "oWiR5XrjwzKN",
        "outputId": "a4cfed4e-c747-4453-e14c-d286615d68fd"
      },
      "execution_count": null,
      "outputs": [
        {
          "output_type": "execute_result",
          "data": {
            "text/plain": [
              "90"
            ]
          },
          "metadata": {},
          "execution_count": 38
        }
      ]
    },
    {
      "cell_type": "code",
      "source": [
        "min(a.values())"
      ],
      "metadata": {
        "colab": {
          "base_uri": "https://localhost:8080/"
        },
        "id": "xKmky2Uyw3YL",
        "outputId": "bf4694de-b23b-4437-8e3a-6df886b8e6ab"
      },
      "execution_count": null,
      "outputs": [
        {
          "output_type": "execute_result",
          "data": {
            "text/plain": [
              "10"
            ]
          },
          "metadata": {},
          "execution_count": 39
        }
      ]
    },
    {
      "cell_type": "code",
      "source": [
        "#문제) 이번에는 이 중에서 최고점과 최저점이 누구인지 찾아보세요!-> 이름을 찾고 싶다\n",
        "#처리할 정보가 key/value 함께 있느냐?\n",
        "#-> 점수:valuesd에서 찾아야 함.\n",
        "#-> 사람 이름: key에서 찾아야 함!\n",
        "#->.item()통해서 한 번에 돌리자(k,v)\n",
        "#->필터링! 최고점-> 이름 출력,최저점-> 이름을 출력\n",
        "\n",
        "a={\"A\":30,\"B\":40,\"C\":10,\"D\":70,\"E\":90}\n",
        "min_val = min(a.values())\n",
        "max_val = max(a.values())\n",
        "#print(min_val,max_val)을 필터링 조건으로\n",
        "\n",
        "#우리반 학생 전체를 돌리면서 누가 최저점인지,최고점인지\n",
        "#-> values->출력은 key\n",
        "#k,v 모두 같은 레벨에서 필요해서 items()을 돌리겠습니다.\n",
        "\n",
        "for name,score in a.items():\n",
        "  if score == min_val:\n",
        "    print(\"최소점 학생:\",name)\n",
        "  elif score == max_val: #최고점이 여려명 일때 가정\n",
        "    print(\"최고점 학생:\",name)\n",
        "  else:\n",
        "    pass\n",
        "\n"
      ],
      "metadata": {
        "colab": {
          "base_uri": "https://localhost:8080/"
        },
        "id": "1r733tR_w9mb",
        "outputId": "1061a207-edeb-4189-9148-1f1792eb5b3a"
      },
      "execution_count": null,
      "outputs": [
        {
          "output_type": "stream",
          "name": "stdout",
          "text": [
            "최소점 학생: C\n",
            "최고점 학생: E\n"
          ]
        }
      ]
    },
    {
      "cell_type": "code",
      "source": [
        "#문제 한 점을 구성하는 x,y 좌표를 입력을 받아서 이점의 좌표가 (50,40), (50,80),(100,40),(100,80)을 꼭지점으로 하는 사각형의 내부에 있는지 외부에 있는지를 판별하세요\n",
        "#-> 의도: 이 가장 기본적인 문제를 어떻게 코테형으로 변형을 할지에 대한 가장 기본 단계\n"
      ],
      "metadata": {
        "id": "0M8accTrz4ox"
      },
      "execution_count": null,
      "outputs": []
    },
    {
      "cell_type": "code",
      "source": [
        "#part1)사용자한테 좌표를 입력+예외 입력은 없다고 가정\n",
        "x=int(input(\"x좌표를 입력하세요.\"))\n",
        "y=int(input(\"y좌표를 입력하세요\"))\n",
        "\n",
        "#part2)범위에 대한 지정:안쪽 or 외각 기준을 할지 선택-> 좌표를 도입하면 in /out에 대한 처리: 부등식\n",
        "#여기서는 안쪽을 중심으로 작성함\n",
        "#-> 좌표가 50~100 사이에 있어야 하고:조건1)  (x>50 and x<100)\n",
        "\n",
        "#-> y좌표도 40~80 사이에 있어햐 하고 조건2) (y>40 and y<80)\n",
        "\n",
        "#조건 1 모두 만족 조건2 --> and\n",
        "\n",
        "if(x>50 and x<100) and(y>40 and y<80):\n",
        "  print(\"사각형 안에 있습니다\")\n",
        "else:\n",
        "  print(\"사각형 밖에 있습니다.\")"
      ],
      "metadata": {
        "colab": {
          "base_uri": "https://localhost:8080/"
        },
        "id": "6OYJpFRI0SNI",
        "outputId": "70b65d9f-6b90-42a5-b03b-6a95369ff6f3"
      },
      "execution_count": null,
      "outputs": [
        {
          "output_type": "stream",
          "name": "stdout",
          "text": [
            "x좌표를 입력하세요.10\n",
            "y좌표를 입력하세요10\n",
            "사각형 밖에 있습니다.\n"
          ]
        }
      ]
    },
    {
      "cell_type": "code",
      "source": [
        "#정리) 범위 안쪽/바깥쪽의 표현: 부등식을 활용-->자료형이 수치형\n",
        "# 수치형으로 자료형을 변경\n",
        "#판대기가 2d/3d -> 좌표\n",
        "#고딩에서 기하문제를 좌표도입해서 함수/방정식으로 푸는 스타"
      ],
      "metadata": {
        "id": "7Fs9R5hR2-Vr"
      },
      "execution_count": null,
      "outputs": []
    },
    {
      "cell_type": "code",
      "source": [
        "#코테 관련해서\n",
        "#-> 100점을 요구하는 경기는 아닌거 같음\n",
        "#   기준점을 통과하자!\n",
        "#1. 최근의 경향은 약간 지저분해지는 스타일\n",
        "#-> 문제 상황이 좀 더 복잡하고,여러 케이스인 상황!\n",
        "#-> 문제 분석을 정확하게 &꼼꼼하셔야 함\n",
        "#-> 일반적으로 코드를 빠르게 잘 짜는 친구\n",
        "#-> 빠르고 정확하게\n",
        "\n",
        "#2. 여러문제를 중에서 내가 쉽게 할 수 있는거 부터 접근\n",
        "#->보통은 문제 번호 순이 쉽기는 함\n",
        "#-> 본인이 쉽게 할 것 같은 문제부터 접근\n",
        "#-> 주어진 시간 내에 해결\n",
        "\n",
        "#3. 기본 문제들에 대해서 정리,어떤 응용 되는지\n",
        "#-> 문제의 출도의도/출제범위: 어느 카테고리인지\n",
        "#-> 여러 기본 문제들을 바로 손이 갈 정도로 달달달\n",
        "\n",
        "#4. 일반적으로 앞의 문제들은 좀 쉬어요/+ 경향은 좀 귀찮아지는\n",
        "#-> 특별한 알고리즘을 안 쓰는 문제들이 보통 앞에 정답률이 좀 놓은 경향\n",
        "#-> 킬러적인 문항: 알고리즘을 사용!\n",
        "#(탐색,최단거리,DP->버리셔도)\n",
        "#+++ 기존 문제를 다른 시각, 기존 문제를 좀 응용\n",
        "#회사마다 다 달라요, 볼 때마다 조금 달라요\n",
        "#기본적으로 나오는 주제/카테고리들을 연습(대표문제)+회사에 따라서 기출 분석을 좀 하셔야..\n",
        "#******제일 중요한: 문제 분석 *******\n",
        "#손부터 가면 안 되고, 문제가 머리속에 정리가 되거나,그려져야 손이 가장 빠르고 &정확하게 처리가 됩니다.-> 예외,수정을 정확하게 처리가 가능함\n",
        "\n",
        "#공부하는 입장\n",
        "#1.기본 유형/주제: 정확하게 스스로 정리 -> 본인 사고체계로 이해를 하고 기본코드를 본인화 작업이 필요(바로 손이 나갈 정도로 달달달)\n",
        "#2. 다른 사람들의 정답들을 검색!-> 내가 편한 스타일의 정답을 골라서 본인 스타일로 코드 정리를 해야함.\n",
        "#--> 다른 사람들이나, 다른방식이 뭔지 참고/ 본인 코드를 좀 더 가다듬는 방식\n",
        "#3. 실제 보는 회사의 기출 분석 +회사다마 잡다하게 필요한 것들\n",
        "#제일 중요: 매일 꾸준히 하셔야 함.-> 실력이 올라감-> 시험: 정해져 있는 것들이 있고 약간의 스타일/패턴\n",
        "\n",
        "#참고) 카카오 문제를 주로 하는 이유: 제일 난도가 좀 있음(문제가 길어요)-> 정답률 공개,출제의도,응시자들의 접근 대표방식도,프로그래머스 사이트에서 체크\n",
        "\n",
        "#코테 연습 플랫폼\n",
        "#국내 전통적인 플랫폼: 백준: 입력도 직접 자 만들어야 함-> 함수로 안해도 줄 코드를 해도 된다.\n",
        "#신규 플랫폼: 프래그래머스-> 입력에 대한 부분은 신경x-> 입력 인자들로 들어옴! 구성을 함수로 만들어서\n",
        "\n",
        "#해외 유명 플랫폼: leetcode(알고리즘 대회-> 오래된 사이트/세계적)-> 코드의 효울성이 엄청 중요함-> 클래스로 제출을 하도록 되어 있음\n",
        "#-> 취업용으로 가하지 않음"
      ],
      "metadata": {
        "id": "3pzEfXq762gc"
      },
      "execution_count": null,
      "outputs": []
    },
    {
      "cell_type": "code",
      "source": [
        "#구현_지도이동\n",
        "#주어진 문제들을 코드로 작성하는 것이 핵심1 구현1(특별한 알고리즘을 적용하지 않는 유형들 보통 구현)\n",
        "#특정 유형은 잘 없음! 그냥 주어진 대로 풀면 됨\n",
        "# 유형 중 하나가 평면상 이동, 여러 응용이 가능한..탐색/최단거리"
      ],
      "metadata": {
        "id": "i-YGpenR_4JZ"
      },
      "execution_count": null,
      "outputs": []
    },
    {
      "cell_type": "code",
      "source": [
        "#1)문제 상황 좌표를 도입하면 편할 것\n",
        "#수학시간의 좌표세팅과는 조금 다르니..문제에서 주어진 대로 해보기\n",
        "#2)N크기의 정사각형(1,1)~~ 정해져 있는  in\n",
        "#3.이동에 대한 처리: 종류 4가지 정해짐(x-LRUD) -> 코드화: 좌표상에서 이동에 대한 코드화\n",
        "# 임의의(x,y)에 있을 때\n",
        "#----> L: (x,y-1),R(x,x+1),U(x-1,y),D(x+1,y)->이부분을 어떻게 파이썬으로 할지는 여러 스타일이 있음\n",
        "#4)전체 흐름\n",
        "#--> 주어진 지시사항을 다 수행을 해야함(for)\n",
        "#체크 지시사항대로 움직여야 함\n",
        "\n",
        "\n",
        "\n",
        "# L: (x,y-1)\n",
        "#R(x,x+1)\n",
        "#U(x-1,y)\n",
        "#D(x+1,y)\n",
        "#-> 증감에 대한 갱신의 관점으로 다시 표현\n",
        "# 나중= 지금+얼마 변해서(n=n+1)\n",
        "#(x,y)-->L(x,y)+(0,-1) = (x+0,y-1)\n",
        "#     -->R(x,y)+(0,+1) = (x+0,y+1)\n",
        "#     -->U(x,y)+(-1,0) = (x-1,y+0)\n",
        "#     -->D(x,y)+(+1,0) = (x+1,y+0)"
      ],
      "metadata": {
        "id": "tlo8a5ZmIemC"
      },
      "execution_count": null,
      "outputs": []
    },
    {
      "cell_type": "code",
      "source": [
        "#Style1) 이동에 대한 부분을 dict자료형 코드화\n",
        "move_dict ={\n",
        "    \"L\" : [0,-1],\n",
        "    \"R\" : [0,1],\n",
        "    \"U\" : [-1,0],\n",
        "    \"D\" : [1,0]\n",
        "}\n",
        "move_dict"
      ],
      "metadata": {
        "colab": {
          "base_uri": "https://localhost:8080/"
        },
        "id": "OgHt60TbIfca",
        "outputId": "bc145bcc-50cd-4943-f70f-e8a046221b52"
      },
      "execution_count": null,
      "outputs": [
        {
          "output_type": "execute_result",
          "data": {
            "text/plain": [
              "{'L': [0, -1], 'R': [0, 1], 'U': [-1, 0], 'D': [1, 0]}"
            ]
          },
          "metadata": {},
          "execution_count": 48
        }
      ]
    },
    {
      "cell_type": "code",
      "source": [
        "#L자 이동에 대한 x,y의 변동사항\n",
        "print(move_dict[\"L\"][0])\n",
        "print(move_dict[\"L\"][1])"
      ],
      "metadata": {
        "colab": {
          "base_uri": "https://localhost:8080/"
        },
        "id": "y8Yz8rOSIjoy",
        "outputId": "9a26b295-6707-4387-c376-d20fe27ee88c"
      },
      "execution_count": null,
      "outputs": [
        {
          "output_type": "stream",
          "name": "stdout",
          "text": [
            "0\n",
            "-1\n"
          ]
        }
      ]
    },
    {
      "cell_type": "code",
      "source": [
        "(3+move_dict[\"L\"][0],4+move_dict[\"L\"][1])"
      ],
      "metadata": {
        "colab": {
          "base_uri": "https://localhost:8080/"
        },
        "id": "gnc8XPL5I65K",
        "outputId": "162bb5c1-8980-4f30-cf87-79af7e5f91b6"
      },
      "execution_count": null,
      "outputs": [
        {
          "output_type": "execute_result",
          "data": {
            "text/plain": [
              "(3, 3)"
            ]
          },
          "metadata": {},
          "execution_count": 51
        }
      ]
    },
    {
      "cell_type": "code",
      "source": [
        "#1) 주어진 입력 사항에 대한 세팅\n",
        "n =5\n",
        "plans = [\"R\",\"R\",\"R\",\"U\",\"D\",\"D\"]\n",
        "\n",
        "#2)초기 값에 대한 세이팅이 필요하면 해야 함\n",
        "#--> position(x,y): (x,y)// x,y etc\n",
        "x,y= 1,1\n",
        "#pos =(1,1)\n",
        "#참고) 1,1로 초기화 한 이유: 시작 좌표가 (1,1)\n",
        "\n",
        "#3 이동에 대한 규칙화--> dict/list/여러스타일\n",
        "move_dict={\"L\":[0,-1],\"R\":[0,1],\"U\" : [-1,0],\"D\" : [1,0]}\n",
        "\n",
        "#본격적인 문제 해결 단계 코드\n",
        "#이문제의 가장 큰 트리 입력으로 받은 plans 값들을 다 돌려가면서-> 그 해당하는 plan으로 좌표를 이동\n",
        "#but)if인/아웃이냐 판별->\n",
        "for plan in plans:  #지시 사항대로 움직인다면, 어디로 갈지 정보, 주의!!) 바로 나의 위치 정보 갱신하면 X\n",
        "  next_x = x+move_dict[plan][0]\n",
        "  next_y = y+move_dict[plan][1]\n",
        "  #==> 시킨대로 이동했을 때의 좌포값\n",
        "  #잠시 니가 이동이 가능한지 검사 좀 하겠습니다\n",
        "  #찐으로 이동이 가능한지 여부 체크\n",
        "  #연습용으로 아웃바운드로 체크\n",
        "if next_x<1 or next_x >n or next_y<1 or next_y>n:\n",
        "  continue #for 문을 다음값으로 롤링 해주세요\n",
        "    #다음 지시사항을 받기 위해서 사용\n",
        "else: #인바운드-> 이동이 가능한\n",
        "        #할 일은 : 진짜 이동하면 됨\n",
        "        #=> 좌표값을 룰에 맞춰서 갱신\n",
        "      x,y= next_x,next_y\n",
        "print(x,y)"
      ],
      "metadata": {
        "colab": {
          "base_uri": "https://localhost:8080/",
          "height": 110
        },
        "id": "I24cqi4HJLwF",
        "outputId": "3193a8db-d32a-46b9-b1e3-3288822ef3e8"
      },
      "execution_count": null,
      "outputs": [
        {
          "output_type": "error",
          "ename": "SyntaxError",
          "evalue": "'continue' not properly in loop (<ipython-input-52-e91c34a6e3ef>, line 25)",
          "traceback": [
            "\u001b[0;36m  File \u001b[0;32m\"<ipython-input-52-e91c34a6e3ef>\"\u001b[0;36m, line \u001b[0;32m25\u001b[0m\n\u001b[0;31m    continue #for 문을 다음값으로 롤링 해주세요\u001b[0m\n\u001b[0m    ^\u001b[0m\n\u001b[0;31mSyntaxError\u001b[0m\u001b[0;31m:\u001b[0m 'continue' not properly in loop\n"
          ]
        }
      ]
    },
    {
      "cell_type": "code",
      "source": [
        "#위에 주석이 너무 많아 밑에 정리해서 다시 돌리기\n",
        "for plan in plans:\n",
        "  next_x = x+move_dict[plan][0]\n",
        "  next_y = y+move_dict[plan][1]\n",
        "  if next_x<1 or next_x >n or next_y<1 or next_y>n:\n",
        "    continue\n",
        "  else:\n",
        "    x,y= next_x,next_y\n",
        "print(x,y)"
      ],
      "metadata": {
        "colab": {
          "base_uri": "https://localhost:8080/"
        },
        "id": "SiEIcyI9dSXW",
        "outputId": "98877d7c-db57-4453-85e7-de66f30808b5"
      },
      "execution_count": null,
      "outputs": [
        {
          "output_type": "stream",
          "name": "stdout",
          "text": [
            "4 5\n"
          ]
        }
      ]
    },
    {
      "cell_type": "code",
      "source": [
        "#다른 방식: 이동에 대한 것을 리스트로 표현!"
      ],
      "metadata": {
        "id": "BAD8IaNLd3yr"
      },
      "execution_count": null,
      "outputs": []
    },
    {
      "cell_type": "code",
      "source": [
        "move_types = [\"L\",\"R\",\"U\",\"D\"]\n",
        "dx         = [0,0,-1,1]\n",
        "dy         = [-1,1,0,0]"
      ],
      "metadata": {
        "id": "cYaoiT_Ed_us"
      },
      "execution_count": null,
      "outputs": []
    },
    {
      "cell_type": "code",
      "source": [
        "idx =1\n",
        "print(move_types[idx])\n",
        "print(dx[idx])\n",
        "print(dy[idx])"
      ],
      "metadata": {
        "colab": {
          "base_uri": "https://localhost:8080/"
        },
        "id": "nYSsE726fGri",
        "outputId": "f1577fcf-00a2-4386-fda1-8f3cc4e9a6c0"
      },
      "execution_count": null,
      "outputs": [
        {
          "output_type": "stream",
          "name": "stdout",
          "text": [
            "R\n",
            "0\n",
            "1\n"
          ]
        }
      ]
    },
    {
      "cell_type": "code",
      "source": [
        "#(3,4)에 현재 위치하고 있다고 하면\n",
        "#L로 이동을 한다면.. 어디로 좌표가 움직일까?\n",
        "#->L이 몇 번째 정수인덱스냐?\n",
        "idx=0 # 내가 위에서 그렇게 순서대로 세팅을 했으니\n",
        "3+dx[idx],4+dy[idx]"
      ],
      "metadata": {
        "colab": {
          "base_uri": "https://localhost:8080/"
        },
        "id": "ztmN3RfRfVnS",
        "outputId": "53770b71-1561-4889-d196-09e81e2c22f9"
      },
      "execution_count": null,
      "outputs": [
        {
          "output_type": "execute_result",
          "data": {
            "text/plain": [
              "(3, 3)"
            ]
          },
          "metadata": {},
          "execution_count": 58
        }
      ]
    },
    {
      "cell_type": "code",
      "source": [
        "#참고[\"L\",\"R\",\"U\",\"D\"]"
      ],
      "metadata": {
        "id": "H2GJNHOXf0HD"
      },
      "execution_count": null,
      "outputs": []
    },
    {
      "cell_type": "code",
      "source": [
        "x,y =1,1\n",
        "move_types = [\"L\",\"R\",\"U\",\"D\"]\n",
        "dx         = [0,0,-1,1]\n",
        "dy         = [-1,1,0,0]\n",
        "\n",
        "for plan in plans:#지시 사항대로 수행하기\n",
        "  for i in range(len(move_types)):\n",
        "    if plan == move_types\n"
      ],
      "metadata": {
        "id": "CGklViX9gneR"
      },
      "execution_count": null,
      "outputs": []
    },
    {
      "cell_type": "code",
      "source": [
        "#--> 2가지 방식(dict//list에서 공통된 정수 인덱스 활용)\n",
        "#    자주 사용되는 방식이므로 2가지 방법 모두 잘 알아두면 좋다."
      ],
      "metadata": {
        "id": "SDPEDhH9iBVv"
      },
      "execution_count": null,
      "outputs": []
    },
    {
      "cell_type": "code",
      "source": [
        "# ++입력 부분에 대한 수정을 하겠습니다.\n",
        "n = int(input(\"지도 크기를 입력하세요 max=100,min=1\"))\n",
        "plans= input(\"지시사항을 입력하세요\")"
      ],
      "metadata": {
        "colab": {
          "base_uri": "https://localhost:8080/"
        },
        "id": "73QYvTzZiavo",
        "outputId": "9465928a-dec1-4846-91c5-7ffdf649b200"
      },
      "execution_count": null,
      "outputs": [
        {
          "name": "stdout",
          "output_type": "stream",
          "text": [
            "지도 크기를 입력하세요 max=100,min=100\n",
            "지시사항을 입력하세요1\n"
          ]
        }
      ]
    },
    {
      "cell_type": "code",
      "source": [
        "\"R R R U D\".split(\" \")"
      ],
      "metadata": {
        "colab": {
          "base_uri": "https://localhost:8080/"
        },
        "id": "kONuJNUDi501",
        "outputId": "5c411130-497b-4608-88f0-8ae5ec314436"
      },
      "execution_count": null,
      "outputs": [
        {
          "output_type": "execute_result",
          "data": {
            "text/plain": [
              "['R', 'R', 'R', 'U', 'D']"
            ]
          },
          "metadata": {},
          "execution_count": 61
        }
      ]
    },
    {
      "cell_type": "code",
      "source": [
        "#1 수업시간에 한 내용을 이해 -> 코드적인 기능 체크\n",
        "#2 본인 스타일로 코드 수정/ 작성(다른 효율적인 답도 체크해보기)\n",
        "#3 이 문제를 문제만 보고 여러번 코드를 작성해보세요 -> 기억이 안나면 본인이 만든 답을 참고\n",
        "#4 다른 사람의 코드를 참고해서 숙달하면 됨"
      ],
      "metadata": {
        "id": "RRkkn-QkjO7U"
      },
      "execution_count": null,
      "outputs": []
    },
    {
      "cell_type": "code",
      "source": [],
      "metadata": {
        "id": "8MfYpdiNlCdi"
      },
      "execution_count": null,
      "outputs": []
    },
    {
      "cell_type": "code",
      "source": [
        "#주어진 지도는 8by8로 고정된 평면상의 움직임\n",
        "#유사한 점은 2d로 움직인다\n",
        "#--> but 지도의 위치에 대한 표시 숫자 + 알파벳\n",
        "#-- 숫자로 좌표를 통일하는게 편하지 않을까\n",
        "#-- in/out\n",
        "#-- L자 이동에 대한 position 표현-> in/out체크\n",
        "#차이점: 이동에 대한 것이 앞은 LRUD\n",
        "#?"
      ],
      "metadata": {
        "id": "G1zPPqQ7oQZF"
      },
      "execution_count": null,
      "outputs": []
    },
    {
      "cell_type": "code",
      "source": [
        "#이 문제 풀이의 큰틀'\n",
        "#-- L자 이동이 가능한 8가지 모든 케이스들을 돌면서\n",
        "#-되는거 (in경우만)\n",
        "#-할일: 카운팅"
      ],
      "metadata": {
        "id": "oiBXKDZao_v-"
      },
      "execution_count": null,
      "outputs": []
    },
    {
      "cell_type": "code",
      "source": [
        "#참고) 좌표에 대해서 숫자만 있는게 아니라 문자로-> 문자를 숫자로 변경을 하고 싶다\n",
        "#기존 좌표 표현:(가로문자,세로숫자)\n",
        "#-> 변경       :(가로숫자,세로숫자)\n",
        "#why? L자 이동에 대한 표현이 좌표상 숫자가 용이하고,\n",
        "#     in/out 구별을 간단히 부등식으로 하고 싶어서\n",
        "#--> 할 일: 문자를 숫자로 어떻게 바꿀까?"
      ],
      "metadata": {
        "id": "OK-vYWnDpOdz"
      },
      "execution_count": null,
      "outputs": []
    },
    {
      "cell_type": "code",
      "source": [
        "#참고) 문자에 대한 코드갓 ord\n",
        "ord(\"a\")"
      ],
      "metadata": {
        "colab": {
          "base_uri": "https://localhost:8080/"
        },
        "id": "db0num4JpnRW",
        "outputId": "f7875814-b594-4334-e1df-d4cd02ebe919"
      },
      "execution_count": null,
      "outputs": [
        {
          "output_type": "execute_result",
          "data": {
            "text/plain": [
              "97"
            ]
          },
          "metadata": {},
          "execution_count": 63
        }
      ]
    },
    {
      "cell_type": "code",
      "source": [
        "ord(\"b\")"
      ],
      "metadata": {
        "colab": {
          "base_uri": "https://localhost:8080/"
        },
        "id": "TetiwsgTpzCr",
        "outputId": "b48ff08d-2793-4065-8563-fca395cf75a1"
      },
      "execution_count": null,
      "outputs": [
        {
          "output_type": "execute_result",
          "data": {
            "text/plain": [
              "98"
            ]
          },
          "metadata": {},
          "execution_count": 64
        }
      ]
    },
    {
      "cell_type": "code",
      "source": [
        "#--> 편의상 주어진 세로 숫자값하고 가로의 알파벳 값을 숫자로 통일하기 위해서(순서도1부터~8까지)\n",
        "#a->1,b->2....b->8\n",
        "#예)c2->(3,2)\n",
        "in_txt =\"c2\"\n",
        "#in_txt[0]\n",
        "#in_txt[1]\n",
        "row = int(in_txt[1])\n",
        "col = in_txt[0]\n",
        "#--> 지도상의 이동에 대히서 표현이 +/-를 활용해서 가능하고 oiin.out 표현도 부등식으로 통해서 표현이 가능\n",
        "#-->2차원 독립적인 x,y독립적으로는 가로는 어떤지, 세로는 어떤지 독립적으로 생각을하거나/규칙을 잡을 수 있음"
      ],
      "metadata": {
        "id": "OGcRpSQop0_s"
      },
      "execution_count": null,
      "outputs": []
    },
    {
      "cell_type": "code",
      "source": [
        "in_txt[0] #->\"c\"--3"
      ],
      "metadata": {
        "colab": {
          "base_uri": "https://localhost:8080/",
          "height": 35
        },
        "id": "teCBE0syqefa",
        "outputId": "e0793d2c-ad4e-4826-9174-73e98f303e04"
      },
      "execution_count": null,
      "outputs": [
        {
          "output_type": "execute_result",
          "data": {
            "text/plain": [
              "'c'"
            ],
            "application/vnd.google.colaboratory.intrinsic+json": {
              "type": "string"
            }
          },
          "metadata": {},
          "execution_count": 68
        }
      ]
    },
    {
      "cell_type": "code",
      "source": [
        "ord(in_txt[0])-ord(\"a\")+1"
      ],
      "metadata": {
        "colab": {
          "base_uri": "https://localhost:8080/"
        },
        "id": "1w9Bw4Ojqu-i",
        "outputId": "6aa38c93-77fe-4b54-914d-74e289409a30"
      },
      "execution_count": null,
      "outputs": [
        {
          "output_type": "execute_result",
          "data": {
            "text/plain": [
              "3"
            ]
          },
          "metadata": {},
          "execution_count": 69
        }
      ]
    },
    {
      "cell_type": "code",
      "source": [
        "ord(\"a\")"
      ],
      "metadata": {
        "colab": {
          "base_uri": "https://localhost:8080/"
        },
        "id": "RnCHT949q9jv",
        "outputId": "45751e73-abe7-45d2-e497-b648d68bd543"
      },
      "execution_count": null,
      "outputs": [
        {
          "output_type": "execute_result",
          "data": {
            "text/plain": [
              "97"
            ]
          },
          "metadata": {},
          "execution_count": 70
        }
      ]
    },
    {
      "cell_type": "code",
      "source": [
        "#생각할 부분\n",
        "#앞의 문제처럼 이동에 대한 표현을 dict로 할까?,리스트로 할까?,다른 뭐로 할까?\n",
        "#-> 개인 선택: 굳이 8가지만 체크하면 되는데 굳이 dict로 할 필요는 없음\n",
        "#8가지 패넡에 대한 이동만 리스트업을 하겠다.\n",
        "I_moves = [\n",
        "    [-2,-1],\n",
        "    [-2,1],\n",
        "    [2,-1],\n",
        "    [2,1],\n",
        "    [-1,-2],\n",
        "    [-1,2],\n",
        "    [1,-2],\n",
        "    [1,2]\n",
        "]\n",
        "I_moves"
      ],
      "metadata": {
        "colab": {
          "base_uri": "https://localhost:8080/"
        },
        "id": "JAnAc9_zsXOY",
        "outputId": "b2889c26-9317-4725-97e1-2644434ea6c3"
      },
      "execution_count": null,
      "outputs": [
        {
          "output_type": "execute_result",
          "data": {
            "text/plain": [
              "[[-2, -1], [-2, 1], [2, -1], [2, 1], [-1, -2], [-1, 2], [1, -2], [1, 2]]"
            ]
          },
          "metadata": {},
          "execution_count": 73
        }
      ]
    },
    {
      "cell_type": "code",
      "source": [
        "#문제의 큰 틀\n",
        "#--> 위에서 정의한 8가지 경우들을  다 돌려보면 됨! for\n",
        "#            if 그 이동이\n",
        "\n",
        "#counting 변수\n",
        "count = 0\n",
        "\n",
        "#8가지 이동 패턴을 돌리면 됨!! for\n",
        "for move in I_moves:\n",
        "  print(move)"
      ],
      "metadata": {
        "colab": {
          "base_uri": "https://localhost:8080/"
        },
        "id": "gdoEwQ6Gtgsv",
        "outputId": "d64fb026-b653-4f66-e271-58092e5b82a5"
      },
      "execution_count": null,
      "outputs": [
        {
          "output_type": "stream",
          "name": "stdout",
          "text": [
            "[-2, -1]\n",
            "[-2, 1]\n",
            "[2, -1]\n",
            "[2, 1]\n",
            "[-1, -2]\n",
            "[-1, 2]\n",
            "[1, -2]\n",
            "[1, 2]\n"
          ]
        }
      ]
    },
    {
      "cell_type": "code",
      "source": [
        "row = int(in_txt[1])\n",
        "col = ord(in_txt[0])- ord(\"a\")+1\n",
        "I_moves = [[-2,-1],[-2,1],[2,-1],[2,1],[-1,-2],[-1,2],[1,-2],[1,2]]\n",
        "count=0\n",
        "\n",
        "for move in I_moves:\n",
        "  #1 일단 이동해봐!\n",
        "  next_row = row +move[0]\n",
        "  next_col = col +move[0]\n",
        "  #2 이렇게 이동이 가능한지 체크!! in을 중심\n",
        "  if next_row >=1 and next_row<=8 and next_col >=1 and next_col<=8:\n",
        "    continue\n",
        "  else:\n",
        "    pass\n",
        "print()"
      ],
      "metadata": {
        "id": "tX6plSAGuH_9"
      },
      "execution_count": null,
      "outputs": []
    },
    {
      "cell_type": "code",
      "source": [
        "## 리스트 컴프리핸션 정리\n",
        "#->여러개의 값들을 돌려가면서 모은다!\n",
        "# 장점:코드가 간결\n",
        "# 단점: 너무 중첩한 경우 가독성이 떨어진다\n",
        "#-->1개 for문이나 ,2개 for 이 정도까지는 할 수 있다..\n",
        "#기능: 값을 돌려가면서(for문), 원하는 값들을 모은다(리스트)\n",
        "#형식: [모을값 for i in 여러개 값]"
      ],
      "metadata": {
        "id": "DIuckNrj0R1s"
      },
      "execution_count": null,
      "outputs": []
    },
    {
      "cell_type": "code",
      "source": [
        "a = [\"a\",\"b\",\"c\",\"d\",\"e\",\"f\"]\n"
      ],
      "metadata": {
        "id": "lQO-EWDe09Ci"
      },
      "execution_count": null,
      "outputs": []
    },
    {
      "cell_type": "code",
      "source": [
        "#예) a에서 c인 원소를 제거해 주세요!\n",
        "[i for i in a if i !=\"c\"]"
      ],
      "metadata": {
        "colab": {
          "base_uri": "https://localhost:8080/"
        },
        "id": "tpxIHGIB1N5q",
        "outputId": "712e3495-534a-450b-8037-5034393b675a"
      },
      "execution_count": null,
      "outputs": [
        {
          "output_type": "execute_result",
          "data": {
            "text/plain": [
              "['a', 'b', 'd', 'e', 'f']"
            ]
          },
          "metadata": {},
          "execution_count": 78
        }
      ]
    },
    {
      "cell_type": "code",
      "source": [
        "#예) a에서 사람 기준으로 홀수번째 위치한 값들에 대해서만 \"h\"문자를 추가하려고 함\n",
        "#-> 결과 :[\"ah\",\"ch\",\"eh\"]"
      ],
      "metadata": {
        "id": "vcyStjzn1VDK"
      },
      "execution_count": null,
      "outputs": []
    },
    {
      "cell_type": "code",
      "source": [
        "[a[i]+\"h\" for i in range(len(a)) if i %2==0]"
      ],
      "metadata": {
        "colab": {
          "base_uri": "https://localhost:8080/"
        },
        "id": "HNG4JQ1E1uta",
        "outputId": "13b4c846-a69e-4f47-ff2b-f088db5dc3f4"
      },
      "execution_count": null,
      "outputs": [
        {
          "output_type": "execute_result",
          "data": {
            "text/plain": [
              "['ah', 'ch', 'eh']"
            ]
          },
          "metadata": {},
          "execution_count": 79
        }
      ]
    },
    {
      "cell_type": "code",
      "source": [
        "[v+\"h\" for i,v in enumerate(a) if i %2==0]"
      ],
      "metadata": {
        "colab": {
          "base_uri": "https://localhost:8080/"
        },
        "id": "m7NESe5K2EyB",
        "outputId": "96dad4f2-a47c-4eb1-9e07-9917aead354b"
      },
      "execution_count": null,
      "outputs": [
        {
          "output_type": "execute_result",
          "data": {
            "text/plain": [
              "['ah', 'ch', 'eh']"
            ]
          },
          "metadata": {},
          "execution_count": 80
        }
      ]
    },
    {
      "cell_type": "code",
      "source": [
        "#지금까지 패턴은 주로 1가지 조건을 만족하는 애들만"
      ],
      "metadata": {
        "id": "tDZUPY292SZJ"
      },
      "execution_count": null,
      "outputs": []
    },
    {
      "cell_type": "code",
      "source": [
        "#예) a의 원소들 중에서 짝수번째는 e문자를 더하고, 홀수 번째는 o문자를 더해주세요\n",
        "#-> case by case로 할 때\n",
        "#  if~~~~~ else~~~\n",
        "[v+\"e\" if i%2 == 0 else v+\"o\" for i,v in enumerate(a)]"
      ],
      "metadata": {
        "colab": {
          "base_uri": "https://localhost:8080/"
        },
        "id": "lt44X1oY2X1n",
        "outputId": "538ab6ca-3d2a-47bd-ab30-ad698e03b8b7"
      },
      "execution_count": null,
      "outputs": [
        {
          "output_type": "execute_result",
          "data": {
            "text/plain": [
              "['ae', 'bo', 'ce', 'do', 'ee', 'fo']"
            ]
          },
          "metadata": {},
          "execution_count": 84
        }
      ]
    },
    {
      "cell_type": "code",
      "source": [
        "for i,v in enumerate(a):\n",
        "  if i% 2==0:\n",
        "    print(v+\"e\")\n",
        "  else:\n",
        "    print(v+\"o\")"
      ],
      "metadata": {
        "colab": {
          "base_uri": "https://localhost:8080/"
        },
        "id": "lnV7xl6i21kz",
        "outputId": "26d40688-fe37-4298-dbd7-87ab0a90ea48"
      },
      "execution_count": null,
      "outputs": [
        {
          "output_type": "stream",
          "name": "stdout",
          "text": [
            "ae\n",
            "bo\n",
            "ce\n",
            "do\n",
            "ee\n",
            "fo\n"
          ]
        }
      ]
    },
    {
      "cell_type": "code",
      "source": [
        "#덩어리 중심의 코드 정리:\n",
        "#함수-> 클래스->패키지\n"
      ],
      "metadata": {
        "id": "48cDGLM53dqO"
      },
      "execution_count": null,
      "outputs": []
    },
    {
      "cell_type": "code",
      "source": [
        "#가장 기본적인 구조화:함수\n",
        "#->3가지 요소 : 입력,출력,입출력에 대한 관계(기능)\n",
        "#-> 중심은 무엇을 수행할지 기능 중심으로 작성!\n",
        "#--> 코드를 읽을 때 기능 중심으로 읽힘!\n",
        "#   (한 번 마들거나, 가지고 오면, 여러번 재사용 가능)"
      ],
      "metadata": {
        "id": "oeXwsvAt4JRw"
      },
      "execution_count": null,
      "outputs": []
    },
    {
      "cell_type": "code",
      "source": [
        "#함수를 만드는 기본적인 방법\n",
        "def 함수명(입략인자):#-> x입력에 대한 세팅!\n",
        "    무엇을 할지에 대한 구현!   # 입력/출력에 대한 관계/기능\n",
        "    return 출력 y: 출력에 대한 세팅"
      ],
      "metadata": {
        "id": "xM3XRnjT4et2"
      },
      "execution_count": null,
      "outputs": []
    },
    {
      "cell_type": "code",
      "source": [
        "def 함수명(입력1,입력2...):\n",
        "  무엇을 할지에 대한 구현..\n",
        "  return 출력1,출력2.."
      ],
      "metadata": {
        "id": "nKgyJ6YW4-7G"
      },
      "execution_count": null,
      "outputs": []
    },
    {
      "cell_type": "code",
      "source": [
        "#입력: 숫자 2개를 받아서\n",
        "#기능: 입력받은 2개 숫자의 합을 출력\n",
        "#출력: 합의 결과를 출력하려고 함\n",
        "#--> 이러한 기능을 한 번이 아니라 여러번 반복해서 필요하거나 코드의 가독성을 위해서 기능 중심으로 정리 할때\n",
        "def sum2(a,b):\n",
        "  #입력 받은 a,b를 가지고 무엇을 할지 기술\n",
        "  #+파이썬 문법 활용해서\n",
        "  result= a+b\n",
        "  return result\n",
        "#참고 )\n"
      ],
      "metadata": {
        "id": "UiQO5l7l5jgU"
      },
      "execution_count": null,
      "outputs": []
    },
    {
      "cell_type": "code",
      "source": [
        "sum(10,20)"
      ],
      "metadata": {
        "colab": {
          "base_uri": "https://localhost:8080/",
          "height": 146
        },
        "id": "7KE1WvBt6eFj",
        "outputId": "8b805771-29eb-416d-a2b3-68dacaf63576"
      },
      "execution_count": null,
      "outputs": [
        {
          "output_type": "error",
          "ename": "TypeError",
          "evalue": "'int' object is not iterable",
          "traceback": [
            "\u001b[0;31m---------------------------------------------------------------------------\u001b[0m",
            "\u001b[0;31mTypeError\u001b[0m                                 Traceback (most recent call last)",
            "\u001b[0;32m<ipython-input-88-f363354b04f2>\u001b[0m in \u001b[0;36m<cell line: 1>\u001b[0;34m()\u001b[0m\n\u001b[0;32m----> 1\u001b[0;31m \u001b[0msum\u001b[0m\u001b[0;34m(\u001b[0m\u001b[0;36m10\u001b[0m\u001b[0;34m,\u001b[0m\u001b[0;36m20\u001b[0m\u001b[0;34m)\u001b[0m\u001b[0;34m\u001b[0m\u001b[0;34m\u001b[0m\u001b[0m\n\u001b[0m",
            "\u001b[0;31mTypeError\u001b[0m: 'int' object is not iterable"
          ]
        }
      ]
    },
    {
      "cell_type": "code",
      "source": [
        "sum([10,20])"
      ],
      "metadata": {
        "colab": {
          "base_uri": "https://localhost:8080/"
        },
        "id": "ahSewNfb6f6i",
        "outputId": "a84385cd-16c4-4bf9-9b7b-bb8b4c98bb4d"
      },
      "execution_count": null,
      "outputs": [
        {
          "output_type": "execute_result",
          "data": {
            "text/plain": [
              "30"
            ]
          },
          "metadata": {},
          "execution_count": 89
        }
      ]
    },
    {
      "cell_type": "code",
      "source": [
        "sum2(10,100)"
      ],
      "metadata": {
        "colab": {
          "base_uri": "https://localhost:8080/"
        },
        "id": "Sbh08Mhm6X2G",
        "outputId": "d79b5457-aed0-440b-b4fe-995e69e8cfce"
      },
      "execution_count": null,
      "outputs": [
        {
          "output_type": "execute_result",
          "data": {
            "text/plain": [
              "110"
            ]
          },
          "metadata": {},
          "execution_count": 87
        }
      ]
    },
    {
      "cell_type": "code",
      "source": [
        "#10+20+30+90\n",
        "#입력이 가변적으로 여러개가 들어와도.. 처리를 하면 어떨까\n",
        "#--> 여러개의 가변적인 입력을 처리를 할 때: *args\n",
        "#--> 파이썬의 리스트처럼!\n",
        "#sumrandom(10,20,30),sumrandom(1,2,3,5,7,8,33,49)\n",
        "#args:파이썬의 리스트처럼\n",
        "#개별 원소들을 꺼내면서 누적합 변수+초기값0"
      ],
      "metadata": {
        "id": "y2686XJb6cVz"
      },
      "execution_count": null,
      "outputs": []
    },
    {
      "cell_type": "code",
      "source": [
        "def sumrandom(*args):\n",
        "  #--> 파이썬의 리스트처럼!\n",
        "  #sumrandom(10,20,30),sumrandom(1,2,3,5,7,8,33,49)\n",
        "  #args:파이썬의 리스트처럼\n",
        "  temp=0\n",
        "  #개별 원소들을 꺼내면서 누적합 변수+초기값\n",
        "  for i in args:\n",
        "    #temp = temp + i\n",
        "    temp+=i\n",
        "  return temp"
      ],
      "metadata": {
        "id": "pu1nnsQD6_hy"
      },
      "execution_count": null,
      "outputs": []
    },
    {
      "cell_type": "code",
      "source": [
        "sumrandom(10,20,30)"
      ],
      "metadata": {
        "colab": {
          "base_uri": "https://localhost:8080/"
        },
        "id": "qopmZ4jC8GTh",
        "outputId": "b9883b6d-a2b5-4c24-f6f4-4d910cbd2dfb"
      },
      "execution_count": null,
      "outputs": [
        {
          "output_type": "execute_result",
          "data": {
            "text/plain": [
              "60"
            ]
          },
          "metadata": {},
          "execution_count": 91
        }
      ]
    },
    {
      "cell_type": "code",
      "source": [
        "sumrandom(1,2,3,4,5,12,421,4)"
      ],
      "metadata": {
        "colab": {
          "base_uri": "https://localhost:8080/"
        },
        "id": "WMpFM7Qh8IYI",
        "outputId": "35363c5e-019e-490d-da41-9471e0700489"
      },
      "execution_count": null,
      "outputs": [
        {
          "output_type": "execute_result",
          "data": {
            "text/plain": [
              "452"
            ]
          },
          "metadata": {},
          "execution_count": 92
        }
      ]
    },
    {
      "cell_type": "code",
      "source": [
        "#참고로 출력을 여러개를 내보는 겨우..\n",
        "#--> 입력 2개 숫자, 출력:사칙 연산 결과 4개를 출력\n",
        "def multiple2(a,b):\n",
        "  return a+b,a-b,a*b,a/b"
      ],
      "metadata": {
        "id": "SN34n6AD8X2V"
      },
      "execution_count": null,
      "outputs": []
    },
    {
      "cell_type": "code",
      "source": [
        "multiple2(1,2,3)\n",
        "# 입력 숫자를 안 지켜짐"
      ],
      "metadata": {
        "colab": {
          "base_uri": "https://localhost:8080/",
          "height": 146
        },
        "id": "R6cf4tiq8sob",
        "outputId": "23f93bfe-003a-4cda-b81e-4715d9062406"
      },
      "execution_count": null,
      "outputs": [
        {
          "output_type": "error",
          "ename": "TypeError",
          "evalue": "multiple2() takes 2 positional arguments but 3 were given",
          "traceback": [
            "\u001b[0;31m---------------------------------------------------------------------------\u001b[0m",
            "\u001b[0;31mTypeError\u001b[0m                                 Traceback (most recent call last)",
            "\u001b[0;32m<ipython-input-94-2789c5befcbe>\u001b[0m in \u001b[0;36m<cell line: 1>\u001b[0;34m()\u001b[0m\n\u001b[0;32m----> 1\u001b[0;31m \u001b[0mmultiple2\u001b[0m\u001b[0;34m(\u001b[0m\u001b[0;36m1\u001b[0m\u001b[0;34m,\u001b[0m\u001b[0;36m2\u001b[0m\u001b[0;34m,\u001b[0m\u001b[0;36m3\u001b[0m\u001b[0;34m)\u001b[0m\u001b[0;34m\u001b[0m\u001b[0;34m\u001b[0m\u001b[0m\n\u001b[0m",
            "\u001b[0;31mTypeError\u001b[0m: multiple2() takes 2 positional arguments but 3 were given"
          ]
        }
      ]
    },
    {
      "cell_type": "code",
      "source": [
        "multiple2(1,2)"
      ],
      "metadata": {
        "colab": {
          "base_uri": "https://localhost:8080/"
        },
        "id": "TXUP-rwq8wJp",
        "outputId": "a49f6203-4f42-41b4-ec8a-0a15e69d1154"
      },
      "execution_count": null,
      "outputs": [
        {
          "output_type": "execute_result",
          "data": {
            "text/plain": [
              "(3, -1, 2, 0.5)"
            ]
          },
          "metadata": {},
          "execution_count": 3
        }
      ]
    },
    {
      "cell_type": "code",
      "source": [
        "multiple2(1,2)[2]"
      ],
      "metadata": {
        "colab": {
          "base_uri": "https://localhost:8080/"
        },
        "id": "Rmu0fdw783I5",
        "outputId": "ae6f11fb-0be7-4abb-a2b3-c5cacb01750d"
      },
      "execution_count": null,
      "outputs": [
        {
          "output_type": "execute_result",
          "data": {
            "text/plain": [
              "2"
            ]
          },
          "metadata": {},
          "execution_count": 96
        }
      ]
    },
    {
      "cell_type": "code",
      "source": [
        "#함수: 입력,출력을 중심으로 내가 무엇을 할지에 대한 기능화!\n",
        "#--> 한 번 만들면 여러 번 재사용 하겠다!\n",
        "#ctrl+c/v 효율화!!!"
      ],
      "metadata": {
        "id": "1aTlYK-G9E1I"
      },
      "execution_count": null,
      "outputs": []
    },
    {
      "cell_type": "code",
      "source": [
        "#참고) 여러번은 아닌데 뭔가 기능적으로 표헌,한 번 정도, 2번 정도, 사용서잉 낮지만 기능적인 표현,각 잡고 함수로 만들기에는 좀 귀찮은데\n",
        "# ****lambda 함수: 데이터 전처리+ 코테(정렬 구현)\n"
      ],
      "metadata": {
        "id": "aw_bF9JT9XyP"
      },
      "execution_count": null,
      "outputs": []
    },
    {
      "cell_type": "markdown",
      "source": [],
      "metadata": {
        "id": "oE8QjUYb0V4d"
      }
    },
    {
      "cell_type": "code",
      "source": [
        "#-- 간단한 기능 표현 중심의 lambba 함수\n",
        "(lambda a,b : a+b)(10,20)"
      ],
      "metadata": {
        "colab": {
          "base_uri": "https://localhost:8080/"
        },
        "id": "0ILg37Au-HpG",
        "outputId": "1dd7e1dc-f2f3-429f-9a48-4f1236e5178e"
      },
      "execution_count": null,
      "outputs": [
        {
          "output_type": "execute_result",
          "data": {
            "text/plain": [
              "30"
            ]
          },
          "metadata": {},
          "execution_count": 97
        }
      ]
    },
    {
      "cell_type": "code",
      "source": [
        "#lambda 함수는 중요\n",
        "#--> 데이터 전처리: apply + 어떤 일을 처리 할지에 대한 기술\n",
        "#--> 코테: 정렬을 활용할 때 주어진 특수한 정렬의 기준을 기술\n",
        "# *** 최종 정답 제출 전에 1줄***"
      ],
      "metadata": {
        "id": "2on2YvgX-rCF"
      },
      "execution_count": null,
      "outputs": []
    },
    {
      "cell_type": "code",
      "source": [
        "def solution(numbers, hand):\n",
        "    answer = ''\n",
        "    return answer"
      ],
      "metadata": {
        "id": "rgL4V4ja_SVd"
      },
      "execution_count": null,
      "outputs": []
    },
    {
      "cell_type": "code",
      "source": [
        "#프로그래머스 사이트\n",
        "#-> soilution 함수로\n",
        "#--> 입력 부분에 대해서는 변경하지 않음\n",
        "def solution(numbers, hand):\n",
        "    answer = ''\n",
        "    #->  문제에서 주어진 상황에 맞는 코드 작성!!\n",
        "    #    최종 출력을 생성\n",
        "    #참고) 외부 패키지: 사용할 수 있음, 다른 기능적인 부분을 외부 함수로 따로 만들 수도 있음.\n",
        "    return answer"
      ],
      "metadata": {
        "id": "HIw1g9kVJCAu"
      },
      "execution_count": null,
      "outputs": []
    },
    {
      "cell_type": "code",
      "source": [
        "#문제 이해를 위한 정리\n",
        "#- 엄지 손가락만 사용함\n",
        "#- 특수문자는 주어진 입력에는 없음, 오직 숫자만\n",
        "#- 초기 위치:L-->\"*\",R-->\"#\"(초기값 설정)\n",
        "#-이동 경우: LRUD,1칸씩만 움직(단,대각선X,수직 &수평)\n",
        "#- 버튼 종류에 따라서 case by case\n",
        "#\n",
        "\n",
        "\n",
        "#결국 solution 함수로\n",
        "#입력: numbers--> 누름 숫자(리스트)\n",
        "#      hand  --> 무슨 손 잡이(문자 left,right)\n",
        "#출력: answer --> 입력변수 numbers에 해당하는 손을 문자열 numbers정확하게 갯수가 일치+ 양식L/R +공\n",
        "#                          문자열\n",
        "\n",
        "#거리 :직교거리(가로로 얼마+세로로 얼마)\n",
        "#--> 대각선 거리 x\n",
        "#--> 가로 사이의 거리 +세로 사이의 거리\n",
        "#--> 여러번 빈번하게 사용될 것이기에 :함수\n",
        "#세팅: 위치 pos & 거리도 계산\n",
        "#--> 키패드 평면 : 좌표화"
      ],
      "metadata": {
        "id": "66jXqK9LJc5H"
      },
      "execution_count": null,
      "outputs": []
    },
    {
      "cell_type": "code",
      "source": [
        "from pickle import DEFAULT_PROTOCOL\n",
        "from os import DirEntry\n",
        "#큰 틀: 눌러야 하는 버튼을 돌리면 됨\n",
        "for num in numbers:\n",
        "  if 1/4/7:\n",
        "    무조건 왼손\n",
        "  elif 3/6/9:\n",
        "    무조건 오른손\n",
        "  else/elif 2/5/8/0\n",
        "    ++ 양손 에서의 이 버튼 사이의 거리\n",
        "    --> 여러 번 사용되니 함수\n",
        "    (입력, 손위치,누를 번호)--> 출력: 직선거리\n",
        "    D_L,D_R\n",
        "    if 거리가 다를 때:\n",
        "      짧은 거리 손\n",
        "    else: #거리가 같은\n",
        "      hands 정보를 사용\n",
        "\n",
        "# 거리는 좌표 &위치\n",
        "#문제에서는 대놓고 좌표/축/기준이 없음\n",
        "# 없으면 본인 편한대로 만들기"
      ],
      "metadata": {
        "id": "vSM87jFUKzw6"
      },
      "execution_count": null,
      "outputs": []
    },
    {
      "cell_type": "code",
      "source": [
        "#세팅: 주어진 키패드 표현 --> dict 하려고 함\n",
        "#--> 숫자 + * +#\n",
        "#키 값을 문자열로 세팅\n",
        "key_pad = {\n",
        "    \"1\":[0,0],\"2\":[0,1],\"3\"[0,2],\n",
        "    \"4\":[1,0],\"5\":[1,1],\"6\"[1,2],\n",
        "    \"7\":[2,0],\"8\":[2,1],\"9\"[2,2],\n",
        "    \"*\":[3,0],\"0\":[3,1],\"#\"[3,2]}\n",
        "key_pad"
      ],
      "metadata": {
        "colab": {
          "base_uri": "https://localhost:8080/",
          "height": 110
        },
        "id": "NS5DuFZ1LwBN",
        "outputId": "a3ceb0be-76d3-433c-de8b-ce7f71d82ff0"
      },
      "execution_count": null,
      "outputs": [
        {
          "output_type": "error",
          "ename": "SyntaxError",
          "evalue": "':' expected after dictionary key (<ipython-input-98-3291178c2ad4>, line 5)",
          "traceback": [
            "\u001b[0;36m  File \u001b[0;32m\"<ipython-input-98-3291178c2ad4>\"\u001b[0;36m, line \u001b[0;32m5\u001b[0m\n\u001b[0;31m    \"1\":[0,0],\"2\":[0,1],\"3\"[0,2],\u001b[0m\n\u001b[0m                               ^\u001b[0m\n\u001b[0;31mSyntaxError\u001b[0m\u001b[0;31m:\u001b[0m ':' expected after dictionary key\n"
          ]
        }
      ]
    },
    {
      "cell_type": "code",
      "source": [
        "key_pad = {\n",
        "    \"1\" : [0,0], \"2\":[0,1],\"3\":[0,2],\n",
        "    \"4\" : [1,0], \"5\":[1,1],\"6\":[1,2],\n",
        "    \"7\" : [2,0], \"8\":[2,1],\"9\":[2,2],\n",
        "    \"*\" : [3,0] ,\"0\":[3,1],\"#\":[3,2]}\n",
        "key_pad"
      ],
      "metadata": {
        "colab": {
          "base_uri": "https://localhost:8080/"
        },
        "id": "XDLuRI9KSBIG",
        "outputId": "c176b35f-fb61-4a81-8fbc-36f30a756780"
      },
      "execution_count": null,
      "outputs": [
        {
          "output_type": "execute_result",
          "data": {
            "text/plain": [
              "{'1': [0, 0],\n",
              " '2': [0, 1],\n",
              " '3': [0, 2],\n",
              " '4': [1, 0],\n",
              " '5': [1, 1],\n",
              " '6': [1, 2],\n",
              " '7': [2, 0],\n",
              " '8': [2, 1],\n",
              " '9': [2, 2],\n",
              " '*': [3, 0],\n",
              " '0': [3, 1],\n",
              " '#': [3, 2]}"
            ]
          },
          "metadata": {},
          "execution_count": 108
        }
      ]
    },
    {
      "cell_type": "code",
      "source": [
        "#참고 만약에 앞에서 처럼 dx,dy키 --> 리스트 정수인덱스\n",
        "key_pad_list = [\"1\",\"2\",\"3\",,,,]\n",
        "pos_dx       = [0,0]\n",
        "pos_dy       = [0,1]\n",
        "pos          =[ [0,0],[0,1],,,]"
      ],
      "metadata": {
        "id": "aMqN3YNNM2BZ",
        "colab": {
          "base_uri": "https://localhost:8080/",
          "height": 110
        },
        "outputId": "8bf01386-4765-4d3d-8704-887c0d06a84b"
      },
      "execution_count": null,
      "outputs": [
        {
          "output_type": "error",
          "ename": "SyntaxError",
          "evalue": "invalid syntax (<ipython-input-111-67ddd5faae6a>, line 2)",
          "traceback": [
            "\u001b[0;36m  File \u001b[0;32m\"<ipython-input-111-67ddd5faae6a>\"\u001b[0;36m, line \u001b[0;32m2\u001b[0m\n\u001b[0;31m    key_pad_list = [\"1\",\"2\",\"3\",,,,]\u001b[0m\n\u001b[0m                                ^\u001b[0m\n\u001b[0;31mSyntaxError\u001b[0m\u001b[0;31m:\u001b[0m invalid syntax\n"
          ]
        }
      ]
    },
    {
      "cell_type": "code",
      "source": [
        "key_pad[\"*\"][0],key_pad[\"*\"][1]"
      ],
      "metadata": {
        "id": "NbtXSQFuNU-H",
        "colab": {
          "base_uri": "https://localhost:8080/"
        },
        "outputId": "cf79f5b0-783c-4fb2-feaf-a387d6e009cc"
      },
      "execution_count": null,
      "outputs": [
        {
          "output_type": "execute_result",
          "data": {
            "text/plain": [
              "(3, 0)"
            ]
          },
          "metadata": {},
          "execution_count": 114
        }
      ]
    },
    {
      "cell_type": "code",
      "source": [
        "temp_x,temp_y=key_pad[\"*\"]\n",
        "print(temp_x,temp_y)"
      ],
      "metadata": {
        "id": "A1Zb2NdYNdfo",
        "colab": {
          "base_uri": "https://localhost:8080/"
        },
        "outputId": "5ecd8b71-843c-43c0-8aeb-5f353d2d6dba"
      },
      "execution_count": null,
      "outputs": [
        {
          "output_type": "stream",
          "name": "stdout",
          "text": [
            "3 0\n"
          ]
        }
      ]
    },
    {
      "cell_type": "code",
      "source": [
        "#+++ 추가적인 기능: 거리추구하는 함수\n",
        "#--> 2/5/8/0 누를 때 불러서 사용을 할 것임\n",
        "#기능 : 설계 방식은 2개 좌표 주면 --> 2개 좌표 사이 수직거리\n",
        "#출력: 2개의 수직 거리를 출력\n",
        "#1-2,2-1: 다 양수로 처리,구글링 |1-2|,|2-1| abs()"
      ],
      "metadata": {
        "id": "BSfC5aVHNvLH"
      },
      "execution_count": null,
      "outputs": []
    },
    {
      "cell_type": "code",
      "source": [
        "def get_distance(number, pos):\n",
        "    # number, pos변수 : 이 get_distance함수내에서만 생존!!\n",
        "    key_pad = {\"1\" : [0,0], \"2\":[0,1],\"3\":[0,2],\"4\" : [1,0], \"5\":[1,1],\"6\":[1,2],\"7\" : [2,0], \"8\":[2,1],\"9\":[2,2],\"*\" : [3,0] ,\"0\":[3,1],\"#\":[3,2]}\n",
        "    # 명시적으로 눌러야 할 버튼/위치 : 키값--> 문자\n",
        "    number = str(number)\n",
        "    pos = str(pos)\n",
        "    # 1) 눌러야 할 버튼의 좌표값 & 파이썬의 멀티할당\n",
        "    x_number, y_number = key_pad[number]\n",
        "    # x_number = key_pad[number][0]\n",
        "    # y_number = key_pad[number][1]\n",
        "    # number \"#\" --> key_pad[number] : [3,2]\n",
        "\n",
        "    # 2) 손의 위치에대한 좌표값\n",
        "    x_pos, y_pos = key_pad[pos]\n",
        "\n",
        "    # 3) 1하고 2의 수직거리계산 ==> 각 좌표의 차이의 절대값의 합\n",
        "    abs_distance = abs(x_number - x_pos ) + abs( y_number - y_pos)\n",
        "\n",
        "    # 최종 출력\n",
        "    return abs_distance"
      ],
      "metadata": {
        "id": "Yprwk5oBOSPl"
      },
      "execution_count": null,
      "outputs": []
    },
    {
      "cell_type": "code",
      "source": [
        "get_distance(\"5\",\"3\")"
      ],
      "metadata": {
        "colab": {
          "base_uri": "https://localhost:8080/"
        },
        "id": "nO90rvTCQuU0",
        "outputId": "9ef616d9-b463-4921-e91d-248d1b7123c2"
      },
      "execution_count": null,
      "outputs": [
        {
          "output_type": "execute_result",
          "data": {
            "text/plain": [
              "2"
            ]
          },
          "metadata": {},
          "execution_count": 103
        }
      ]
    },
    {
      "cell_type": "code",
      "source": [
        "get_distance(5,3)"
      ],
      "metadata": {
        "colab": {
          "base_uri": "https://localhost:8080/"
        },
        "id": "GIlF9ilxQ0ir",
        "outputId": "402e83da-70d8-46e0-cbb3-85356adbb277"
      },
      "execution_count": null,
      "outputs": [
        {
          "output_type": "execute_result",
          "data": {
            "text/plain": [
              "2"
            ]
          },
          "metadata": {},
          "execution_count": 104
        }
      ]
    },
    {
      "cell_type": "code",
      "source": [
        "get_distance(3,3)"
      ],
      "metadata": {
        "colab": {
          "base_uri": "https://localhost:8080/"
        },
        "id": "33iBzU8pQ2bj",
        "outputId": "5994366e-dffb-46ed-bec7-61df94d1ff86"
      },
      "execution_count": null,
      "outputs": [
        {
          "output_type": "execute_result",
          "data": {
            "text/plain": [
              "0"
            ]
          },
          "metadata": {},
          "execution_count": 106
        }
      ]
    },
    {
      "cell_type": "code",
      "source": [
        "# --> 큰틀 : 입력받은 numbers를 돌아가면 for\n",
        "# case1) 1/4/7 : 왼손\n",
        "# case2) 3/6/9 : 오른손\n",
        "# case3) 2/5/8/0/ ==> 왼손과 거리, 오른손과 거리 : get_distance()\n",
        "#                    d_l = get_distance()\n",
        "#                    d_r = get_distance()\n",
        "#       case3-1) d_l == d_r : hands정보\n",
        "#       case3-2) d_1 != d_r : 가까운 손(부등식) 처리"
      ],
      "metadata": {
        "id": "JPVFm6hPROnk"
      },
      "execution_count": null,
      "outputs": []
    },
    {
      "cell_type": "code",
      "source": [
        "def solution(numbers, hand):\n",
        "    answer = ''\n",
        "    ##################\n",
        "    # 1-1) 필요한 변수들을 세팅!!!! --> 왼손위치, 오른손위치 변수\n",
        "    left_pos = \"*\"\n",
        "    right_pos = \"#\"\n",
        "    # 1-2) 필요한 변수들 세팅 : 무슨손 잡이 ==> 입력: left/right\n",
        "    #                                           출력:L,R\n",
        "    if hand ==\"right\":\n",
        "        hand = \"R\"\n",
        "    elif hand ==\"left\":\n",
        "        hand =\"L\"\n",
        "    #########################################\n",
        "    # 2) 본격적으로 눌러야할 버튼들을 롤링!!!!\n",
        "    for num in numbers:\n",
        "        # 2-1) 무조건 왼손 ; 1,4,7\n",
        "        if num in [1,4,7]:\n",
        "            answer +=\"L\"\n",
        "            # ++ 왼손의 위치를 변경/갱신!!!!!!!!\n",
        "            left_pos = num\n",
        "        # 2-2) 무조건 오른손 : 3,6,9\n",
        "        elif num in [3,6,9]:\n",
        "            answer += \"R\"\n",
        "            # ++ 오른손의 위치를 변경/갱신!!!!!\n",
        "            right_pos = num\n",
        "        # 2-3) 고민 2/5/8/0 --> else\n",
        "        elif num in [2,5,8,0]: # num==2 or num==5 or ``````\n",
        "            # 각 손과의 거리들을 계산!!!\n",
        "            dis_left = get_distance( num, left_pos)\n",
        "            dis_right = get_distance(num, right_pos)\n",
        "            # 2-3-1) 거리가 왼쪽이 짧을 때\n",
        "            if dis_left < dis_right:\n",
        "                answer +=\"L\"\n",
        "                left_pos = num\n",
        "            # 2-3-2) 거리가 오른쪽이 짧을 때\n",
        "            elif dis_left > dis_right:\n",
        "                answer += \"R\"\n",
        "                right_pos = num\n",
        "            # 2-3-3) 거리가 같을 대 else\n",
        "            elif dis_left == dis_right:\n",
        "                answer += hand\n",
        "                # --> 무슨손 잡이냐 따라서 갱신할 손 선택!!!\n",
        "                if hand ==\"R\":\n",
        "                    right_pos = num\n",
        "                elif hand==\"L\":\n",
        "                    left_pos = num\n",
        "    return answer"
      ],
      "metadata": {
        "id": "WBa4a6pCRRiz"
      },
      "execution_count": null,
      "outputs": []
    },
    {
      "cell_type": "code",
      "source": [
        "a = [1, 3, 4, 5, 8, 2, 1, 4, 5, 9, 5]\n",
        "b=\"right\"\n",
        "solution(a,b)"
      ],
      "metadata": {
        "colab": {
          "base_uri": "https://localhost:8080/",
          "height": 35
        },
        "id": "ix0GhBjEUpcb",
        "outputId": "4b1bb1fc-6d01-4fc5-f6e4-c25b55e692c5"
      },
      "execution_count": null,
      "outputs": [
        {
          "output_type": "execute_result",
          "data": {
            "text/plain": [
              "'LRLLLRLLRRL'"
            ],
            "application/vnd.google.colaboratory.intrinsic+json": {
              "type": "string"
            }
          },
          "metadata": {},
          "execution_count": 117
        }
      ]
    }
  ]
}