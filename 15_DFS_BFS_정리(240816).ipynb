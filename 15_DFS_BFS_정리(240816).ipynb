{
  "nbformat": 4,
  "nbformat_minor": 0,
  "metadata": {
    "colab": {
      "provenance": [],
      "include_colab_link": true
    },
    "kernelspec": {
      "name": "python3",
      "display_name": "Python 3"
    },
    "language_info": {
      "name": "python"
    }
  },
  "cells": [
    {
      "cell_type": "markdown",
      "metadata": {
        "id": "view-in-github",
        "colab_type": "text"
      },
      "source": [
        "<a href=\"https://colab.research.google.com/github/HAN-GEONHUI/test/blob/t_academy_%EC%88%98%EC%97%85/15_DFS_BFS_%EC%A0%95%EB%A6%AC(240816).ipynb\" target=\"_parent\"><img src=\"https://colab.research.google.com/assets/colab-badge.svg\" alt=\"Open In Colab\"/></a>"
      ]
    },
    {
      "cell_type": "code",
      "execution_count": null,
      "metadata": {
        "id": "MQB4wePpdaOP"
      },
      "outputs": [],
      "source": [
        "# 중요한 내용 : 탐색이라는 것을 어떻게 구현!!!!\n",
        "# ==> 변수들을 세팅을 해서( 해야할 목록, 한 목록)\n",
        "#     해야할 일을 다 할 때 까지...진행!!!!\n",
        "#     - 지금 할 일이 과거에 한 일이였나 체크\n",
        "#     - 새로운 과제 : 하고, 했다고      체크\n",
        "#       ==> 다시 새로운 과제들을 부여 받아서, 할 목록에 추가!!!\n",
        "# =======================================================\n",
        "# 할 일 : 이런 기본적인 패턴/ 내용에 대한 코드 작성에 대한 구조\n",
        "#          ==> 주어진 문제에 적용!!!!!\n",
        "#              기본 내용이 100프로 일치하는 경우는 거의 X\n",
        "#              기본적인 내용과 주어진 문제의 차별/ 적용을 어떻게 할지!!!!\n",
        "# 중요한 내용\n",
        "# - DFS : 해야할 일에 대한 관리 ==> Stack\n",
        "#                                   ( 할 일은 맨 뒤에 추가 )\n",
        "#                                   ( 선택은 맨 뒤에서 뽑아서 )\n",
        "# - BFS : 해야할 일에 대한 관리 ==> Queue\n",
        "#                                   ( 할 일은 맨 뒤에 추가 )\n",
        "#                                   ( 선택은 맨 앞에서 뽑아서 )\n",
        "# ==> 탐색의 스타일이 달라짐( DFS --> 꼬리에 꼬리를 물면서 깊이 중심 )\n",
        "#                             BFS --> 맨 앞부터 연결성 체크 : 시작점 중심 방사형.. 너비중심"
      ]
    },
    {
      "cell_type": "code",
      "source": [
        "# 참고) 주어진 이러한 탐색같은 경우에 대해서 \"지도상\"\n",
        "#       ==> 추상적인 지도를 어떻게 코드화할 것인가!!!!!\n",
        "#           - 인접행렬방식   : 파이썬 코드화(리스트) : 가로/세로 딱 맞춰서 행렬처럼\n",
        "#           - 인접리스트방식 : 파이썬 코드화(리스트/Dict) : 정수인덱스/키 연결성들을 리스트업\n",
        "#       ==> 모양이 딱 가로/세로로 맞춰진 케이스 : 행렬,\n",
        "#                                 값의 길이가 다른 케이스 : 리스트\n",
        "\n",
        "# 중요!!!) 지도만 탐색의 알고리즘을 사용하는 것은 아님!!!!!!****"
      ],
      "metadata": {
        "id": "8PDiO3vdgMAO"
      },
      "execution_count": null,
      "outputs": []
    },
    {
      "cell_type": "code",
      "source": [],
      "metadata": {
        "id": "H5buWzrkgMCr"
      },
      "execution_count": null,
      "outputs": []
    },
    {
      "cell_type": "code",
      "source": [],
      "metadata": {
        "id": "eQzWtB8TgMFA"
      },
      "execution_count": null,
      "outputs": []
    },
    {
      "cell_type": "code",
      "source": [
        "# 참고) 파이썬으로 Queue을 운영하다가 보면 속도의 이슈가 무조건 생김!!!\n",
        "# ====> 파이썬 자체의 자료구조형인 리스트의 태생적 속도의 한계!!!!\n",
        "# ====> 코테에서는 거의 대부분 deque 자료형을 사용을 하면 해결이 됨!!!\n",
        "#       코테/알고리즘 대회 : deque 패키지\n",
        "#       (프로그래머스, leetcode etc)\n",
        "# 참고) 파이썬의 리스트/ numpy array 등을 쓰는데, 조금 이라도 빠르게 하겠다..\n",
        "#       ==> deque"
      ],
      "metadata": {
        "id": "Z6oJtgTTgMHo"
      },
      "execution_count": null,
      "outputs": []
    },
    {
      "cell_type": "code",
      "source": [
        "from collections import deque\n",
        "# ==> collections의 패키지의 여러 모듈 중에서 deque만 가지고 와서 사용할때"
      ],
      "metadata": {
        "id": "cLu764bmi9K1"
      },
      "execution_count": 1,
      "outputs": []
    },
    {
      "cell_type": "code",
      "source": [
        "# 쌩파이썬의 리스트 자료형\n",
        "a_list = [1,2,3]\n",
        "a_list"
      ],
      "metadata": {
        "id": "zWT2IPFQi9NS",
        "colab": {
          "base_uri": "https://localhost:8080/"
        },
        "outputId": "edc87f0d-eb00-47ac-9a68-f5b0bcd9d681"
      },
      "execution_count": 2,
      "outputs": [
        {
          "output_type": "execute_result",
          "data": {
            "text/plain": [
              "[1, 2, 3]"
            ]
          },
          "metadata": {},
          "execution_count": 2
        }
      ]
    },
    {
      "cell_type": "code",
      "source": [
        "# 외부 패키지로 만든 자료형 deque\n",
        "a_dq = deque([1,2,3])\n",
        "a_dq"
      ],
      "metadata": {
        "id": "E2snBvcQi9Pt",
        "colab": {
          "base_uri": "https://localhost:8080/"
        },
        "outputId": "43d3ff55-3ec4-4d0e-8e3a-040c81997488"
      },
      "execution_count": 5,
      "outputs": [
        {
          "output_type": "execute_result",
          "data": {
            "text/plain": [
              "deque([1, 2, 3])"
            ]
          },
          "metadata": {},
          "execution_count": 5
        }
      ]
    },
    {
      "cell_type": "code",
      "source": [
        "#쌩파이썬의 원소 추가: 무조건 맨 뒤에 추가: append\n",
        "a_dq.append(4)\n",
        "a_dq"
      ],
      "metadata": {
        "colab": {
          "base_uri": "https://localhost:8080/"
        },
        "id": "DQahwd8ejon3",
        "outputId": "91e04cc9-0519-47a2-8097-2373a0312045"
      },
      "execution_count": 6,
      "outputs": [
        {
          "output_type": "execute_result",
          "data": {
            "text/plain": [
              "deque([1, 2, 3, 4])"
            ]
          },
          "metadata": {},
          "execution_count": 6
        }
      ]
    },
    {
      "cell_type": "code",
      "source": [
        "#쌩파이썬의 원소 빼기 : pop()-> 맨 뒤에서 제거\n",
        "a_list.pop()"
      ],
      "metadata": {
        "colab": {
          "base_uri": "https://localhost:8080/"
        },
        "id": "nLLYebiOjoqH",
        "outputId": "371d2131-83bb-4fb6-ba0c-05663d21a03d"
      },
      "execution_count": 8,
      "outputs": [
        {
          "output_type": "execute_result",
          "data": {
            "text/plain": [
              "3"
            ]
          },
          "metadata": {},
          "execution_count": 8
        }
      ]
    },
    {
      "cell_type": "code",
      "source": [
        "a_list"
      ],
      "metadata": {
        "colab": {
          "base_uri": "https://localhost:8080/"
        },
        "id": "m7t28kSlkPsh",
        "outputId": "2bf53086-cce4-4c35-fad2-de3151ad9142"
      },
      "execution_count": 9,
      "outputs": [
        {
          "output_type": "execute_result",
          "data": {
            "text/plain": [
              "[1, 2]"
            ]
          },
          "metadata": {},
          "execution_count": 9
        }
      ]
    },
    {
      "cell_type": "code",
      "source": [
        "a_dq.pop()"
      ],
      "metadata": {
        "colab": {
          "base_uri": "https://localhost:8080/"
        },
        "id": "h-scnU9RkPu5",
        "outputId": "077ef2d2-75b6-4bad-ba1a-9b611d2b162f"
      },
      "execution_count": 10,
      "outputs": [
        {
          "output_type": "execute_result",
          "data": {
            "text/plain": [
              "4"
            ]
          },
          "metadata": {},
          "execution_count": 10
        }
      ]
    },
    {
      "cell_type": "code",
      "source": [
        "a_dq"
      ],
      "metadata": {
        "colab": {
          "base_uri": "https://localhost:8080/"
        },
        "id": "-dU0ZfPGkW9o",
        "outputId": "72585aff-a222-4b6e-c048-0904171bd1fd"
      },
      "execution_count": 12,
      "outputs": [
        {
          "output_type": "execute_result",
          "data": {
            "text/plain": [
              "deque([1, 2, 3])"
            ]
          },
          "metadata": {},
          "execution_count": 12
        }
      ]
    },
    {
      "cell_type": "code",
      "source": [
        "a_dq.popleft()"
      ],
      "metadata": {
        "colab": {
          "base_uri": "https://localhost:8080/"
        },
        "id": "aykkXE6yktMo",
        "outputId": "10ab19aa-408e-43ff-8688-510dd8e7bac8"
      },
      "execution_count": 13,
      "outputs": [
        {
          "output_type": "execute_result",
          "data": {
            "text/plain": [
              "1"
            ]
          },
          "metadata": {},
          "execution_count": 13
        }
      ]
    },
    {
      "cell_type": "code",
      "source": [
        "a_dq"
      ],
      "metadata": {
        "colab": {
          "base_uri": "https://localhost:8080/"
        },
        "id": "CFRT9O2ykteX",
        "outputId": "db4037ce-1675-4915-fe8c-d42ab376eda5"
      },
      "execution_count": 14,
      "outputs": [
        {
          "output_type": "execute_result",
          "data": {
            "text/plain": [
              "deque([2, 3])"
            ]
          },
          "metadata": {},
          "execution_count": 14
        }
      ]
    },
    {
      "cell_type": "code",
      "source": [
        "# ===> deque를 stack 사용하기 위해서는 처음 세팅만 자료형을 deque\n",
        "#              queue 사용하기 위해서는 처음 세팅을 deque & pop(0)--> popleft()"
      ],
      "metadata": {
        "id": "tw7h0jnDkziS"
      },
      "execution_count": null,
      "outputs": []
    },
    {
      "cell_type": "code",
      "source": [
        "############# deque에 대한 속도 간단한 체크 ##########\n",
        "# 참고) 상황별로는 속도 차이가 있음!!!대략적인 정도!!!!\n",
        "# Stack 처럼 운용!!!\n",
        "from collections import deque\n",
        "import time\n",
        "\n",
        "N = 1000 # 초기에 넣어둘 원소의 갯수\n",
        "TIMES = 100 # 실험 횟수\n",
        "M = 1000 # M 번 pop, M번 append\n",
        "\n",
        "# 일단 2개의 자료형에 N 개의 원소들을 넣어두겠습니다.\n",
        "list_stack = list([i  for i in range(0,N)])\n",
        "deque_stack = deque([i  for i in range(0,N)])\n",
        "\n",
        "# List--> Stack\n",
        "s_time = time.time()\n",
        "for _ in range(0, TIMES):\n",
        "    # M개의 원소들을 append, pop\n",
        "    for i in range(0,M):\n",
        "        list_stack.append(i)\n",
        "        list_stack.pop()\n",
        "print(\"list\",time.time()- s_time)\n",
        "\n",
        "# deque--> Stack\n",
        "s_time = time.time()\n",
        "for _ in range(0, TIMES):\n",
        "    # M개의 원소들을 append, pop\n",
        "    for i in range(0,M):\n",
        "        deque_stack.append(i)\n",
        "        deque_stack.pop()\n",
        "print(\"list\",time.time()- s_time)"
      ],
      "metadata": {
        "colab": {
          "base_uri": "https://localhost:8080/"
        },
        "id": "tdstpL1Kk9Ei",
        "outputId": "c65555e0-2773-495c-ade2-40283240bbc2"
      },
      "execution_count": 16,
      "outputs": [
        {
          "output_type": "stream",
          "name": "stdout",
          "text": [
            "list 0.02002549171447754\n",
            "list 0.016612768173217773\n"
          ]
        }
      ]
    },
    {
      "cell_type": "code",
      "source": [
        "\n"
      ],
      "metadata": {
        "id": "E8lEce_OmPFY"
      },
      "execution_count": null,
      "outputs": []
    },
    {
      "cell_type": "code",
      "source": [
        "### Queue 방식으로 실험\n",
        "############# deque에 대한 속도 간단한 체크 ##########\n",
        "# Queue 처럼 운용!!!\n",
        "from collections import deque\n",
        "import time\n",
        "\n",
        "N = 1000 # 초기에 넣어둘 원소의 갯수\n",
        "TIMES = 100 # 실험 횟수\n",
        "M = 1000 # M 번 pop, M번 append\n",
        "\n",
        "# 일단 2개의 자료형에 N 개의 원소들을 넣어두겠습니다.\n",
        "list_queue = list([i  for i in range(0,N)])\n",
        "deque_queue = deque([i  for i in range(0,N)])\n",
        "\n",
        "# List--> Queue\n",
        "s_time = time.time()\n",
        "for _ in range(0, TIMES):\n",
        "    # M개의 원소들을 append, pop\n",
        "    for i in range(0,M):\n",
        "        list_queue.append(i)\n",
        "        list_queue.pop(0)\n",
        "print(\"list\",time.time()- s_time)\n",
        "\n",
        "# deque--> Queue\n",
        "s_time = time.time()\n",
        "for _ in range(0, TIMES):\n",
        "    # M개의 원소들을 append, pop\n",
        "    for i in range(0,M):\n",
        "        deque_queue.append(i)\n",
        "        deque_queue.popleft()\n",
        "print(\"list\",time.time()- s_time)"
      ],
      "metadata": {
        "colab": {
          "base_uri": "https://localhost:8080/"
        },
        "id": "d0qsSj7qmSv_",
        "outputId": "14781d2a-18f7-4946-e91c-c30e70db0b38"
      },
      "execution_count": 17,
      "outputs": [
        {
          "output_type": "stream",
          "name": "stdout",
          "text": [
            "list 0.05814194679260254\n",
            "list 0.04034996032714844\n"
          ]
        }
      ]
    },
    {
      "cell_type": "code",
      "source": [
        "#--> 파이썬을 가지고 큐 방식으로 스케줄링을 할 때 자료형만 deque로 변경을 해서 쓰면 많은 속도의 향상을 가짐\n",
        "#--> stack방식으로 한다면 ...deque를 사용 해도 아주 큰 속도의 향상을 못 얻을 수 있음\n",
        "# ===> 경험적으로 데이터가 아주 많아지면,,,,,deque 조금 더 빠른 경향은 있는 거 같음."
      ],
      "metadata": {
        "id": "tOYBxpZKm0TG"
      },
      "execution_count": null,
      "outputs": []
    },
    {
      "cell_type": "code",
      "source": [],
      "metadata": {
        "id": "XYeIFH6fnRDd"
      },
      "execution_count": null,
      "outputs": []
    },
    {
      "cell_type": "code",
      "source": [],
      "metadata": {
        "id": "URrCFwY2nRUM"
      },
      "execution_count": null,
      "outputs": []
    },
    {
      "cell_type": "code",
      "source": [
        "###BFS의 알고리즘"
      ],
      "metadata": {
        "id": "9QoYV7hjnRY9"
      },
      "execution_count": null,
      "outputs": []
    },
    {
      "cell_type": "code",
      "source": [
        "# 기존 리스트로 구현한 코드\n",
        "def bfs_m1( graph, start):\n",
        "    need_visit = list()\n",
        "    visited    = list()\n",
        "    need_visit.append( start )\n",
        "\n",
        "    while need_visit:\n",
        "        node = need_visit.pop(0)\n",
        "        if node not in visited: # <--- 신규 방문지 체크\n",
        "            visited.append(node)\n",
        "            need_visit.extend( graph[node])\n",
        "    return visited"
      ],
      "metadata": {
        "id": "KDrFTYs-oQf7"
      },
      "execution_count": 18,
      "outputs": []
    },
    {
      "cell_type": "code",
      "source": [
        "def bfs_deque( graph, start):\n",
        "    need_visit = deque( [] ) #list()\n",
        "    visited    = deque( [] ) #list()\n",
        "    need_visit.append( start )\n",
        "\n",
        "    while need_visit:\n",
        "        # node = need_visit.pop(0)\n",
        "        node = need_visit.popleft() # *********\n",
        "        if node not in visited: # <--- 신규 방문지 체크\n",
        "            visited.append(node)\n",
        "            need_visit.extend( graph[node])\n",
        "    return visited"
      ],
      "metadata": {
        "id": "KuOe7jCyoSQC"
      },
      "execution_count": 19,
      "outputs": []
    }
  ]
}