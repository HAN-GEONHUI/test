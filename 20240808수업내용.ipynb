{
  "nbformat": 4,
  "nbformat_minor": 0,
  "metadata": {
    "colab": {
      "provenance": [],
      "include_colab_link": true
    },
    "kernelspec": {
      "name": "python3",
      "display_name": "Python 3"
    },
    "language_info": {
      "name": "python"
    }
  },
  "cells": [
    {
      "cell_type": "markdown",
      "metadata": {
        "id": "view-in-github",
        "colab_type": "text"
      },
      "source": [
        "<a href=\"https://colab.research.google.com/github/HAN-GEONHUI/test/blob/main/20240808%EC%88%98%EC%97%85%EB%82%B4%EC%9A%A9.ipynb\" target=\"_parent\"><img src=\"https://colab.research.google.com/assets/colab-badge.svg\" alt=\"Open In Colab\"/></a>"
      ]
    },
    {
      "cell_type": "code",
      "source": [
        "import os\n",
        "from google.colab import drive\n",
        "drive.mount('/content/drive/')"
      ],
      "metadata": {
        "colab": {
          "base_uri": "https://localhost:8080/"
        },
        "id": "G0T7F9Eo9dQo",
        "outputId": "681a1012-75d9-4543-8cb3-34899bec772a"
      },
      "execution_count": 1,
      "outputs": [
        {
          "output_type": "stream",
          "name": "stdout",
          "text": [
            "Mounted at /content/drive/\n"
          ]
        }
      ]
    },
    {
      "cell_type": "code",
      "execution_count": null,
      "metadata": {
        "id": "TgFpKD7Mi_73"
      },
      "outputs": [],
      "source": [
        "#거의2.5~3개월 (교육기간)+2.5~3개월(현엽 프로젝트)\n",
        "#앞 부분: 파이썬,sql,데이터핸들링(eda개인프로젝트) 9초\n",
        "#ml내용(조별 ml프로젝트)2.5주\n",
        "#dl내용(기본내용+이미지+text+생성):1.2 ===> 조별 dl프로젝트\n",
        "#*각기 부분마다 프로젝트\n",
        "#==> 취업을 위한 프로젝트(따라하는 느낌이 X, ,직접 주제를 발굴해서 진행) ,주제를 정하기가 어려움 고민해봐야함(주제+데이터를 모두 고려)\n",
        "\n",
        "#중요한 사항: 본인의 3개의 포트폴리오 구성\n",
        "#시간이 좀 널널할 때: 취업 공고들을 보고 정리들을 해야 함\n",
        "#(A/B/C/D/E==>B/C/A-> 엑셀로 정리를 하시는것을 추천\n",
        "#(시각화:테블로 자격증 추천)+본인 EDA프로젝트에서 시작화 포폴에 신경써야 함!!!!\n",
        "#클라우드 경험/자격증(GCP,AWS쪽에서 획득하기 편한 것들) 추천\n",
        "#개인 별로 본인이 가려는 쪽에 필요한 포트폴리오를 채우는 것이 목적!\n",
        "\n",
        "#최근에 DL(ML+DL):\n",
        "#간단한 모델링 쪽:본인 포플!\n",
        "#좀 전문적인 모델링 쪽: 학위+학회 발표(DL너무 빠르게 기술이 발전)-> 최신 논문을 발표된 것으로 우리 회사에 적용(논문 이해+코드 구현:석박사 학위!)\n",
        "\n",
        "#*수업은 미처 모르는 부분에 대해서 점검!\n",
        "#*방점: 본인들 프로젝트 중심!\n",
        "#(다 아는데 괜히 듣고 있는거는 시간 낭비-> 단 그 비는 시간에 무엇을 하실지는 생각해야 함)\n",
        "\n",
        "\n",
        "#ml 프로젝트\n",
        "#-프로젝트 할때 결과를 내는 것이 끝이 아니라 마지막에 결과를 어디에 적용할지도 생각해 봐야함\n",
        "#- 주제들이 거의 들어본 주제들, 차별점이 필요함(새로운 변수들)-> 발전시키면 국내 학회 제출(공식적인 결과물)\n",
        "\n",
        "#*DL프로젝트\n",
        "#내가 무엇을 하고 싶은지를 중심으로 최신 모델\n",
        "#그거 하는 사람 말고는 그 누구도 잘 몰라요!\n",
        "#-> 뭔가 새로운 구조/결과 학회용으로 하기가 수월함\n",
        "#(단 ,데이터만 갈아서는 학회x)=> 모델의 구조를 알아야 함\n",
        "#->내가 하려는 주제 사이의 간격이 큼\n",
        "#(미리 관심 있는 것들을 하시는 것도 방법!)\n",
        "#-> 장점: 학회 포폴에서도 눈에 띄일 수 있음!\n",
        "#단 논문을 이해할 수 있는 능력+코딩 능력이 필요\n",
        "#(DL코드는... 최근 모델은 거의 Class+pytorch)\n",
        "#클래스 파이토치 공부가 필요함(다시 굴러야 하는 시간이 다...)\n",
        "#BUT 수업에서는 주로 TensorFlow(Keras)로 진행\n",
        "\n",
        "#파이썬 문법을 달달하지 말기-> 본인 만의 task를 하면 됨\n",
        "#코테: 여러 지원자를 필터링-> 100점 목표 x, 기준 컷트라인 통과\n",
        "\n",
        "#개발X-> 파이썬의 기본 문법 +기출 된 코테 풀어\n"
      ]
    },
    {
      "cell_type": "code",
      "source": [],
      "metadata": {
        "id": "misB5sZlAVt1"
      },
      "execution_count": null,
      "outputs": []
    },
    {
      "cell_type": "code",
      "source": [
        "a = 100\n",
        "print(a)"
      ],
      "metadata": {
        "id": "x3xh_ngNjDFg",
        "outputId": "aba00526-e202-412d-d517-733accd6fdff",
        "colab": {
          "base_uri": "https://localhost:8080/"
        }
      },
      "execution_count": null,
      "outputs": [
        {
          "output_type": "stream",
          "name": "stdout",
          "text": [
            "200\n"
          ]
        }
      ]
    },
    {
      "cell_type": "code",
      "source": [
        "#일반적으로_(언더스코어)로 시작하는 변수명: 클래스 내부용이라는 뜻\n",
        "#특히__(언더스코어)2개를 사용하는 _ _ init _ _ ,_ _ add_ _와 같은 것은 특별한 의미들이 있으므로 정확히 알기 전에는 사용하지 말것.\n",
        "\n",
        "#Mutable vs Immutable : 변경가능한 대상 vs 변경불가능한 대상\n",
        "#변수에 값을 할당하는 과정에서 연산자를 같이 사용할 수 있음!!"
      ],
      "metadata": {
        "id": "Nijn0B-RQyQg"
      },
      "execution_count": null,
      "outputs": []
    },
    {
      "cell_type": "code",
      "source": [
        "n=10\n",
        "n=n+1\n",
        "n=n+1"
      ],
      "metadata": {
        "id": "lYQrjefqjDZc"
      },
      "execution_count": null,
      "outputs": []
    },
    {
      "cell_type": "code",
      "source": [
        "print(n)"
      ],
      "metadata": {
        "id": "WmGHv4ZE1DbB",
        "outputId": "35bd6a3b-6f4a-4df6-f209-6d942cb72f28",
        "colab": {
          "base_uri": "https://localhost:8080/"
        }
      },
      "execution_count": null,
      "outputs": [
        {
          "output_type": "stream",
          "name": "stdout",
          "text": [
            "12\n"
          ]
        }
      ]
    },
    {
      "cell_type": "code",
      "source": [
        "# n = n + 1 로 할 수 있지만,나중에는 속도 등의 이슈로 인해서 이러한 경우보다는n +=1로 작성하는 것을 사용해하는 것을 추천!!!"
      ],
      "metadata": {
        "id": "zssuXVZ5QpQD"
      },
      "execution_count": null,
      "outputs": []
    },
    {
      "cell_type": "code",
      "source": [],
      "metadata": {
        "id": "TAssxyRqQxd4"
      },
      "execution_count": null,
      "outputs": []
    },
    {
      "cell_type": "code",
      "source": [
        "##파이썬의 특징: 멀티 할당\n",
        "#->파이썬만이 가지고 있는 코딩 구현의 간결함에 중요한 부분 중 하나 (정확한 인지 필요)"
      ],
      "metadata": {
        "id": "U46QvFUl8BWg"
      },
      "execution_count": null,
      "outputs": []
    },
    {
      "cell_type": "code",
      "source": [
        "\n",
        "a=10\n",
        "b=20\n",
        "print(a,b)\n",
        "temp = a\n",
        "a = b\n",
        "b = temp\n",
        "print(a,b)"
      ],
      "metadata": {
        "id": "9uNG7CiXR514",
        "outputId": "bff93a11-70d8-491e-c077-1b8ad3eb09e2",
        "colab": {
          "base_uri": "https://localhost:8080/"
        }
      },
      "execution_count": null,
      "outputs": [
        {
          "output_type": "stream",
          "name": "stdout",
          "text": [
            "10 20\n",
            "20 10\n"
          ]
        }
      ]
    },
    {
      "cell_type": "code",
      "source": [
        "a = 10\n",
        "b = 20\n",
        "print(a,b)\n",
        "a,b = b,a\n",
        "print(a,b)"
      ],
      "metadata": {
        "id": "g3BYJkwlSQR4",
        "outputId": "9b5d8233-af27-4f15-ec9c-86b55189a546",
        "colab": {
          "base_uri": "https://localhost:8080/"
        }
      },
      "execution_count": null,
      "outputs": [
        {
          "output_type": "stream",
          "name": "stdout",
          "text": [
            "10 20\n",
            "20 10\n"
          ]
        }
      ]
    },
    {
      "cell_type": "markdown",
      "source": [],
      "metadata": {
        "id": "_84aGHXUVArW"
      }
    },
    {
      "cell_type": "code",
      "source": [
        "##CodingTest or 앞으로 데이터 핸들링의 관점에서는 다음과 보는 것이 어떨까 함!!!\n",
        "# 1개의 값\n",
        "#→ 그 값의 종류에 따라서 숫자( 물론 숫자도 정수, 소수 등 int, float),\n",
        "#→논리값(True / False)\n",
        "#→문자( “a”, “b”) ( 참고: hello 같은 문자열이 아닌 1개의 문자!!!!)\n",
        "\n",
        "##• 여러 개의 값\n",
        "#→리스트 [ 값, 값, 값 ,,,, ] : 추가 / 제거\n",
        "#→튜플 ( 값, 값, 값 ,,, ) : 1번 생성 하면 변경이 안 됨!\n",
        "#→집합 { 값, 값, 값 ,,,, } : 수학적인 집합 → 유니크한 원소들만!\n",
        "#→딕션어리 { 키1: 값1, 키2 : 값2 , ... } : 키 값을 통해서 접근성이 빠름\n",
        "#→ 파이썬을 활용한 코테에서는 dict를 잘 써야 함: 왜냐하면 빠르기 때문"
      ],
      "metadata": {
        "id": "2svBqUHiSj45"
      },
      "execution_count": null,
      "outputs": []
    },
    {
      "cell_type": "code",
      "source": [
        "#연산자 중에서: 중요하게 체크할 연산자: 나눗셈!!!\n",
        "#/연산 : 몫에 대한 소수 처리"
      ],
      "metadata": {
        "id": "NJzYuZAIUWKa"
      },
      "execution_count": null,
      "outputs": []
    },
    {
      "cell_type": "code",
      "source": [
        "33/10"
      ],
      "metadata": {
        "colab": {
          "base_uri": "https://localhost:8080/"
        },
        "id": "E6I9lIJ_VOMA",
        "outputId": "405112ef-53dc-4c15-fd4e-bd47c3846c32"
      },
      "execution_count": null,
      "outputs": [
        {
          "output_type": "execute_result",
          "data": {
            "text/plain": [
              "3.3"
            ]
          },
          "metadata": {},
          "execution_count": 1
        }
      ]
    },
    {
      "cell_type": "code",
      "source": [
        "#파이썬 기본 나눗셈 연산자: 적당히 뒤에서 반올림!!\n",
        "#--> 수치 연산 중요한 모델링(ML/DLL)\n",
        "#    모델의 성는ㅇ을 좌우\n",
        "#    DL쪽에서는 일반적인 것 보다 긴 자료형을 선택을 할 수 있음\n",
        "#--> pyutorch/tensorflow에서 자료형에서 더 큰 양식!"
      ],
      "metadata": {
        "id": "nFg_YBKEVaah"
      },
      "execution_count": null,
      "outputs": []
    },
    {
      "cell_type": "code",
      "source": [
        "print(5%3)\n",
        "#코테에서는 자주 활용이 되는 아이디어임!\n",
        "#예)99건의 데이터를 처리하려고 하는데 10건 단위로 처리한다\n",
        "#  ==> 코드화 작업을 해야함!\n",
        "#  : Dart(전자공시사이트에서) 공시 수집할 때"
      ],
      "metadata": {
        "id": "AGdZkmd2V0wV"
      },
      "execution_count": null,
      "outputs": []
    },
    {
      "cell_type": "code",
      "source": [
        "#파이썬에서 공식적으로 마든 FM함수\n",
        "#divmod(0)함수\n",
        "#==> 입력: 무엇을 무엇으로 나눌지 정보(기준수,나눌수)\n",
        "#    기능: 나눗셈을 해서 몫, 나머지\n",
        "#    출력: 몫, 나머지\n",
        "divmod(5,3)"
      ],
      "metadata": {
        "id": "J3l_FDBDWugh"
      },
      "execution_count": null,
      "outputs": []
    },
    {
      "cell_type": "code",
      "source": [
        "divmod(5,3)[0] #ahrt"
      ],
      "metadata": {
        "colab": {
          "base_uri": "https://localhost:8080/"
        },
        "id": "8g-D_S-vXIgQ",
        "outputId": "03bee282-adde-4e7a-d7c6-8dd6373ae0c5"
      },
      "execution_count": null,
      "outputs": [
        {
          "output_type": "execute_result",
          "data": {
            "text/plain": [
              "1"
            ]
          },
          "metadata": {},
          "execution_count": 2
        }
      ]
    },
    {
      "cell_type": "code",
      "source": [
        "5//3"
      ],
      "metadata": {
        "colab": {
          "base_uri": "https://localhost:8080/"
        },
        "id": "8kYtv7-WXNKg",
        "outputId": "ca21a09d-7942-47d4-fdc1-bfce28f46ce4"
      },
      "execution_count": null,
      "outputs": [
        {
          "output_type": "execute_result",
          "data": {
            "text/plain": [
              "1"
            ]
          },
          "metadata": {},
          "execution_count": 3
        }
      ]
    },
    {
      "cell_type": "code",
      "source": [
        "divmod(5,3)[1] #나머지"
      ],
      "metadata": {
        "id": "jyVuPzfaXR_1"
      },
      "execution_count": null,
      "outputs": []
    },
    {
      "cell_type": "code",
      "source": [
        "5 % 3"
      ],
      "metadata": {
        "colab": {
          "base_uri": "https://localhost:8080/"
        },
        "id": "fgUp20TqXV8-",
        "outputId": "3cf3973f-6cdf-4b97-dda6-ebf0cce3e9ce"
      },
      "execution_count": null,
      "outputs": [
        {
          "output_type": "execute_result",
          "data": {
            "text/plain": [
              "2"
            ]
          },
          "metadata": {},
          "execution_count": 4
        }
      ]
    },
    {
      "cell_type": "code",
      "source": [
        "#파이썬의 멀티 할당을 활용!!-> for 문에 많이 활용을 함.\n",
        "#g = divmod(5,3)[0]\n",
        "#m = divmod(5,3)[1]\n",
        "q,m = divmod(5,3)\n",
        "print(q,m)"
      ],
      "metadata": {
        "colab": {
          "base_uri": "https://localhost:8080/"
        },
        "id": "QaIbKuVXXYN2",
        "outputId": "d178d312-0822-4c3a-bb81-2898b4a0b49b"
      },
      "execution_count": null,
      "outputs": [
        {
          "output_type": "stream",
          "name": "stdout",
          "text": [
            "1 2\n"
          ]
        }
      ]
    },
    {
      "cell_type": "code",
      "source": [
        "## 파이썬의 대표적인 여러개를 다루는 자료형:리스트\n",
        "# 1)기본 구조: [값,값,값,값]\n",
        "# 2)대표기능\n",
        "# 원소 추가:apeend(값을 맨 뒤에 추가), insert(중간새치기)->어디에 &누굴 추가할까!\n",
        "# 원소 제거:pop(어디 위치를 제거할까), remove(어떤 값을 제거할 까)\n",
        "# -> remove(중복된 여러개의 원소가 있을 때, 그 중에서 맨 앞에 1개만 제거!)\n"
      ],
      "metadata": {
        "id": "IUMjB-eCYUD1"
      },
      "execution_count": null,
      "outputs": []
    },
    {
      "cell_type": "code",
      "source": [
        "a_list = [10,20,30,40]\n",
        "print(a_list)\n",
        "a_list.append(50)\n",
        "print(a_list)"
      ],
      "metadata": {
        "colab": {
          "base_uri": "https://localhost:8080/"
        },
        "id": "2LhQn4O6YrON",
        "outputId": "e7e91c43-5a0c-4199-e4de-12747d977a0d"
      },
      "execution_count": null,
      "outputs": [
        {
          "output_type": "stream",
          "name": "stdout",
          "text": [
            "[10, 20, 30, 40]\n",
            "[10, 20, 30, 40, 50]\n"
          ]
        }
      ]
    },
    {
      "cell_type": "code",
      "source": [
        "#값의 종류가 꼭 일치하지는 않아도 됨!\n",
        "#==> 그냥 여러개를 묶어둔다!\n",
        "#장점 : 이질적인 정보들도 하나의 변수에 담을 수 있다.\n",
        "#단점: 자료형을 타이트하게 할 수 없어서 용량이 클 수 있음"
      ],
      "metadata": {
        "id": "R6xEwAECaTeH"
      },
      "execution_count": null,
      "outputs": []
    },
    {
      "cell_type": "code",
      "source": [
        "a_list.pop()\n",
        "print(a_list)"
      ],
      "metadata": {
        "colab": {
          "base_uri": "https://localhost:8080/"
        },
        "id": "_rSC3K8sajjy",
        "outputId": "0ca69ff1-f8a0-4e3b-a382-4d24693c1765"
      },
      "execution_count": null,
      "outputs": [
        {
          "output_type": "stream",
          "name": "stdout",
          "text": [
            "[10, 20, 30, 40]\n"
          ]
        }
      ]
    },
    {
      "cell_type": "code",
      "source": [
        "a_list.pop(0)\n",
        "print(a_list)"
      ],
      "metadata": {
        "colab": {
          "base_uri": "https://localhost:8080/"
        },
        "id": "_p7fYbXnbFZW",
        "outputId": "f08781f6-9af5-46f6-a206-f8711357874b"
      },
      "execution_count": null,
      "outputs": [
        {
          "output_type": "stream",
          "name": "stdout",
          "text": [
            "[20, 30, 40]\n"
          ]
        }
      ]
    },
    {
      "cell_type": "code",
      "source": [
        "a_list.append(3)\n",
        "a_list.append(3)\n",
        "a_list.insert(2,3)\n",
        "print(a_list)"
      ],
      "metadata": {
        "colab": {
          "base_uri": "https://localhost:8080/"
        },
        "id": "Fpdp9MWpbRh-",
        "outputId": "d78efedb-7b1f-4f3e-edc6-321eb9181d9c"
      },
      "execution_count": null,
      "outputs": [
        {
          "output_type": "stream",
          "name": "stdout",
          "text": [
            "[20, 30, 3, 40, 3, 3]\n"
          ]
        }
      ]
    },
    {
      "cell_type": "code",
      "source": [
        "a_list.remove(3)\n",
        "print(a_list)"
      ],
      "metadata": {
        "colab": {
          "base_uri": "https://localhost:8080/"
        },
        "id": "iYTuWKv4bhP3",
        "outputId": "10f23ce1-224c-43a4-f95d-3eeee580ec14"
      },
      "execution_count": null,
      "outputs": [
        {
          "output_type": "stream",
          "name": "stdout",
          "text": [
            "[20, 30, 40, 3, 3]\n"
          ]
        }
      ]
    },
    {
      "cell_type": "code",
      "source": [
        "#여러개의 값들에 대한 접근!!\n",
        "#==> 몇 번째 나와!!(우치 정보)\n",
        "#  순방향: 0,양의 정수\n",
        "#   역방향: 음의 정수\n",
        "#--> 정수 인덱스\n",
        "\n",
        "#하나의 값을 가져올 것인가 vs 여러개의 값이 규칙!!\n"
      ],
      "metadata": {
        "id": "iYw8vEDEcVeO"
      },
      "execution_count": null,
      "outputs": []
    },
    {
      "cell_type": "code",
      "source": [
        "a_list"
      ],
      "metadata": {
        "colab": {
          "base_uri": "https://localhost:8080/"
        },
        "id": "XWHsuCtWcu6u",
        "outputId": "cd8f4500-ffbb-4002-8eef-bdda509d7f9a"
      },
      "execution_count": null,
      "outputs": [
        {
          "output_type": "execute_result",
          "data": {
            "text/plain": [
              "[20, 30, 40, 3, 3]"
            ]
          },
          "metadata": {},
          "execution_count": 12
        }
      ]
    },
    {
      "cell_type": "code",
      "source": [
        "a_list[0]"
      ],
      "metadata": {
        "colab": {
          "base_uri": "https://localhost:8080/"
        },
        "id": "I8KyJPtCc0yP",
        "outputId": "9b8bbd63-ee90-438e-f8a2-a6076ec45f66"
      },
      "execution_count": null,
      "outputs": [
        {
          "output_type": "execute_result",
          "data": {
            "text/plain": [
              "20"
            ]
          },
          "metadata": {},
          "execution_count": 15
        }
      ]
    },
    {
      "cell_type": "code",
      "source": [
        "a_list[1],a_list[-1]"
      ],
      "metadata": {
        "colab": {
          "base_uri": "https://localhost:8080/"
        },
        "id": "-M_-okaqc8AQ",
        "outputId": "028e5edc-0d96-4dd8-b05c-770a8c683b3d"
      },
      "execution_count": null,
      "outputs": [
        {
          "output_type": "execute_result",
          "data": {
            "text/plain": [
              "(30, 3)"
            ]
          },
          "metadata": {},
          "execution_count": 16
        }
      ]
    },
    {
      "cell_type": "code",
      "source": [
        "#예: 앞의 3개의 값 나와봐!\n",
        "a_list[0],a_list[1],a_list[2]"
      ],
      "metadata": {
        "colab": {
          "base_uri": "https://localhost:8080/"
        },
        "id": "zwN0uszjc3rB",
        "outputId": "a92c99f2-7d0e-4b5a-d887-8f57f8a13f2d"
      },
      "execution_count": null,
      "outputs": [
        {
          "output_type": "execute_result",
          "data": {
            "text/plain": [
              "(20, 30, 40)"
            ]
          },
          "metadata": {},
          "execution_count": 17
        }
      ]
    },
    {
      "cell_type": "code",
      "source": [
        "a_list[0:3] #인덱스 자리에 슬라이싱: 규칙적인 여러개\n",
        "#슬라이싱: 정수 인덱스 자리에서 사용!\n",
        "#--> 시작점: 끝점(빠짐): 간격\n",
        "#--> 여러개의 값들을 규칙적으로 접근 할 때 사용!!\n",
        "a_list[::] #-> 자기 자신"
      ],
      "metadata": {
        "colab": {
          "base_uri": "https://localhost:8080/"
        },
        "id": "0cGwM2AzdTCf",
        "outputId": "01fd3d09-d1e1-43aa-b60b-41a9edbd28e9"
      },
      "execution_count": null,
      "outputs": [
        {
          "output_type": "execute_result",
          "data": {
            "text/plain": [
              "[20, 30, 40, 3, 3]"
            ]
          },
          "metadata": {},
          "execution_count": 18
        }
      ]
    },
    {
      "cell_type": "code",
      "source": [
        "#참고)\n",
        "a_list[::-1] #--> 순서를 역순"
      ],
      "metadata": {
        "colab": {
          "base_uri": "https://localhost:8080/"
        },
        "id": "8NG2471vdwQ1",
        "outputId": "7c7d74fc-ea7b-4ad2-934f-639687968484"
      },
      "execution_count": null,
      "outputs": [
        {
          "output_type": "execute_result",
          "data": {
            "text/plain": [
              "[3, 3, 40, 30, 20]"
            ]
          },
          "metadata": {},
          "execution_count": 19
        }
      ]
    },
    {
      "cell_type": "code",
      "source": [
        "# 참고) 쌩 파이썬의 리스트에서 안 되는거!\n",
        "# ==> []하는 것들을 덩어리로 넣으면 되지 않을까?\n",
        "a_list[[1,3,4]]\n",
        "#==>numpy 패키지의 array자료형은 위의 코드가 가능함"
      ],
      "metadata": {
        "colab": {
          "base_uri": "https://localhost:8080/",
          "height": 193
        },
        "id": "z9w5N5Bhd-W1",
        "outputId": "983ad16d-1376-4615-d81a-425f1eb3664e"
      },
      "execution_count": null,
      "outputs": [
        {
          "output_type": "error",
          "ename": "TypeError",
          "evalue": "list indices must be integers or slices, not list",
          "traceback": [
            "\u001b[0;31m---------------------------------------------------------------------------\u001b[0m",
            "\u001b[0;31mTypeError\u001b[0m                                 Traceback (most recent call last)",
            "\u001b[0;32m<ipython-input-20-3728a64362fa>\u001b[0m in \u001b[0;36m<cell line: 3>\u001b[0;34m()\u001b[0m\n\u001b[1;32m      1\u001b[0m \u001b[0;31m# 참고) 쌩 파이썬의 리스트에서 안 되는거!\u001b[0m\u001b[0;34m\u001b[0m\u001b[0;34m\u001b[0m\u001b[0m\n\u001b[1;32m      2\u001b[0m \u001b[0;31m# ==> []하는 것들을 덩어리로 넣으면 되지 않을까?\u001b[0m\u001b[0;34m\u001b[0m\u001b[0;34m\u001b[0m\u001b[0m\n\u001b[0;32m----> 3\u001b[0;31m \u001b[0ma_list\u001b[0m\u001b[0;34m[\u001b[0m\u001b[0;34m[\u001b[0m\u001b[0;36m1\u001b[0m\u001b[0;34m,\u001b[0m\u001b[0;36m3\u001b[0m\u001b[0;34m,\u001b[0m\u001b[0;36m4\u001b[0m\u001b[0;34m]\u001b[0m\u001b[0;34m]\u001b[0m\u001b[0;34m\u001b[0m\u001b[0;34m\u001b[0m\u001b[0m\n\u001b[0m\u001b[1;32m      4\u001b[0m \u001b[0;31m#==>numpy 패키지의 array자료형은 위의 코드가 가능함\u001b[0m\u001b[0;34m\u001b[0m\u001b[0;34m\u001b[0m\u001b[0m\n",
            "\u001b[0;31mTypeError\u001b[0m: list indices must be integers or slices, not list"
          ]
        }
      ]
    },
    {
      "cell_type": "code",
      "source": [
        "#리스트에 대한 간단한 정리\n",
        "#리스트 구조 : [값,값,값,,,]\n",
        "#값을 접근하는 방식: 정수 인덱스(1개), 여러개(규칙이 있을 때 , 슬라이싱)\n",
        "#기본적인 동작(매서드): 추가(append,insert),,제거(pop,remove)"
      ],
      "metadata": {
        "id": "-PiTpHu9eY2f"
      },
      "execution_count": null,
      "outputs": []
    },
    {
      "cell_type": "code",
      "source": [
        "#리스트와 거의 유사한 tuple"
      ],
      "metadata": {
        "id": "8dW3M3JhimFA"
      },
      "execution_count": null,
      "outputs": []
    },
    {
      "cell_type": "code",
      "source": [
        "a_tuple = (1,2,3,4,'Hello',100)\n",
        "a_tuple[:3]"
      ],
      "metadata": {
        "colab": {
          "base_uri": "https://localhost:8080/"
        },
        "id": "M4XZ9DZoixJv",
        "outputId": "174ca352-70eb-4ada-e197-35e41f18b3ce"
      },
      "execution_count": null,
      "outputs": [
        {
          "output_type": "execute_result",
          "data": {
            "text/plain": [
              "(1, 2, 3)"
            ]
          },
          "metadata": {},
          "execution_count": 24
        }
      ]
    },
    {
      "cell_type": "code",
      "source": [
        "t = list(a_tuple)\n",
        "t.append(100)\n",
        "t"
      ],
      "metadata": {
        "colab": {
          "base_uri": "https://localhost:8080/"
        },
        "id": "jZlOm4i7jNHW",
        "outputId": "1cb3ce7f-7139-47eb-99de-b8afb0bc5824"
      },
      "execution_count": null,
      "outputs": [
        {
          "output_type": "execute_result",
          "data": {
            "text/plain": [
              "[1, 2, 3, 4, 'Hello', 100, 100]"
            ]
          },
          "metadata": {},
          "execution_count": 26
        }
      ]
    },
    {
      "cell_type": "code",
      "source": [
        "# ***자료형의 특징들을 잘 사용하고, 필요에 따라서 왔다갔다 하면 된다(코테 마인드)"
      ],
      "metadata": {
        "id": "9a7_mmqljX5N"
      },
      "execution_count": null,
      "outputs": []
    },
    {
      "cell_type": "code",
      "source": [
        "# 값 종류: 문자/문자열\n",
        "#1개 : 문자\n",
        "#여러개 : 문자열\n",
        "\"hello\": \"h\"+\"e\"+\"l\"+\"l\"+\"o\"\n",
        "#==> 표기 양식 : \"\",'',\"\"\" \"\"\",''' '''"
      ],
      "metadata": {
        "id": "D25TkI69jmPO"
      },
      "execution_count": null,
      "outputs": []
    },
    {
      "cell_type": "code",
      "source": [
        "\"hello\"[0:3]"
      ],
      "metadata": {
        "colab": {
          "base_uri": "https://localhost:8080/",
          "height": 35
        },
        "id": "ZT_ogwMzkQfL",
        "outputId": "a1fb82fe-2e59-48c7-f47c-a8fd36346436"
      },
      "execution_count": null,
      "outputs": [
        {
          "output_type": "execute_result",
          "data": {
            "text/plain": [
              "'hel'"
            ],
            "application/vnd.google.colaboratory.intrinsic+json": {
              "type": "string"
            }
          },
          "metadata": {},
          "execution_count": 27
        }
      ]
    },
    {
      "cell_type": "code",
      "source": [
        "'hello'"
      ],
      "metadata": {
        "colab": {
          "base_uri": "https://localhost:8080/",
          "height": 35
        },
        "id": "VsHv1XLgkUiX",
        "outputId": "1f2d54ff-277e-4fed-c0c7-cfea5dd7c8ac"
      },
      "execution_count": null,
      "outputs": [
        {
          "output_type": "execute_result",
          "data": {
            "text/plain": [
              "'hello'"
            ],
            "application/vnd.google.colaboratory.intrinsic+json": {
              "type": "string"
            }
          },
          "metadata": {},
          "execution_count": 28
        }
      ]
    },
    {
      "cell_type": "code",
      "source": [
        "\"\"\"hello\"\"\""
      ],
      "metadata": {
        "colab": {
          "base_uri": "https://localhost:8080/",
          "height": 35
        },
        "id": "Harvwfi2kWde",
        "outputId": "505d9f66-7c3b-4193-c384-de7c81e43bc0"
      },
      "execution_count": null,
      "outputs": [
        {
          "output_type": "execute_result",
          "data": {
            "text/plain": [
              "'hello'"
            ],
            "application/vnd.google.colaboratory.intrinsic+json": {
              "type": "string"
            }
          },
          "metadata": {},
          "execution_count": 29
        }
      ]
    },
    {
      "cell_type": "code",
      "source": [
        "'''hello'''"
      ],
      "metadata": {
        "colab": {
          "base_uri": "https://localhost:8080/",
          "height": 35
        },
        "id": "_9T4IXa_kZQU",
        "outputId": "56856303-d06f-496c-c45a-18e16a320ded"
      },
      "execution_count": null,
      "outputs": [
        {
          "output_type": "execute_result",
          "data": {
            "text/plain": [
              "'hello'"
            ],
            "application/vnd.google.colaboratory.intrinsic+json": {
              "type": "string"
            }
          },
          "metadata": {},
          "execution_count": 30
        }
      ]
    },
    {
      "cell_type": "code",
      "source": [
        "#==> 긴 문서, 문장, 책 도서관 수준의 데이터\n",
        "#==>파이썬의 문자열이 애매한 경우가 발생을 함"
      ],
      "metadata": {
        "id": "aE2bH_rRkdgn"
      },
      "execution_count": null,
      "outputs": []
    },
    {
      "cell_type": "code",
      "source": [
        "\"탐은 \"나는 집에 갑니다\" 라고 말했습니다.\""
      ],
      "metadata": {
        "colab": {
          "base_uri": "https://localhost:8080/",
          "height": 106
        },
        "id": "iQPyYbIPlIH3",
        "outputId": "38e5f3d3-eacd-4494-cd0d-207ee8e64c8a"
      },
      "execution_count": null,
      "outputs": [
        {
          "output_type": "error",
          "ename": "SyntaxError",
          "evalue": "invalid syntax (<ipython-input-32-af85a84c24e2>, line 1)",
          "traceback": [
            "\u001b[0;36m  File \u001b[0;32m\"<ipython-input-32-af85a84c24e2>\"\u001b[0;36m, line \u001b[0;32m1\u001b[0m\n\u001b[0;31m    \"탐은 \"나는 집에 갑니다\" 라고 말했습니다.\"\u001b[0m\n\u001b[0m         ^\u001b[0m\n\u001b[0;31mSyntaxError\u001b[0m\u001b[0;31m:\u001b[0m invalid syntax\n"
          ]
        }
      ]
    },
    {
      "cell_type": "code",
      "source": [
        "#\"\"이 전체를 포함 못해 오류가 남"
      ],
      "metadata": {
        "id": "-qskoX1qBKrT"
      },
      "execution_count": null,
      "outputs": []
    },
    {
      "cell_type": "code",
      "source": [
        "\"탐은 \\\" 나는 집에 갑니다\\\" 라고 말했습니다.\""
      ],
      "metadata": {
        "colab": {
          "base_uri": "https://localhost:8080/",
          "height": 35
        },
        "id": "8Sb2n9fRk9y_",
        "outputId": "a4638af1-3b13-45b1-bbfd-cb31f3d38dd3"
      },
      "execution_count": null,
      "outputs": [
        {
          "output_type": "execute_result",
          "data": {
            "text/plain": [
              "'탐은 \" 나는 집에 갑니다\" 라고 말했습니다.'"
            ],
            "application/vnd.google.colaboratory.intrinsic+json": {
              "type": "string"
            }
          },
          "metadata": {},
          "execution_count": 31
        }
      ]
    },
    {
      "cell_type": "code",
      "source": [
        "#나중에 문자열을 좀 더 정확하게, 규칙적으로\n",
        "# ==> 정규식!!!\n",
        "# ==> 자연어처리 피할 수 없음!\n",
        "#     데이터 수집을 할 때\n",
        "#     카카오계열에서는 코테에 종종 정규식이 나옴"
      ],
      "metadata": {
        "id": "xS8Qg4fNlHn-"
      },
      "execution_count": null,
      "outputs": []
    },
    {
      "cell_type": "code",
      "source": [
        "#참고) 파이썬에 특별 메소드 : 향후 클래스 시간에 구현을 할 예정\n",
        "#==> 파이썬 or, 대충 이렇게 될까\n",
        "a = [1,2,3]\n",
        "b = [\"a\",\"b\",\"c\"]\n",
        "a+b"
      ],
      "metadata": {
        "colab": {
          "base_uri": "https://localhost:8080/"
        },
        "id": "mizyn767ld3W",
        "outputId": "5e119cea-7d70-4a78-e53a-8d81de756c5e"
      },
      "execution_count": null,
      "outputs": [
        {
          "output_type": "execute_result",
          "data": {
            "text/plain": [
              "[1, 2, 3, 'a', 'b', 'c']"
            ]
          },
          "metadata": {},
          "execution_count": 33
        }
      ]
    },
    {
      "cell_type": "code",
      "source": [
        "\"1\"+\"3\""
      ],
      "metadata": {
        "colab": {
          "base_uri": "https://localhost:8080/",
          "height": 35
        },
        "id": "WcDR0BUamGw-",
        "outputId": "2cbb1d5d-365d-4ae0-9ca5-9b7aeb9f9275"
      },
      "execution_count": null,
      "outputs": [
        {
          "output_type": "execute_result",
          "data": {
            "text/plain": [
              "'13'"
            ],
            "application/vnd.google.colaboratory.intrinsic+json": {
              "type": "string"
            }
          },
          "metadata": {},
          "execution_count": 34
        }
      ]
    },
    {
      "cell_type": "code",
      "source": [
        "#코테에서 중요한 dict 자료형!\n",
        "#==> 기본 틀 : 여러개의 값을 모아두는 것!\n",
        "#              (키:값)쌍을 중심으로 모아두는 것이 차이점!\n",
        "#      {키:값, 키:값, 키:값,,,}\n",
        "#==> 미니데이터베이스 자료형!!!\n",
        "##=> 코테에서 잘 사용하면 유용한 자료형\n",
        "#(간혹: HashTable에 대한 면접 질문)\n",
        "a_dict = {\"a\":1234,\"b\":5678}\n",
        "a_dict[\"a\"]"
      ],
      "metadata": {
        "colab": {
          "base_uri": "https://localhost:8080/"
        },
        "id": "OD2kQjR0mhU4",
        "outputId": "4590a3e0-9476-42a9-aa73-b2e106357466"
      },
      "execution_count": null,
      "outputs": [
        {
          "output_type": "execute_result",
          "data": {
            "text/plain": [
              "1234"
            ]
          },
          "metadata": {},
          "execution_count": 19
        }
      ]
    },
    {
      "cell_type": "code",
      "source": [
        "a_dict[0]"
      ],
      "metadata": {
        "colab": {
          "base_uri": "https://localhost:8080/",
          "height": 141
        },
        "id": "RFaMpwgKnq0H",
        "outputId": "3e1c1e74-7661-4b1d-c600-71d8276ae519"
      },
      "execution_count": null,
      "outputs": [
        {
          "output_type": "error",
          "ename": "KeyError",
          "evalue": "0",
          "traceback": [
            "\u001b[0;31m---------------------------------------------------------------------------\u001b[0m",
            "\u001b[0;31mKeyError\u001b[0m                                  Traceback (most recent call last)",
            "\u001b[0;32m<ipython-input-37-95985d93fa39>\u001b[0m in \u001b[0;36m<cell line: 1>\u001b[0;34m()\u001b[0m\n\u001b[0;32m----> 1\u001b[0;31m \u001b[0ma_dict\u001b[0m\u001b[0;34m[\u001b[0m\u001b[0;36m0\u001b[0m\u001b[0;34m]\u001b[0m\u001b[0;34m\u001b[0m\u001b[0;34m\u001b[0m\u001b[0m\n\u001b[0m",
            "\u001b[0;31mKeyError\u001b[0m: 0"
          ]
        }
      ]
    },
    {
      "cell_type": "code",
      "source": [
        "#딕셔너리는 순서가 없다, 저렇게 쓸시 키 '0'의 값을 찾는 것"
      ],
      "metadata": {
        "id": "xG4XaoncBQqe"
      },
      "execution_count": null,
      "outputs": []
    },
    {
      "cell_type": "code",
      "source": [
        "#dict의 정보 구성: 각기 정보들만 보자!\n",
        "#==>key들만, values들만."
      ],
      "metadata": {
        "id": "ZQh5sJQcntVU"
      },
      "execution_count": null,
      "outputs": []
    },
    {
      "cell_type": "code",
      "source": [
        "a_dict.keys()"
      ],
      "metadata": {
        "colab": {
          "base_uri": "https://localhost:8080/"
        },
        "id": "FBiBNZJMn9em",
        "outputId": "f1af752b-7bd1-45e0-f306-04330a5d8e39"
      },
      "execution_count": null,
      "outputs": [
        {
          "output_type": "execute_result",
          "data": {
            "text/plain": [
              "dict_keys(['a', 'b'])"
            ]
          },
          "metadata": {},
          "execution_count": 39
        }
      ]
    },
    {
      "cell_type": "code",
      "source": [
        "a_dict.values()"
      ],
      "metadata": {
        "colab": {
          "base_uri": "https://localhost:8080/"
        },
        "id": "5llfZmywoDJP",
        "outputId": "b4221595-ff7a-4c4b-994d-7b7c80a10779"
      },
      "execution_count": null,
      "outputs": [
        {
          "output_type": "execute_result",
          "data": {
            "text/plain": [
              "dict_values([1234, 5678])"
            ]
          },
          "metadata": {},
          "execution_count": 40
        }
      ]
    },
    {
      "cell_type": "code",
      "source": [
        "#+++ dict에서 한 번에 쌍으로 도릴고 싶다!\n",
        "#dict.items() 메서드를 활용 +for\n"
      ],
      "metadata": {
        "id": "X3Y-bLqKoK_8"
      },
      "execution_count": null,
      "outputs": []
    },
    {
      "cell_type": "code",
      "source": [
        "a_set = {1,1,1,2,3,3,3,4,5,6}\n",
        "a_set[0]"
      ],
      "metadata": {
        "colab": {
          "base_uri": "https://localhost:8080/",
          "height": 158
        },
        "id": "s1HjCKCipBV3",
        "outputId": "3de84129-a713-4e21-f8a2-c142551768b2"
      },
      "execution_count": null,
      "outputs": [
        {
          "output_type": "error",
          "ename": "TypeError",
          "evalue": "'set' object is not subscriptable",
          "traceback": [
            "\u001b[0;31m---------------------------------------------------------------------------\u001b[0m",
            "\u001b[0;31mTypeError\u001b[0m                                 Traceback (most recent call last)",
            "\u001b[0;32m<ipython-input-41-c518ba0fac29>\u001b[0m in \u001b[0;36m<cell line: 2>\u001b[0;34m()\u001b[0m\n\u001b[1;32m      1\u001b[0m \u001b[0ma_set\u001b[0m \u001b[0;34m=\u001b[0m \u001b[0;34m{\u001b[0m\u001b[0;36m1\u001b[0m\u001b[0;34m,\u001b[0m\u001b[0;36m1\u001b[0m\u001b[0;34m,\u001b[0m\u001b[0;36m1\u001b[0m\u001b[0;34m,\u001b[0m\u001b[0;36m2\u001b[0m\u001b[0;34m,\u001b[0m\u001b[0;36m3\u001b[0m\u001b[0;34m,\u001b[0m\u001b[0;36m3\u001b[0m\u001b[0;34m,\u001b[0m\u001b[0;36m3\u001b[0m\u001b[0;34m,\u001b[0m\u001b[0;36m4\u001b[0m\u001b[0;34m,\u001b[0m\u001b[0;36m5\u001b[0m\u001b[0;34m,\u001b[0m\u001b[0;36m6\u001b[0m\u001b[0;34m}\u001b[0m\u001b[0;34m\u001b[0m\u001b[0;34m\u001b[0m\u001b[0m\n\u001b[0;32m----> 2\u001b[0;31m \u001b[0ma_set\u001b[0m\u001b[0;34m[\u001b[0m\u001b[0;36m0\u001b[0m\u001b[0;34m]\u001b[0m\u001b[0;34m\u001b[0m\u001b[0;34m\u001b[0m\u001b[0m\n\u001b[0m",
            "\u001b[0;31mTypeError\u001b[0m: 'set' object is not subscriptable"
          ]
        }
      ]
    },
    {
      "cell_type": "code",
      "source": [
        "list(a_set)[0]"
      ],
      "metadata": {
        "colab": {
          "base_uri": "https://localhost:8080/"
        },
        "id": "fzAyUO1GpKcA",
        "outputId": "b3d1d2b7-8127-485a-87b0-2afeda89175b"
      },
      "execution_count": null,
      "outputs": [
        {
          "output_type": "execute_result",
          "data": {
            "text/plain": [
              "1"
            ]
          },
          "metadata": {},
          "execution_count": 42
        }
      ]
    },
    {
      "cell_type": "code",
      "source": [
        "#여기까지가 기본적인 파이썬의 여러가지 자료형!!\n",
        "#==>1개 값 vs 여러개 값\n",
        "--> 여러개 : 리스트(정수 인덱스),~튜플\n",
        "#            문자열\n",
        "#            잡다한 기능들을 잘 알아야 함(메서드)"
      ],
      "metadata": {
        "id": "widkiDyMpyhP"
      },
      "execution_count": null,
      "outputs": []
    },
    {
      "cell_type": "code",
      "source": [
        "#조건문 : if\n",
        "#예) 숫자 하나를 입력 받아서, -> 양수,음수,0을 판단"
      ],
      "metadata": {
        "id": "GxGUkaxwrR6Q"
      },
      "execution_count": null,
      "outputs": []
    },
    {
      "cell_type": "code",
      "source": [
        "a = 10\n",
        "\n",
        "if a > 0:\n",
        "    # 위의 조건이 만족할 때 무엇을 할지 기술 : tab\n",
        "    print(\"양수\")\n",
        "# a >0 조건을 만족하지 않으면..\n",
        "elif a <0:\n",
        "  print(\"음수\")\n",
        "elif a == 0:\n",
        "  print(\"0입니다\")\n",
        "else:\n",
        "  print(\"입력이 이상합니다... 확인해보세요\")\n"
      ],
      "metadata": {
        "colab": {
          "base_uri": "https://localhost:8080/"
        },
        "id": "MFD7bAMurcWu",
        "outputId": "f1c1c8dd-3e94-49ba-8379-483292aa9796"
      },
      "execution_count": null,
      "outputs": [
        {
          "output_type": "stream",
          "name": "stdout",
          "text": [
            "양수\n"
          ]
        }
      ]
    },
    {
      "cell_type": "code",
      "source": [
        "#파이썬의 for문을 여러개의 값들을 롤링 해주는 역할!"
      ],
      "metadata": {
        "id": "zzDI7QvfyTWl"
      },
      "execution_count": null,
      "outputs": []
    },
    {
      "cell_type": "code",
      "source": [
        "#상황: 1부터 10까지 출력을 하세요!\n",
        "print(1)\n",
        "print(2)\n",
        "print(3)\n",
        "#ctrl+c/v할 때: 어떤 곳이 고정/가변인지 구별해야 함"
      ],
      "metadata": {
        "id": "doTotwUpyZFC"
      },
      "execution_count": null,
      "outputs": []
    },
    {
      "cell_type": "code",
      "source": [
        "print(i) #i를 바뀌는 값 변수로 잡으면,, 고정되는 print"
      ],
      "metadata": {
        "colab": {
          "base_uri": "https://localhost:8080/"
        },
        "id": "U_Usi917ytku",
        "outputId": "0fdb9495-7443-4735-d21c-7622159ab1de"
      },
      "execution_count": null,
      "outputs": [
        {
          "output_type": "stream",
          "name": "stdout",
          "text": [
            "5\n"
          ]
        }
      ]
    },
    {
      "cell_type": "code",
      "source": [
        "for i in[1,2,3,4,5,6,7,8,9]:\n",
        "  print(i)\n"
      ],
      "metadata": {
        "colab": {
          "base_uri": "https://localhost:8080/"
        },
        "id": "GGFr3VK5y3Om",
        "outputId": "4bc669b0-78ca-48c0-ef80-32c507e0e074"
      },
      "execution_count": null,
      "outputs": [
        {
          "output_type": "stream",
          "name": "stdout",
          "text": [
            "1\n",
            "2\n",
            "3\n",
            "4\n",
            "5\n",
            "6\n",
            "7\n",
            "8\n",
            "9\n"
          ]
        }
      ]
    },
    {
      "cell_type": "code",
      "source": [
        "a_list =[1,2,3,4,5,6,7,8,9]\n",
        "for i in a_list:\n",
        "  print(i)"
      ],
      "metadata": {
        "colab": {
          "base_uri": "https://localhost:8080/"
        },
        "id": "GPVSAeBdza62",
        "outputId": "b64db51e-a052-4086-b36e-207bd3ce4abf"
      },
      "execution_count": null,
      "outputs": [
        {
          "output_type": "stream",
          "name": "stdout",
          "text": [
            "1\n",
            "2\n",
            "3\n",
            "4\n",
            "5\n",
            "6\n",
            "7\n",
            "8\n",
            "9\n"
          ]
        }
      ]
    },
    {
      "cell_type": "code",
      "source": [
        "#참고)필요한 여러개의 값이 특정한 숫자들이다\n",
        "#==> 파이썬에서는 range(시작점,끝점, 간격)-> 연속되거나 규칙적인 여러개의 숫자들을 만들어줌"
      ],
      "metadata": {
        "id": "nSZJgqcyzoFE"
      },
      "execution_count": null,
      "outputs": []
    },
    {
      "cell_type": "code",
      "source": [
        "for i in range(1,10,1): #[1,2,3,4,5,6,7,8,9]\n",
        "  print(i)"
      ],
      "metadata": {
        "colab": {
          "base_uri": "https://localhost:8080/"
        },
        "id": "1Y-XQfJ1z5MA",
        "outputId": "e9dbc7ad-6709-4930-cca1-2c7a67cf6a17"
      },
      "execution_count": null,
      "outputs": [
        {
          "output_type": "stream",
          "name": "stdout",
          "text": [
            "1\n",
            "2\n",
            "3\n",
            "4\n",
            "5\n",
            "6\n",
            "7\n",
            "8\n",
            "9\n"
          ]
        }
      ]
    },
    {
      "cell_type": "code",
      "source": [
        "#대상이 리스트\n",
        "a_list = [\"a\",\"b\",\"c\",\"dd\",20,30,\"x\"]\n",
        "a_list"
      ],
      "metadata": {
        "colab": {
          "base_uri": "https://localhost:8080/"
        },
        "id": "c_o8jfqVz-nI",
        "outputId": "ed3679dd-81b3-4c0d-b85b-d9bb005d9918"
      },
      "execution_count": null,
      "outputs": [
        {
          "output_type": "execute_result",
          "data": {
            "text/plain": [
              "['a', 'b', 'c', 'dd', 20, 30, 'x']"
            ]
          },
          "metadata": {},
          "execution_count": 13
        }
      ]
    },
    {
      "cell_type": "code",
      "source": [
        "print(a_list[0])\n",
        "print(a_list[1])\n",
        "print(a_list[2])\n",
        "print(a_list[3])\n",
        "print(a_list[4])\n",
        "print(a_list[5])\n",
        "print(a_list[6])\n"
      ],
      "metadata": {
        "colab": {
          "base_uri": "https://localhost:8080/"
        },
        "id": "drNy6M8t0Bom",
        "outputId": "4472333e-4752-444a-d175-21977562e7af"
      },
      "execution_count": null,
      "outputs": [
        {
          "output_type": "stream",
          "name": "stdout",
          "text": [
            "a\n",
            "b\n",
            "c\n",
            "dd\n",
            "20\n",
            "30\n",
            "x\n"
          ]
        }
      ]
    },
    {
      "cell_type": "code",
      "source": [],
      "metadata": {
        "id": "F_sZvswKBrJg"
      },
      "execution_count": null,
      "outputs": []
    },
    {
      "cell_type": "code",
      "source": [
        "for i in range(0,9,1):\n",
        "  print(i) #i가 0~8까지\n",
        "#==> 내가 필요한 부분이 여러개 & 숫자 &연속된 규칙\n",
        "#==>[0,1,2,3,4,5,6,7,8,]\n",
        "#==> range(0,9,1)"
      ],
      "metadata": {
        "colab": {
          "base_uri": "https://localhost:8080/"
        },
        "id": "eILCSkul08kt",
        "outputId": "7b1a3400-dfc8-4acd-daf1-8cba1b356305"
      },
      "execution_count": null,
      "outputs": [
        {
          "output_type": "stream",
          "name": "stdout",
          "text": [
            "0\n",
            "1\n",
            "2\n",
            "3\n",
            "4\n",
            "5\n",
            "6\n",
            "7\n",
            "8\n"
          ]
        }
      ]
    },
    {
      "cell_type": "code",
      "source": [
        "for i in range(0,6,1):\n",
        "  print(a_list[i])"
      ],
      "metadata": {
        "colab": {
          "base_uri": "https://localhost:8080/"
        },
        "id": "qK3Oo2qS2Ibv",
        "outputId": "e0368963-653f-4477-883a-45e58222fe64"
      },
      "execution_count": null,
      "outputs": [
        {
          "output_type": "stream",
          "name": "stdout",
          "text": [
            "a\n",
            "b\n",
            "c\n",
            "dd\n",
            "20\n",
            "30\n"
          ]
        }
      ]
    },
    {
      "cell_type": "code",
      "source": [
        "###중요\n",
        "#파이썬으로 for문을 돌릴 때 2가지를 다 익숙해야 함"
      ],
      "metadata": {
        "id": "xVBIuvBW1-Pm"
      },
      "execution_count": null,
      "outputs": []
    },
    {
      "cell_type": "code",
      "source": [
        "#dict에서 key,value를 한 번에 같이 돌리자!\n",
        "#==> .items()\n",
        "for i in a_dict.items():\n",
        "  print(i)"
      ],
      "metadata": {
        "colab": {
          "base_uri": "https://localhost:8080/"
        },
        "id": "jERYW7EX2H-X",
        "outputId": "b3f565c4-15f7-483f-efbc-3760dc6828c2"
      },
      "execution_count": null,
      "outputs": [
        {
          "output_type": "stream",
          "name": "stdout",
          "text": [
            "('a', 1234)\n",
            "('b', 5678)\n"
          ]
        }
      ]
    },
    {
      "cell_type": "code",
      "source": [
        "for i in a_dict.items():\n",
        "  print(i[0],i[1]) #key,value"
      ],
      "metadata": {
        "id": "_brrEJP13M2m",
        "colab": {
          "base_uri": "https://localhost:8080/"
        },
        "outputId": "f53e2337-3660-4291-c662-9a8da13a555f"
      },
      "execution_count": null,
      "outputs": [
        {
          "output_type": "stream",
          "name": "stdout",
          "text": [
            "a 1234\n",
            "b 5678\n"
          ]
        }
      ]
    },
    {
      "cell_type": "code",
      "source": [
        "#+파이썬의 특징 : 멀티 할당!\n",
        "for k,v in a_dict.items():\n",
        "  print(k,v)"
      ],
      "metadata": {
        "colab": {
          "base_uri": "https://localhost:8080/"
        },
        "id": "e7cadorm3aJ9",
        "outputId": "520bfda2-291f-477c-c54e-cb1bc921912d"
      },
      "execution_count": null,
      "outputs": [
        {
          "output_type": "stream",
          "name": "stdout",
          "text": [
            "a 1234\n",
            "b 5678\n"
          ]
        }
      ]
    },
    {
      "cell_type": "code",
      "source": [
        "#문제) 국어 80점, 수학 75점,영어 55점,사회 90점\n",
        "#---> 이 학생의 평균을 구하는 코드를 작성하세요"
      ],
      "metadata": {
        "id": "W-Orc26748ru"
      },
      "execution_count": null,
      "outputs": []
    },
    {
      "cell_type": "code",
      "source": [
        "a = 80\n",
        "b= 75\n",
        "c= 75\n",
        "d= 55\n",
        "e= 90\n",
        "\n",
        "sum=a+b+c+d+e\n",
        "mean = sum/5\n",
        "print(mean)"
      ],
      "metadata": {
        "colab": {
          "base_uri": "https://localhost:8080/"
        },
        "id": "bBJl_n4u5KCb",
        "outputId": "48c1f985-74f3-491d-a94e-07db4142c505"
      },
      "execution_count": null,
      "outputs": [
        {
          "output_type": "stream",
          "name": "stdout",
          "text": [
            "75.0\n"
          ]
        }
      ]
    },
    {
      "cell_type": "code",
      "source": [
        "korean = 80\n",
        "math = 75\n",
        "english = 55\n",
        "social = 90\n",
        "avg_score = (korean+math+english+social)/4\n",
        "print(avg_score)"
      ],
      "metadata": {
        "colab": {
          "base_uri": "https://localhost:8080/"
        },
        "id": "tCIB149I58RR",
        "outputId": "912689c8-2d7c-43a4-90a3-ef875913145f"
      },
      "execution_count": null,
      "outputs": [
        {
          "output_type": "stream",
          "name": "stdout",
          "text": [
            "75.0\n"
          ]
        }
      ]
    },
    {
      "cell_type": "code",
      "source": [
        "#방법2) 구체적인 과목명은 필요 없으니,, 필요한 점수들만!\n",
        "#==> 여러개의 점수들\n",
        "#==> 파이썬의 여러개의 자료형 중: 리스트 선택!!\n",
        "zumsu_list = [80,75,55,90]\n",
        "avg_score = sum(zumsu_list)/len(zumsu_list)\n",
        "print(avg_score)"
      ],
      "metadata": {
        "colab": {
          "base_uri": "https://localhost:8080/",
          "height": 106
        },
        "id": "SJMo0jOw6Sr2",
        "outputId": "74841c4c-a25b-428a-b740-e6efb0496cf4"
      },
      "execution_count": null,
      "outputs": [
        {
          "output_type": "error",
          "ename": "SyntaxError",
          "evalue": "invalid syntax (<ipython-input-77-ca95c2e066f8>, line 5)",
          "traceback": [
            "\u001b[0;36m  File \u001b[0;32m\"<ipython-input-77-ca95c2e066f8>\"\u001b[0;36m, line \u001b[0;32m5\u001b[0m\n\u001b[0;31m    avg_score = sum(zumsu_list)/len(zumsu_list):\u001b[0m\n\u001b[0m                                               ^\u001b[0m\n\u001b[0;31mSyntaxError\u001b[0m\u001b[0;31m:\u001b[0m invalid syntax\n"
          ]
        }
      ]
    },
    {
      "cell_type": "code",
      "source": [
        "#방법3) 방법2에 대한 것을 직접 구현을 하도록 하겠음!\n",
        "#==> 코테에서 가장 기본적인 구조: 카운팅!합!\n",
        "#==> sum/len 직접 구현을 하겠습니다\n",
        "zumsu_list =[ 80,75,55,90]\n",
        "#zumsu_list를 돌려가면서,누적합/누적카운팅\n",
        "#필요한 변수: 만들면 됨!\n",
        "tot =0 #누적합을 기록할 용도의 변수\n",
        "cnt = 0 #누적 카운팅 기록할 용도의 변수\n",
        "#참고) 누적곱: 1 --> +/*항등원(초기값을 잘 세팅!!)\n",
        "for i in zumsu_list:\n",
        "  tot +=i #tot = tot +i #0,0+80,0+80+75,0+80+75+55\n",
        "  tnt +=1\n",
        "avg_score= tot/tnt"
      ],
      "metadata": {
        "id": "Z4pyM2sY7AmQ"
      },
      "execution_count": null,
      "outputs": []
    },
    {
      "cell_type": "code",
      "source": [
        "a = input(\"성적을 입력하세요\")\n",
        "a"
      ],
      "metadata": {
        "colab": {
          "base_uri": "https://localhost:8080/",
          "height": 52
        },
        "id": "RO_0s9vkBsPU",
        "outputId": "9cbf5769-462f-4428-d79e-a78e8e87b5aa"
      },
      "execution_count": null,
      "outputs": [
        {
          "name": "stdout",
          "output_type": "stream",
          "text": [
            "성적을 입력하세요100\n"
          ]
        },
        {
          "output_type": "execute_result",
          "data": {
            "text/plain": [
              "'100'"
            ],
            "application/vnd.google.colaboratory.intrinsic+json": {
              "type": "string"
            }
          },
          "metadata": {},
          "execution_count": 80
        }
      ]
    },
    {
      "cell_type": "code",
      "source": [
        "a+10\n",
        "# 주의!!)input함수로 내가 숫자 키보들르 눌러도 문자열로 취급이 된다.\n",
        "#-> 숫자로 처리하기 위해서는 \"형\"변환!!"
      ],
      "metadata": {
        "colab": {
          "base_uri": "https://localhost:8080/",
          "height": 141
        },
        "id": "66iIvqXYB2Il",
        "outputId": "ca1ad832-337e-4317-be1d-edbe0e515d2f"
      },
      "execution_count": null,
      "outputs": [
        {
          "output_type": "error",
          "ename": "TypeError",
          "evalue": "can only concatenate str (not \"int\") to str",
          "traceback": [
            "\u001b[0;31m---------------------------------------------------------------------------\u001b[0m",
            "\u001b[0;31mTypeError\u001b[0m                                 Traceback (most recent call last)",
            "\u001b[0;32m<ipython-input-81-62ad895bdfa8>\u001b[0m in \u001b[0;36m<cell line: 1>\u001b[0;34m()\u001b[0m\n\u001b[0;32m----> 1\u001b[0;31m \u001b[0ma\u001b[0m\u001b[0;34m+\u001b[0m\u001b[0;36m10\u001b[0m\u001b[0;34m\u001b[0m\u001b[0;34m\u001b[0m\u001b[0m\n\u001b[0m",
            "\u001b[0;31mTypeError\u001b[0m: can only concatenate str (not \"int\") to str"
          ]
        }
      ]
    },
    {
      "cell_type": "code",
      "source": [
        "# 예전부터 유명사이트(백준: 직접 입력을 해야 가능함.)\n",
        "#코테사이트(프로그래머스):직접 입력울 설계할 필요X"
      ],
      "metadata": {
        "id": "-daA9nzVB4cI"
      },
      "execution_count": null,
      "outputs": []
    },
    {
      "cell_type": "code",
      "source": [
        "int(a)+10"
      ],
      "metadata": {
        "colab": {
          "base_uri": "https://localhost:8080/"
        },
        "id": "UQMbs1DaCY_7",
        "outputId": "82e4f569-cb6a-4ab5-fd81-95e231cbb293"
      },
      "execution_count": null,
      "outputs": [
        {
          "output_type": "execute_result",
          "data": {
            "text/plain": [
              "110"
            ]
          },
          "metadata": {},
          "execution_count": 82
        }
      ]
    },
    {
      "cell_type": "code",
      "source": [
        "korean = int(input(\"국어점수를 입력하세요.\"))\n",
        "math = int(input(\"수학점수를 입력하세요.\"))\n",
        "english = int(input(\"영어점수를 입력하세요.\"))\n",
        "social = int(input(\"사회점수를 입력하세요.\"))\n",
        "avg_score=0\n",
        "avg_score = (korean+math+english+social)/4\n",
        "print(avg_score)"
      ],
      "metadata": {
        "colab": {
          "base_uri": "https://localhost:8080/"
        },
        "id": "KCm-TDghCfGk",
        "outputId": "82223b38-9c5f-41cf-bdb5-2d9eea4f9092"
      },
      "execution_count": null,
      "outputs": [
        {
          "output_type": "stream",
          "name": "stdout",
          "text": [
            "국어점수를 입력하세요.10\n",
            "수학점수를 입력하세요.20\n",
            "영어점수를 입력하세요.30\n",
            "사회점수를 입력하세요.40\n",
            "25.0\n"
          ]
        }
      ]
    },
    {
      "cell_type": "code",
      "source": [],
      "metadata": {
        "id": "QzPb_LUxDdDS"
      },
      "execution_count": null,
      "outputs": []
    },
    {
      "cell_type": "code",
      "source": [
        "#방법2에 대한 방법\n",
        "zumsu_list =[]\n",
        "zumsu_list.append(int(input(\"국어점수를 입력하세요.\")))\n",
        "zumsu_list.append(int(input(\"영어점수를 입력하세요.\")))\n",
        "zumsu_list.append(int(input(\"수학점수를 입력하세요.\")))\n",
        "zumsu_list.append(int(input(\"사회점수를 입력하세요.\")))\n",
        "avg_score =0\n",
        "avg_score = sum(zumsu_list)/ len(zumsu_list)\n",
        "print(avg_score)"
      ],
      "metadata": {
        "colab": {
          "base_uri": "https://localhost:8080/"
        },
        "id": "avKNXo-aDPPC",
        "outputId": "1a8f736d-db84-44b2-cd35-99c15fc1ab9b"
      },
      "execution_count": null,
      "outputs": [
        {
          "output_type": "stream",
          "name": "stdout",
          "text": [
            "국어점수를 입력하세요.10\n",
            "영어점수를 입력하세요.20\n",
            "수학점수를 입력하세요.30\n",
            "사회점수를 입력하세요.40\n",
            "25.0\n"
          ]
        }
      ]
    },
    {
      "cell_type": "code",
      "source": [
        "#--> a의 접근\n",
        "a = [\"one\",\"two\",\"three\",\"four\"]\n",
        "b = []\n",
        "for i in range(1,5,1):\n",
        "  print(i)\n",
        "  print(a[i-1])\n",
        "  b.append(a[i-1]+str(i))\n",
        "  print(b)\n",
        "  str(i)"
      ],
      "metadata": {
        "colab": {
          "base_uri": "https://localhost:8080/"
        },
        "id": "JU5b-k_rE3o0",
        "outputId": "455ebe6f-5139-431a-f5f1-d09d2584abbd"
      },
      "execution_count": null,
      "outputs": [
        {
          "output_type": "stream",
          "name": "stdout",
          "text": [
            "1\n",
            "one\n",
            "['one1']\n",
            "2\n",
            "two\n",
            "['one1', 'two2']\n",
            "3\n",
            "three\n",
            "['one1', 'two2', 'three3']\n",
            "4\n",
            "four\n",
            "['one1', 'two2', 'three3', 'four4']\n"
          ]
        }
      ]
    },
    {
      "cell_type": "code",
      "source": [
        "b = []\n",
        "for i in range(1,5,1):\n",
        "  b.append(a[i-1]+str(i))\n",
        "b"
      ],
      "metadata": {
        "colab": {
          "base_uri": "https://localhost:8080/"
        },
        "id": "-XVO-mmVI_gw",
        "outputId": "718ecfc8-4074-46a6-9e48-ffc4609396f2"
      },
      "execution_count": null,
      "outputs": [
        {
          "output_type": "execute_result",
          "data": {
            "text/plain": [
              "['one1', 'two2', 'three3', 'four4']"
            ]
          },
          "metadata": {},
          "execution_count": 105
        }
      ]
    },
    {
      "cell_type": "code",
      "source": [
        "[a[i-1]+str(i) for i in range(len(a))]"
      ],
      "metadata": {
        "colab": {
          "base_uri": "https://localhost:8080/"
        },
        "id": "ulCdqFabJRXU",
        "outputId": "8bdad075-78be-4dd3-dacc-a6cb810aabf8"
      },
      "execution_count": null,
      "outputs": [
        {
          "output_type": "execute_result",
          "data": {
            "text/plain": [
              "['four0', 'one1', 'two2', 'three3']"
            ]
          },
          "metadata": {},
          "execution_count": 108
        }
      ]
    },
    {
      "cell_type": "code",
      "source": [
        "#for i in range(0,len(a),1):\n",
        "b=[]\n",
        "for i in range(len(a)):\n"
      ],
      "metadata": {
        "id": "-zh-eQ2yHMp8"
      },
      "execution_count": null,
      "outputs": []
    },
    {
      "cell_type": "code",
      "source": [
        "#ex2)직접 a의 값을 중심으로 돌리 수 있음\n",
        "#==> 값 자체 접근은 바로 할 수 있음\n",
        "#but 붙일 숫자값은 없어요;;;\n",
        "#없으면 만드시면 됩니다\n",
        "#1부터 하나씩 증가하는 카운팅이 되는 변ㅅ\n",
        "cnt =1\n",
        "for i in a:\n",
        "  print(i+str(cnt))\n",
        "  cnt+=1   #갱신!!"
      ],
      "metadata": {
        "colab": {
          "base_uri": "https://localhost:8080/"
        },
        "id": "zBodlMyoHbOH",
        "outputId": "7dbb0a4a-9812-4a00-9f43-e8ada59b1666"
      },
      "execution_count": null,
      "outputs": [
        {
          "output_type": "stream",
          "name": "stdout",
          "text": [
            "one1\n",
            "two2\n",
            "three3\n",
            "four4\n"
          ]
        }
      ]
    },
    {
      "cell_type": "code",
      "source": [
        "#참고: 파이썬 계열에서 리스트 컴프리핸션\n",
        "#--> 리스ㅡ에 모으는 기능"
      ],
      "metadata": {
        "id": "QYPPlMz3IC1N"
      },
      "execution_count": null,
      "outputs": []
    },
    {
      "cell_type": "code",
      "source": [
        "b =[]\n",
        "for i in a:\n",
        "  print(i)\n",
        "  b.append(i)\n",
        "b"
      ],
      "metadata": {
        "colab": {
          "base_uri": "https://localhost:8080/"
        },
        "id": "6E0_wzlyIRA8",
        "outputId": "cd3356dc-1eee-4388-9712-d4b0035b690c"
      },
      "execution_count": null,
      "outputs": [
        {
          "output_type": "stream",
          "name": "stdout",
          "text": [
            "one\n",
            "two\n",
            "three\n",
            "four\n"
          ]
        },
        {
          "output_type": "execute_result",
          "data": {
            "text/plain": [
              "['one', 'two', 'three', 'four']"
            ]
          },
          "metadata": {},
          "execution_count": 102
        }
      ]
    },
    {
      "cell_type": "code",
      "source": [
        "[i+\"aaa\" for i in a]\n",
        "#[모을 대상+반복문]"
      ],
      "metadata": {
        "colab": {
          "base_uri": "https://localhost:8080/"
        },
        "id": "lrvb4BuAIp-U",
        "outputId": "f82572a2-2098-46b5-81ed-62ceeea253b9"
      },
      "execution_count": null,
      "outputs": [
        {
          "output_type": "execute_result",
          "data": {
            "text/plain": [
              "['oneaaa', 'twoaaa', 'threeaaa', 'fouraaa']"
            ]
          },
          "metadata": {},
          "execution_count": 103
        }
      ]
    },
    {
      "cell_type": "code",
      "source": [
        "#문제) a = [1,2,3,4,5]리스트가 주어졌을 때\n",
        "#     ==>[1,3,5]의 리스트로 만들어 보세요!\n",
        "#: 기존의 값들에서 필요한 조건에 맞는 값들만 필터링!"
      ],
      "metadata": {
        "id": "fm-inMsEJNKp"
      },
      "execution_count": null,
      "outputs": []
    },
    {
      "cell_type": "code",
      "source": [
        "#sol1) 내가 제거할 값들에 대해서 규칙이 있냐/없냐? yes\n",
        "#      규칙: 홀수/짝수 판별\n",
        "#      살리는 값을 기준으로 한다면 :홀수만 살리자!\n",
        "#      2로 나눠서 나머지가 1인 모든 수:%\n",
        "#      ==> a의 모든 원소를 대상으로 규칙을 적용해 봐야함!\n",
        "#      for문으로 돌림"
      ],
      "metadata": {
        "id": "rs6SjD2XKQnl"
      },
      "execution_count": null,
      "outputs": []
    },
    {
      "cell_type": "code",
      "source": [
        "a=[1,2,3,4,5]\n",
        "a"
      ],
      "metadata": {
        "colab": {
          "base_uri": "https://localhost:8080/"
        },
        "id": "397iG8G1KsgV",
        "outputId": "5cbe3886-7afe-4c8a-a685-c539cbb3676a"
      },
      "execution_count": null,
      "outputs": [
        {
          "output_type": "execute_result",
          "data": {
            "text/plain": [
              "[1, 2, 3, 4, 5]"
            ]
          },
          "metadata": {},
          "execution_count": 109
        }
      ]
    },
    {
      "cell_type": "code",
      "source": [
        "b=[]\n",
        "for i in a:\n",
        "  if i % 2 ==1:\n",
        "    b.append(i)\n",
        "b"
      ],
      "metadata": {
        "colab": {
          "base_uri": "https://localhost:8080/"
        },
        "id": "d3uVnvsiKzBr",
        "outputId": "d52ec52b-393a-49d3-96f2-56b43068c0e9"
      },
      "execution_count": null,
      "outputs": [
        {
          "output_type": "execute_result",
          "data": {
            "text/plain": [
              "[1, 3, 5]"
            ]
          },
          "metadata": {},
          "execution_count": 111
        }
      ]
    },
    {
      "cell_type": "code",
      "source": [
        "#==>리스트컴프리핸션\n",
        "[i for i in a if i %2 ==1]"
      ],
      "metadata": {
        "colab": {
          "base_uri": "https://localhost:8080/"
        },
        "id": "91t__sirLYjc",
        "outputId": "1f6db245-236b-4077-de84-51031f08245e"
      },
      "execution_count": null,
      "outputs": [
        {
          "output_type": "execute_result",
          "data": {
            "text/plain": [
              "[1, 3, 5]"
            ]
          },
          "metadata": {},
          "execution_count": 112
        }
      ]
    },
    {
      "cell_type": "code",
      "source": [
        "#+++ a 중에서 홀수인 값들만 *10을 해서 모으세요!\n",
        "[1*10 for i in a if i %2==1]"
      ],
      "metadata": {
        "colab": {
          "base_uri": "https://localhost:8080/"
        },
        "id": "CCJZv382LmMF",
        "outputId": "e7d6971e-41e7-4823-f168-31d3cdc02a93"
      },
      "execution_count": null,
      "outputs": [
        {
          "output_type": "execute_result",
          "data": {
            "text/plain": [
              "[10, 10, 10]"
            ]
          },
          "metadata": {},
          "execution_count": 113
        }
      ]
    }
  ]
}