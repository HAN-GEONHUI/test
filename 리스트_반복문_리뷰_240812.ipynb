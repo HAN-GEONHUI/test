{
  "nbformat": 4,
  "nbformat_minor": 0,
  "metadata": {
    "colab": {
      "provenance": [],
      "toc_visible": true,
      "authorship_tag": "ABX9TyMErfosO3BzD2a0sbgFh4zQ",
      "include_colab_link": true
    },
    "kernelspec": {
      "name": "python3",
      "display_name": "Python 3"
    },
    "language_info": {
      "name": "python"
    }
  },
  "cells": [
    {
      "cell_type": "markdown",
      "metadata": {
        "id": "view-in-github",
        "colab_type": "text"
      },
      "source": [
        "<a href=\"https://colab.research.google.com/github/HAN-GEONHUI/test/blob/t_academy_%EC%88%98%EC%97%85/%EB%A6%AC%EC%8A%A4%ED%8A%B8_%EB%B0%98%EB%B3%B5%EB%AC%B8_%EB%A6%AC%EB%B7%B0_240812.ipynb\" target=\"_parent\"><img src=\"https://colab.research.google.com/assets/colab-badge.svg\" alt=\"Open In Colab\"/></a>"
      ]
    },
    {
      "cell_type": "code",
      "execution_count": null,
      "metadata": {
        "id": "6jSrSe8f7gfY"
      },
      "outputs": [],
      "source": [
        "#문제 [\"A\",\"B\",\"A\",\"O\",\"AB\",\"AB\",\"O\",\"A\",\"B\",\"AB\"]\n",
        "#여러 사람들의 혈액형의 정보를 수집하였습니다.-> 각 혈핵형별로 몇 명의 인원이 있는지 구하시오"
      ]
    },
    {
      "cell_type": "code",
      "source": [
        "#내가 푼 방식\n",
        "a = [\"A\",\"B\",\"A\",\"O\",\"AB\",\"AB\",\"O\",\"A\",\"B\",\"AB\"]\n",
        "cnt=0\n",
        "A_cnt = 0\n",
        "B_cnt = 0\n",
        "AB_cnt=0\n",
        "O_cnt=0\n",
        "for i in a:\n",
        "  if i == \"A\":\n",
        "    A_cnt= A_cnt+1\n",
        "  elif i == \"B\":\n",
        "    B_cmt= B_cnt+1\n",
        "  elif i == \"AB\":\n",
        "    AB_cnt =AB_cnt+1\n",
        "  else:\n",
        "    O_cnt= O_cnt+1\n",
        "print(A_cnt,B_cnt,AB_cnt,O_cnt)"
      ],
      "metadata": {
        "colab": {
          "base_uri": "https://localhost:8080/"
        },
        "id": "p6VTTvch8uOU",
        "outputId": "45a4adac-5f92-4479-9544-f3263f4e5fbc"
      },
      "execution_count": null,
      "outputs": [
        {
          "output_type": "stream",
          "name": "stdout",
          "text": [
            "3 0 3 2\n"
          ]
        }
      ]
    },
    {
      "cell_type": "code",
      "source": [
        "#꾸억꾸억 카운팅 방법\n",
        "blood_data = [\"A\",\"B\",\"A\",\"O\",\"AB\",\"AB\",\"O\",\"A\",\"B\",\"AB\"]\n",
        "\n",
        "for blood in blood_data:\n",
        "  print(blood)"
      ],
      "metadata": {
        "colab": {
          "base_uri": "https://localhost:8080/"
        },
        "id": "ESQiWrN3-DAV",
        "outputId": "df228fd7-b107-4570-99ac-432cce29c321"
      },
      "execution_count": null,
      "outputs": [
        {
          "output_type": "stream",
          "name": "stdout",
          "text": [
            "A\n",
            "B\n",
            "A\n",
            "O\n",
            "AB\n",
            "AB\n",
            "O\n",
            "A\n",
            "B\n",
            "AB\n"
          ]
        }
      ]
    },
    {
      "cell_type": "code",
      "source": [
        "for blood in range(len(blood_data)):\n",
        "  print(blood)"
      ],
      "metadata": {
        "colab": {
          "base_uri": "https://localhost:8080/"
        },
        "id": "OYOoxkIp-nLU",
        "outputId": "abe3c534-7031-402f-d216-b8ba975579c7"
      },
      "execution_count": null,
      "outputs": [
        {
          "output_type": "stream",
          "name": "stdout",
          "text": [
            "0\n",
            "1\n",
            "2\n",
            "3\n",
            "4\n",
            "5\n",
            "6\n",
            "7\n",
            "8\n",
            "9\n"
          ]
        }
      ]
    },
    {
      "cell_type": "code",
      "source": [
        "for i,v in enumerate(blood_data):\n",
        "  print(i,v)"
      ],
      "metadata": {
        "colab": {
          "base_uri": "https://localhost:8080/"
        },
        "id": "GNwsNx_i-4L8",
        "outputId": "7a507956-2e8e-4581-fbce-6e140a8da56a"
      },
      "execution_count": null,
      "outputs": [
        {
          "output_type": "stream",
          "name": "stdout",
          "text": [
            "0 A\n",
            "1 B\n",
            "2 A\n",
            "3 O\n",
            "4 AB\n",
            "5 AB\n",
            "6 O\n",
            "7 A\n",
            "8 B\n",
            "9 AB\n"
          ]
        }
      ]
    },
    {
      "cell_type": "code",
      "source": [],
      "metadata": {
        "id": "b_6yPPydES3q"
      },
      "execution_count": null,
      "outputs": []
    },
    {
      "cell_type": "code",
      "source": [
        "blood_data = [\"A\",\"B\",\"A\",\"O\",\"AB\",\"AB\",\"O\",\"A\",\"B\",\"AB\"]\n",
        "cnt_a =0\n",
        "cnt_b =0\n",
        "cnt_ab=0\n",
        "cnt_o=0\n",
        "\n",
        "for i in blood_data:\n",
        "  if i == \"A\":\n",
        "    cnt_a +=1\n",
        "  elif i == \"B\":\n",
        "    cnt_b +=1\n",
        "  elif i == \"AB\":\n",
        "    cnt_ab +=1\n",
        "  else:\n",
        "    cnt_o+=1\n",
        "print(\"A형의 개수\",cnt_a)\n",
        "print(\"B형의 개수\",cnt_b)\n",
        "print(\"AB형의 개수\",cnt_ab)\n",
        "print(\"O형의 개수\",cnt_o)\n",
        "\n",
        "#꾸억꾸억 카운팅을 하였다."
      ],
      "metadata": {
        "colab": {
          "base_uri": "https://localhost:8080/"
        },
        "id": "DFh2k55C_A15",
        "outputId": "da884f08-b95d-47a8-d024-a7fbffff99a3"
      },
      "execution_count": null,
      "outputs": [
        {
          "output_type": "stream",
          "name": "stdout",
          "text": [
            "A형의 개수 3\n",
            "B형의 개수 2\n",
            "AB형의 개수 3\n",
            "O형의 개수 2\n"
          ]
        }
      ]
    },
    {
      "cell_type": "code",
      "source": [
        "blood_data = [\"A\",\"B\",\"A\",\"O\",\"AB\",\"AB\",\"O\",\"A\",\"B\",\"AB\"]\n",
        "blood_type=[\"A\",\"B\",\"AB\",\"O\"]\n",
        "blood_cnts = [0,0,0,0]\n",
        "\n",
        "for blood in blood_data:\n",
        "  #내가 리스트업 한 혈액형의 종류 중에서 몇 번째에 호응하는지 알아야함\n",
        "  for i in range(len(blood_type)):\n",
        "    if blood == blood_type[i]:\n",
        "      blood_cnts[i] +=1\n",
        "    else:\n",
        "      pass\n",
        "blood_cnts\n"
      ],
      "metadata": {
        "colab": {
          "base_uri": "https://localhost:8080/"
        },
        "id": "Mq7L9q1DAcYQ",
        "outputId": "7ff0c42c-0301-4aa1-d660-106167dbcaca"
      },
      "execution_count": null,
      "outputs": [
        {
          "output_type": "execute_result",
          "data": {
            "text/plain": [
              "[3, 2, 3, 2]"
            ]
          },
          "metadata": {},
          "execution_count": 13
        }
      ]
    },
    {
      "cell_type": "code",
      "source": [
        "# sol2)리스트 컴프리핸션\n",
        "blood_data = [\"A\",\"B\",\"A\",\"O\",\"AB\",\"AB\",\"O\",\"A\",\"B\",\"AB\"]\n",
        "cnt_a =0\n",
        "cnt_b =0\n",
        "cnt_ab=0\n",
        "cnt_o=0\n",
        "\n",
        "for i in blood_data:\n",
        "  if i == \"A\":\n",
        "    cnt_a +=1\n",
        "  elif i == \"B\":\n",
        "    cnt_b +=1\n",
        "  elif i == \"AB\":\n",
        "    cnt_ab +=1\n",
        "  else:\n",
        "    cnt_o+=1\n",
        "print(\"A형의 개수\",cnt_a)\n",
        "print(\"B형의 개수\",cnt_b)\n",
        "print(\"AB형의 개수\",cnt_ab)\n",
        "print(\"O형의 개수\",cnt_o)\n",
        "\n",
        "#요걸 바꿔보기\n",
        "#why: rlqhswjrdls rnwhrk for~if~뭐할께요\n",
        "#try A형만 몇 명인지 LC으로 처리\n",
        "#--> 필터링+카운팅\n",
        "len([b for b in blood_data if b ==\"A\"])"
      ],
      "metadata": {
        "colab": {
          "base_uri": "https://localhost:8080/"
        },
        "id": "xenZLFo1BgvT",
        "outputId": "6f2940c3-1377-4be7-9a8d-109047d2847c"
      },
      "execution_count": null,
      "outputs": [
        {
          "output_type": "stream",
          "name": "stdout",
          "text": [
            "A형의 개수 3\n",
            "B형의 개수 2\n",
            "AB형의 개수 3\n",
            "O형의 개수 2\n"
          ]
        },
        {
          "output_type": "execute_result",
          "data": {
            "text/plain": [
              "3"
            ]
          },
          "metadata": {},
          "execution_count": 16
        }
      ]
    },
    {
      "cell_type": "code",
      "source": [
        "len([b for b in blood_data if b ==\"B\"])"
      ],
      "metadata": {
        "colab": {
          "base_uri": "https://localhost:8080/"
        },
        "id": "ktWaLD0YDDP1",
        "outputId": "c4a42a54-1612-47fd-c998-7e53f8929d8d"
      },
      "execution_count": null,
      "outputs": [
        {
          "output_type": "execute_result",
          "data": {
            "text/plain": [
              "2"
            ]
          },
          "metadata": {},
          "execution_count": 15
        }
      ]
    },
    {
      "cell_type": "code",
      "source": [
        "len([b for b in blood_data if b ==\"O\"])"
      ],
      "metadata": {
        "colab": {
          "base_uri": "https://localhost:8080/"
        },
        "id": "k3RAIiLNDGn8",
        "outputId": "2482037a-34b7-4209-e744-a716f510509e"
      },
      "execution_count": null,
      "outputs": [
        {
          "output_type": "execute_result",
          "data": {
            "text/plain": [
              "2"
            ]
          },
          "metadata": {},
          "execution_count": 17
        }
      ]
    },
    {
      "cell_type": "code",
      "source": [
        "len([b for b in blood_data if b ==\"AB\"])"
      ],
      "metadata": {
        "colab": {
          "base_uri": "https://localhost:8080/"
        },
        "id": "eXLXxA08DIjs",
        "outputId": "313b3dac-26ce-4d9e-9155-1bee69282a23"
      },
      "execution_count": null,
      "outputs": [
        {
          "output_type": "execute_result",
          "data": {
            "text/plain": [
              "3"
            ]
          },
          "metadata": {},
          "execution_count": 18
        }
      ]
    },
    {
      "cell_type": "code",
      "source": [
        "#len([b for b in blood_data if b == 여기까지는 안 바뀐다.\n",
        "#고정적인 부분과 가변적인 부분을 체크\n",
        "#가변적인 부분들에 대해서 리스트업"
      ],
      "metadata": {
        "id": "5L8QD6ECDROz"
      },
      "execution_count": null,
      "outputs": []
    },
    {
      "cell_type": "code",
      "source": [
        "b_types =[\"A\",\"B\",\"AB\",\"O\"]\n",
        "for b_type in b_types:\n",
        "  print(b_type,len([b for b in blood_data if b == b_type]))"
      ],
      "metadata": {
        "colab": {
          "base_uri": "https://localhost:8080/"
        },
        "id": "wn3b3eIaDp5V",
        "outputId": "22210d8e-3da8-4336-8cca-83e5a6c5e1bd"
      },
      "execution_count": null,
      "outputs": [
        {
          "output_type": "stream",
          "name": "stdout",
          "text": [
            "A 3\n",
            "B 2\n",
            "AB 3\n",
            "O 2\n"
          ]
        }
      ]
    },
    {
      "cell_type": "code",
      "source": [
        "#ex)1\"@@@@@\"을 출력하세요\n",
        "print(\"@\"*5)"
      ],
      "metadata": {
        "colab": {
          "base_uri": "https://localhost:8080/"
        },
        "id": "JhTumU39EUFY",
        "outputId": "b962c067-c072-4cb9-912f-3b6dfe296b3a"
      },
      "execution_count": null,
      "outputs": [
        {
          "output_type": "stream",
          "name": "stdout",
          "text": [
            "@@@@@\n"
          ]
        }
      ]
    },
    {
      "cell_type": "code",
      "source": [
        "# 문자를 붙여주는 + 연산자\n",
        "\"@\"+\"@\"+\"@\"+\"@\"+\"@\""
      ],
      "metadata": {
        "colab": {
          "base_uri": "https://localhost:8080/",
          "height": 35
        },
        "id": "L6dVQbWJIzPC",
        "outputId": "c2414110-bc8a-4727-fc13-e5e1d1e91007"
      },
      "execution_count": null,
      "outputs": [
        {
          "output_type": "execute_result",
          "data": {
            "text/plain": [
              "'@@@@@'"
            ],
            "application/vnd.google.colaboratory.intrinsic+json": {
              "type": "string"
            }
          },
          "metadata": {},
          "execution_count": 23
        }
      ]
    },
    {
      "cell_type": "code",
      "source": [
        "# i가 아니라 _(언더바)가 있는 이유는 예를 들어 101에서 105 돌아가든 0에서 4까지 돌아가든 5번만 돌아가면 되가지고 저렇게 표현함.\n",
        "for _ in range(5):\n",
        "  print(\"@\",end=\"\")"
      ],
      "metadata": {
        "colab": {
          "base_uri": "https://localhost:8080/"
        },
        "id": "fLG6kYpNJdTt",
        "outputId": "903a152a-2fe6-42d8-8934-dbad7a559e41"
      },
      "execution_count": null,
      "outputs": [
        {
          "output_type": "stream",
          "name": "stdout",
          "text": [
            "@@@@@"
          ]
        }
      ]
    },
    {
      "cell_type": "code",
      "source": [
        "# 참고) print 함수\n",
        "#end :출력할 것들 다 하고, 끝을 무엇을 할지 : 기본값 줄 바꿈\n",
        "#sep: 출혁할 대상들 사이에 무엇으로 할지"
      ],
      "metadata": {
        "id": "_ErERgWwKEmp"
      },
      "execution_count": null,
      "outputs": []
    },
    {
      "cell_type": "code",
      "source": [
        "print(\"@\",\"!\",\"$\",sep=\"\")"
      ],
      "metadata": {
        "colab": {
          "base_uri": "https://localhost:8080/"
        },
        "id": "AyUQe_G5KU6K",
        "outputId": "124e1cd6-5a7e-4e2e-c905-f055881b15d2"
      },
      "execution_count": null,
      "outputs": [
        {
          "output_type": "stream",
          "name": "stdout",
          "text": [
            "@!$\n"
          ]
        }
      ]
    },
    {
      "cell_type": "code",
      "source": [
        "print(\"@\",\"!\",\"$\",sep=\"**\")"
      ],
      "metadata": {
        "colab": {
          "base_uri": "https://localhost:8080/"
        },
        "id": "qkrwz5eKKeTC",
        "outputId": "132bb84c-c093-4b98-a266-fb321932d5c7"
      },
      "execution_count": null,
      "outputs": [
        {
          "output_type": "stream",
          "name": "stdout",
          "text": [
            "@**!**$\n"
          ]
        }
      ]
    },
    {
      "cell_type": "code",
      "source": [
        "print(\"@\",\"!\",\"$\",sep=\"**\",end=\"?\")"
      ],
      "metadata": {
        "colab": {
          "base_uri": "https://localhost:8080/"
        },
        "id": "P1BZBNS5KiRb",
        "outputId": "4eea5af5-5e46-4461-a9f8-07db69cad076"
      },
      "execution_count": null,
      "outputs": [
        {
          "output_type": "stream",
          "name": "stdout",
          "text": [
            "@**!**$?"
          ]
        }
      ]
    },
    {
      "cell_type": "code",
      "source": [],
      "metadata": {
        "id": "O29mKhx7Kn3Q"
      },
      "execution_count": null,
      "outputs": []
    },
    {
      "cell_type": "code",
      "source": [
        "#내가 한 방식\n",
        "#ex)2\n",
        "#\"@@@@@\"\n",
        "#\"@@@@@\"\n",
        "#\"@@@@@\"\n",
        "#\"@@@@@\"\n",
        "a=[\"@@@@@\"]\n",
        "print(a*5)"
      ],
      "metadata": {
        "colab": {
          "base_uri": "https://localhost:8080/"
        },
        "id": "ZwAEvrxUKDah",
        "outputId": "68e2d9e4-c322-40ca-939a-48ccff7af855"
      },
      "execution_count": null,
      "outputs": [
        {
          "output_type": "stream",
          "name": "stdout",
          "text": [
            "['@@@@@', '@@@@@', '@@@@@', '@@@@@', '@@@@@']\n"
          ]
        }
      ]
    },
    {
      "cell_type": "code",
      "source": [
        "#위의 방법을 차용 하면\n",
        "for _ in range(5):\n",
        "  print(\"@\",end=\"\")"
      ],
      "metadata": {
        "colab": {
          "base_uri": "https://localhost:8080/"
        },
        "id": "DCd7vXFILruq",
        "outputId": "4fd7a4a7-f12f-4a69-e8a9-046dd44b0b14"
      },
      "execution_count": null,
      "outputs": [
        {
          "output_type": "stream",
          "name": "stdout",
          "text": [
            "@@@@@"
          ]
        }
      ]
    },
    {
      "cell_type": "code",
      "source": [
        "for _ in range(4):\n",
        "  print(\"@\"*5)"
      ],
      "metadata": {
        "colab": {
          "base_uri": "https://localhost:8080/"
        },
        "id": "8hS54tNJL5Hn",
        "outputId": "90533274-9a82-4cca-c9dd-ac9d248fbd40"
      },
      "execution_count": null,
      "outputs": [
        {
          "output_type": "stream",
          "name": "stdout",
          "text": [
            "@@@@@\n",
            "@@@@@\n",
            "@@@@@\n",
            "@@@@@\n"
          ]
        }
      ]
    },
    {
      "cell_type": "code",
      "source": [
        "for _ in range(4):\n",
        "  for _ in range(5):\n",
        "    print(\"@\",end=\"\")\n",
        "  print(\"\",end=\"\\n\")"
      ],
      "metadata": {
        "colab": {
          "base_uri": "https://localhost:8080/"
        },
        "id": "mkOC7LHNM8ad",
        "outputId": "0aeadded-493e-4b77-f01a-6e911b377050"
      },
      "execution_count": null,
      "outputs": [
        {
          "output_type": "stream",
          "name": "stdout",
          "text": [
            "@@@@@\n",
            "@@@@@\n",
            "@@@@@\n",
            "@@@@@\n"
          ]
        }
      ]
    },
    {
      "cell_type": "code",
      "source": [
        "#ex)3 출력하기\n",
        "\n",
        "#@\n",
        "#@@\n",
        "#@@@\n",
        "#@@@@\n",
        "#@@@@@"
      ],
      "metadata": {
        "id": "Tbnzq92YIhUL"
      },
      "execution_count": null,
      "outputs": []
    },
    {
      "cell_type": "code",
      "source": [
        "cnt =0\n",
        "for i in range(5):"
      ],
      "metadata": {
        "id": "r578mCxQNyYR"
      },
      "execution_count": null,
      "outputs": []
    },
    {
      "cell_type": "code",
      "source": [
        "print(\"@\")\n",
        "print(\"@@\")\n",
        "print(\"@@@\")\n",
        "print(\"@@@@\")\n",
        "print(\"@@@@@\")"
      ],
      "metadata": {
        "colab": {
          "base_uri": "https://localhost:8080/"
        },
        "id": "LiEVoLVmNyqH",
        "outputId": "5c5c1077-7b82-410a-83e0-b87c5e1e283a"
      },
      "execution_count": null,
      "outputs": [
        {
          "output_type": "stream",
          "name": "stdout",
          "text": [
            "@\n",
            "@@\n",
            "@@@\n",
            "@@@@\n",
            "@@@@@\n"
          ]
        }
      ]
    },
    {
      "cell_type": "code",
      "source": [
        "print(\"@\"*1)\n",
        "print(\"@\"*2)\n",
        "print(\"@\"*3)\n",
        "print(\"@\"*4)\n",
        "print(\"@\"*5)\n",
        "#규칙을 찾을 수 있음!\n",
        "#print(\"@\"*i),i :1~5==> range(1,6,1)"
      ],
      "metadata": {
        "id": "X23AcZZXOAkI"
      },
      "execution_count": null,
      "outputs": []
    },
    {
      "cell_type": "code",
      "source": [
        "for i in range(1,6,1):\n",
        "  print(\"@\"*i)"
      ],
      "metadata": {
        "colab": {
          "base_uri": "https://localhost:8080/"
        },
        "id": "3U6w3Q8hOk0t",
        "outputId": "e66dbad7-4c6a-454e-a889-5417850e9d53"
      },
      "execution_count": null,
      "outputs": [
        {
          "output_type": "stream",
          "name": "stdout",
          "text": [
            "@\n",
            "@@\n",
            "@@@\n",
            "@@@@\n",
            "@@@@@\n"
          ]
        }
      ]
    },
    {
      "cell_type": "code",
      "source": [
        "#ex)4\n",
        "for i in range(6,1,-1):\n",
        "  print(\"@\"*i)"
      ],
      "metadata": {
        "colab": {
          "base_uri": "https://localhost:8080/"
        },
        "id": "mStRB0ZeIjVj",
        "outputId": "0bacbf67-aa4e-46b4-a97d-a17df741561b"
      },
      "execution_count": null,
      "outputs": [
        {
          "output_type": "stream",
          "name": "stdout",
          "text": [
            "@@@@@@\n",
            "@@@@@\n",
            "@@@@\n",
            "@@@\n",
            "@@\n"
          ]
        }
      ]
    },
    {
      "cell_type": "code",
      "source": [
        "#이런 유형의 문제들의 목적: 인덱스를 정확하게 사용\n",
        "#-> 정렬 알고리즘을 구현할 때 인덱스 처리\n",
        "#코테는 정렬 알고리즘은 거의 안나옴\n",
        "#대면 면접이나,손으로 코드 작성하는 면접에서 나옴"
      ],
      "metadata": {
        "id": "IF8HAgsqQRrS"
      },
      "execution_count": null,
      "outputs": []
    },
    {
      "cell_type": "code",
      "source": [
        "#ex)5 출력 대상이 2가지:X,@\n",
        "print(\"X\"*0+\"@\"*5)\n",
        "print(\"X\"*1+\"@\"*4)\n",
        "print(\"X\"*2+\"@\"*3)\n",
        "print(\"X\"*3+\"@\"*2)\n",
        "print(\"X\"*4+\"@\"*1)"
      ],
      "metadata": {
        "colab": {
          "base_uri": "https://localhost:8080/"
        },
        "id": "9g9iI0QxIlPC",
        "outputId": "e5dd5ea0-692f-49c2-ccc7-cfca74719132"
      },
      "execution_count": null,
      "outputs": [
        {
          "output_type": "stream",
          "name": "stdout",
          "text": [
            "@@@@@\n",
            "X@@@@\n",
            "XX@@@\n",
            "XXX@@\n",
            "XXXX@\n"
          ]
        }
      ]
    },
    {
      "cell_type": "code",
      "source": [
        "# 규칙을 찾으면 되고: 고정/가변적인!\n",
        "print(\"X\"*i+\"@\"*(5-i))#i:0,1,2,3,4 ==> range(5)"
      ],
      "metadata": {
        "colab": {
          "base_uri": "https://localhost:8080/"
        },
        "id": "e27An2jvRLVH",
        "outputId": "8af274bb-eb60-4b5f-9fde-e39902bfadbc"
      },
      "execution_count": null,
      "outputs": [
        {
          "output_type": "stream",
          "name": "stdout",
          "text": [
            "XX@@@\n"
          ]
        }
      ]
    },
    {
      "cell_type": "code",
      "source": [
        "for i in range(5,0,-1):\n",
        "  print(\"\"*i+\"@\"*(5-i))"
      ],
      "metadata": {
        "colab": {
          "base_uri": "https://localhost:8080/"
        },
        "id": "zFCF8ZKbRsNM",
        "outputId": "d57934fb-d3a3-460a-ae6d-f75570354aaa"
      },
      "execution_count": null,
      "outputs": [
        {
          "output_type": "stream",
          "name": "stdout",
          "text": [
            "\n",
            "@\n",
            "@@\n",
            "@@@\n",
            "@@@@\n"
          ]
        }
      ]
    },
    {
      "cell_type": "code",
      "source": [
        "for i in range(0,5,1):\n",
        "  print(\"\"*i+\"@\"*(5-i))"
      ],
      "metadata": {
        "colab": {
          "base_uri": "https://localhost:8080/"
        },
        "id": "MYy1cgkfSAU8",
        "outputId": "93f8c63a-73b4-4fba-cb81-2604642a47d2"
      },
      "execution_count": null,
      "outputs": [
        {
          "output_type": "stream",
          "name": "stdout",
          "text": [
            "@@@@@\n",
            "@@@@\n",
            "@@@\n",
            "@@\n",
            "@\n"
          ]
        }
      ]
    },
    {
      "cell_type": "code",
      "source": [
        "# ex)6\n",
        "# @@@@@@@@@\n",
        "#  @@@@@@@\n",
        "#   @@@@@\n",
        "#    @@@\n",
        "#     @"
      ],
      "metadata": {
        "id": "md7kQYVkSQLF"
      },
      "execution_count": null,
      "outputs": []
    },
    {
      "cell_type": "code",
      "source": [
        "print(\"X\"*0+\"@\"*9) #9 = 4 * 2 + 1\n",
        "print(\"X\"*1+\"@\"*7) #7 = 3 * 2 + 1\n",
        "print(\"X\"*2+\"@\"*5) #5 = 2 * 2 + 1\n",
        "print(\"X\"*3+\"@\"*3) #3 = 1 * 2 + 1\n",
        "print(\"X\"*4+\"@\"*1) #1 = 0 * 2 + 1\n",
        "#-> 규칙 찾기\n",
        "print(\"X\"*i+\"@\"*( 2*(4-i) +1))#i:0,1,2,3,4"
      ],
      "metadata": {
        "colab": {
          "base_uri": "https://localhost:8080/"
        },
        "id": "KPwcBZ3QWxfm",
        "outputId": "fa0a869f-8eb9-4c96-804f-9c05ef8508e1"
      },
      "execution_count": null,
      "outputs": [
        {
          "output_type": "stream",
          "name": "stdout",
          "text": [
            "@@@@@@@@@\n",
            "X@@@@@@@\n",
            "XX@@@@@\n",
            "XXX@@@\n",
            "XXXX@\n",
            "XXXX@\n"
          ]
        }
      ]
    }
  ]
}