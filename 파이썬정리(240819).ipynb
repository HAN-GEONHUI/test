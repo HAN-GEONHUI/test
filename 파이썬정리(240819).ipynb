{
  "nbformat": 4,
  "nbformat_minor": 0,
  "metadata": {
    "colab": {
      "provenance": [],
      "authorship_tag": "ABX9TyNCd7Zkb4irSN/wb1L0oFCq",
      "include_colab_link": true
    },
    "kernelspec": {
      "name": "python3",
      "display_name": "Python 3"
    },
    "language_info": {
      "name": "python"
    }
  },
  "cells": [
    {
      "cell_type": "markdown",
      "metadata": {
        "id": "view-in-github",
        "colab_type": "text"
      },
      "source": [
        "<a href=\"https://colab.research.google.com/github/HAN-GEONHUI/test/blob/t_academy_%EC%88%98%EC%97%85/%ED%8C%8C%EC%9D%B4%EC%8D%AC%EC%A0%95%EB%A6%AC(240819).ipynb\" target=\"_parent\"><img src=\"https://colab.research.google.com/assets/colab-badge.svg\" alt=\"Open In Colab\"/></a>"
      ]
    },
    {
      "cell_type": "code",
      "execution_count": null,
      "metadata": {
        "id": "uRh0alMzAIa7"
      },
      "outputs": [],
      "source": [
        "#체계적으로 기능 중심으로 구현을 할 때\n",
        "#참고) 데이터 수집, 데이터 분석, 머신러닝,: 함수정도 충분\n",
        "#      딥러닝: Tensor/keras--> 함수[전통적인 모델들]\n",
        "#      최신 모델(프로젝트 주제가 최신) PyTorch: 클래스\n",
        "#--->  딥러닝에 관심있는 사람들은 파이토치를 공부해볼 것"
      ]
    },
    {
      "cell_type": "code",
      "source": [
        "#학생들에 대한 국어,영어,수학,과학 점수들을 처리하고자 함.\n",
        "#1) 주어진 정보들을 파이썬의 특징을 활용해서 꾸역꾸역처리하고자 함\n",
        "#--> 우리 반 전체 학생들: 리스트\n",
        "#       개별 학생에 대한 과목 정보: 딕션어리"
      ],
      "metadata": {
        "id": "v9p7ENd-Bp7X"
      },
      "execution_count": null,
      "outputs": []
    },
    {
      "cell_type": "code",
      "source": [
        "students = [\n",
        "    {\"name\":\"AAA\", \"korean\":98, \"math\":93, \"english\":79, \"science\":95},\n",
        "    {\"name\":\"BBB\", \"korean\":78, \"math\":87, \"english\":87, \"science\":90},\n",
        "    {\"name\":\"CCC\", \"korean\":90, \"math\":85, \"english\":89, \"science\":92},\n",
        "    {\"name\":\"DDD\", \"korean\":80, \"math\":96, \"english\":99, \"science\":93},\n",
        "    {\"name\":\"EEE\", \"korean\":70, \"math\":80, \"english\":89, \"science\":95},\n",
        "]\n",
        "students"
      ],
      "metadata": {
        "colab": {
          "base_uri": "https://localhost:8080/"
        },
        "id": "5vwbaprxDAsa",
        "outputId": "223c9f9c-c228-4fa4-f7d1-ba23031b6938"
      },
      "execution_count": null,
      "outputs": [
        {
          "output_type": "execute_result",
          "data": {
            "text/plain": [
              "[{'name': 'AAA', 'korean': 98, 'math': 93, 'english': 79, 'science': 95},\n",
              " {'name': 'BBB', 'korean': 78, 'math': 87, 'english': 87, 'science': 90},\n",
              " {'name': 'CCC', 'korean': 90, 'math': 85, 'english': 89, 'science': 92},\n",
              " {'name': 'DDD', 'korean': 80, 'math': 96, 'english': 99, 'science': 93},\n",
              " {'name': 'EEE', 'korean': 70, 'math': 80, 'english': 89, 'science': 95}]"
            ]
          },
          "metadata": {},
          "execution_count": 1
        }
      ]
    },
    {
      "cell_type": "code",
      "source": [
        "# 우리반 학생별로 4과목 성적에 대한 총점/ 평균 점수를 출력하고자 함!!!\n",
        "# 출력 : 학생이름, 4과목 총점, 4과목에 대한 평균 출력!!\n",
        "print(\"이름\", \"총점\",\"평균\", sep=\"\\t\") # sep:출력대상들 사이 , end: 다 출력하고 끝에 뭐할지..\n",
        "\n",
        "for student in students:\n",
        "  # 개별 학생들이 무엇을 하지!\n",
        "  score_sum = student[\"korean\"] + student[\"math\"]+student[\"english\"] + student[\"science\"]\n",
        "\n",
        "  score_avg = score_sum/4\n",
        "  print(student[\"name\"],score_sum,score_avg,sep=\"\\t\")"
      ],
      "metadata": {
        "colab": {
          "base_uri": "https://localhost:8080/"
        },
        "id": "5TIjNG_-DF13",
        "outputId": "0396b08c-014c-46e7-ab9c-75af2ce6abcc"
      },
      "execution_count": null,
      "outputs": [
        {
          "output_type": "stream",
          "name": "stdout",
          "text": [
            "이름\t총점\t평균\n",
            "AAA\t365\t91.25\n",
            "BBB\t342\t85.5\n",
            "CCC\t356\t89.0\n",
            "DDD\t368\t92.0\n",
            "EEE\t334\t83.5\n"
          ]
        }
      ]
    },
    {
      "cell_type": "code",
      "source": [
        "# 2) 학생들에대한 정보를 생성하는 함수!!!!!\n",
        "#   ===> 학생마다 정보를 생성할 때 키값이 계속 동일한대도 반복을 해서 타이핑!!\n",
        "#        이것이 반복이 되고, 귀찮으니,,,,함수로 만들어서 처리하자!!\n",
        "#   ===> 가장 반복이 없는 기본이 되는 정보들로 가지고 생성하자!!!"
      ],
      "metadata": {
        "id": "Bd30PuV2EjJL"
      },
      "execution_count": null,
      "outputs": []
    },
    {
      "cell_type": "code",
      "source": [
        "def create_student( name, kor, math, eng, sci):\n",
        "    return {\"name\":name, \"korean\":kor, \"math\":math, \"english\":eng,\"science\":sci}"
      ],
      "metadata": {
        "id": "rKW5IeIFEzL5"
      },
      "execution_count": null,
      "outputs": []
    },
    {
      "cell_type": "code",
      "source": [
        "#--> test: AAA,98,93,79,95"
      ],
      "metadata": {
        "id": "JyVgLMFbE2hB"
      },
      "execution_count": null,
      "outputs": []
    },
    {
      "cell_type": "code",
      "source": [
        "students = [\n",
        "    {\"name\":\"AAA\", \"korean\":98, \"math\":93, \"english\":79, \"science\":95},\n",
        "    {\"name\":\"BBB\", \"korean\":78, \"math\":87, \"english\":87, \"science\":90},\n",
        "    {\"name\":\"CCC\", \"korean\":90, \"math\":85, \"english\":89, \"science\":92},\n",
        "    {\"name\":\"DDD\", \"korean\":80, \"math\":96, \"english\":99, \"science\":93},\n",
        "    {\"name\":\"EEE\", \"korean\":70, \"math\":80, \"english\":89, \"science\":95},\n",
        "]\n",
        "students"
      ],
      "metadata": {
        "colab": {
          "base_uri": "https://localhost:8080/"
        },
        "id": "UnH3SUjQFZ3X",
        "outputId": "26b9e2c1-0042-45e4-b3b7-9a72fb0bcb05"
      },
      "execution_count": null,
      "outputs": [
        {
          "output_type": "execute_result",
          "data": {
            "text/plain": [
              "[{'name': 'AAA', 'korean': 98, 'math': 93, 'english': 79, 'science': 95},\n",
              " {'name': 'BBB', 'korean': 78, 'math': 87, 'english': 87, 'science': 90},\n",
              " {'name': 'CCC', 'korean': 90, 'math': 85, 'english': 89, 'science': 92},\n",
              " {'name': 'DDD', 'korean': 80, 'math': 96, 'english': 99, 'science': 93},\n",
              " {'name': 'EEE', 'korean': 70, 'math': 80, 'english': 89, 'science': 95}]"
            ]
          },
          "metadata": {},
          "execution_count": 12
        }
      ]
    },
    {
      "cell_type": "code",
      "source": [
        "#위의 그림과 같은 것들 앞에서 만든 create_student 함수를 이용해서\n",
        "#입력을 소화해서 학생들에 대한 정보들을 코드화\n",
        "students = [\n",
        "    create_student( \"AAA\",98, 93, 79,95),\n",
        "    create_student( \"BBB\",78, 87, 87,90),\n",
        "    create_student( \"CCC\",90, 85, 89,92),\n",
        "    create_student( \"DDD\",80, 96, 99,93),\n",
        "    create_student( \"EEE\",70, 80, 89,95)\n",
        "]\n",
        "students"
      ],
      "metadata": {
        "colab": {
          "base_uri": "https://localhost:8080/"
        },
        "id": "xF0J1H6nFAJB",
        "outputId": "2e046d95-8364-4409-fd77-355a0f579644"
      },
      "execution_count": null,
      "outputs": [
        {
          "output_type": "execute_result",
          "data": {
            "text/plain": [
              "[{'name': 'AAA', 'korean': 98, 'math': 93, 'english': 79, 'science': 95},\n",
              " {'name': 'BBB', 'korean': 78, 'math': 87, 'english': 87, 'science': 90},\n",
              " {'name': 'CCC', 'korean': 90, 'math': 85, 'english': 89, 'science': 92},\n",
              " {'name': 'DDD', 'korean': 80, 'math': 96, 'english': 99, 'science': 93},\n",
              " {'name': 'EEE', 'korean': 70, 'math': 80, 'english': 89, 'science': 95}]"
            ]
          },
          "metadata": {},
          "execution_count": 11
        }
      ]
    },
    {
      "cell_type": "code",
      "source": [
        "#3) 필요한 기능들에 대해서 다 함수화 최대한 하려고 함!\n",
        "#- 1명 학생에 대한 정보를 생성하는 함수\n",
        "#+ 1명 학생에 대한 정보를 바탕으로 총점을 구하는 함수\n",
        "#+ 1명 학생에 대한 정보를 바탕으로 평균을 구하는 함수\n",
        "#+ 1명 학생에 대한 정보를 바탕으로 출력(이름,총점,평균)을 구하는 함수"
      ],
      "metadata": {
        "id": "OM_BQfH5Fwh5"
      },
      "execution_count": null,
      "outputs": []
    },
    {
      "cell_type": "code",
      "source": [
        "#-1명 학생에 대한 정보를 생성한느 함수\n",
        "#입력: 이름, 국어,수학,영어,과학\n",
        "#기능: 학생 정보에 대한 DICT 생성\n",
        "#출력: 1명 학생에 대한 정보 dict\n",
        "\n",
        "def create_student( name, kor, math, eng, sci):\n",
        "    return {\"name\":name, \"korean\":kor, \"math\":math,\n",
        "            \"english\":eng, \"science\":sci}\n",
        "\n",
        "#+1명 학생에 대한 총점을 계산해주는 함수\n",
        "#입력 : 1명 학생의 정보\n",
        "#기능 : 1명 학생의 총점 계산\n",
        "#출력 : 1명 학생의 총점\n",
        "def student_get_sum(student): #student={\"name\":\"aaaa\",\"korean\":83,,,,}\n",
        "    score_sum = student[\"korean\"] + student[\"math\"] \\\n",
        "                    + student[\"english\"] + student[\"science\"]\n",
        "    return score_sum\n",
        "# +1명 학생에 대한 4과목 평균을 계산해주는 함수\n",
        "# 입력 : 학생 1명에 대한 정보\n",
        "# 기능 : 4과목 점수 평균 계산\n",
        "# 출력 : 평균 점수\n",
        "def student_get_avg(student):\n",
        "    score_avg = student_get_sum(student)/4\n",
        "    return score_avg\n",
        "\n",
        "# + 1명 학생에 대한 정보 출력을 하는 함수\n",
        "# 입력 : 학생 1명에 대한 정보\n",
        "# 기능 : 정보를 출력하는 문자열을 생성 --> 이름, 총점, 평균\n",
        "# 출력 : 출력할 문자열\n",
        "def student_to_string(student):\n",
        "    temp = \"{0}\\t{1}\\t{2}\".format(student[\"name\"],student_get_sum( student),\n",
        "                                  student_get_avg(student ))\n",
        "    return temp\n"
      ],
      "metadata": {
        "id": "5R_lhPq7GGBY"
      },
      "execution_count": null,
      "outputs": []
    },
    {
      "cell_type": "code",
      "source": [
        "# 참고) 파이썬의 문자열을 표현하는 방식은 크게 3가지\n",
        "# - % 연산자를 활용해서 표현\n",
        "# - format() 활용\n",
        "# - f-string 통해서 표현\n",
        "#->편한거 쓰기"
      ],
      "metadata": {
        "id": "1fPh6MFcIV7l"
      },
      "execution_count": null,
      "outputs": []
    },
    {
      "cell_type": "code",
      "source": [
        "a = 365\n",
        "print(\"나의 총점:\",a)"
      ],
      "metadata": {
        "colab": {
          "base_uri": "https://localhost:8080/"
        },
        "id": "3JEpHuw1Ic_8",
        "outputId": "0500825c-3733-465c-ae52-46757960a21a"
      },
      "execution_count": null,
      "outputs": [
        {
          "output_type": "stream",
          "name": "stdout",
          "text": [
            "나의 총점: 365\n"
          ]
        }
      ]
    },
    {
      "cell_type": "code",
      "source": [
        "a = 365\n",
        "print(\"나의 총점:{}\".format(a))"
      ],
      "metadata": {
        "colab": {
          "base_uri": "https://localhost:8080/"
        },
        "id": "xVU_dZNxIoO8",
        "outputId": "27fdef6c-8214-4786-ac9b-59790b19730d"
      },
      "execution_count": null,
      "outputs": [
        {
          "output_type": "stream",
          "name": "stdout",
          "text": [
            "나의 총점:365\n"
          ]
        }
      ]
    },
    {
      "cell_type": "code",
      "source": [
        "a =365\n",
        "b = 99\n",
        "print(\"나의 총점:{}, 평균:{}\".format(a,b))"
      ],
      "metadata": {
        "colab": {
          "base_uri": "https://localhost:8080/"
        },
        "id": "w9HSI0a6I0QL",
        "outputId": "0296eb1a-d592-4cf9-a6ec-8ecce9719840"
      },
      "execution_count": null,
      "outputs": [
        {
          "output_type": "stream",
          "name": "stdout",
          "text": [
            "나의 총점:365, 평균:99\n"
          ]
        }
      ]
    },
    {
      "cell_type": "code",
      "source": [
        "a =365\n",
        "b = 99\n",
        "print(\"나의 총점:{1}, 평균:{0}\".format(a,b))"
      ],
      "metadata": {
        "colab": {
          "base_uri": "https://localhost:8080/"
        },
        "id": "eKj7DP23JNyr",
        "outputId": "d697b2dc-c570-4815-bcc4-d0c4bbba4a46"
      },
      "execution_count": null,
      "outputs": [
        {
          "output_type": "stream",
          "name": "stdout",
          "text": [
            "나의 총점:99, 평균:365\n"
          ]
        }
      ]
    },
    {
      "cell_type": "code",
      "source": [
        "a =365\n",
        "b = 99\n",
        "print(\"나의 총점:{1}, 평균:{0}\",반의 평균:{1}.format(a,b))\n",
        "#--b,a,b 하나하나 나열하지 않고 한 번 정의한 순서를 중심으로 반복해서 사용이 가능함"
      ],
      "metadata": {
        "id": "-bPdreH3JSg8"
      },
      "execution_count": null,
      "outputs": []
    },
    {
      "cell_type": "code",
      "source": [
        "#파이썬 :3.x-> 추가된 문자열 f-string\n",
        "a = 365\n",
        "b = 99\n",
        "print(f\"나의 총점:{a},평균:{b}\")"
      ],
      "metadata": {
        "colab": {
          "base_uri": "https://localhost:8080/"
        },
        "id": "CUlLihFcJnmJ",
        "outputId": "4d70906a-db73-46d1-aa12-2c819e594e72"
      },
      "execution_count": null,
      "outputs": [
        {
          "output_type": "stream",
          "name": "stdout",
          "text": [
            "나의 총점:365,평균:99\n"
          ]
        }
      ]
    },
    {
      "cell_type": "code",
      "source": [
        "# 학생 생성도 함수로 & 기능도 함수로\n",
        "# ==> 학생 생성은 위에서 복봍\n",
        "students = [\n",
        "    create_student( \"AAA\",98, 93, 79,95),\n",
        "    create_student( \"BBB\",78, 87, 87,90),\n",
        "    create_student( \"CCC\",90, 85, 89,92),\n",
        "    create_student( \"DDD\",80, 96, 99,93),\n",
        "    create_student( \"EEE\",70, 80, 89,95)\n",
        "]\n",
        "\n",
        "print(\"이름\", \"총점\",\"평균\", sep=\"\\t\")\n",
        "for student in students:\n",
        "    print( student_to_string(student) )\n",
        "\n",
        "\n",
        "# 우리반 학생별로 4과목 성적에 대한 총점/ 평균 점수를 출력하고자 함!!!\n",
        "# 출력 : 학생이름, 4과목 총점, 4과목에 대한 평균 출력!!\n",
        "# print(\"이름\", \"총점\",\"평균\", sep=\"\\t\") # sep:출력대상들 사이 , end: 다 출력하고 끝에 뭐할지..\n",
        "\n",
        "# for student in students:\n",
        "#     # 개별학생에서 무엇을 하지!!!!!\n",
        "#     score_sum = student[\"korean\"] + student[\"math\"] +student[\"english\"] \\\n",
        "#                     + student[\"science\"]\n",
        "#     score_avg = score_sum / 4\n",
        "#     print(student[\"name\"], score_sum, score_avg, sep=\"\\t\")"
      ],
      "metadata": {
        "colab": {
          "base_uri": "https://localhost:8080/"
        },
        "id": "1PtzfNBpJ6rZ",
        "outputId": "3d094ba6-d1ea-4d4c-bd55-a7ac707a0cf9"
      },
      "execution_count": null,
      "outputs": [
        {
          "output_type": "stream",
          "name": "stdout",
          "text": [
            "이름\t총점\t평균\n",
            "AAA\t365\t91.25\n",
            "BBB\t342\t85.5\n",
            "CCC\t356\t89.0\n",
            "DDD\t368\t92.0\n",
            "EEE\t334\t83.5\n"
          ]
        }
      ]
    },
    {
      "cell_type": "code",
      "source": [
        "### 일반적으로 프로그램의 코드들을 작성하는 스타일과 조금 달라요\n",
        "#--> 객체지향으로 설계: class ---> object\n",
        "#필요한 기능 중심으로, 조립을 하는 방식\n",
        "#수 많은 시행착오, 경험, 노하우, 트렌드..\n",
        "# 참고) 데이터 분석/ 모델링 쪽은: 아주 심하는지는 않음, 기본적인 부분, 약간의 스타일이 있음\n",
        "#참고) kaggle 오픈 사이틔 올려둔 샘플코드들이 클래스를 사용해야 하는 경우 이해하기 위해서도 알기는 해야함.\n",
        "\n",
        "# 클래스: class: 속성 +기능(뭔가 틀을 생성하는 것이 class)\n",
        "#                점수, 이름: 속성--> property\n",
        "#                평균구해주세요, 총점 계산해주세요: 기능--> method\n",
        "\n",
        "#객체: 클래스를 기반으로 생성된 구체적인 대상\n",
        "#self: 붕어빵틀: 클래스--> 구체적으로 만들어진 붕어빵1개: 객체\n",
        "#self: 자기자신을"
      ],
      "metadata": {
        "id": "Y5go3qh-LIAi"
      },
      "execution_count": null,
      "outputs": []
    },
    {
      "cell_type": "code",
      "source": [
        "class Studnet: # 일반적인 함수와 구별해서 하기 위해서 보통은 대문자로 시작!!!\n",
        "# 생성자 : 필요한 초기 속성들에 대한 초기화!!!!\n",
        "#         ==> 파이썬에서 클래스 생성시 초기화  미리 만든 함수 특별함수 : _(양옆2개)\n",
        "    def __init__(self,name,korean, math, english, science ):\n",
        "        self.name = name\n",
        "        self.korean = korean\n",
        "        self.math = math\n",
        "        self.english = english\n",
        "        self.science = science\n"
      ],
      "metadata": {
        "id": "gvtvJUhFSMCu"
      },
      "execution_count": null,
      "outputs": []
    },
    {
      "cell_type": "code",
      "source": [
        "students = [\n",
        "    Studnet( \"AAA\",98, 93, 79,95),\n",
        "    Studnet( \"BBB\",78, 87, 87,90),\n",
        "    Studnet( \"CCC\",90, 85, 89,92),\n",
        "    Studnet( \"DDD\",80, 96, 99,93),\n",
        "    Studnet( \"EEE\",70, 80, 89,95)\n",
        "]\n",
        "students"
      ],
      "metadata": {
        "colab": {
          "base_uri": "https://localhost:8080/"
        },
        "id": "xL41_F3LSTC0",
        "outputId": "e49f6afb-79b7-4d1a-c9db-576a14610810"
      },
      "execution_count": null,
      "outputs": [
        {
          "output_type": "execute_result",
          "data": {
            "text/plain": [
              "[<__main__.Studnet at 0x7a33fb1ad600>,\n",
              " <__main__.Studnet at 0x7a33fb1ae800>,\n",
              " <__main__.Studnet at 0x7a33fb1add80>,\n",
              " <__main__.Studnet at 0x7a33fb1af1f0>,\n",
              " <__main__.Studnet at 0x7a33fb1aed10>]"
            ]
          },
          "metadata": {},
          "execution_count": 59
        }
      ]
    },
    {
      "cell_type": "code",
      "source": [
        "students = [\n",
        "    Studnet( \"AAA\",98, 93, 79,95),\n",
        "    Studnet( \"BBB\",78, 87, 87,90),\n",
        "    Studnet( \"CCC\",90, 85, 89,92),\n",
        "    Studnet( \"DDD\",80, 96, 99,93),\n",
        "    Studnet( \"EEE\",70, 80, 89,95)\n",
        "]\n",
        "students"
      ],
      "metadata": {
        "colab": {
          "base_uri": "https://localhost:8080/"
        },
        "id": "EGDk8IIyTqQv",
        "outputId": "e8598cd1-3840-4f88-d3d3-fd530139fa56"
      },
      "execution_count": null,
      "outputs": [
        {
          "output_type": "execute_result",
          "data": {
            "text/plain": [
              "[<__main__.Studnet at 0x7a33fb1ad120>,\n",
              " <__main__.Studnet at 0x7a33fb1ac250>,\n",
              " <__main__.Studnet at 0x7a33fb1af250>,\n",
              " <__main__.Studnet at 0x7a33fb1aebc0>,\n",
              " <__main__.Studnet at 0x7a33fb1ad3f0>]"
            ]
          },
          "metadata": {},
          "execution_count": 36
        }
      ]
    },
    {
      "cell_type": "code",
      "source": [
        "students[0].name"
      ],
      "metadata": {
        "colab": {
          "base_uri": "https://localhost:8080/",
          "height": 35
        },
        "id": "ua3sa_wiTuUl",
        "outputId": "f2e34d14-cfa2-458e-e01a-27ac5b8dc9a5"
      },
      "execution_count": null,
      "outputs": [
        {
          "output_type": "execute_result",
          "data": {
            "text/plain": [
              "'AAA'"
            ],
            "application/vnd.google.colaboratory.intrinsic+json": {
              "type": "string"
            }
          },
          "metadata": {},
          "execution_count": 60
        }
      ]
    },
    {
      "cell_type": "code",
      "source": [
        "students[0].korean"
      ],
      "metadata": {
        "colab": {
          "base_uri": "https://localhost:8080/"
        },
        "id": "JJgdn4MbTvrQ",
        "outputId": "27684387-9ef5-46b7-ebb5-064a63d9002d"
      },
      "execution_count": null,
      "outputs": [
        {
          "output_type": "execute_result",
          "data": {
            "text/plain": [
              "98"
            ]
          },
          "metadata": {},
          "execution_count": 61
        }
      ]
    },
    {
      "cell_type": "code",
      "source": [
        "students[3].name"
      ],
      "metadata": {
        "colab": {
          "base_uri": "https://localhost:8080/",
          "height": 35
        },
        "id": "Qc2u8HexTvtv",
        "outputId": "fca94cdc-9556-4ed9-b471-8889c42c5a1a"
      },
      "execution_count": null,
      "outputs": [
        {
          "output_type": "execute_result",
          "data": {
            "text/plain": [
              "'DDD'"
            ],
            "application/vnd.google.colaboratory.intrinsic+json": {
              "type": "string"
            }
          },
          "metadata": {},
          "execution_count": 62
        }
      ]
    },
    {
      "cell_type": "code",
      "source": [
        "# ==> 학생들에 대한 대상을 생성하는 과정에서\n",
        "#     필요한 정보들만 생성을 한 것임!!!\n",
        "# ==> 개별 객체(학생1명)에 대한 속성/정보 :property"
      ],
      "metadata": {
        "id": "5HFxj6RRUINV"
      },
      "execution_count": null,
      "outputs": []
    },
    {
      "cell_type": "code",
      "source": [
        "# 클래스 내부에서는 : 기능적으로 필요한 부분들도 추가 설계!!!!\n",
        "# ==> 너의 총점은 얼마나야?\n",
        "# 속성 // 기능 : property // method\n",
        "class 클래스명:\n",
        "    def __init__(self,):\n",
        "        self.설정한속성 = 속성값 초기화\n",
        "        ....\n",
        "    def 메서드/내가원하는 기능.내가 원하는 함수(self, ,,,,,,,,,):\n",
        "        ........"
      ],
      "metadata": {
        "colab": {
          "base_uri": "https://localhost:8080/",
          "height": 110
        },
        "id": "ibVgi6P5UIQV",
        "outputId": "012637ca-1aff-445c-edbd-cbca517ad694"
      },
      "execution_count": null,
      "outputs": [
        {
          "output_type": "error",
          "ename": "SyntaxError",
          "evalue": "invalid syntax (<ipython-input-50-728616620148>, line 6)",
          "traceback": [
            "\u001b[0;36m  File \u001b[0;32m\"<ipython-input-50-728616620148>\"\u001b[0;36m, line \u001b[0;32m6\u001b[0m\n\u001b[0;31m    self.설정한속성 = 속성값 초기화\u001b[0m\n\u001b[0m                     ^\u001b[0m\n\u001b[0;31mSyntaxError\u001b[0m\u001b[0;31m:\u001b[0m invalid syntax\n"
          ]
        }
      ]
    },
    {
      "cell_type": "code",
      "source": [],
      "metadata": {
        "id": "5ziYJIlQaPiR"
      },
      "execution_count": null,
      "outputs": []
    },
    {
      "cell_type": "code",
      "source": [
        "class Studnet: # 일반적인 함수와 구별해서 하기 위해서 보통은 대문자로 시작!!!\n",
        "# 생성자 : 필요한 초기 속성들에 대한 초기화!!!!\n",
        "#         ==> 파이썬에서 클래스 생성시 초기화  미리 만든 함수 특별함수 : _(양옆2개)\n",
        "    def __init__(self,name,korean, math, english, science ):\n",
        "        self.name = name\n",
        "        self.korean = korean\n",
        "        self.math = math\n",
        "        self.english = english\n",
        "        self.science = science\n",
        "    # ---> 필요한 기능 추가 : 총점계산, 평균계산, 출력(이름,총점, 평균)\n",
        "    def get_sum(self):\n",
        "      score_sum = self.korean + self.math + self.english + self.science\n",
        "      return score_sum\n",
        "    def get_avg(self):\n",
        "        score_avg = self.get_sum() / 4\n",
        "        return score_avg\n",
        "    def to_string(self):\n",
        "        temp = \"{0}\\t{1}]\\t{2}\".format(self.name, self.get_sum(), self.get_avg())\n",
        "        return temp\n"
      ],
      "metadata": {
        "id": "yzKoU6tgUIUA"
      },
      "execution_count": null,
      "outputs": []
    },
    {
      "cell_type": "code",
      "source": [
        "students = [\n",
        "    Studnet( \"AAA\",98, 93, 79,95),\n",
        "    Studnet( \"BBB\",78, 87, 87,90),\n",
        "    Studnet( \"CCC\",90, 85, 89,92),\n",
        "    Studnet( \"DDD\",80, 96, 99,93),\n",
        "    Studnet( \"EEE\",70, 80, 89,95)\n",
        "]\n",
        "students"
      ],
      "metadata": {
        "colab": {
          "base_uri": "https://localhost:8080/"
        },
        "id": "uY8qQ65gZT-I",
        "outputId": "6d4d0519-8dca-418f-ef3d-e332b6f83671"
      },
      "execution_count": null,
      "outputs": [
        {
          "output_type": "execute_result",
          "data": {
            "text/plain": [
              "[<__main__.Studnet at 0x7a33fb1798a0>,\n",
              " <__main__.Studnet at 0x7a33fb179e10>,\n",
              " <__main__.Studnet at 0x7a33fb17b070>,\n",
              " <__main__.Studnet at 0x7a33fb179c00>,\n",
              " <__main__.Studnet at 0x7a33fb17b190>]"
            ]
          },
          "metadata": {},
          "execution_count": 86
        }
      ]
    },
    {
      "cell_type": "code",
      "source": [
        "students[0]"
      ],
      "metadata": {
        "colab": {
          "base_uri": "https://localhost:8080/"
        },
        "id": "hOOnylzaUIWl",
        "outputId": "532fca40-1781-4419-a7f1-355ec8a0ddc7"
      },
      "execution_count": null,
      "outputs": [
        {
          "output_type": "execute_result",
          "data": {
            "text/plain": [
              "<__main__.Studnet at 0x7a33fb1798a0>"
            ]
          },
          "metadata": {},
          "execution_count": 87
        }
      ]
    },
    {
      "cell_type": "code",
      "source": [
        "students[0].name"
      ],
      "metadata": {
        "colab": {
          "base_uri": "https://localhost:8080/",
          "height": 35
        },
        "id": "EWRaYFmzaQZ-",
        "outputId": "2caa766f-5203-4146-f6e4-d23f44ddab1f"
      },
      "execution_count": null,
      "outputs": [
        {
          "output_type": "execute_result",
          "data": {
            "text/plain": [
              "'AAA'"
            ],
            "application/vnd.google.colaboratory.intrinsic+json": {
              "type": "string"
            }
          },
          "metadata": {},
          "execution_count": 88
        }
      ]
    },
    {
      "cell_type": "code",
      "source": [
        "students[0].get_sum()"
      ],
      "metadata": {
        "id": "kN4fvJm0UIY2",
        "colab": {
          "base_uri": "https://localhost:8080/"
        },
        "outputId": "52865d2c-5e4e-456f-9959-152235a32397"
      },
      "execution_count": null,
      "outputs": [
        {
          "output_type": "execute_result",
          "data": {
            "text/plain": [
              "365"
            ]
          },
          "metadata": {},
          "execution_count": 89
        }
      ]
    },
    {
      "cell_type": "code",
      "source": [
        "students[0].get_avg()"
      ],
      "metadata": {
        "id": "kjOzUnhNVoRl",
        "colab": {
          "base_uri": "https://localhost:8080/"
        },
        "outputId": "60566fc8-a607-4549-fb6f-45fbd0c00e5e"
      },
      "execution_count": null,
      "outputs": [
        {
          "output_type": "execute_result",
          "data": {
            "text/plain": [
              "91.25"
            ]
          },
          "metadata": {},
          "execution_count": 90
        }
      ]
    },
    {
      "cell_type": "code",
      "source": [
        "print(students[0].to_string())"
      ],
      "metadata": {
        "id": "kIggnioGWBPk",
        "colab": {
          "base_uri": "https://localhost:8080/"
        },
        "outputId": "4c472b2b-b90a-4971-b513-52c214ed8f77"
      },
      "execution_count": null,
      "outputs": [
        {
          "output_type": "stream",
          "name": "stdout",
          "text": [
            "AAA\t365]\t91.25\n"
          ]
        }
      ]
    },
    {
      "cell_type": "code",
      "source": [
        "students[3]"
      ],
      "metadata": {
        "id": "2-1W1dPOWBSE",
        "colab": {
          "base_uri": "https://localhost:8080/"
        },
        "outputId": "ef616734-48c1-4f4e-d304-bf7d51731940"
      },
      "execution_count": null,
      "outputs": [
        {
          "output_type": "execute_result",
          "data": {
            "text/plain": [
              "<__main__.Studnet at 0x7a33fb179c00>"
            ]
          },
          "metadata": {},
          "execution_count": 92
        }
      ]
    },
    {
      "cell_type": "code",
      "source": [
        "students[3].get_sum()"
      ],
      "metadata": {
        "colab": {
          "base_uri": "https://localhost:8080/"
        },
        "id": "5s4g8lAqXzFu",
        "outputId": "4485e996-6c49-43dc-de9c-0aa84fc6475c"
      },
      "execution_count": null,
      "outputs": [
        {
          "output_type": "execute_result",
          "data": {
            "text/plain": [
              "368"
            ]
          },
          "metadata": {},
          "execution_count": 93
        }
      ]
    },
    {
      "cell_type": "code",
      "source": [
        "students[0].get_sum() > students[3].get_sum()"
      ],
      "metadata": {
        "colab": {
          "base_uri": "https://localhost:8080/"
        },
        "id": "f_3Azf8Ub4rh",
        "outputId": "5abcbcea-64c9-4772-873e-37e2758c4905"
      },
      "execution_count": null,
      "outputs": [
        {
          "output_type": "execute_result",
          "data": {
            "text/plain": [
              "False"
            ]
          },
          "metadata": {},
          "execution_count": 94
        }
      ]
    },
    {
      "cell_type": "code",
      "source": [
        "students[0].get_sum() < students[3].get_sum()"
      ],
      "metadata": {
        "colab": {
          "base_uri": "https://localhost:8080/"
        },
        "id": "ghZqzIE2b4_A",
        "outputId": "61c97bb7-e728-4f45-ad63-7593dcdda688"
      },
      "execution_count": null,
      "outputs": [
        {
          "output_type": "execute_result",
          "data": {
            "text/plain": [
              "True"
            ]
          },
          "metadata": {},
          "execution_count": 95
        }
      ]
    },
    {
      "cell_type": "code",
      "source": [
        "#std0 < std3\n",
        "# 기준은 본인 의도/목적에 맞게 잡으면 됨.\n",
        "# 단, 여기서는 단순히 총점으로만 기준을 함!!!"
      ],
      "metadata": {
        "id": "QhGnNGmKb5BZ"
      },
      "execution_count": null,
      "outputs": []
    },
    {
      "cell_type": "code",
      "source": [
        "# 특별메서드 : ==(eq), !=(ne), > :gt, >=: ge\n",
        "#                              < :lt, <=:le"
      ],
      "metadata": {
        "id": "Jspg3pF0b5EA"
      },
      "execution_count": null,
      "outputs": []
    },
    {
      "cell_type": "code",
      "source": [
        "class Studnet: # 일반적인 함수와 구별해서 하기 위해서 보통은 대문자로 시작!!!\n",
        "# 생성자 : 필요한 초기 속성들에 대한 초기화!!!!\n",
        "#         ==> 파이썬에서 클래스 생성시 초기화  미리 만든 함수 특별함수 : _(양옆2개)\n",
        "    def __init__(self,name,korean, math, english, science ):\n",
        "        self.name = name\n",
        "        self.korean = korean\n",
        "        self.math = math\n",
        "        self.english = english\n",
        "        self.science = science\n",
        "    # ---> 필요한 기능 추가 : 총점계산, 평균계산, 출력(이름,총점, 평균)\n",
        "    def get_sum(self):\n",
        "        score_sum = self.korean + self.math + self.english + self.science\n",
        "        return score_sum\n",
        "    def get_avg(self):\n",
        "        score_avg = self.get_sum() / 4\n",
        "        return score_avg\n",
        "    def to_string(self):\n",
        "        temp = \"{0}\\t{1}\\t{2}\".format(self.name, self.get_sum(), self.get_avg())\n",
        "        return temp\n",
        "\n",
        "    #### ===> 2명 학생에 객체에 대한 연산자를 활용한 비교!!!!\n",
        "    #         저의 기준 : 4과목 총점\n",
        "    def __eq__(self, value): # std1 == std2 , total_sum\n",
        "        return self.get_sum() == value.get_sum()\n",
        "        # 참고) 국어점수가 기준 : self.korean == value.korean\n",
        "    def __ne__(self, value): # std1 != std2, tot_sum\n",
        "        return self.get_sum() != value.get_sum()\n",
        "    def __gt__(self, value): # std1 > std2, tot_sum\n",
        "        return self.get_sum() > value.get_sum()\n",
        "    def __ge__(self, value): # std1 >= std2, tot_sum\n",
        "        return self.get_sum() >= value.get_sum()\n",
        "    def __lt__(self, value): # std1 < std2, tot_sum\n",
        "        return self.get_sum() < value.get_sum()\n",
        "    def __le__(self, value): # std1 <= std2, tot_sum\n",
        "        return self.get_sum() <= value.get_sum()"
      ],
      "metadata": {
        "id": "DP2RK_ktb5GV"
      },
      "execution_count": null,
      "outputs": []
    },
    {
      "cell_type": "code",
      "source": [
        "students = [\n",
        "    Studnet( \"AAA\",98, 93, 79,95),\n",
        "    Studnet( \"BBB\",78, 87, 87,90),\n",
        "    Studnet( \"CCC\",90, 85, 89,92),\n",
        "    Studnet( \"DDD\",80, 96, 99,93),\n",
        "    Studnet( \"EEE\",70, 80, 89,95)\n",
        "]\n",
        "students"
      ],
      "metadata": {
        "colab": {
          "base_uri": "https://localhost:8080/"
        },
        "id": "11tn4bP_b5Ir",
        "outputId": "c25e937b-57ff-46a3-82c1-f9c14ae2e11f"
      },
      "execution_count": null,
      "outputs": [
        {
          "output_type": "execute_result",
          "data": {
            "text/plain": [
              "[<__main__.Studnet at 0x7a33fb1ac640>,\n",
              " <__main__.Studnet at 0x7a33fb1ae440>,\n",
              " <__main__.Studnet at 0x7a33fb1aef20>,\n",
              " <__main__.Studnet at 0x7a33fb1ac4c0>,\n",
              " <__main__.Studnet at 0x7a33fb1ad630>]"
            ]
          },
          "metadata": {},
          "execution_count": 97
        }
      ]
    },
    {
      "cell_type": "code",
      "source": [
        "students[0].get_sum()"
      ],
      "metadata": {
        "colab": {
          "base_uri": "https://localhost:8080/"
        },
        "id": "9322evURb5Kz",
        "outputId": "646a3b79-0ade-4967-9790-75941891d3dc"
      },
      "execution_count": null,
      "outputs": [
        {
          "output_type": "execute_result",
          "data": {
            "text/plain": [
              "365"
            ]
          },
          "metadata": {},
          "execution_count": 98
        }
      ]
    },
    {
      "cell_type": "code",
      "source": [
        "# ==> 클래스에서 각 생성된 객체끼리 비교 연산자를 활용해서\n",
        "#     정의를 했으니, 각 정의에 대해서 총점 기준으로 비교!!!!"
      ],
      "metadata": {
        "id": "3o8nrHhvb5NQ"
      },
      "execution_count": null,
      "outputs": []
    },
    {
      "cell_type": "code",
      "source": [
        "# 0번 학생하고, 3번 학생하고 총점이 같니?\n",
        "students[0].get_sum() == students[3].get_sum()"
      ],
      "metadata": {
        "colab": {
          "base_uri": "https://localhost:8080/"
        },
        "id": "Bs1PP9o1b5Ph",
        "outputId": "0c98b6b7-8016-4559-cc2f-e48a5958d626"
      },
      "execution_count": null,
      "outputs": [
        {
          "output_type": "execute_result",
          "data": {
            "text/plain": [
              "False"
            ]
          },
          "metadata": {},
          "execution_count": 99
        }
      ]
    },
    {
      "cell_type": "code",
      "source": [
        "students[0] == students[3]"
      ],
      "metadata": {
        "colab": {
          "base_uri": "https://localhost:8080/"
        },
        "id": "eheO1cs3b5Ro",
        "outputId": "fc7236fd-e0d3-489b-f1e2-4773bbbc7b4e"
      },
      "execution_count": null,
      "outputs": [
        {
          "output_type": "execute_result",
          "data": {
            "text/plain": [
              "False"
            ]
          },
          "metadata": {},
          "execution_count": 100
        }
      ]
    },
    {
      "cell_type": "code",
      "source": [],
      "metadata": {
        "id": "H6DZUbCPcHwe"
      },
      "execution_count": null,
      "outputs": []
    },
    {
      "cell_type": "markdown",
      "source": [],
      "metadata": {
        "id": "VHScAb-PXzgo"
      }
    },
    {
      "cell_type": "code",
      "source": [
        "# ==> 학생들에 대한 대상을 생성하는 과정에서\n",
        "#     필요한 정보들만 생성을 한 것임!!!\n",
        "# ==> 개별 객체(학생1명)에 대한 속성/정보 :property"
      ],
      "metadata": {
        "id": "uhGh78ERXzu-"
      },
      "execution_count": null,
      "outputs": []
    },
    {
      "cell_type": "code",
      "source": [
        "# 0번학생의 총점이 3번 학생보다 높니?\n",
        "students[0] > students[3]"
      ],
      "metadata": {
        "colab": {
          "base_uri": "https://localhost:8080/"
        },
        "id": "6ff7rNVVX0mu",
        "outputId": "77d67cfc-d2a5-4b66-85e4-391bfa10df32"
      },
      "execution_count": null,
      "outputs": [
        {
          "output_type": "execute_result",
          "data": {
            "text/plain": [
              "False"
            ]
          },
          "metadata": {},
          "execution_count": 101
        }
      ]
    },
    {
      "cell_type": "code",
      "source": [],
      "metadata": {
        "id": "RtSOYGpWgul8"
      },
      "execution_count": null,
      "outputs": []
    },
    {
      "cell_type": "code",
      "source": [
        "# 클래스\n",
        "# ==> 필요한 속성값 : property( 변수들에 대한 값 , cnt = 0)\n",
        "# ==> 필요한 기능   : method  ( 필요한 기능들    , 함수   )\n",
        "#            + 기본적인 연산자를 활용 : 특별메서드\n",
        "# 결론) 필요에 따라서 필요한 것들을 잘 설계해서 사용하자!!!!\n",
        "#       구조적으로 접근하기 위해서!!!"
      ],
      "metadata": {
        "id": "16lQWVKrgupc"
      },
      "execution_count": null,
      "outputs": []
    },
    {
      "cell_type": "code",
      "source": [
        "# 정사각형 관련 클래스\n",
        "class Square:\n",
        "    def __init__(self, size):\n",
        "        self.size = size\n",
        "    def get_area(self):\n",
        "        return self.size * self.size"
      ],
      "metadata": {
        "id": "B1TsDAtlgvYF"
      },
      "execution_count": null,
      "outputs": []
    },
    {
      "cell_type": "code",
      "source": [
        "s1 = Square(10)\n",
        "s1"
      ],
      "metadata": {
        "colab": {
          "base_uri": "https://localhost:8080/"
        },
        "id": "s2UNVhYBhLxy",
        "outputId": "71adee93-4429-4302-df0e-55b69ff58ffb"
      },
      "execution_count": null,
      "outputs": [
        {
          "output_type": "execute_result",
          "data": {
            "text/plain": [
              "<__main__.Square at 0x7a33fb1ade10>"
            ]
          },
          "metadata": {},
          "execution_count": 109
        }
      ]
    },
    {
      "cell_type": "code",
      "source": [
        "s1.size"
      ],
      "metadata": {
        "colab": {
          "base_uri": "https://localhost:8080/"
        },
        "id": "HRoAKmKghL0S",
        "outputId": "cb9d9132-136e-4341-c70a-7cf5ba0a5a82"
      },
      "execution_count": null,
      "outputs": [
        {
          "output_type": "execute_result",
          "data": {
            "text/plain": [
              "10"
            ]
          },
          "metadata": {},
          "execution_count": 110
        }
      ]
    },
    {
      "cell_type": "code",
      "source": [
        "s1.get_area()"
      ],
      "metadata": {
        "colab": {
          "base_uri": "https://localhost:8080/"
        },
        "id": "hKKSPA9shNaa",
        "outputId": "70450f69-291d-4956-fc2b-795922cda668"
      },
      "execution_count": null,
      "outputs": [
        {
          "output_type": "execute_result",
          "data": {
            "text/plain": [
              "100"
            ]
          },
          "metadata": {},
          "execution_count": 111
        }
      ]
    },
    {
      "cell_type": "code",
      "source": [
        "s2 = Square(20)\n",
        "s2"
      ],
      "metadata": {
        "colab": {
          "base_uri": "https://localhost:8080/"
        },
        "id": "KCwlGZPJhNdc",
        "outputId": "31f2563c-1fb8-4e61-f142-abcccf2d6a2c"
      },
      "execution_count": null,
      "outputs": [
        {
          "output_type": "execute_result",
          "data": {
            "text/plain": [
              "<__main__.Square at 0x7a33fb1ac490>"
            ]
          },
          "metadata": {},
          "execution_count": 112
        }
      ]
    },
    {
      "cell_type": "code",
      "source": [
        "s2.size"
      ],
      "metadata": {
        "colab": {
          "base_uri": "https://localhost:8080/"
        },
        "id": "_QiGWVYfhmjU",
        "outputId": "54363857-42bb-4a4a-a2a5-cbd8006d6ad4"
      },
      "execution_count": null,
      "outputs": [
        {
          "output_type": "execute_result",
          "data": {
            "text/plain": [
              "20"
            ]
          },
          "metadata": {},
          "execution_count": 113
        }
      ]
    },
    {
      "cell_type": "code",
      "source": [
        "# ===> 클래스 내부의 속성값에 대한 외부 접근을 막기위해서..\n",
        "#      속성값을 __을 지정해서 외부 접근을 방지할 수 있음!!!"
      ],
      "metadata": {
        "id": "BauyNaehhrcN"
      },
      "execution_count": null,
      "outputs": []
    },
    {
      "cell_type": "code",
      "source": [
        "# 정사각형 관련 클래스\n",
        "class Square:\n",
        "    def __init__(self, size):\n",
        "        self.__size = size\n",
        "    def get_area(self):\n",
        "        return self.__size * self.__size"
      ],
      "metadata": {
        "id": "7gcRDzFehrhz"
      },
      "execution_count": null,
      "outputs": []
    },
    {
      "cell_type": "code",
      "source": [
        "s1 = Square(10)\n",
        "s1"
      ],
      "metadata": {
        "colab": {
          "base_uri": "https://localhost:8080/"
        },
        "id": "k1muBAwrhrk3",
        "outputId": "121d1068-78e6-4760-c591-6bc4b765d212"
      },
      "execution_count": null,
      "outputs": [
        {
          "output_type": "execute_result",
          "data": {
            "text/plain": [
              "<__main__.Square at 0x7a33fb1af400>"
            ]
          },
          "metadata": {},
          "execution_count": 116
        }
      ]
    },
    {
      "cell_type": "code",
      "source": [],
      "metadata": {
        "id": "aT_d3F97hrnL"
      },
      "execution_count": null,
      "outputs": []
    },
    {
      "cell_type": "code",
      "source": [
        "# 정사각형 관련 클래스\n",
        "class Square:\n",
        "    def __init__(self, size):\n",
        "        self.__size = size\n",
        "    def get_area(self):\n",
        "        return self.__size * self.__size\n",
        "    # 내부 속성에 대한 접근을 기능적으로 따로 만들어 둠 : FM(공식통로!!)\n",
        "    # 1. 속성값을 나한테만 알려주세요!! : get~~\n",
        "    def get_size(self):\n",
        "        return self.__size\n",
        "    # 2. 속성값을 변경을 해야할 때 : ~~set~~~\n",
        "    def set_size(self, value):\n",
        "        self.__size = value"
      ],
      "metadata": {
        "id": "XZY4k9AQhrp8"
      },
      "execution_count": null,
      "outputs": []
    },
    {
      "cell_type": "code",
      "source": [
        "s1 = Square(10)\n",
        "s1.get_area()"
      ],
      "metadata": {
        "colab": {
          "base_uri": "https://localhost:8080/"
        },
        "id": "73575HzQhrwW",
        "outputId": "bed3c4f8-98b9-4e3e-c833-613e1599efb1"
      },
      "execution_count": null,
      "outputs": [
        {
          "output_type": "execute_result",
          "data": {
            "text/plain": [
              "100"
            ]
          },
          "metadata": {},
          "execution_count": 125
        }
      ]
    },
    {
      "cell_type": "code",
      "source": [
        "s1.get_size()"
      ],
      "metadata": {
        "colab": {
          "base_uri": "https://localhost:8080/"
        },
        "id": "gen3ydZEhrzB",
        "outputId": "688c24e4-1ddb-4c77-9bc6-7d441a130b6d"
      },
      "execution_count": null,
      "outputs": [
        {
          "output_type": "execute_result",
          "data": {
            "text/plain": [
              "10"
            ]
          },
          "metadata": {},
          "execution_count": 127
        }
      ]
    },
    {
      "cell_type": "code",
      "source": [
        "s1.get_size()"
      ],
      "metadata": {
        "colab": {
          "base_uri": "https://localhost:8080/"
        },
        "id": "mSZe0q2pjSyD",
        "outputId": "80e37617-7256-4e3f-cece-a16dd1f1a1f6"
      },
      "execution_count": null,
      "outputs": [
        {
          "output_type": "execute_result",
          "data": {
            "text/plain": [
              "10"
            ]
          },
          "metadata": {},
          "execution_count": 128
        }
      ]
    },
    {
      "cell_type": "code",
      "source": [
        "# pandas : DF.get_value(), DF.set_value() XXXX\n",
        "#          ===> 속도 이슈!!!!"
      ],
      "metadata": {
        "id": "EIQCRv5vjS1M"
      },
      "execution_count": null,
      "outputs": []
    },
    {
      "cell_type": "code",
      "source": [
        "# model = rf( ~~~~~ )\n",
        "# model.fit(X_train, y_train)\n",
        "# model.predict(x_test)"
      ],
      "metadata": {
        "id": "1J0GXp9Ejpqv"
      },
      "execution_count": null,
      "outputs": []
    },
    {
      "cell_type": "code",
      "source": [
        "# ref : https://scikit-learn.org/stable/modules/generated/sklearn.ensemble.RandomForestClassifier.html"
      ],
      "metadata": {
        "id": "hnRRTdZOleK_"
      },
      "execution_count": null,
      "outputs": []
    },
    {
      "cell_type": "code",
      "source": [],
      "metadata": {
        "id": "hLYTr2ad7l5K"
      },
      "execution_count": null,
      "outputs": []
    },
    {
      "cell_type": "code",
      "source": [
        "#sql: 코테 +sql을 같이\n",
        "#sql만 요구하는--> 개인 프로젝트/회사일\n",
        "#회사 서버 여러 데이터 기록--> 처리하는 전담팀에 요구\n",
        "#회사에서는 데이터를 서버에 저장:데이터베이스 시스템\n",
        "#내가 꺼내고자 하는 데이터들을 잘 다룰 줄 알아야 함.\n",
        "#sql,mysql,mssql\n",
        "#sql 데이터 추출/특징/리포트\n",
        "#--> 회사에서 사용하는 쿼리도 거의 정해져 있음\n",
        "#-->여러 테이블에 무슨 정보들이 있는지,어떻게 연결되어 있는지 파악이 먼저\n",
        "#할 수 있느냐!!\n",
        "#sql 아주 잘 써야(많이 하게되는 경우)-> 수업에 할당되는 시간을 많이 줄임\n",
        "#기본적인 sql쿼리문 작성 --> 기본적인 정보 추출 하는 쿼리\n",
        "\n",
        "#다음주 수식/ 웹데이터 수집+numpy +pandas +데이터 전처리:9월9일 [시각화:테블로]\n",
        "#9월 9일날(강사님 오심)-> 이때 2틀동안 본인이 다 해놓은걸 바탕으로 시각화해야지 결과물이 좋음\n",
        "# 9월 13일(금) 개인 EDA\n",
        "#-> 개인/수집/탐색 시간이 적을 수 있음\n",
        "#-->최대한 본인이 직접 관심 있어서 했다라는 느낌이 강해야 함\n",
        "#--> 들어봤던 주제는 피해야 한다!!!!!/이미 만들어진 셋을 활용 하지 말고 , 직접 수집을 하는 방향으로 진행하라\n",
        "#데이터 수집/전처리를  직접 어렵게 해야지만 실무가서 잘 할 수 있다.\n",
        "#-> 제일 관심 있는것부터 +명확한 주제 설정 중요:*****어디에 쓸건가********* -> 끝에 어디에 쓸건지 목적을 밝혀야 함.\n",
        "# + 보려는 데이터가 없으면 안 됨!!\n",
        "#양쪽 다 체크가 되는 주제\n",
        "\n",
        "#예시 로봇심판 도입이 필요한 이유:1)오심으로 인해 뒤집힌 경기2)스트라이크 존 사이트를 들어가 분석해 오심개수가 몇개인지 ,3)볼 스트라이크 성공 비율이 얼마인지\n",
        "#4) 어떤팀이 영향을 많이 받았는지 5)마지막으로 도입해야하는 자기 주장\n",
        "\n",
        "#테이블로 정리+워드 크라우드,가설 검정사용\n",
        "# 통계검정 타이트하게(회귀분석)/머신러닝이나 딥러닝 분석(내가 아는 분석 프로그램 사용)-> 코드를 직접 짰다는데 한 번 사용해보기\n",
        "#--> 국내 저널에 논문도 게시\n",
        "\n",
        "#*********** (1)본인이 개인적으로 관심있는 것,\n",
        "#            (2)여러 사이트를 사용하면 각 사이트마다 정보를 부르는 이름이나 규격이 달라서 코드가 꼬이거나 더러움? 그래서 연결성 있게 잘 써야한다.\n",
        "#            (3) 수치와 살제 데이터가 다를 수 있으니까 현실에 맞게 잘 적용해서 쓰기\n",
        "#            (4)공공데이터를 사용해도 좋지만 주제를 명확하게 사용할 수 있을때만 사용해야 한다.\n",
        "#            (5) 적용/활용 방안까지 고려(+문제 의식)\n",
        "#            (6)주어진 주제에 맞춰서 진행하고 직접 수집을 했는가가 중요\n",
        "#            (7)EDA 주제에 대해서 논리적인 단계에 필요한 사항들을 +시각화(테블로)+발표에 맞는 대시보드(테블로)를 사용해야 한다!!!!\n",
        "#            -->미리미리 체크해야 하니까 쉬는시간에 강사님께 가서 물어보기 가능한지 내가 선정한게 주제에 따라 가고 있는지"
      ],
      "metadata": {
        "id": "kosfj1B47mIa"
      },
      "execution_count": null,
      "outputs": []
    }
  ]
}