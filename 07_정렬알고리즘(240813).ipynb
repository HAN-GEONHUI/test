{
  "nbformat": 4,
  "nbformat_minor": 0,
  "metadata": {
    "colab": {
      "provenance": [],
      "authorship_tag": "ABX9TyMm45PN6qCKziPi/1w1EyY0",
      "include_colab_link": true
    },
    "kernelspec": {
      "name": "python3",
      "display_name": "Python 3"
    },
    "language_info": {
      "name": "python"
    }
  },
  "cells": [
    {
      "cell_type": "markdown",
      "metadata": {
        "id": "view-in-github",
        "colab_type": "text"
      },
      "source": [
        "<a href=\"https://colab.research.google.com/github/HAN-GEONHUI/test/blob/t_academy_%EC%88%98%EC%97%85/07_%EC%A0%95%EB%A0%AC%EC%95%8C%EA%B3%A0%EB%A6%AC%EC%A6%98(240813).ipynb\" target=\"_parent\"><img src=\"https://colab.research.google.com/assets/colab-badge.svg\" alt=\"Open In Colab\"/></a>"
      ]
    },
    {
      "cell_type": "code",
      "execution_count": null,
      "metadata": {
        "id": "4tw7gUw3_eR6"
      },
      "outputs": [],
      "source": [
        "#정렬에 가장 기본 :swqp"
      ]
    },
    {
      "cell_type": "code",
      "source": [
        "arr = [3,10]\n",
        "print(arr)"
      ],
      "metadata": {
        "colab": {
          "base_uri": "https://localhost:8080/"
        },
        "id": "9UUq3qKRSFSt",
        "outputId": "282bf8c4-2628-4891-d940-75ece529a7fa"
      },
      "execution_count": null,
      "outputs": [
        {
          "output_type": "stream",
          "name": "stdout",
          "text": [
            "[3, 10]\n"
          ]
        }
      ]
    },
    {
      "cell_type": "code",
      "source": [
        "temp = arr[0]\n",
        "arr[0] = arr[1]\n",
        "arr[1] = temp\n",
        "arr"
      ],
      "metadata": {
        "colab": {
          "base_uri": "https://localhost:8080/"
        },
        "id": "tdj90A_zSIlO",
        "outputId": "5b01e951-d0ac-44b4-a785-8e01bcfa5d49"
      },
      "execution_count": null,
      "outputs": [
        {
          "output_type": "execute_result",
          "data": {
            "text/plain": [
              "[10, 3]"
            ]
          },
          "metadata": {},
          "execution_count": 2
        }
      ]
    },
    {
      "cell_type": "code",
      "source": [
        "#파이썬은 멀티할당 가능-> swap이 한 줄로 간결!\n",
        "#대입연산자 = : 왼쪽은 new, 오른쪽 old\n",
        "arr[0],arr[1] = arr[1],arr[0]\n",
        "arr"
      ],
      "metadata": {
        "colab": {
          "base_uri": "https://localhost:8080/"
        },
        "id": "BqlClsd3SIvl",
        "outputId": "b3fb76cc-75ba-48b1-b845-f1a45174db40"
      },
      "execution_count": null,
      "outputs": [
        {
          "output_type": "execute_result",
          "data": {
            "text/plain": [
              "[10, 3]"
            ]
          },
          "metadata": {},
          "execution_count": 4
        }
      ]
    },
    {
      "cell_type": "code",
      "source": [],
      "metadata": {
        "id": "tM0sll6PSZVT"
      },
      "execution_count": null,
      "outputs": []
    },
    {
      "cell_type": "code",
      "source": [
        "#1)선택정렬\n",
        "#-> 호랑이가 제일 쎄면, 그 다음에 쎈 친구는 누구인가?\n",
        "#--> 제일 큰 것을 선택/결정\n",
        "#    제일 큰 것은 빼고, 남은 것들 중에서 제일 큰 것을 선택/결정...이걸 끝까지 반복"
      ],
      "metadata": {
        "id": "1vRYygEfSZXk"
      },
      "execution_count": null,
      "outputs": []
    },
    {
      "cell_type": "code",
      "source": [
        "#기준: 제일 작은 것을 선택!!-> 제일 앞으로 세팅 (오름차순)\n",
        "arr = [20,12,15,10,2]\n",
        "arr"
      ],
      "metadata": {
        "colab": {
          "base_uri": "https://localhost:8080/"
        },
        "id": "Cx29TkLWWlYm",
        "outputId": "abd534d3-02a2-4a8f-f5fa-0d7880725c2e"
      },
      "execution_count": null,
      "outputs": [
        {
          "output_type": "execute_result",
          "data": {
            "text/plain": [
              "[20, 12, 15, 10, 2]"
            ]
          },
          "metadata": {},
          "execution_count": 5
        }
      ]
    },
    {
      "cell_type": "code",
      "source": [
        "sorted(arr)"
      ],
      "metadata": {
        "colab": {
          "base_uri": "https://localhost:8080/"
        },
        "id": "G_16Me57Xaiv",
        "outputId": "3e4c70e5-1a29-4336-8401-247fb51296b8"
      },
      "execution_count": null,
      "outputs": [
        {
          "output_type": "execute_result",
          "data": {
            "text/plain": [
              "[2, 10, 12, 15, 20]"
            ]
          },
          "metadata": {},
          "execution_count": 6
        }
      ]
    },
    {
      "cell_type": "code",
      "source": [
        "#0번째 단계: 전체 5개 중에서 제일 작은 것은 뽑겠다\n",
        "#      5개 중에서 제일 앞(0번째가) 제일 작다고 가정: 1등 위치\n",
        "#          그 다음 1번째 부터 하나씩 뽑아서 ~ 맨끝까지~\n",
        "#          지금 위치 값 vs 지금까지 제일 작은 값\n",
        "#               ==> 비교 : 기존 1등 보다 더 작은 친구가 나오면\n",
        "#                          1등 기록지를 갱신!!\n",
        "#          남은 것들을 다 비교가 끝날 때 까지...\n",
        "#          ==>제일 작은 친구를 0번째 위치로 swap\n",
        "\n",
        "#1번째 단계: 남은 4개 중에서 제일 작은 것을 뽑겠다.\n",
        "#      4개 중에서 제일 앞(1번째)제일 작다고 가정:1등(실제 2등)-> 그 다음 2번째 부터 하나씩 뽑아서 끝까지 진행\n",
        "#      지금 위치 값 vs 지금까지 제일 작은 값\n",
        "#             --> 비교: 기존 1등보다 더 작은 친구가 나오면 1등 기록지를 갱신(남은 것들을 다 비교가 끝날 때까지..)\n",
        "#      제일 작은 친구를 1번째 위치로 swap\n",
        "\n",
        "#2번째 단계: 남은 3개 중에서 제일 작은 것을 뽑겠다!!\n",
        "#    3개 중에서 제일 앞(2번째 제일 작다고 가정: 1등(실제 3등))\n",
        "#     --> 제일 작은 친구를 2번째 위치로 swap\n",
        "\n",
        "#3번째 단계: 남은 2개 중에서 제일 작은 것을 뽑겠다!\n",
        "#     --> 제일 작은 친구를 3번째 위치로 swap\n",
        "\n",
        "#4번째 단계: 남은 1개 중에서 제일 작은 것을 뽑겠다!\n",
        "\n",
        "#-->큰틀: 정렬해야 하는 원소의 갯수"
      ],
      "metadata": {
        "id": "CzUwW_8HWlbN"
      },
      "execution_count": null,
      "outputs": []
    },
    {
      "cell_type": "code",
      "source": [
        "#i번째 단계: 남은 수에 제일 작은 값을 찾자!\n",
        "#      ==> 초기 제일 작은 값의 위치 세팅 : i번째 제일 작다고\n",
        "#          비교할 선수들을 i+1의 위치의 값부터 ~~끝까지 위치\n",
        "#          비교!!!!\n",
        "#           --> 제일 작은 값은 값 : 제일 작은 값의 위치 갱신!!!\n",
        "#      ==> 찾은 제일 작은 값 & i번째 값: swap"
      ],
      "metadata": {
        "id": "DsVa1CCXWleF"
      },
      "execution_count": null,
      "outputs": []
    },
    {
      "cell_type": "code",
      "source": [
        "for i_step in range(len(arr)):\n",
        "  #print(i_step) #5개 우너소 롤링용-->0~4step 담당\n",
        "  #1) 지금 i_step에서 제일 작은 친구 위치 기록지\n",
        "  #--> i번째에 있는 친구를 초기화!\n",
        "  min_step = i_step # --> 앞으로 비교하면서 갱신\n",
        "  #2) i_step+1 위치값부터 끝까지 출전!!-> for/range\n",
        "  for j in range(i_step+1,len(arr)):\n",
        "    #비교: 지금까지 1등 vs 새로운 출전자 비교!\n",
        "    #--> 신규 출전자 : i번째\n",
        "    # 기존 1등 위치: min_step번째\n",
        "    if arr[j]< arr[min_step]: #신규 출전 선수가 더 작으\n",
        "      min_step = j\n",
        "    else:\n",
        "      pass\n",
        "  #3) i_step에서 제일 작은 친구를 선택 : min_step위치\n",
        "  #방 빼서 swqp\n",
        "  arr[min_step],arr[i_step]= arr[i_step],arr[min_step]\n",
        "print(arr)"
      ],
      "metadata": {
        "colab": {
          "base_uri": "https://localhost:8080/"
        },
        "id": "NX5ir3xwaVxW",
        "outputId": "44384d9a-dbc7-400f-9485-83e6eeb61714"
      },
      "execution_count": null,
      "outputs": [
        {
          "output_type": "stream",
          "name": "stdout",
          "text": [
            "[2, 10, 12, 15, 20]\n"
          ]
        }
      ]
    },
    {
      "cell_type": "code",
      "source": [
        "# 코드 정리 : 파이썬으로 구현하면 심플하게 구현이 됨!!\n",
        "# ==> 정확한 규칙을 찾을 수 있느냐...코드로 구현할 수있냐..\n",
        "for i_step in range( len(arr)):\n",
        "    min_step = i_step # --> 앞으로 비교하면서 갱신!!!!\n",
        "    for j in range( i_step+1, len(arr)):\n",
        "        if arr[j] < arr[min_step] : # 신규 출전선수가 더 작으면\n",
        "            min_step = j\n",
        "    arr[min_step], arr[i_step] = arr[i_step], arr[min_step]\n",
        "print(arr)"
      ],
      "metadata": {
        "colab": {
          "base_uri": "https://localhost:8080/"
        },
        "id": "YwV3H_sjckk_",
        "outputId": "a19cd0d2-2661-47d6-a8f5-034881e73af0"
      },
      "execution_count": null,
      "outputs": [
        {
          "output_type": "stream",
          "name": "stdout",
          "text": [
            "[2, 10, 12, 15, 20]\n"
          ]
        }
      ]
    },
    {
      "cell_type": "code",
      "source": [
        "n + (n-1) + (n-2) + .... + 1 ~ n"
      ],
      "metadata": {
        "colab": {
          "base_uri": "https://localhost:8080/",
          "height": 106
        },
        "id": "RQpHw1Nth1CJ",
        "outputId": "ae5ecdd3-de40-4cdc-a2f4-b7899bad9673"
      },
      "execution_count": null,
      "outputs": [
        {
          "output_type": "error",
          "ename": "SyntaxError",
          "evalue": "invalid syntax (<ipython-input-9-dc6d0ee9b35c>, line 1)",
          "traceback": [
            "\u001b[0;36m  File \u001b[0;32m\"<ipython-input-9-dc6d0ee9b35c>\"\u001b[0;36m, line \u001b[0;32m1\u001b[0m\n\u001b[0;31m    n + (n-1) + (n-2) + .... + 1 ~ n\u001b[0m\n\u001b[0m                             ^\u001b[0m\n\u001b[0;31mSyntaxError\u001b[0m\u001b[0;31m:\u001b[0m invalid syntax\n"
          ]
        }
      ]
    },
    {
      "cell_type": "code",
      "source": [],
      "metadata": {
        "id": "yhmPVX-Jh1GK"
      },
      "execution_count": null,
      "outputs": []
    },
    {
      "cell_type": "code",
      "source": [
        "#arr--> 원소의 갯수 n개--> 선택 정렬:n^2\n",
        "#--> 컴퓨터가 원소가 많으면 랙!!!\n",
        "# 아무리 최신 알고리즘으로 구현을 해도: 오래 걸리는 작업\n",
        "#--> for문의 중첩을 최소화!\n",
        "#코테: 3중 for문을 쓴다?? -> 본인 코드를 의심!!"
      ],
      "metadata": {
        "id": "hCUBfeQ0ck39"
      },
      "execution_count": null,
      "outputs": []
    },
    {
      "cell_type": "code",
      "source": [
        "#참고)\n",
        "for i in range(n):\n",
        "  for j in range(n):\n",
        "    ##n^2\n",
        "    #n+n+n....n(갯수 n개)\n",
        "\n",
        "for i in ragne(n):\n",
        "  for j in range(1000000):\n",
        "    #1000000*n\n",
        "    #~O(n)"
      ],
      "metadata": {
        "id": "By3wD9esdBpF"
      },
      "execution_count": null,
      "outputs": []
    },
    {
      "cell_type": "code",
      "source": [],
      "metadata": {
        "id": "zoRSTFbaiff5"
      },
      "execution_count": null,
      "outputs": []
    },
    {
      "cell_type": "code",
      "source": [],
      "metadata": {
        "id": "45VFZYp3if5J"
      },
      "execution_count": null,
      "outputs": []
    },
    {
      "cell_type": "code",
      "source": [
        "#삽입 정렬\n",
        "#기본 컨셉: 카드게임 할 때 카드 정리!\n",
        "#--> 기존에 정렬이 되어 있는 상태에서 중간에 꽂아 넣겠다(삽입)"
      ],
      "metadata": {
        "id": "S4IJnvSQigTB"
      },
      "execution_count": null,
      "outputs": []
    },
    {
      "cell_type": "code",
      "source": [
        "#예)[9,5,1,4,3]\n",
        "\n",
        "#0-step:9 --> 정리 끝\n",
        "#1-step:9(5)--> 정리 된 9하고, 새로운 카드 5하고 비교!!\n",
        "#               새로운 카드 5가 작으면 둘을 swap: 5,9\n",
        "#2-step: 5,9,(1)--> 정리가 되어 있는 5,9하고 새로운 카드 1하고 비교\n",
        "#                  : 정리된 9하고, 새로운 1하고 비교\n",
        "#                    --> new가 더 작아요!\n",
        "#                       1하고 9를 swap: 5,1,9\n",
        "#                  : 정리된 5하고,새로운 1하고 비교\n",
        "#                    --> 1하고 5를 swqp: 1,5,9\n",
        "# 3-step : 1, 5, 9, (4) --> 정리된 1,5,9하고, 새로운 카드 4하고 비교\n",
        "#                     :정렬된 9하고, 새로운 4하고 비교\n",
        "#                       --> new가 더 작아요\n",
        "#                          9하고 4하고 swap : 1,5,4,9\n",
        "#                     : 정렬된 5하고, 새로운 4하고 비교\n",
        "#                       --> new가 더 작아요\n",
        "#                          5하고 4하고 swap : 1,4,5,9\n",
        "#                     : 정렬된 1하고, 새로운 4하고 비교\n",
        "#                       --> new가 더 커요!!\n",
        "#                          stop!\n",
        "# 4-step : 1, 4, 5, 9 (3) --> 정리된 1,4,5,9하고 새로운 3하고 비교\n",
        "#                     : 정렬된 9하고, new3 비교 : 작음 swap\n",
        "#                       1,4,5,3,9\n",
        "#                     : 정렬된 5하고 new 3 비교 : 작음 swap\n",
        "#                       1 4 3 5 9\n",
        "#                     : 정렬된 4하고 new 3 비교 : 작음 swap\n",
        "#                       1 3 4 5 9\n",
        "#                     : 정렬된 1하고 new3 비교  : 큼 stop\n",
        "# 1,3, 4, 5,9\n",
        "\n",
        "# 참고) 선택정렬하고 차이점 : 누가 작은지 기록지 필요X\n",
        "#       그냥 앞으로 갈 때 까지 계속 계속 swap하면서 전진!!!\n",
        "#                  못가면 stop!!!!!"
      ],
      "metadata": {
        "id": "PCo0Xqssiwcu"
      },
      "execution_count": null,
      "outputs": []
    },
    {
      "cell_type": "code",
      "source": [
        "arr = [ 9 , 5, 1, 4, 3]\n",
        "arr"
      ],
      "metadata": {
        "colab": {
          "base_uri": "https://localhost:8080/"
        },
        "id": "zkbLcY5blEcY",
        "outputId": "e571dd16-8e92-4269-ed43-292de56ff381"
      },
      "execution_count": null,
      "outputs": [
        {
          "output_type": "execute_result",
          "data": {
            "text/plain": [
              "[9, 5, 1, 4, 3]"
            ]
          },
          "metadata": {},
          "execution_count": 11
        }
      ]
    },
    {
      "cell_type": "code",
      "source": [
        "# 전체적인 돌리는 구조 : 새로운 카드를 뽑는 과정!!!\n",
        "# 1번째 부터 끝까지 돌리는 구조!!!!\n",
        "for step in range(1, len(arr)):\n",
        "    print(step)\n",
        "    # 새로운 카드를 바탕으로 앞으로 앞으로 도장깨기!!!!!--> 역방향(앞으로)\n",
        "    for i in range(step, 0, -1):\n",
        "        print(step, \":\", str(i-1), str(i))"
      ],
      "metadata": {
        "colab": {
          "base_uri": "https://localhost:8080/"
        },
        "id": "T7FtDD9NlPJ_",
        "outputId": "5efd17b9-df9d-4e65-e918-cc981fd016f0"
      },
      "execution_count": null,
      "outputs": [
        {
          "output_type": "stream",
          "name": "stdout",
          "text": [
            "1\n",
            "1 : 0 1\n",
            "2\n",
            "2 : 1 2\n",
            "2 : 0 1\n",
            "3\n",
            "3 : 2 3\n",
            "3 : 1 2\n",
            "3 : 0 1\n",
            "4\n",
            "4 : 3 4\n",
            "4 : 2 3\n",
            "4 : 1 2\n",
            "4 : 0 1\n"
          ]
        }
      ]
    },
    {
      "cell_type": "code",
      "source": [
        "for step in range(1, len(arr)):\n",
        "    print(step)\n",
        "    # 새로운 카드를 바탕으로 앞으로 앞으로 도장깨기!!!!!--> 역방향(앞으로)\n",
        "    for i in range(step, 0, -1):\n",
        "        if arr[i-1]>arr[i]: #new가 더 작으면,,\n",
        "            arr[i-1],arr[i]=arr[i],arr[i-1] #swap\n",
        "        #else,breaks-> 최악의 경우에는 break!\n",
        "        #--> 알고리즘 상에서 시간의 복잡도는 영향.X\n",
        "        #     코테를 하는 과정에서는 불필요한 공회전 처리를 해야함!!\n",
        "        #     ==> 주의 깊게 하셔야 하는 부분!!!!\n",
        "        #     실제 런닝 타임은 비효율을 제거하는 코드 추가!\n",
        "print(arr)"
      ],
      "metadata": {
        "colab": {
          "base_uri": "https://localhost:8080/"
        },
        "id": "4VujBfSZmFmF",
        "outputId": "196b4272-7985-4aa4-bc35-f403a3a6d319"
      },
      "execution_count": null,
      "outputs": [
        {
          "output_type": "stream",
          "name": "stdout",
          "text": [
            "1\n",
            "2\n",
            "3\n",
            "4\n",
            "[1, 3, 4, 5, 9]\n"
          ]
        }
      ]
    },
    {
      "cell_type": "code",
      "source": [
        "## 버블 정렬\n",
        "#--> 개념: 컨테이너 벨트: 계속 뒤로 전달\n",
        "#--> 코드상: 삽입 정렬과 유사\n",
        "#    개념상: 선택정렬과 유사! but기록지가 없음!\n",
        "#            계속 swap 진행! 선택 swap: 결정되고 나서 1번\n",
        "# 컨셉 : 서로 서로 다 비교하면서 뒤로 뒤로 이동합시다!!\n",
        "#        2개씩 비교하면서 (i-1, i) ==> swap"
      ],
      "metadata": {
        "id": "VRoO1NCQm9ld"
      },
      "execution_count": null,
      "outputs": []
    },
    {
      "cell_type": "code",
      "source": [
        "arr = [ -2, 45, 0, 11,]\n",
        "arr"
      ],
      "metadata": {
        "colab": {
          "base_uri": "https://localhost:8080/"
        },
        "id": "BR7OWxupoV4d",
        "outputId": "5920dfaf-03ee-464e-e9fc-2ce686b9886a"
      },
      "execution_count": null,
      "outputs": [
        {
          "output_type": "execute_result",
          "data": {
            "text/plain": [
              "[-2, 45, 0, 11]"
            ]
          },
          "metadata": {},
          "execution_count": 17
        }
      ]
    },
    {
      "cell_type": "code",
      "source": [
        "len(arr)\n",
        "(i,i+1)\n",
        "# 롤링을 각 단계별로 하기 위한 필요한 인덱스들!!\n",
        "0 --> 0/1, 1/2, 2/3, 3/4 [step=0, i =0,1,2,3]\n",
        "1 --> 0/1, 1/2, 2/3      [step=1, i =0,1,2]\n",
        "2 --> 0/1, 1/2           [step=2, i =0,1]\n",
        "3 --> 0/1                [step=3, i =0]"
      ],
      "metadata": {
        "colab": {
          "base_uri": "https://localhost:8080/"
        },
        "id": "b2SILEDLoZab",
        "outputId": "055736e3-f913-4fed-f538-f802a8308686"
      },
      "execution_count": null,
      "outputs": [
        {
          "output_type": "execute_result",
          "data": {
            "text/plain": [
              "(1, 2)"
            ]
          },
          "metadata": {},
          "execution_count": 19
        }
      ]
    },
    {
      "cell_type": "code",
      "source": [],
      "metadata": {
        "id": "uSSVIY0RqEqY"
      },
      "execution_count": null,
      "outputs": []
    },
    {
      "cell_type": "code",
      "source": [
        "# 기본적으로 정렬을 하고자 하는 수만큼 돌려야 함.\n",
        "for step in range( len(arr)):\n",
        "    # 앞에서 부터 2개씩 가지고 와서 비교 & 큰 것을 뒤로 swap\n",
        "    for i in range(0, len(arr)-step-1):\n",
        "        #print(step,i,i+1)\n",
        "        if arr[i] > arr[i+1]: # 큰 친구가 앞에 있다면 :뒤로 보내자\n",
        "            arr[i], arr[i+1] = arr[i+1], arr[i]\n",
        "print(arr)"
      ],
      "metadata": {
        "colab": {
          "base_uri": "https://localhost:8080/"
        },
        "id": "DFWyEWZqo1sy",
        "outputId": "905ab3d5-93e5-4a67-c025-9a016927ad06"
      },
      "execution_count": null,
      "outputs": [
        {
          "output_type": "stream",
          "name": "stdout",
          "text": [
            "[-2, 0, 11, 45]\n"
          ]
        }
      ]
    },
    {
      "cell_type": "code",
      "source": [
        "# 정리\n",
        "# 선택정렬 : 그 단계에서 누가 제일 잘하는지/대장 & 기록지!!!\n",
        "#            그 단계에서의 대장을 찾고, swap\n",
        "\n",
        "# 삽입정렬 : 카드정리 ==> 정리가 되어 있는 상태에서 1장씩 추가!!\n",
        "#            비교하면서 앞으로 도장깨기수행!!!\n",
        "#            기록지 필요가 없음!\n",
        "\n",
        "# 버블정렬 : 계속2개씩 비교하면서 뒤로 뒤로~~~~\n",
        "#            그 단계의 대장을 찾는 과점은 선택정렬과 유사\n",
        "#            but 매번 비교하면서 swap하기에 기록지가 필요가 X\n",
        "#            --> 계속2개씩 비교하면서 swap!!!\n",
        "\n",
        "# ===> 시간의 복잡도가 : N^2\n",
        "#      원소의 갯수가 많으면 상당한 무거운 작업!!!!!!\n",
        "\n",
        "# ===> 코드적으로 파이썬으로 구현을 하면 씸플 & 코드 짧음!\n",
        "#      인덱스에 대한 면접자의 이해도!!!!\n",
        "#      시간의 복잡도 효율성에 대해서 질문~~~\n",
        "#      직접 손으로 해보세요,,,말로 해보세요...\n",
        "#      정확하게 아는지 모르는지 파악이 용이한 주제!!!"
      ],
      "metadata": {
        "id": "eqn2ZpsVqFWP"
      },
      "execution_count": null,
      "outputs": []
    }
  ]
}