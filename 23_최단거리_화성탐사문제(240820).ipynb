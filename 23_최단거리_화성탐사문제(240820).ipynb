{
  "nbformat": 4,
  "nbformat_minor": 0,
  "metadata": {
    "colab": {
      "provenance": [],
      "authorship_tag": "ABX9TyPvooF4V33vVvpBdWbJ9HzR",
      "include_colab_link": true
    },
    "kernelspec": {
      "name": "python3",
      "display_name": "Python 3"
    },
    "language_info": {
      "name": "python"
    }
  },
  "cells": [
    {
      "cell_type": "markdown",
      "metadata": {
        "id": "view-in-github",
        "colab_type": "text"
      },
      "source": [
        "<a href=\"https://colab.research.google.com/github/HAN-GEONHUI/test/blob/t_academy_%EC%88%98%EC%97%85/23_%EC%B5%9C%EB%8B%A8%EA%B1%B0%EB%A6%AC_%ED%99%94%EC%84%B1%ED%83%90%EC%82%AC%EB%AC%B8%EC%A0%9C(240820).ipynb\" target=\"_parent\"><img src=\"https://colab.research.google.com/assets/colab-badge.svg\" alt=\"Open In Colab\"/></a>"
      ]
    },
    {
      "cell_type": "code",
      "execution_count": null,
      "metadata": {
        "id": "S-bCB-ogjugv"
      },
      "outputs": [],
      "source": [
        "#참고) BFS의 미로 탈출 문제와 유사한 세팅 상황이지만\n",
        "#      거리가 1로 동일한 것이 아니어서 출발점에서 순차적인 탐색 BFS로 하면 더 짧은 거리를\n",
        "#      놓칠 수 있음\n",
        "#      --> 최단거리 알고리즘 쪽으로 구현\n"
      ]
    },
    {
      "cell_type": "code",
      "source": [
        "#기본적인 세팅: 미로 탈출 문제와 유사\n",
        "#  최단거리 다익스트라알고리즘 세팅을 적용\n",
        "#--------> 이 문제에 맞는 세팅은 어떻게 할까?"
      ],
      "metadata": {
        "id": "qz2ZydbfkQOl"
      },
      "execution_count": null,
      "outputs": []
    },
    {
      "cell_type": "code",
      "source": [
        "import heapq"
      ],
      "metadata": {
        "id": "UP_bgW0lr3Mu"
      },
      "execution_count": null,
      "outputs": []
    },
    {
      "cell_type": "code",
      "source": [
        "INF = float(\"inf\")\n",
        "#이동 전략이 LRUD --> 정수 인덱스 접근\n",
        "dx = [-1,0,1,0]\n",
        "dy = [0,-1,0,1]\n"
      ],
      "metadata": {
        "id": "Yw-XnRxEr5eF"
      },
      "execution_count": null,
      "outputs": []
    },
    {
      "cell_type": "code",
      "source": [
        "#입력 부분이 이 문제의 경우에는\n",
        "#입력으로 처음 입력받은 숫자에 종속\n",
        "#--> 그 숫자만큼 돌아가면서\n",
        "#    1) 지도 크기\n",
        "#    2) 1번 크기에 종속되어서 각기 가조줄 지도를 입력\n",
        "#    3) (0,0)~~(n-1,n-1) 최단거리"
      ],
      "metadata": {
        "id": "O5sGGTtBr5oF"
      },
      "execution_count": null,
      "outputs": []
    },
    {
      "cell_type": "code",
      "source": [
        "for tc in range( int(input(\"테스트케이스수입력\"))):\n",
        "    # n by n의 크기입력\n",
        "    n = int(input(\"크기얼마?\"))\n",
        "    # 주어진 크기에 대한 케이스에 대한 지도를 세팅/받아야함\n",
        "    graph = []\n",
        "    for i in range(n):\n",
        "        graph.append( list(map(int, input(\"{}번쨰줄\".format(i+1)).split())) ) # \"1 2 3\" --> [1,2,3] --> [ [1,2,3]]\n",
        "    # 1개  test-case에 대한 지도 입력 완료!!!!\n",
        "    # graph : [ [5,5,4], [3,9 1],[3 2 7]]\n",
        "\n",
        "    #최단 거리를 계산: 주어진 지도의 크기에 종속!! n by n\n",
        "    distance = [[INF]* n for _ in range(n)]\n",
        "    # n by n: INF 되어 있는 2차원 거리기록용 지도!\n",
        "\n",
        "    # 시작점에 위치\n",
        "    x, y = 0,0\n",
        "    #시작점에 대한 우선순위 큐 +거리 세팅!\n",
        "    q= [] #그 지점 가중치,x/y 좌표\n",
        "    heapq.heappush( q,  (graph[x][y], x,y )) # 그 지점 가중치, x/y좌표)\n",
        "    distance[x][y] = graph[x][y] #문제 조건상 0이 아님!!\n",
        "    # 가까운 거리부터 열심히 돌아봅시다!!\n",
        "    while q:\n",
        "        # 지금 어디로 가서 할지 : 할 일 중에서 꺼내기!!!\n",
        "        dist, x, y = heapq.heappop(q)\n",
        "        # 5, 0,0\n",
        "        # 처리할 필요가 없는 경우\n",
        "        if distance[x][y] < dist:\n",
        "            continue\n",
        "        # 방문을 해봐야 하는 친구들!!!!==> 연결: 상하좌우\n",
        "        for i in range(4):\n",
        "            nx = x + dx[i]\n",
        "            ny = y + dy[i]\n",
        "            # in/out에 대해서도 체크....\n",
        "            if nx<0 or nx>=n or ny<0 or ny>=n:\n",
        "                continue\n",
        "            cost = dist + graph[nx][ny] # 예상비용체크\n",
        "            # 값을 갱신할지 말지 결정!!!\n",
        "            if cost < distance[nx][ny]:\n",
        "                distance[nx][ny] = cost\n",
        "                heapq.heappush( q, (cost, nx,ny))\n",
        "    print( distance[n-1][n-1])"
      ],
      "metadata": {
        "colab": {
          "base_uri": "https://localhost:8080/"
        },
        "id": "Np3EcXwwtezZ",
        "outputId": "49b214cd-c675-42bc-caa0-3eef0bb96693"
      },
      "execution_count": null,
      "outputs": [
        {
          "output_type": "stream",
          "name": "stdout",
          "text": [
            "테스트케이스수입력3\n",
            "크기얼마?3\n",
            "1번쨰줄5 5 4\n",
            "2번쨰줄3 9 1\n",
            "3번쨰줄3 2 7\n",
            "20\n",
            "크기얼마?5\n",
            "1번쨰줄3 7 2 0 1\n",
            "2번쨰줄2 8 0 9 1\n",
            "3번쨰줄1 2 1 8 1\n",
            "4번쨰줄9 8 9 2 0\n",
            "5번쨰줄3 6 5 1 5\n",
            "19\n",
            "크기얼마?7\n",
            "1번쨰줄9 0 5 1 1 5 3\n",
            "2번쨰줄4 1 2 1 6 5 3\n",
            "3번쨰줄0 7 6 1 6 5 3\n",
            "4번쨰줄1 1 7 8 3 2 3\n",
            "5번쨰줄9 4 0 7 6 4 1\n",
            "6번쨰줄5 8 3 2 4 8 3\n",
            "7번쨰줄7 4 8 4 8 3 4\n",
            "36\n"
          ]
        }
      ]
    },
    {
      "cell_type": "code",
      "source": [
        "\"1 2 3\".split()"
      ],
      "metadata": {
        "colab": {
          "base_uri": "https://localhost:8080/"
        },
        "id": "RDNQrftgtwNF",
        "outputId": "7b7e9387-c7d4-4367-aa12-18e3fbd94407"
      },
      "execution_count": null,
      "outputs": [
        {
          "output_type": "execute_result",
          "data": {
            "text/plain": [
              "['1', '2', '3']"
            ]
          },
          "metadata": {},
          "execution_count": 7
        }
      ]
    },
    {
      "cell_type": "code",
      "source": [
        "map(int, \"1 2 3\".split())"
      ],
      "metadata": {
        "colab": {
          "base_uri": "https://localhost:8080/"
        },
        "id": "x97lWQS3te4N",
        "outputId": "9c3263fb-8a3d-4172-f9be-6890a043be9a"
      },
      "execution_count": null,
      "outputs": [
        {
          "output_type": "execute_result",
          "data": {
            "text/plain": [
              "<map at 0x79bf33ecf1c0>"
            ]
          },
          "metadata": {},
          "execution_count": 8
        }
      ]
    },
    {
      "cell_type": "code",
      "source": [
        "list(map(int, \"1 2 3\".split()))"
      ],
      "metadata": {
        "colab": {
          "base_uri": "https://localhost:8080/"
        },
        "id": "Tv4V2MQ2t21M",
        "outputId": "805920dc-6255-4bb9-a6b6-74c714b2a241"
      },
      "execution_count": null,
      "outputs": [
        {
          "output_type": "execute_result",
          "data": {
            "text/plain": [
              "[1, 2, 3]"
            ]
          },
          "metadata": {},
          "execution_count": 9
        }
      ]
    },
    {
      "cell_type": "code",
      "source": [
        "t = []\n",
        "t.append( list(map(int, \"1 2 3\".split())))\n",
        "t.append( list(map(int, \"1 2 3\".split())))\n",
        "t"
      ],
      "metadata": {
        "colab": {
          "base_uri": "https://localhost:8080/"
        },
        "id": "CqwVlZQht3q-",
        "outputId": "78973c1c-c60c-4aaf-c53c-7634d699bf2e"
      },
      "execution_count": null,
      "outputs": [
        {
          "output_type": "execute_result",
          "data": {
            "text/plain": [
              "[[1, 2, 3], [1, 2, 3]]"
            ]
          },
          "metadata": {},
          "execution_count": 10
        }
      ]
    },
    {
      "cell_type": "code",
      "source": [
        "t = 3\n",
        "[[INF] *t for _ in range(t)]"
      ],
      "metadata": {
        "id": "qJAa-J6Nt3tW"
      },
      "execution_count": null,
      "outputs": []
    }
  ]
}