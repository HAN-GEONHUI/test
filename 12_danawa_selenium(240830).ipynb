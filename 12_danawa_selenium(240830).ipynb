{
  "cells": [
    {
      "cell_type": "markdown",
      "metadata": {
        "id": "view-in-github",
        "colab_type": "text"
      },
      "source": [
        "<a href=\"https://colab.research.google.com/github/HAN-GEONHUI/test/blob/t_academy_%EC%88%98%EC%97%85_pandas/12_danawa_selenium(240830).ipynb\" target=\"_parent\"><img src=\"https://colab.research.google.com/assets/colab-badge.svg\" alt=\"Open In Colab\"/></a>"
      ]
    },
    {
      "cell_type": "code",
      "execution_count": null,
      "id": "41da1f01-b51d-4aa9-9e65-8639d42d7349",
      "metadata": {
        "id": "41da1f01-b51d-4aa9-9e65-8639d42d7349"
      },
      "outputs": [],
      "source": [
        "#danawa 사이트에서 apple 노트북만 검색해서 정보를 추출하고 싶다!\n",
        "#ref:https://prod.danawa.com/list/?cate=112758&15main_11_02=\n",
        "#-->셀레니움을 통해서 접근해보자\n",
        "#사이트가 느리기 때문에 시간처리"
      ]
    },
    {
      "cell_type": "code",
      "execution_count": null,
      "id": "54d4df6d-2e57-4596-8b58-1aec4d5f4495",
      "metadata": {
        "id": "54d4df6d-2e57-4596-8b58-1aec4d5f4495"
      },
      "outputs": [],
      "source": [
        "# 셀레니움 관련 모듈..\n",
        "from selenium import webdriver\n",
        "from selenium.webdriver.chrome.service import Service\n",
        "from selenium.webdriver.common.by import By\n",
        "from selenium.webdriver.common.keys import Keys\n",
        "import time # ---> 웹 브라우저에서 대기시간을 충분히 기다려야 할 때...\n",
        "\n",
        "# ==> 셀레니움에서도 반응을 기다려야 하는 경우가 많아서...대기하는 기능 만들어 둠!!!\n",
        "from selenium.webdriver.support.ui import WebDriverWait\n",
        "# 상태\n",
        "from selenium.webdriver.chrome.options import Options\n",
        "from selenium.webdriver.support import expected_conditions as ec\n",
        "\n",
        "# ++++ html상의 정보는 soup으로 처리하기 위해서...\n",
        "from bs4 import BeautifulSoup"
      ]
    },
    {
      "cell_type": "code",
      "execution_count": null,
      "id": "932fd474-4767-4cde-9a07-565fa19ab016",
      "metadata": {
        "id": "932fd474-4767-4cde-9a07-565fa19ab016"
      },
      "outputs": [],
      "source": [
        "base_url = \"https://prod.danawa.com/list/?cate=112758&15main_11_02=\""
      ]
    },
    {
      "cell_type": "code",
      "execution_count": null,
      "id": "c16805ef-a6a0-4d21-8d00-bd3e79b28204",
      "metadata": {
        "id": "c16805ef-a6a0-4d21-8d00-bd3e79b28204"
      },
      "outputs": [],
      "source": [
        "# 참고로 tag 중심으로 찾아보면,,,,\n",
        "len(soup.find(\"div\", class_ = \"main_prodlist main_prodlist_list\").find_all(\"li\",\n",
        "                                                                      class_=\"prod_item prod_layer\")\n",
        ")"
      ]
    },
    {
      "cell_type": "code",
      "execution_count": null,
      "id": "143b031c-d6f2-4ba0-b5fc-958b1d2c70ec",
      "metadata": {
        "id": "143b031c-d6f2-4ba0-b5fc-958b1d2c70ec"
      },
      "outputs": [],
      "source": [
        "#셀레니움 이용한 브라우저 접속!\n",
        "#path:본인 pc에 있는 chromedriver.exe 파일 경로\n",
        "path=r\"C:\\Users\\NT551_11TH\\Desktop\\chromedriver-win64\\chromedriver.exe\""
      ]
    },
    {
      "cell_type": "code",
      "execution_count": null,
      "id": "4bb03db1-51b4-4001-a2c0-a34d1461b4aa",
      "metadata": {
        "id": "4bb03db1-51b4-4001-a2c0-a34d1461b4aa"
      },
      "outputs": [],
      "source": [
        "s = Service(path)\n",
        "driver = webdriver.Chrome(service=s)\n",
        "# 접근하려는 기본 주소..\n",
        "base_url = \"https://prod.danawa.com/list/?cate=112758&15main_11_02=\"\n",
        "driver.get(base_url)"
      ]
    },
    {
      "cell_type": "code",
      "execution_count": null,
      "id": "20904ed3-ad71-4be6-8046-36c83365406c",
      "metadata": {
        "id": "20904ed3-ad71-4be6-8046-36c83365406c",
        "outputId": "3e4feba3-5722-40a2-9831-dbd3943311b8"
      },
      "outputs": [
        {
          "ename": "NameError",
          "evalue": "name 'soup' is not defined",
          "output_type": "error",
          "traceback": [
            "\u001b[1;31m---------------------------------------------------------------------------\u001b[0m",
            "\u001b[1;31mNameError\u001b[0m                                 Traceback (most recent call last)",
            "Cell \u001b[1;32mIn[10], line 3\u001b[0m\n\u001b[0;32m      1\u001b[0m \u001b[38;5;66;03m#soup 정의하고 해야해서 밑에 다 작성하고 작동해야됨.\u001b[39;00m\n\u001b[1;32m----> 3\u001b[0m temp \u001b[38;5;241m=\u001b[39m soup\u001b[38;5;241m.\u001b[39mfind(\u001b[38;5;124m\"\u001b[39m\u001b[38;5;124mdiv\u001b[39m\u001b[38;5;124m\"\u001b[39m, class_ \u001b[38;5;241m=\u001b[39m \u001b[38;5;124m\"\u001b[39m\u001b[38;5;124mmain_prodlist main_prodlist_list\u001b[39m\u001b[38;5;124m\"\u001b[39m)\u001b[38;5;241m.\u001b[39mfind_all(\u001b[38;5;124m\"\u001b[39m\u001b[38;5;124mli\u001b[39m\u001b[38;5;124m\"\u001b[39m,\n\u001b[0;32m      4\u001b[0m                                                                       class_\u001b[38;5;241m=\u001b[39m\u001b[38;5;124m\"\u001b[39m\u001b[38;5;124mprod_item prod_layer\u001b[39m\u001b[38;5;124m\"\u001b[39m)\n\u001b[0;32m      5\u001b[0m \u001b[38;5;28;01mfor\u001b[39;00m i_data \u001b[38;5;129;01min\u001b[39;00m temp:\n\u001b[0;32m      6\u001b[0m     \u001b[38;5;66;03m# --> 저는 간단히 이름만 체크하겠습니다...\u001b[39;00m\n\u001b[0;32m      7\u001b[0m     \u001b[38;5;66;03m#print(i_data)\u001b[39;00m\n\u001b[0;32m      8\u001b[0m     \u001b[38;5;28mprint\u001b[39m(i_data\u001b[38;5;241m.\u001b[39mfind(\u001b[38;5;124m\"\u001b[39m\u001b[38;5;124ma\u001b[39m\u001b[38;5;124m\"\u001b[39m, {\u001b[38;5;124m\"\u001b[39m\u001b[38;5;124mname\u001b[39m\u001b[38;5;124m\"\u001b[39m:\u001b[38;5;124m\"\u001b[39m\u001b[38;5;124mproductName\u001b[39m\u001b[38;5;124m\"\u001b[39m})\u001b[38;5;241m.\u001b[39mtext\u001b[38;5;241m.\u001b[39mstrip())\n",
            "\u001b[1;31mNameError\u001b[0m: name 'soup' is not defined"
          ]
        }
      ],
      "source": [
        "#soup 정의하고 해야해서 밑에 다 작성하고 작동해야됨.\n",
        "\n",
        "temp = soup.find(\"div\", class_ = \"main_prodlist main_prodlist_list\").find_all(\"li\",\n",
        "                                                                      class_=\"prod_item prod_layer\")\n",
        "for i_data in temp:\n",
        "    # --> 저는 간단히 이름만 체크하겠습니다...\n",
        "    #print(i_data)\n",
        "    print(i_data.find(\"a\", {\"name\":\"productName\"}).text.strip())\n",
        "    print(\"*\"*50)"
      ]
    },
    {
      "cell_type": "code",
      "execution_count": null,
      "id": "e3227ed7-02ee-47e4-a1cb-6ac30ced9609",
      "metadata": {
        "id": "e3227ed7-02ee-47e4-a1cb-6ac30ced9609"
      },
      "outputs": [],
      "source": [
        "# ===> 위의 결과의 문제점은....\n",
        "#      앞에서 애플 제조사 체크박스하고,,,애플 제조사 정보들이 넘어오길 대기해야 하는데.\n",
        "#      그냥 driver를 soup 를 변환!!! 애플 제조사 정보가 누락!!!\n",
        "# +++ 새로운 정보를 요청할 떄에느느 꼭....대기!!!& 충분한 정보가 올 떄 까지 기다리기!!!"
      ]
    },
    {
      "cell_type": "code",
      "execution_count": null,
      "id": "b1a3f70f-7607-406e-a8d2-8212b124f3a1",
      "metadata": {
        "id": "b1a3f70f-7607-406e-a8d2-8212b124f3a1",
        "outputId": "cdc7026e-3827-4fd4-9436-a555527b2360"
      },
      "outputs": [
        {
          "name": "stdout",
          "output_type": "stream",
          "text": [
            "APPLE 2024 맥북프로14 M3 Pro 11Core 14GPU 블랙\n",
            "**************************************************\n",
            "APPLE 2022 맥북에어13 M2 8Core 8GPU 블루\n",
            "**************************************************\n",
            "APPLE 2024 맥북에어15 M3 8Core 10GPU 실버\n",
            "**************************************************\n",
            "APPLE 2022 맥북에어13 M2 8Core 10GPU 골드\n",
            "**************************************************\n",
            "APPLE 2024 맥북프로16 M3 Max 16Core 40GPU 블랙\n",
            "**************************************************\n",
            "APPLE 2024 맥북프로14 M3 Pro 12Core 18GPU 블랙\n",
            "**************************************************\n",
            "APPLE 2024 맥북프로14 M3 Max 14Core 30GPU 블랙\n",
            "**************************************************\n",
            "APPLE 2024 맥북프로14 M3 8Core 10GPU 그레이\n",
            "**************************************************\n",
            "APPLE 2024 맥북프로16 M3 Max 16Core 40GPU 실버\n",
            "**************************************************\n",
            "APPLE 2024 맥북에어15 M3 8Core 10GPU 블루\n",
            "**************************************************\n",
            "APPLE 2021 맥북프로14 M1 Pro 10Core 16GPU 그레이\n",
            "**************************************************\n",
            "APPLE 2024 맥북프로16 M3 Pro 12Core 18GPU 블랙\n",
            "**************************************************\n",
            "APPLE 2024 맥북에어13 M3 8Core 8GPU 그레이\n",
            "**************************************************\n",
            "APPLE 2024 맥북에어15 M3 8Core 10GPU 그레이\n",
            "**************************************************\n",
            "APPLE 2022 맥북에어13 M2 8Core 8GPU 실버\n",
            "**************************************************\n",
            "APPLE 2022 맥북에어13 M2 8Core 10GPU 실버\n",
            "**************************************************\n",
            "APPLE 2022 맥북에어13 M2 8Core 10GPU 그레이\n",
            "**************************************************\n",
            "APPLE 2024 맥북프로14 M3 Pro 11Core 14GPU 실버\n",
            "**************************************************\n",
            "APPLE 2024 맥북에어13 M3 8Core 8GPU 실버\n",
            "**************************************************\n",
            "APPLE 2021 맥북프로14 M1 Pro 8Core 14GPU 그레이\n",
            "**************************************************\n",
            "APPLE 2023 맥북에어15 M2 8Core 10GPU 실버\n",
            "**************************************************\n",
            "APPLE 2024 맥북에어13 M3 8Core 10GPU 실버\n",
            "**************************************************\n",
            "APPLE 2021 맥북프로14 M1 Pro 10Core 16GPU 실버\n",
            "**************************************************\n",
            "APPLE 2024 맥북에어13 M3 8Core 8GPU 블루\n",
            "**************************************************\n",
            "APPLE 2024 맥북에어13 M3 8Core 10GPU 그레이\n",
            "**************************************************\n",
            "APPLE 2023 맥북에어15 M2 8Core 10GPU 블루\n",
            "**************************************************\n",
            "APPLE 2023 맥북에어15 M2 8Core 10GPU 그레이\n",
            "**************************************************\n",
            "APPLE 2020 맥북에어 M1 8Core 8GPU 그레이\n",
            "**************************************************\n",
            "APPLE 2022 맥북에어13 M2 8Core 8GPU 그레이\n",
            "**************************************************\n",
            "APPLE 2021 맥북프로14 M1 Pro 8Core 14GPU 실버\n",
            "**************************************************\n"
          ]
        }
      ],
      "source": [
        "s = Service(path)\n",
        "driver = webdriver.Chrome(service=s)\n",
        "# 접근하려는 기본 주소..\n",
        "base_url = \"https://prod.danawa.com/list/?cate=112758&15main_11_02=\"\n",
        "driver.get(base_url)\n",
        "\n",
        "# ---> 애플에 대한 제조사가 안 보임!!\n",
        "# ---> 옆에 있는 제조사 확장 버튼을 먼저 클릭해서 열어야 함!!\n",
        "btn_ex_path = '//*[@id=\"dlMaker_simple\"]/dd/div[2]/button[1]'\n",
        "driver.find_element(By.XPATH, btn_ex_path).click()\n",
        "# 참고 다른 방식...\n",
        "#WebDriverWait( driver, 5).until(ec.presence_of_all_elements_located((By.XPATH, btn_ex_path))).click()\n",
        "#time.sleep 방식하고 위에 방식하고 효과는 같다.\n",
        "\n",
        "# ---> 제조사 중에서 애플 회사의 체크박스!!클릭...\n",
        "apple_btn_path = '//*[@id=\"searchMaker1452\"]'\n",
        "driver.find_element(By.XPATH, apple_btn_path).click()\n",
        "\n",
        "##################################################\n",
        "# soup에서 애플 제조사 정보가 다 담을 때 까지 기다리겠다!!!!\n",
        "# ==> 이 코드 1줄 생략되면,,,결과가 이상하게 오거나,,,에러발생 지점이 됨!!!\n",
        "time.sleep(3)\n",
        "\n",
        "###################################################\n",
        "# ==> 틀은 셀레니움으로 돌리고,,,, 필요한 정보 추출은 속도를 위햇 bs4\n",
        "soup  =BeautifulSoup( driver.page_source, \"html.parser\")\n",
        "temp = soup.find(\"div\", class_ = \"main_prodlist main_prodlist_list\").find_all(\"li\",\n",
        "                                                                      class_=\"prod_item prod_layer\")\n",
        "for i_data in temp:\n",
        "    # --> 저는 간단히 이름만 체크하겠습니다...\n",
        "    #print(i_data)\n",
        "    print(i_data.find(\"a\", {\"name\":\"productName\"}).text.strip())\n",
        "    print(\"*\"*50)"
      ]
    },
    {
      "cell_type": "code",
      "execution_count": null,
      "id": "9314e391-72be-4416-acec-d8a0dc9ea4f1",
      "metadata": {
        "id": "9314e391-72be-4416-acec-d8a0dc9ea4f1"
      },
      "outputs": [],
      "source": [
        "# 정리!!!)\n",
        "# 여러 형식 중에서 웹에 데이터가 존재할 떄...\n",
        "# 1) API가 있냐 / 없냐\n",
        "#    ==> api양식에 맞는 요청 url 작성\n",
        "#    ==> json, xml etc\n",
        "#    ==> 인터넷 접속 관련 : urllib + json\n",
        "#                           requests --> json 메서드\n",
        "#    ==> tag처리 : bs4\n",
        "# 2) 웹 페이지에 정보가 있는가..\n",
        "#    ==> 주소창에 정확하게 원하는 정보에 따라서 주소가 변경!\n",
        "#         2-1) 주소가 명확하다면 그 주소 그냥 쏘면\n",
        "#         2-2) 안 보이거나, 숨겨져 있다 : 개발자 도구--> 네트워크\n",
        "#         : 브라우저 상에서는 거의 되는데,,\n",
        "#           코드상에서 뭔가 접근 금지 : header 정보\n",
        "#                       ( 마치 내가 브라우저인 것 처럼)\n",
        "#                        user-agent, referer etc\n",
        "#    +++ 브라우저를 통해서 셀레니움으로 접근!!(마지막 옵션!)\n",
        "#    ==> 요소 중심으로 처리를 하면 됨!\n",
        "#        경로/ tag, class etc\n",
        "#    ==> 장점 : 우회적으로 피할 수 있음!\n",
        "#               속도 이슈가 있음!\n",
        "#         ++ bs4, 다른 효율적인 패키지들과 같이 사용!!\n",
        "\n",
        "# ====> 왠만한 사이트들은 거의 됨으로 실제 본인 프로젝트에 사용하면서 경험치를 늘리면 됨!\n",
        "#       +++ 에러 처리!!!"
      ]
    },
    {
      "cell_type": "code",
      "execution_count": null,
      "id": "d0ea23f4-9718-4875-bfe4-acbb7241db95",
      "metadata": {
        "id": "d0ea23f4-9718-4875-bfe4-acbb7241db95"
      },
      "outputs": [],
      "source": []
    }
  ],
  "metadata": {
    "kernelspec": {
      "display_name": "Python 3 (ipykernel)",
      "language": "python",
      "name": "python3"
    },
    "language_info": {
      "codemirror_mode": {
        "name": "ipython",
        "version": 3
      },
      "file_extension": ".py",
      "mimetype": "text/x-python",
      "name": "python",
      "nbconvert_exporter": "python",
      "pygments_lexer": "ipython3",
      "version": "3.12.4"
    },
    "colab": {
      "provenance": [],
      "include_colab_link": true
    }
  },
  "nbformat": 4,
  "nbformat_minor": 5
}