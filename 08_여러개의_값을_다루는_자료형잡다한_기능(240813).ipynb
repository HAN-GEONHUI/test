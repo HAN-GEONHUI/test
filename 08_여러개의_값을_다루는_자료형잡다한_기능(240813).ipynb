{
  "nbformat": 4,
  "nbformat_minor": 0,
  "metadata": {
    "colab": {
      "provenance": [],
      "authorship_tag": "ABX9TyNcowlL/zAA2PN0L9nV6yzH",
      "include_colab_link": true
    },
    "kernelspec": {
      "name": "python3",
      "display_name": "Python 3"
    },
    "language_info": {
      "name": "python"
    }
  },
  "cells": [
    {
      "cell_type": "markdown",
      "metadata": {
        "id": "view-in-github",
        "colab_type": "text"
      },
      "source": [
        "<a href=\"https://colab.research.google.com/github/HAN-GEONHUI/test/blob/t_academy_%EC%88%98%EC%97%85/08_%EC%97%AC%EB%9F%AC%EA%B0%9C%EC%9D%98_%EA%B0%92%EC%9D%84_%EB%8B%A4%EB%A3%A8%EB%8A%94_%EC%9E%90%EB%A3%8C%ED%98%95%EC%9E%A1%EB%8B%A4%ED%95%9C_%EA%B8%B0%EB%8A%A5(240813).ipynb\" target=\"_parent\"><img src=\"https://colab.research.google.com/assets/colab-badge.svg\" alt=\"Open In Colab\"/></a>"
      ]
    },
    {
      "cell_type": "code",
      "execution_count": null,
      "metadata": {
        "colab": {
          "base_uri": "https://localhost:8080/"
        },
        "id": "lOxeYKDaBmDz",
        "outputId": "2c1a9444-8f47-4d8f-fe5a-13911b9dfefc"
      },
      "outputs": [
        {
          "output_type": "execute_result",
          "data": {
            "text/plain": [
              "[1, 2, 3, 5, 4, 5, 6]"
            ]
          },
          "metadata": {},
          "execution_count": 1
        }
      ],
      "source": [
        "[1,2,3,5] + [4,5,6]"
      ]
    },
    {
      "cell_type": "code",
      "source": [
        "a = [1,2,3,4,5]"
      ],
      "metadata": {
        "id": "DXiDrZkiCVbn"
      },
      "execution_count": null,
      "outputs": []
    },
    {
      "cell_type": "code",
      "source": [
        "a.append(6)"
      ],
      "metadata": {
        "id": "FUc8Vl__CVeF"
      },
      "execution_count": null,
      "outputs": []
    },
    {
      "cell_type": "code",
      "source": [
        "a.append( [\"a\",\"b\"])\n",
        "a"
      ],
      "metadata": {
        "colab": {
          "base_uri": "https://localhost:8080/"
        },
        "id": "FF4b_mX7CjtS",
        "outputId": "07ebec0d-48e6-4df5-c4f7-d42b7168f294"
      },
      "execution_count": null,
      "outputs": [
        {
          "output_type": "execute_result",
          "data": {
            "text/plain": [
              "[1, 2, 3, 4, 5, 6, ['a', 'b']]"
            ]
          },
          "metadata": {},
          "execution_count": 7
        }
      ]
    },
    {
      "cell_type": "code",
      "source": [
        "a.pop()"
      ],
      "metadata": {
        "colab": {
          "base_uri": "https://localhost:8080/"
        },
        "id": "RYgdIV6uB9_X",
        "outputId": "1e9d0df5-b9bc-46b2-832d-db141841bd44"
      },
      "execution_count": null,
      "outputs": [
        {
          "output_type": "execute_result",
          "data": {
            "text/plain": [
              "['a', 'b']"
            ]
          },
          "metadata": {},
          "execution_count": 8
        }
      ]
    },
    {
      "cell_type": "code",
      "source": [
        "a"
      ],
      "metadata": {
        "colab": {
          "base_uri": "https://localhost:8080/"
        },
        "id": "xye9b2B_B_c2",
        "outputId": "a039dd62-563a-4d15-d2b1-dc693457b7c2"
      },
      "execution_count": null,
      "outputs": [
        {
          "output_type": "execute_result",
          "data": {
            "text/plain": [
              "[1, 2, 3, 4, 5, 6]"
            ]
          },
          "metadata": {},
          "execution_count": 9
        }
      ]
    },
    {
      "cell_type": "code",
      "source": [
        "a+[\"a\",\"b\"]"
      ],
      "metadata": {
        "colab": {
          "base_uri": "https://localhost:8080/"
        },
        "id": "O6u86FMUCAXm",
        "outputId": "f1bcee46-07f1-46b3-fb13-4006e554adc8"
      },
      "execution_count": null,
      "outputs": [
        {
          "output_type": "execute_result",
          "data": {
            "text/plain": [
              "[1, 2, 3, 4, 5, 6, 'a', 'b']"
            ]
          },
          "metadata": {},
          "execution_count": 10
        }
      ]
    },
    {
      "cell_type": "code",
      "source": [
        "a.extend([\"a\",\"b\"])\n",
        "a"
      ],
      "metadata": {
        "colab": {
          "base_uri": "https://localhost:8080/"
        },
        "id": "2kQY6QKjCK-A",
        "outputId": "b5106c3e-0f02-46a6-b72f-0be7e9738fbd"
      },
      "execution_count": null,
      "outputs": [
        {
          "output_type": "execute_result",
          "data": {
            "text/plain": [
              "[1, 2, 3, 4, 5, 6, 'a', 'b', 'a', 'b']"
            ]
          },
          "metadata": {},
          "execution_count": 12
        }
      ]
    },
    {
      "cell_type": "code",
      "source": [
        "# 리스트에서 원소 추가 : append, insert\n",
        "# --> 특별메서드 : + ==> 두 개 리스트 병합 (단, 원본은 유지)\n",
        "# 두 개 리스트의 병합FM : extend\n",
        "# 원소 제거 : 위치pop, 값 remove--> 중복되면 앞의 1개만\n",
        "\n",
        "#원소길이, 갯수: len()파이썬 함수\n",
        "#원소의 값이 몇 개 : 리스트.count(값)\n",
        "#특정 원소가 어디에 있는지 정수인덱스 : 리스트.index(값)\n",
        "#--> 중복된 친구들이 있다면, 가장 앞에 있는 위치 1개\n",
        "\n",
        "# 순서 : 리스트.reverse() // reversed() 함수\n",
        "# 정렬 : 리스트.sort(key = lambda x ~~~~~~)\n",
        "#        sorted( 리스트, key= lambda x ~~~~)\n"
      ],
      "metadata": {
        "id": "deU25n4bCyiU"
      },
      "execution_count": null,
      "outputs": []
    },
    {
      "cell_type": "code",
      "source": [],
      "metadata": {
        "id": "M9jsiZ_NDrM_"
      },
      "execution_count": null,
      "outputs": []
    },
    {
      "cell_type": "code",
      "source": [
        "##dict"
      ],
      "metadata": {
        "id": "zKOfsGGrDrrW"
      },
      "execution_count": null,
      "outputs": []
    },
    {
      "cell_type": "code",
      "source": [
        "#dict 기능: 여러개의 값을 모아두는 것!\n",
        "#1) 값의 구성: 2가지 pair --> key-value 쌍 & 여러 개\n",
        "#--> 파이썬 쌍/연결구조 표현할 때 자주 사용이 됨!!\n",
        "\n",
        "# 2) 내부적인 개별 원소에 대한 접근은 빠름:0(1)\n",
        "#--> 내부의 구현:Hash Table 알고리즘으로 설계\n",
        "#--> 코테에서는 이런 자료형을 잘 사용하는 것이 주로!! 속도 이슈가 발생을 하면 쉽게 변경할 요소 중"
      ],
      "metadata": {
        "id": "kdZwBL2kDt0l"
      },
      "execution_count": null,
      "outputs": []
    },
    {
      "cell_type": "code",
      "source": [
        "#간단한 기능\n",
        "dict_1 = {} # a=[]\n",
        "dict_1[\"Name\"]= \"Hong\"\n",
        "dict_1"
      ],
      "metadata": {
        "colab": {
          "base_uri": "https://localhost:8080/"
        },
        "id": "FHABRtQNET3l",
        "outputId": "ab51b45b-5f87-4dab-a9a7-2b64ebb7617a"
      },
      "execution_count": null,
      "outputs": [
        {
          "output_type": "execute_result",
          "data": {
            "text/plain": [
              "{'Name': 'Hong'}"
            ]
          },
          "metadata": {},
          "execution_count": 13
        }
      ]
    },
    {
      "cell_type": "code",
      "source": [
        "dict_1[\"region\"]= \"Seoul2\" #기존 key--> 그 키에 value 갱신!!\n",
        "dict_1"
      ],
      "metadata": {
        "colab": {
          "base_uri": "https://localhost:8080/"
        },
        "id": "QEdwlz66EiYe",
        "outputId": "52e7d3bc-197c-4525-e22f-5a7aa8c281ef"
      },
      "execution_count": null,
      "outputs": [
        {
          "output_type": "execute_result",
          "data": {
            "text/plain": [
              "{'Name': 'Hong', 'region': 'Seoul2'}"
            ]
          },
          "metadata": {},
          "execution_count": 14
        }
      ]
    },
    {
      "cell_type": "code",
      "source": [
        "# 중요! 키값이 이미 있다면--> 그 키값에 value 갱신\n",
        "#       키값이 없는 경우라면--> 그 k-v같이 등옭\n",
        "#--> 값을 유니크하지 않으면, 추가가 아니라 갱신으로 될 수 있다.\n",
        "#    원소의 수가 쪽(원소의 수가 불일치)"
      ],
      "metadata": {
        "id": "kpLTI2iOEyA6"
      },
      "execution_count": null,
      "outputs": []
    },
    {
      "cell_type": "code",
      "source": [
        "#코테를 풀다보면: 제거\n",
        "#dict--> 특정 키를 중심으로 제거\n",
        "#    --> 그 키에 대한 value 자동삭제\n",
        "#--> del 파이썬 함수\n",
        "del dict_1[\"region\"]\n",
        "dict_1"
      ],
      "metadata": {
        "colab": {
          "base_uri": "https://localhost:8080/"
        },
        "id": "Hd2kFSw8FI4e",
        "outputId": "c9a8d697-1fba-4fd2-8225-c6168f668e09"
      },
      "execution_count": null,
      "outputs": [
        {
          "output_type": "execute_result",
          "data": {
            "text/plain": [
              "{'Name': 'Hong'}"
            ]
          },
          "metadata": {},
          "execution_count": 15
        }
      ]
    },
    {
      "cell_type": "code",
      "source": [
        "#참고\n",
        "#del dict_1 #--> dict_1 을 메모리상 전체 삭제!"
      ],
      "metadata": {
        "id": "TcX0ZU12FmVm"
      },
      "execution_count": null,
      "outputs": []
    },
    {
      "cell_type": "code",
      "source": [
        "#유사한 제거 기능: dict는 유지 &내부의 k-v만 제거\n",
        "#--> 틀은 남겨두는 기능\n",
        "dict_1.clear()\n",
        "dict_1"
      ],
      "metadata": {
        "colab": {
          "base_uri": "https://localhost:8080/"
        },
        "id": "axOlM7AKFsEO",
        "outputId": "cd27b260-832e-4905-c032-aa4c4cf49830"
      },
      "execution_count": null,
      "outputs": [
        {
          "output_type": "execute_result",
          "data": {
            "text/plain": [
              "{}"
            ]
          },
          "metadata": {},
          "execution_count": 16
        }
      ]
    },
    {
      "cell_type": "code",
      "source": [
        "del dict_1\n",
        "dict_1"
      ],
      "metadata": {
        "colab": {
          "base_uri": "https://localhost:8080/",
          "height": 158
        },
        "id": "NJ2wj9-NF6zo",
        "outputId": "3898966d-d987-44eb-81c7-05f5ec5d9ee9"
      },
      "execution_count": null,
      "outputs": [
        {
          "output_type": "error",
          "ename": "NameError",
          "evalue": "name 'dict_1' is not defined",
          "traceback": [
            "\u001b[0;31m---------------------------------------------------------------------------\u001b[0m",
            "\u001b[0;31mNameError\u001b[0m                                 Traceback (most recent call last)",
            "\u001b[0;32m<ipython-input-17-e44350bd6891>\u001b[0m in \u001b[0;36m<cell line: 2>\u001b[0;34m()\u001b[0m\n\u001b[1;32m      1\u001b[0m \u001b[0;32mdel\u001b[0m \u001b[0mdict_1\u001b[0m\u001b[0;34m\u001b[0m\u001b[0;34m\u001b[0m\u001b[0m\n\u001b[0;32m----> 2\u001b[0;31m \u001b[0mdict_1\u001b[0m\u001b[0;34m\u001b[0m\u001b[0;34m\u001b[0m\u001b[0m\n\u001b[0m",
            "\u001b[0;31mNameError\u001b[0m: name 'dict_1' is not defined"
          ]
        }
      ]
    },
    {
      "cell_type": "code",
      "source": [
        "#지울 때 정리: dict에서 주의\n",
        "#개별 원소를 지울 때 :del dict[k]\n",
        "#모든 원소를 비울 때: dict.clear()\n",
        "#메모리상 변수 완전 제거 :del dict변수"
      ],
      "metadata": {
        "id": "XM5fxTL8GB82"
      },
      "execution_count": null,
      "outputs": []
    },
    {
      "cell_type": "code",
      "source": [
        "# 기타 : 앞에서 파일 정렬 할 때 dict 자료형에서\n",
        "#        원본 순서를 기록하지 않아도 되었던 부분...\n",
        "dict_1 = {}\n",
        "dict_1[\"Name\"] = \"Hong\"\n",
        "dict_1[\"region1\"] = \"Seoul\"\n",
        "dict_1[\"region9\"] = \"Korea\"\n",
        "dict_1[\"region3\"] = \"GD\"\n",
        "dict_1"
      ],
      "metadata": {
        "colab": {
          "base_uri": "https://localhost:8080/"
        },
        "id": "tVyzF9zuGixW",
        "outputId": "da8ea82c-d501-4ae9-cb9a-2de2e756588d"
      },
      "execution_count": null,
      "outputs": [
        {
          "output_type": "execute_result",
          "data": {
            "text/plain": [
              "{'Name': 'Hong', 'region1': 'Seoul', 'region9': 'Korea', 'region3': 'GD'}"
            ]
          },
          "metadata": {},
          "execution_count": 18
        }
      ]
    },
    {
      "cell_type": "code",
      "source": [
        "dict_1.items()\n",
        "#--> 생성시 키를 등록한 순서대로 풀리게 됨!"
      ],
      "metadata": {
        "colab": {
          "base_uri": "https://localhost:8080/"
        },
        "id": "AejHOui2GquX",
        "outputId": "eb08af15-9059-4343-de31-81279414696f"
      },
      "execution_count": null,
      "outputs": [
        {
          "output_type": "execute_result",
          "data": {
            "text/plain": [
              "dict_items([('Name', 'Hong'), ('region1', 'Seoul'), ('region9', 'Korea'), ('region3', 'GD')])"
            ]
          },
          "metadata": {},
          "execution_count": 19
        }
      ]
    }
  ]
}