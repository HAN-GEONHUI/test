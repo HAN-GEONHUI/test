{
  "nbformat": 4,
  "nbformat_minor": 0,
  "metadata": {
    "colab": {
      "provenance": [],
      "include_colab_link": true
    },
    "kernelspec": {
      "name": "python3",
      "display_name": "Python 3"
    },
    "language_info": {
      "name": "python"
    }
  },
  "cells": [
    {
      "cell_type": "markdown",
      "metadata": {
        "id": "view-in-github",
        "colab_type": "text"
      },
      "source": [
        "<a href=\"https://colab.research.google.com/github/HAN-GEONHUI/test/blob/t_academy_%EC%88%98%EC%97%85/16_BFS_%EC%B5%9C%EB%8B%A8%EA%B1%B0%EB%A6%ACk%EB%AC%B8%EC%A0%9C(240816).ipynb\" target=\"_parent\"><img src=\"https://colab.research.google.com/assets/colab-badge.svg\" alt=\"Open In Colab\"/></a>"
      ]
    },
    {
      "cell_type": "code",
      "execution_count": null,
      "metadata": {
        "id": "0B0NoEbDoDnX"
      },
      "outputs": [],
      "source": [
        "# ref : https://www.acmicpc.net/problem/18352\n",
        "# 참고"
      ]
    },
    {
      "cell_type": "code",
      "source": [
        "# 1) 앞에서 봤던 지도들과 다른 점 : 연결의 방향성이 있다!!!!\n",
        "# 2) 도시 사이의 연결이 단순 연결이 아니라 : 거리 정보 ==> 모두 1로 같다!!!\n",
        "# 참고) 최단 거리 : 최단거리 알고리즘 여러개가 있음!!!!\n",
        "#                   ==> 대표저거인 최단거리 알고리즘만 이야기를!!\n",
        "#                       BFS를 기반으로 하는 Dij(다익스트라아 알고리즘..)"
      ],
      "metadata": {
        "id": "bomaq5gtvOsE"
      },
      "execution_count": null,
      "outputs": []
    },
    {
      "cell_type": "code",
      "source": [
        "# 문제를 분석!!!\n",
        "# ==> 왜 이 문제가 탐색의 문제, + 왜 최단거리 문제...\n",
        "#     DFS/ BFS / 다른 방식.,..,...\n",
        "# ==> 최단거리 관련된 / 지나온 경로에 대한 문제들은 BFS 방식!!!!\n",
        "#     출발점 중심으로 체계적으로 접근/탐색을 하는 BFS가 효율!!!!\n",
        "#     거리/요금 : DFS vs BFS ===> BFS\n",
        "# 참고) 문제를 푸는 방식은 굉장히 여러가지 있음!!!"
      ],
      "metadata": {
        "id": "zjtMawDfvOuO"
      },
      "execution_count": null,
      "outputs": []
    },
    {
      "cell_type": "code",
      "source": [
        "#"
      ],
      "metadata": {
        "id": "HvcBH0rIvOw-"
      },
      "execution_count": null,
      "outputs": []
    },
    {
      "cell_type": "code",
      "source": [],
      "metadata": {
        "id": "wmnmcY4bxS5A"
      },
      "execution_count": null,
      "outputs": []
    },
    {
      "cell_type": "code",
      "source": [
        "# 백준사이트 : 입력에 대한 부분을 직접 처리 해야함!!\n",
        "# 입력 부분1) n,m,k.x에 대한 기본 정보 처리!!!\n",
        "# ==> map함수를 잘 파악하시면 됨!!!"
      ],
      "metadata": {
        "id": "rLdbavn9xS7h"
      },
      "execution_count": null,
      "outputs": []
    },
    {
      "cell_type": "code",
      "source": [
        "input(\"도시수,도루수,거리,출발점\").split(\" \")"
      ],
      "metadata": {
        "colab": {
          "base_uri": "https://localhost:8080/"
        },
        "id": "BFS-IbMzxS9r",
        "outputId": "9a575329-387f-4e41-cf2b-5489e42203d8"
      },
      "execution_count": null,
      "outputs": [
        {
          "name": "stdout",
          "output_type": "stream",
          "text": [
            "도시수,도루수,거리,출발점4 4 2 1\n"
          ]
        },
        {
          "output_type": "execute_result",
          "data": {
            "text/plain": [
              "['4', '4', '2', '1']"
            ]
          },
          "metadata": {},
          "execution_count": 2
        }
      ]
    },
    {
      "cell_type": "code",
      "source": [
        "n,m,k,x = input(\"도시수,도루수,거리,출발점\").split(\" \")\n",
        "n"
      ],
      "metadata": {
        "colab": {
          "base_uri": "https://localhost:8080/",
          "height": 54
        },
        "id": "l4KpF60pxjo4",
        "outputId": "9ee31307-5838-42c6-a8d0-e2e4cd189746"
      },
      "execution_count": null,
      "outputs": [
        {
          "name": "stdout",
          "output_type": "stream",
          "text": [
            "도시수,도루수,거리,출발점4 4 2 1\n"
          ]
        },
        {
          "output_type": "execute_result",
          "data": {
            "text/plain": [
              "'4'"
            ],
            "application/vnd.google.colaboratory.intrinsic+json": {
              "type": "string"
            }
          },
          "metadata": {},
          "execution_count": 3
        }
      ]
    },
    {
      "cell_type": "code",
      "source": [
        "n,m,k,x = map(int, input(\"도시수,도루수,거리,출발점\").split(\" \"))\n",
        "n"
      ],
      "metadata": {
        "colab": {
          "base_uri": "https://localhost:8080/"
        },
        "id": "jZHe_Nn4x57g",
        "outputId": "598ebdf9-24d4-4cbb-9aae-3f71b279c53d"
      },
      "execution_count": null,
      "outputs": [
        {
          "name": "stdout",
          "output_type": "stream",
          "text": [
            "도시수,도루수,거리,출발점4 4 2 1\n"
          ]
        },
        {
          "output_type": "execute_result",
          "data": {
            "text/plain": [
              "4"
            ]
          },
          "metadata": {},
          "execution_count": 4
        }
      ]
    },
    {
      "cell_type": "code",
      "source": [
        "print(n,m,k,x)"
      ],
      "metadata": {
        "colab": {
          "base_uri": "https://localhost:8080/"
        },
        "id": "Z80kpr8iyCM4",
        "outputId": "66b9c7f0-a745-479d-8841-74a4040e66be"
      },
      "execution_count": null,
      "outputs": [
        {
          "output_type": "stream",
          "name": "stdout",
          "text": [
            "4 4 2 1\n"
          ]
        }
      ]
    },
    {
      "cell_type": "code",
      "source": [
        "type(m)"
      ],
      "metadata": {
        "colab": {
          "base_uri": "https://localhost:8080/"
        },
        "id": "vXkHgEKNyLiH",
        "outputId": "5e4fc17a-f089-4dd7-c686-34e69037b968"
      },
      "execution_count": null,
      "outputs": [
        {
          "output_type": "execute_result",
          "data": {
            "text/plain": [
              "int"
            ]
          },
          "metadata": {},
          "execution_count": 6
        }
      ]
    },
    {
      "cell_type": "code",
      "source": [
        "# 입력 2번째 : 도로 연결에 대한 정보들을 받아야 함!!!\n",
        "#     도시별로 연결성 인접리스트방식 표현!!!! ==> 구현: 파이썬 리스트\n",
        "#     문제상 도시는        1,2,3,,,,n\n",
        "#     파이썬 정수indx   (0)1,2,3,,,,n\n",
        "graph = [ [] for _ in range(n+1)]\n",
        "graph"
      ],
      "metadata": {
        "colab": {
          "base_uri": "https://localhost:8080/"
        },
        "id": "Z4lW7tKiyMrz",
        "outputId": "19c26eb0-21f1-4dc1-f4ab-377710bb44bd"
      },
      "execution_count": null,
      "outputs": [
        {
          "output_type": "execute_result",
          "data": {
            "text/plain": [
              "[[], [], [], [], []]"
            ]
          },
          "metadata": {},
          "execution_count": 7
        }
      ]
    },
    {
      "cell_type": "code",
      "source": [
        "# 입력 3번쨰 : 출발도시 ---> 도착 도시에 대한 연결 정보들을 처리!!!!!\n",
        "#             m 변수의 값에 종속!!!!!!\n",
        "for _ in range(m):\n",
        "    # 출발도시 s, 도착도시 e, ==> 그래프에 정리!!!!!\n",
        "    s, e = map( int ,input(\"출발 도착도시 공백으로\").split(\" \") )\n",
        "    graph[s].append(e)\n",
        "graph"
      ],
      "metadata": {
        "colab": {
          "base_uri": "https://localhost:8080/"
        },
        "id": "udbsFbrJy1QK",
        "outputId": "7998a508-5b03-4b2e-9d37-5fcf63cc75f9"
      },
      "execution_count": null,
      "outputs": [
        {
          "name": "stdout",
          "output_type": "stream",
          "text": [
            "출발 도착도시 공백으로1 2\n",
            "출발 도착도시 공백으로1 3\n",
            "출발 도착도시 공백으로2 3\n",
            "출발 도착도시 공백으로2 4\n"
          ]
        },
        {
          "output_type": "execute_result",
          "data": {
            "text/plain": [
              "[[], [2, 3], [3, 4], [], []]"
            ]
          },
          "metadata": {},
          "execution_count": 8
        }
      ]
    },
    {
      "cell_type": "code",
      "source": [
        "# 참고) 문제 상황에 따라서 연결별로 거리가 제각각이면,,,\n",
        "#       ==> ( 도착도시, 거리 )\n",
        "#       아니면 문제 상황에 따라서 필요한 정보들을 담을 수도 있음!!!!!"
      ],
      "metadata": {
        "id": "vCBBJy66zo1E"
      },
      "execution_count": null,
      "outputs": []
    },
    {
      "cell_type": "code",
      "source": [],
      "metadata": {
        "id": "KVN72t9g0BPM"
      },
      "execution_count": null,
      "outputs": []
    },
    {
      "cell_type": "code",
      "source": [
        "# ==> 출발점을 중심으로 순차적으로 단계별로 진행을 해야 : BFS방식!!!\n",
        "# BFS 기본 아이디어 :\n",
        "# - 할 일에 대한 것 : 그 도시에서 연결된 정보,,,,,==> 기존과 동일할 듯...\n",
        "# - 한 일에 대한 것 : 그냥 단순 방문순서는 큰 의미는 X\n",
        "#                     거리에 대한 정보를 기록하면 될 듯!!!\n",
        "#                     distance = [inf(0), inf(1), inf(2), inf(3), inf(4)]\n",
        "#                     출발점 x = 1 // q=[1]\n",
        "#                     distance = [inf(0), 0, inf(2), inf(3), inf(4)]\n",
        "# ///////////////////////////////////// 탐색 ///////////\n",
        "# 갈 곳 : 1 --> 2번\n",
        "#                     갔던 곳인지/새로운 곳인지 :\n",
        "#                          New판단 : 그 곳의 거리가 inf 인지 체크!!!\n",
        "#                              할 일 : 거리를 갱신(기존거리 + 1)\n",
        "#                               distance = [inf(0), 0, 0+1, inf(3), inf(4)]\n",
        "#                                      또 거기서 갈 수 있는 도시  할 일에 추가\n",
        "#                                        q.appen/extend( 3/4)\n",
        "# .......... 할 일 없을 때 까지......\n",
        "# ===> distance = [inf(0), 0, 1, 1, 2]\n",
        "#      distance.index(k) : distance 중에서 값이 k인 것 ==> 여러개를 처리 X\n",
        "#      distance에서 k인 값들을 모두 필터링!!!!!!!!!==> index만 정리해서 출력!!\n",
        "#      ==> LC + enumerate( v:필터링, i:정수인덱스 모아서 출력,,,/갯수)\n",
        "\n",
        "from collections import deque"
      ],
      "metadata": {
        "id": "fuDXdzdX0BR5"
      },
      "execution_count": null,
      "outputs": []
    },
    {
      "cell_type": "code",
      "source": [
        "# 기본 BFS와 차이점 : 한 일에 대한 목록 -==> 거리에 대한 정보\n",
        "def bfs_city( start):\n",
        "    # 할 일 : 방문할 도시 ==> 기존의 bfs 그대로 // deque\n",
        "    q = deque()\n",
        "    # 한 일 : 방문한 도시 ==> 수정!!!! 거리로 수정을 하려고 하니!!!!\n",
        "    #         초기값에 대한 세팅 : 못가요!!! ==> INF\n",
        "    #         도시에 대한 정보도 가상의 0번 도시 --> 정수인덱스가 도시번호\n",
        "    INF = float(\"inf\")\n",
        "    distance = [INF] * (n+1) # 가상의 0번 도시를 포함해서 세팅!!!\n",
        "    # [inf(0), inf(1), inf(2),inf(3),inf(4)] # n=4~ 0~~~~4 n+1필요!!\n",
        "\n",
        "\n",
        "    # 초기화\n",
        "    # 2-1) 할 일에 대한 초기화\n",
        "    q.append(start)\n",
        "    # 2-2) 거리에 대한 초기화 *** 다른 점!!!!!\n",
        "    distance[start] = 0\n",
        "\n",
        "    # 큰 틀 : 방문할 도시가 없을 때 까지....\n",
        "    while q:\n",
        "        # 어디로 갈까요?---> 할 일을 하나 꺼내와야 함!!! bfs --> 앞에서!!!!\n",
        "        now = q.popleft() # deque로 해서....\n",
        "        # 지금 여기서 연결된 도시들을 다 체크!!!!!\n",
        "        for next_node in graph[now]:\n",
        "            # 여기가 신규 방문지인지 체크!!! ==> distance == INF\n",
        "            if distance[next_node] == INF:\n",
        "                # 거리를 갱신!!!! 도장\n",
        "                distance[next_node] = distance[now] + 1\n",
        "                # 거기서 또 next가서 갈 수 있는지 체크...: 할 일에 추가..\n",
        "                q.append(next_node)\n",
        "    # q가 다 빌때까지 == 방문할 도시가 더 없을 때 까지..\n",
        "    return distance\n"
      ],
      "metadata": {
        "id": "1EmOTPOm0BUE"
      },
      "execution_count": null,
      "outputs": []
    },
    {
      "cell_type": "code",
      "source": [
        "dis_result = bfs_city(x)\n",
        "dis_result\n",
        "# ==> BFS로 했기에,,,최초로 거리에 대한 기록을 한 값들 기록 == 제일 빨리 온 path!!"
      ],
      "metadata": {
        "colab": {
          "base_uri": "https://localhost:8080/"
        },
        "id": "POak7IHa6rx4",
        "outputId": "ac13426d-f388-4527-9079-2b846e1ecb01"
      },
      "execution_count": null,
      "outputs": [
        {
          "output_type": "execute_result",
          "data": {
            "text/plain": [
              "[inf, 0, 1, 1, 2]"
            ]
          },
          "metadata": {},
          "execution_count": 11
        }
      ]
    },
    {
      "cell_type": "code",
      "source": [
        "# +++ 최종 출력은 : 한 줄 출력!!!! & 경우가 없으면 -1\n",
        "# ==> k의 값에 대해서 여러개가 있을 수 있어서...저는 LC\n",
        "#     (값: 필터링, 출력 정보 : 정수인덱스) ==> enumerate\n",
        "# +++ 도시 출력에 대해서는 오름차순!!!\n",
        "#     정수 인덱스로 돌리면,,,자동 오름차순이여서 sort 안 해 될 듯..."
      ],
      "metadata": {
        "id": "OXvEgtgk6r0p"
      },
      "execution_count": null,
      "outputs": []
    },
    {
      "cell_type": "code",
      "source": [
        "dis_k = [i for i,v in enumerate(dis_result) if v == k]\n",
        "dis_k"
      ],
      "metadata": {
        "colab": {
          "base_uri": "https://localhost:8080/"
        },
        "id": "Z31F_nG3-EfO",
        "outputId": "000911df-2a02-4a93-cc16-12c04f55606e"
      },
      "execution_count": null,
      "outputs": [
        {
          "output_type": "execute_result",
          "data": {
            "text/plain": [
              "[4]"
            ]
          },
          "metadata": {},
          "execution_count": 12
        }
      ]
    },
    {
      "cell_type": "code",
      "source": [
        "# 추가 출력에 대한 조건...\n",
        "# 1) 조건을 만족하는 경우가 없다면 : -1로 출력\n",
        "# 2) 조건을 만족하는 경우가 있다면 : 다 여러개 모두 1줄씩 출력...\n",
        "if dis_k == []:\n",
        "    print(-1)\n",
        "else:\n",
        "    while dis_k:\n",
        "        print(dis_k.pop(0))\n",
        "# ===> 단순히 자주 사용되는 코드에 대한 리뷰용!!!\n",
        "#      꼭 이렇게 해야 하는거는 아님!\n",
        "\n"
      ],
      "metadata": {
        "id": "ZZ0rm4kh-PFA"
      },
      "execution_count": null,
      "outputs": []
    },
    {
      "cell_type": "code",
      "source": [
        "# 정리)\n",
        "# - 기본적인 탐색 DFS vs BFS 에 중에서 어떤 것을 활요할까에 대한 선택!!!!\n",
        "# - 거리에 대한 문제에 대한 세팅: 한 일에 대한 세팅 수정\n",
        "#                                 못가요 기본값으로 세팅 INF\n",
        "# - 기본적인 탐색은 BFS로 구현!!!!!!!\n",
        "# 참고) FM적은 최단거리 알고리즘 안 하고, 간단하게 한 부분!!!"
      ],
      "metadata": {
        "id": "98Td8PbO-PIZ"
      },
      "execution_count": null,
      "outputs": []
    },
    {
      "cell_type": "code",
      "source": [],
      "metadata": {
        "id": "T6zqwTy6-PKv"
      },
      "execution_count": null,
      "outputs": []
    },
    {
      "cell_type": "code",
      "source": [],
      "metadata": {
        "id": "565KGk0x0BWr"
      },
      "execution_count": null,
      "outputs": []
    },
    {
      "cell_type": "code",
      "source": [],
      "metadata": {
        "id": "eOsuMRES0BZp"
      },
      "execution_count": null,
      "outputs": []
    }
  ]
}