{
  "nbformat": 4,
  "nbformat_minor": 0,
  "metadata": {
    "colab": {
      "provenance": [],
      "authorship_tag": "ABX9TyP/o2Wsrckt5UOIa9RjQBRX",
      "include_colab_link": true
    },
    "kernelspec": {
      "name": "python3",
      "display_name": "Python 3"
    },
    "language_info": {
      "name": "python"
    }
  },
  "cells": [
    {
      "cell_type": "markdown",
      "metadata": {
        "id": "view-in-github",
        "colab_type": "text"
      },
      "source": [
        "<a href=\"https://colab.research.google.com/github/HAN-GEONHUI/test/blob/t_academy_%EC%88%98%EC%97%85/17_%EB%AF%B8%EB%A1%9C%ED%83%90%EC%83%89%EB%AC%B8%EC%A0%9C(240816).ipynb\" target=\"_parent\"><img src=\"https://colab.research.google.com/assets/colab-badge.svg\" alt=\"Open In Colab\"/></a>"
      ]
    },
    {
      "cell_type": "code",
      "execution_count": null,
      "metadata": {
        "id": "AxiA6B5LHCWJ"
      },
      "outputs": [],
      "source": [
        "# 문제 경로 : https://www.acmicpc.net/problem/2178\n",
        "# 미로 탐색 문제"
      ]
    },
    {
      "cell_type": "code",
      "source": [
        "# 기본적인DFS/BFS --> k거리도시문제 --> 미로 탐색 문제!!!"
      ],
      "metadata": {
        "id": "auzU7IDUHONw"
      },
      "execution_count": null,
      "outputs": []
    },
    {
      "cell_type": "code",
      "source": [
        "# 문제 : 미로 탐색 문제\n",
        "#        + 앞에서 했던 구현에서 평면상에서 LRUD에 대한 움직임!!!!\n",
        "#        + 다 해보기에 : 탐색에 대한 기본 내용!!\n",
        "#        + 제일 짧은 거리 : 최소 거리 문제 고민!!!!\n",
        "# ===> 판대기 : 지도가 아니라 2D 평면 미로판!!!!!\n",
        "#      할 일 // 한 일 세팅을 어찌할지에 대한 고민!!!!!"
      ],
      "metadata": {
        "id": "PjN38ZoyHOPu"
      },
      "execution_count": null,
      "outputs": []
    },
    {
      "cell_type": "code",
      "source": [],
      "metadata": {
        "id": "IXozqTLYHOSO"
      },
      "execution_count": null,
      "outputs": []
    },
    {
      "cell_type": "code",
      "source": [
        "#분석 : 2차원 평면상의 움직임 +모든 경우에 수 +최단거리\n",
        "#----> 2차원 평면상의 움직임 : LRUD구현에서 했던 방식(in //out:부등식을 사용하면 용이)\n",
        "#-->탐색: 기존에 한 일에 대한 세팅: 도시 최단거리 문제 스타일+주어진 2차원에서 처리,기존 지도에 갱신\n",
        "# DFS(X):갔다가 오는 것은 번거로운 일\n",
        "# BFS(O):순차적으로 출발점을 기준으로 한 걸음 씩 진행,자료 처리 방식 queue사용 ==> deque 사용하자 !!!"
      ],
      "metadata": {
        "id": "NAKCHTQoHOZW"
      },
      "execution_count": null,
      "outputs": []
    },
    {
      "cell_type": "code",
      "source": [
        "#입력처리1) 지도크기(가로,세로)\n",
        "n,m =map(int, input(\"가로 세로 크기를 입력하세요..\").split(\" \"))\n",
        "print(n,m)"
      ],
      "metadata": {
        "colab": {
          "base_uri": "https://localhost:8080/"
        },
        "id": "piCDv52gIENE",
        "outputId": "e1a6639e-22c0-4bf9-e1ce-f966a5591323"
      },
      "execution_count": null,
      "outputs": [
        {
          "output_type": "stream",
          "name": "stdout",
          "text": [
            "가로 세로 크기를 입력하세요..4 6\n",
            "4 6\n"
          ]
        }
      ]
    },
    {
      "cell_type": "code",
      "source": [],
      "metadata": {
        "id": "oJA3AeYuIkpo"
      },
      "execution_count": null,
      "outputs": []
    },
    {
      "cell_type": "markdown",
      "source": [
        "![image.png](data:image/png;base64,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)"
      ],
      "metadata": {
        "id": "OM8nYzV3IdA8"
      }
    },
    {
      "cell_type": "code",
      "source": [
        "\"1 0 1 1 1 1\".split(\" \")"
      ],
      "metadata": {
        "colab": {
          "base_uri": "https://localhost:8080/"
        },
        "id": "ophtuurIIpOA",
        "outputId": "e08668fe-255f-4506-bd17-894244dd51ec"
      },
      "execution_count": null,
      "outputs": [
        {
          "output_type": "execute_result",
          "data": {
            "text/plain": [
              "['1', '0', '1', '1', '1', '1']"
            ]
          },
          "metadata": {},
          "execution_count": 41
        }
      ]
    },
    {
      "cell_type": "code",
      "source": [
        "3# 입력처리2) 지도의 실제 값을 받는 부분\n",
        "#            ==> 큰 틀 : 가로 줄!!!!\n",
        "graph = []\n",
        "for i in range(n):\n",
        "    t = input(\"n m에 대한 {0}번째 가로줄\".format(i+1) )\n",
        "    t = list(map(int, [ i for i in t]))\n",
        "    graph.append( t )\n",
        "graph"
      ],
      "metadata": {
        "colab": {
          "base_uri": "https://localhost:8080/"
        },
        "id": "RNPKfhNUIpQh",
        "outputId": "95e66671-c66d-4d98-ca53-7e71d9110263"
      },
      "execution_count": null,
      "outputs": [
        {
          "name": "stdout",
          "output_type": "stream",
          "text": [
            "n m에 대한 1번째 가로줄11011\n",
            "n m에 대한 2번째 가로줄10011\n",
            "n m에 대한 3번째 가로줄11001\n",
            "n m에 대한 4번째 가로줄10101\n"
          ]
        },
        {
          "output_type": "execute_result",
          "data": {
            "text/plain": [
              "[[1, 1, 0, 1, 1], [1, 0, 0, 1, 1], [1, 1, 0, 0, 1], [1, 0, 1, 0, 1]]"
            ]
          },
          "metadata": {},
          "execution_count": 51
        }
      ]
    },
    {
      "cell_type": "code",
      "source": [
        "a = input(\"n m에 대한 {0}번째 가로줄\".format(i+1))\n",
        "a"
      ],
      "metadata": {
        "colab": {
          "base_uri": "https://localhost:8080/",
          "height": 52
        },
        "id": "jRC_g8ayJnxR",
        "outputId": "f873c19d-0269-4022-eaf0-76a41984b792"
      },
      "execution_count": null,
      "outputs": [
        {
          "name": "stdout",
          "output_type": "stream",
          "text": [
            "n m에 대한 4번째 가로줄10111\n"
          ]
        },
        {
          "output_type": "execute_result",
          "data": {
            "text/plain": [
              "'10111'"
            ],
            "application/vnd.google.colaboratory.intrinsic+json": {
              "type": "string"
            }
          },
          "metadata": {},
          "execution_count": 44
        }
      ]
    },
    {
      "cell_type": "code",
      "source": [
        "list(map(int, [ i for i in a]))"
      ],
      "metadata": {
        "colab": {
          "base_uri": "https://localhost:8080/"
        },
        "id": "zLkr3fN0J7zB",
        "outputId": "2ff71e09-673e-430a-9b3c-b04aa2941c55"
      },
      "execution_count": null,
      "outputs": [
        {
          "output_type": "execute_result",
          "data": {
            "text/plain": [
              "[1, 0, 1, 1, 1]"
            ]
          },
          "metadata": {},
          "execution_count": 45
        }
      ]
    },
    {
      "cell_type": "code",
      "source": [
        "#구현에서 LRUD 이동 문제+ k 도시 문제를 섞은 케이스"
      ],
      "metadata": {
        "id": "A4I91ZATgmPW"
      },
      "execution_count": null,
      "outputs": []
    },
    {
      "cell_type": "code",
      "source": [
        "#--> 코테 문제들은 처음에 너무 오래 생각할 필요는 없음\n",
        "#    빠르게 보고, 이해하고, 놓친거 체크\n",
        "#     *** 안 보고 손이 나갈정도로 숙지할"
      ],
      "metadata": {
        "id": "DxlfkeGrgtZv"
      },
      "execution_count": null,
      "outputs": []
    },
    {
      "cell_type": "code",
      "source": [
        "# 실제 탐색에 대한 구현!!!\n",
        "# ==> 2차원에 LRUD에 대한 움직임!!!! ==> 지도를 접근하는 좌표\n",
        "# ==> 1칸씩 움직인다고 했음... LRUD\n",
        "#     dict//dx,dy list//etc\n",
        "# --> 선생님의 주관적인 생각) 굳이 L,R,U.D 지시사항은 필욭\n",
        "#                             L자 이동 문제 처럼 단순히 이동해봐야할 4가지만 리스트 업 해보면 됨\n",
        "dx = [-1,1,0,0]\n",
        "dy = [0,0,-1,1]\n",
        "#--> LRUD 대한 순서는 고민을 안해도 됨\n",
        "# 그냥 4 가지 중에서 할  수 있는 것들만 하면 된다.\n",
        "\n",
        "#이 문제는 탐색 중에서 출발점 중심으로 체계적/한 단계씩 진전을 해야함\n",
        "# ==> BFS방식!!!!\n",
        "# ==> Queue 스케줄!!\n",
        "#deque 패키지를 사용\n",
        "from collections import deque"
      ],
      "metadata": {
        "id": "rprwKIgUg80z"
      },
      "execution_count": null,
      "outputs": []
    },
    {
      "cell_type": "code",
      "source": [
        "#최단 거리 미로 탐색 함수\n",
        "#입력 : 출발점(좌표화)\n",
        "#출력 : 따로 없음\n",
        "#할일 : 사용자가 입력으로 준 지도에 직접 갱신\n",
        "#      --> 개인 스타일에 맞춰서 수정하거나 조정하면 됨\n",
        "#처음 출발 위치: 문제상(1,1)--> 지도를 파이썬의 리스트로 코드화를 했기에 파이썬의(0,0)\n",
        "\n",
        "def bfs_miro( start):  # (0,0)\n",
        "    # 기본 세팅\n",
        "    # 1-1) 할 일 : q --> queue(큐) [ (x_pos, y_pos),,,,,]\n",
        "    # 1-2) 한 일 : 거리 --> graph에 직접 기록하면 됨!!!!\n",
        "    x_pos = start[0]\n",
        "    y_pos = start[1]\n",
        "    # To Do list\n",
        "    q = deque()\n",
        "\n",
        "    # 2) 초기값에 대한 세팅 : 출발점에 대한 세팅!!!\n",
        "    q.append( (x_pos, y_pos))\n",
        "    # ==> 입력으로 준 start 위치에 대한 좌표  정보를 할 일에 추가하고 시작!!!\n",
        "\n",
        "    # 3) 큰 틀 : 할 일이 없을 떄 까지....\n",
        "    while q:\n",
        "        # 내가 방문할 곳 선택 : bfs --> queue --> 맨앞\n",
        "        #                       2차원의 위치 2개의 x,y좌표로\n",
        "        now_x, now_y = q.popleft() # BFS --> ( x_pos, y_pos) -->파이썬 멀티할당\n",
        "        # why? LRUD를 기본적으로 x,y 독립적으로 돌리면 되어서!!\n",
        "        # 지금 now에서 할 일 : LRUD 이동해본다면,,,, 4가지로 Fix\n",
        "        for i in range(4): # 4가지 LRUD\n",
        "            next_x = now_x + dx[i]\n",
        "            next_y = now_y + dy[i]\n",
        "            # now===> LURD 1칸 이동해본다면은.....next\n",
        "            # 체크1) in.out 체크\n",
        "            if 0<= next_x<n and 0<= next_y<m: # 파이썬 기준 인덱스 중심.in\n",
        "                # 지도 안 쪽으로 이동이 가능한 LRUD 경우들만\n",
        "                # 체크2) 내가 온 곳이 처음 방문한 곳인지!!!!\n",
        "                if graph[next_x][next_y] == 1:\n",
        "                    # 값을 갱신!!!!! 지금 값 + 1 도장찍기!!!\n",
        "                    graph[next_x][next_y] =  graph[now_x][now_y] + 1\n",
        "                    # 거기서 또 할 일을 받아야 함 : LRUD 더 이동해봐!!!\n",
        "                    q.append( (next_x, next_y))\n"
      ],
      "metadata": {
        "id": "5sbsxlfShBYj"
      },
      "execution_count": null,
      "outputs": []
    },
    {
      "cell_type": "code",
      "source": [
        "bfs_miro( (0,0))"
      ],
      "metadata": {
        "id": "qADryrVWhBa-"
      },
      "execution_count": null,
      "outputs": []
    },
    {
      "cell_type": "code",
      "source": [
        "graph"
      ],
      "metadata": {
        "colab": {
          "base_uri": "https://localhost:8080/"
        },
        "id": "HFGD-dvDnbBK",
        "outputId": "7d648d93-6c51-42ab-d036-d52065e6f93b"
      },
      "execution_count": null,
      "outputs": [
        {
          "output_type": "execute_result",
          "data": {
            "text/plain": [
              "[[3, 0, 9, 10, 11, 12],\n",
              " [2, 0, 8, 0, 12, 0],\n",
              " [3, 0, 7, 0, 13, 14],\n",
              " [4, 5, 6, 0, 14, 15]]"
            ]
          },
          "metadata": {},
          "execution_count": 49
        }
      ]
    },
    {
      "cell_type": "code",
      "source": [
        "graph[n-1][m-1]"
      ],
      "metadata": {
        "colab": {
          "base_uri": "https://localhost:8080/"
        },
        "id": "R051e6oZnc-o",
        "outputId": "05dc2cb7-973b-4dad-d439-1fa0907908f8"
      },
      "execution_count": null,
      "outputs": [
        {
          "output_type": "execute_result",
          "data": {
            "text/plain": [
              "15"
            ]
          },
          "metadata": {},
          "execution_count": 50
        }
      ]
    },
    {
      "cell_type": "code",
      "source": [
        "# 정리\n",
        "# --> 기본적인 탐색 : DFS vs BFS\n",
        "# --> 기본이 되는 문제들 : 2차 평면상의 움직 지도 문제 + k도시 탐색(최단거리)\n",
        "# ==> 판대기를 2차원 평면!!!! : 판대기가 다양하게 세팅이 될 수 있구나!!!\n",
        "#                               ( 지도는 한 종류 중 하나임!! )\n",
        "# ==> 판대기에 맞춰서 할 일에 대한 세팅!! ( 여기서는 좌표 )\n",
        "#                     한 일에 대한 세팅!! (따로 기록, 판대기에 직접 기록 )\n",
        "#                                         case by case\n",
        "# ** 어려운 문제들은 잘 보일 수 있음!!!!!!!\n",
        "# ===> 여러 유형을 풀고// 스스로 유형별 정리 // 본인만의 기준!!!!"
      ],
      "metadata": {
        "id": "BGSq7Sf9n1Mb"
      },
      "execution_count": null,
      "outputs": []
    },
    {
      "cell_type": "code",
      "source": [],
      "metadata": {
        "id": "WNoZUEbTn6N5"
      },
      "execution_count": null,
      "outputs": []
    },
    {
      "cell_type": "code",
      "source": [],
      "metadata": {
        "id": "qeKZpU0wn6QR"
      },
      "execution_count": null,
      "outputs": []
    },
    {
      "cell_type": "code",
      "source": [],
      "metadata": {
        "id": "QVCrbnWrn_HQ"
      },
      "execution_count": null,
      "outputs": []
    },
    {
      "cell_type": "code",
      "source": [
        "from collections import deque\n",
        "dx = [-1,1,0,0]\n",
        "dy = [0,0,-1,1]\n",
        "\n"
      ],
      "metadata": {
        "id": "ysjIyeiUJoQB"
      },
      "execution_count": null,
      "outputs": []
    }
  ]
}