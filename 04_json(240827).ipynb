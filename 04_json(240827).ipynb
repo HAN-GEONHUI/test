{
  "nbformat": 4,
  "nbformat_minor": 0,
  "metadata": {
    "colab": {
      "provenance": [],
      "authorship_tag": "ABX9TyP3L2YaB8jnBc5Hmx+/QJhG",
      "include_colab_link": true
    },
    "kernelspec": {
      "name": "python3",
      "display_name": "Python 3"
    },
    "language_info": {
      "name": "python"
    }
  },
  "cells": [
    {
      "cell_type": "markdown",
      "metadata": {
        "id": "view-in-github",
        "colab_type": "text"
      },
      "source": [
        "<a href=\"https://colab.research.google.com/github/HAN-GEONHUI/test/blob/t_academy_%EC%88%98%EC%97%85_pandas/04_json(240827).ipynb\" target=\"_parent\"><img src=\"https://colab.research.google.com/assets/colab-badge.svg\" alt=\"Open In Colab\"/></a>"
      ]
    },
    {
      "cell_type": "code",
      "execution_count": null,
      "metadata": {
        "id": "VRZTZ9pSwiEP"
      },
      "outputs": [],
      "source": [
        "# JSON : 서로 다른 프로그램 /서비스/ 어플리케이션 사이에\n",
        "#        데이터를 주고 받을 때 사용하는 양식 중 하나..\n",
        "#        ==> 어떤 값은 뭐구요~~~, 그 값은 어떤 양식 해당!!!!\n",
        "#        파이썬의 리스트와 dict 상당히 유사함!!!!!\n",
        "\n",
        "# 실제 JSON 데이터 : 문자열로 작성된어 있는 text 데이터!\n",
        "# ---> 보면 양식이 거의 파이썬의 리스트, dict에 대응!\n",
        "# ---> re정규식을 활용해서 정보들을 추출해야하는데..,,\n",
        "#      json양식은 파이썬의 자료형으로 변환해주는 패키지!\n",
        "#      json 패키지를 사용(anaconda, colba 기본 패키지..)\n",
        "#      정규식안 써도 파이썬의 리스트./dict 값을 접근할 수 있도록 변환!!"
      ]
    },
    {
      "cell_type": "code",
      "source": [
        "import json"
      ],
      "metadata": {
        "id": "fzV-wnEAxxqx"
      },
      "execution_count": null,
      "outputs": []
    },
    {
      "cell_type": "code",
      "source": [
        "json_data1= \"\"\"{\n",
        "    \"color\":\"red\",\n",
        "    \"value\":\"$100\"\n",
        "}\n",
        "\"\"\"\n",
        "json_data1"
      ],
      "metadata": {
        "colab": {
          "base_uri": "https://localhost:8080/",
          "height": 35
        },
        "id": "hWFuNIVoxzU_",
        "outputId": "3616d43a-07bc-4e52-d641-679f0e9e67bf"
      },
      "execution_count": null,
      "outputs": [
        {
          "output_type": "execute_result",
          "data": {
            "text/plain": [
              "'{\\n    \"color\":\"red\",\\n    \"value\":\"$100\"\\n}\\n'"
            ],
            "application/vnd.google.colaboratory.intrinsic+json": {
              "type": "string"
            }
          },
          "metadata": {},
          "execution_count": 2
        }
      ]
    },
    {
      "cell_type": "code",
      "source": [
        "json_data1[\"color\"]"
      ],
      "metadata": {
        "colab": {
          "base_uri": "https://localhost:8080/",
          "height": 146
        },
        "id": "Eq0ZSTrAx0fZ",
        "outputId": "17feb1fd-0708-4cc2-dd0b-84bb5f2f7acc"
      },
      "execution_count": null,
      "outputs": [
        {
          "output_type": "error",
          "ename": "TypeError",
          "evalue": "string indices must be integers",
          "traceback": [
            "\u001b[0;31m---------------------------------------------------------------------------\u001b[0m",
            "\u001b[0;31mTypeError\u001b[0m                                 Traceback (most recent call last)",
            "\u001b[0;32m<ipython-input-3-9a0e7eebb0be>\u001b[0m in \u001b[0;36m<cell line: 1>\u001b[0;34m()\u001b[0m\n\u001b[0;32m----> 1\u001b[0;31m \u001b[0mjson_data1\u001b[0m\u001b[0;34m[\u001b[0m\u001b[0;34m\"color\"\u001b[0m\u001b[0;34m]\u001b[0m\u001b[0;34m\u001b[0m\u001b[0;34m\u001b[0m\u001b[0m\n\u001b[0m",
            "\u001b[0;31mTypeError\u001b[0m: string indices must be integers"
          ]
        }
      ]
    },
    {
      "cell_type": "code",
      "source": [
        "result = json.loads(json_data1)\n",
        "result"
      ],
      "metadata": {
        "colab": {
          "base_uri": "https://localhost:8080/"
        },
        "id": "C9v81gCgx6EH",
        "outputId": "7d7eaa08-a7b4-45ec-af45-ee9d68c5010d"
      },
      "execution_count": null,
      "outputs": [
        {
          "output_type": "execute_result",
          "data": {
            "text/plain": [
              "{'color': 'red', 'value': '$100'}"
            ]
          },
          "metadata": {},
          "execution_count": 4
        }
      ]
    },
    {
      "cell_type": "code",
      "source": [
        "type(result)"
      ],
      "metadata": {
        "colab": {
          "base_uri": "https://localhost:8080/"
        },
        "id": "mZYiwG2ex6Jg",
        "outputId": "eff007ff-ca0f-4842-ce72-152af1bf1a78"
      },
      "execution_count": null,
      "outputs": [
        {
          "output_type": "execute_result",
          "data": {
            "text/plain": [
              "dict"
            ]
          },
          "metadata": {},
          "execution_count": 5
        }
      ]
    },
    {
      "cell_type": "code",
      "source": [
        "result[\"color\"]"
      ],
      "metadata": {
        "colab": {
          "base_uri": "https://localhost:8080/",
          "height": 35
        },
        "id": "5ZB6DRxDyAbH",
        "outputId": "05cdaea0-6ca2-4076-f554-c77250a21cf1"
      },
      "execution_count": null,
      "outputs": [
        {
          "output_type": "execute_result",
          "data": {
            "text/plain": [
              "'red'"
            ],
            "application/vnd.google.colaboratory.intrinsic+json": {
              "type": "string"
            }
          },
          "metadata": {},
          "execution_count": 6
        }
      ]
    },
    {
      "cell_type": "code",
      "source": [
        "result[\"value\"]"
      ],
      "metadata": {
        "colab": {
          "base_uri": "https://localhost:8080/",
          "height": 35
        },
        "id": "qoMiRzU3yAdY",
        "outputId": "06079812-ba32-43f5-e40e-e5a722080ba9"
      },
      "execution_count": null,
      "outputs": [
        {
          "output_type": "execute_result",
          "data": {
            "text/plain": [
              "'$100'"
            ],
            "application/vnd.google.colaboratory.intrinsic+json": {
              "type": "string"
            }
          },
          "metadata": {},
          "execution_count": 7
        }
      ]
    },
    {
      "cell_type": "code",
      "source": [
        "json_data2 = \"\"\"{\n",
        "    \"id\" : \"0001\",\n",
        "    \"type\" : \"donut\",\n",
        "    \"name\" : \"Cake\",\n",
        "    \"ppu\" : 0.55,\n",
        "    \"groups\" : {\n",
        "        \"group\" : [\n",
        "                    {\"id\":\"1001\", \"type\":\"Regular\"},\n",
        "                    {\"id\":\"1002\", \"type\":\"Choco\"},\n",
        "                    {\"id\":\"1003\", \"type\":\"Cream\"}\n",
        "                ]\n",
        "    },\n",
        "    \"topping\" : [\n",
        "        {\"id\":\"5001\", \"type\":\"None\"},\n",
        "        {\"id\":\"5002\", \"type\":\"Sugar\"},\n",
        "        {\"id\":\"5003\", \"type\":\"Choco\"}\n",
        "    ]\n",
        "}\n",
        "\"\"\"\n",
        "json_data2"
      ],
      "metadata": {
        "colab": {
          "base_uri": "https://localhost:8080/",
          "height": 108
        },
        "id": "GYCZa4JQyAf4",
        "outputId": "2809c145-0bc0-40c6-dd2a-280eda5b4cb5"
      },
      "execution_count": null,
      "outputs": [
        {
          "output_type": "execute_result",
          "data": {
            "text/plain": [
              "'{\\n    \"id\" : \"0001\",\\n    \"type\" : \"donut\",\\n    \"name\" : \"Cake\",\\n    \"ppu\" : 0.55,\\n    \"groups\" : {\\n        \"group\" : [\\n                    {\"id\":\"1001\", \"type\":\"Regular\"},\\n                    {\"id\":\"1002\", \"type\":\"Choco\"},\\n                    {\"id\":\"1003\", \"type\":\"Cream\"}\\n                ]\\n    },\\n    \"topping\" : [\\n        {\"id\":\"5001\", \"type\":\"None\"},\\n        {\"id\":\"5002\", \"type\":\"Sugar\"},\\n        {\"id\":\"5003\", \"type\":\"Choco\"}\\n    ]\\n}\\n'"
            ],
            "application/vnd.google.colaboratory.intrinsic+json": {
              "type": "string"
            }
          },
          "metadata": {},
          "execution_count": 8
        }
      ]
    },
    {
      "cell_type": "code",
      "source": [
        "data = json.loads(json_data2)\n",
        "data\n",
        "#json 양식으로 작성된 문자열--> 파이썬의 자료형으로 변환을 해준다! json패키지\n",
        "#원하는 값의 접근을 정규식이 아니라 정수 인덱스 키값 중심으로 접근을 할 수 있다."
      ],
      "metadata": {
        "colab": {
          "base_uri": "https://localhost:8080/"
        },
        "id": "O-AAudEbytwA",
        "outputId": "d249a107-76f5-4903-bc94-4b3a50ac2bef"
      },
      "execution_count": null,
      "outputs": [
        {
          "output_type": "execute_result",
          "data": {
            "text/plain": [
              "{'id': '0001',\n",
              " 'type': 'donut',\n",
              " 'name': 'Cake',\n",
              " 'ppu': 0.55,\n",
              " 'groups': {'group': [{'id': '1001', 'type': 'Regular'},\n",
              "   {'id': '1002', 'type': 'Choco'},\n",
              "   {'id': '1003', 'type': 'Cream'}]},\n",
              " 'topping': [{'id': '5001', 'type': 'None'},\n",
              "  {'id': '5002', 'type': 'Sugar'},\n",
              "  {'id': '5003', 'type': 'Choco'}]}"
            ]
          },
          "metadata": {},
          "execution_count": 9
        }
      ]
    },
    {
      "cell_type": "code",
      "source": [
        "type(data)"
      ],
      "metadata": {
        "colab": {
          "base_uri": "https://localhost:8080/"
        },
        "id": "2ggPDcplzK12",
        "outputId": "2a621be8-d121-4931-9d9d-9bc81d50981d"
      },
      "execution_count": null,
      "outputs": [
        {
          "output_type": "execute_result",
          "data": {
            "text/plain": [
              "dict"
            ]
          },
          "metadata": {},
          "execution_count": 10
        }
      ]
    },
    {
      "cell_type": "code",
      "source": [
        "data.keys()"
      ],
      "metadata": {
        "colab": {
          "base_uri": "https://localhost:8080/"
        },
        "id": "biaRR_W7zONe",
        "outputId": "cb892931-6212-4a1a-c21b-65b5dd6bf58f"
      },
      "execution_count": null,
      "outputs": [
        {
          "output_type": "execute_result",
          "data": {
            "text/plain": [
              "dict_keys(['id', 'type', 'name', 'ppu', 'groups', 'topping'])"
            ]
          },
          "metadata": {},
          "execution_count": 11
        }
      ]
    },
    {
      "cell_type": "code",
      "source": [
        "#ex)받은 데이터에서 id값은 무엇인가?"
      ],
      "metadata": {
        "id": "jOBCp-sozRH2"
      },
      "execution_count": null,
      "outputs": []
    },
    {
      "cell_type": "code",
      "source": [
        "data[\"id\"]"
      ],
      "metadata": {
        "colab": {
          "base_uri": "https://localhost:8080/",
          "height": 35
        },
        "id": "mV0ivKiLzW4l",
        "outputId": "5c5acc29-b05e-40db-a6df-fed6b4b92697"
      },
      "execution_count": null,
      "outputs": [
        {
          "output_type": "execute_result",
          "data": {
            "text/plain": [
              "'0001'"
            ],
            "application/vnd.google.colaboratory.intrinsic+json": {
              "type": "string"
            }
          },
          "metadata": {},
          "execution_count": 12
        }
      ]
    },
    {
      "cell_type": "code",
      "source": [
        "#ex)받은 데이터 중에서 topping 항목 중에서\n",
        "#처음 토핑 항목의 id값은 얼마?\n"
      ],
      "metadata": {
        "id": "kqAGmBAvzZqV"
      },
      "execution_count": null,
      "outputs": []
    },
    {
      "cell_type": "code",
      "source": [
        "data[\"topping\"][0][\"id\"]"
      ],
      "metadata": {
        "colab": {
          "base_uri": "https://localhost:8080/",
          "height": 35
        },
        "id": "NDYreUD7zh41",
        "outputId": "a160c747-2b87-406c-b6c6-d6d2b8880dc3"
      },
      "execution_count": null,
      "outputs": [
        {
          "output_type": "execute_result",
          "data": {
            "text/plain": [
              "'5001'"
            ],
            "application/vnd.google.colaboratory.intrinsic+json": {
              "type": "string"
            }
          },
          "metadata": {},
          "execution_count": 13
        }
      ]
    },
    {
      "cell_type": "code",
      "source": [
        "#ex) 받은 데이터 중에서 2번째 group 의 type은 무엇인가요?\n",
        "data[\"groups\"][\"group\"][1][\"type\"]"
      ],
      "metadata": {
        "colab": {
          "base_uri": "https://localhost:8080/",
          "height": 35
        },
        "id": "xjkPyDoUzuWT",
        "outputId": "b58788c7-5868-4a6b-a4f5-9fc657ab052b"
      },
      "execution_count": null,
      "outputs": [
        {
          "output_type": "execute_result",
          "data": {
            "text/plain": [
              "'Choco'"
            ],
            "application/vnd.google.colaboratory.intrinsic+json": {
              "type": "string"
            }
          },
          "metadata": {},
          "execution_count": 16
        }
      ]
    }
  ]
}