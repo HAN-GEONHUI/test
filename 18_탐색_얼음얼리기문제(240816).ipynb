{
  "nbformat": 4,
  "nbformat_minor": 0,
  "metadata": {
    "colab": {
      "provenance": [],
      "include_colab_link": true
    },
    "kernelspec": {
      "name": "python3",
      "display_name": "Python 3"
    },
    "language_info": {
      "name": "python"
    }
  },
  "cells": [
    {
      "cell_type": "markdown",
      "metadata": {
        "id": "view-in-github",
        "colab_type": "text"
      },
      "source": [
        "<a href=\"https://colab.research.google.com/github/HAN-GEONHUI/test/blob/t_academy_%EC%88%98%EC%97%85/18_%ED%83%90%EC%83%89_%EC%96%BC%EC%9D%8C%EC%96%BC%EB%A6%AC%EA%B8%B0%EB%AC%B8%EC%A0%9C(240816).ipynb\" target=\"_parent\"><img src=\"https://colab.research.google.com/assets/colab-badge.svg\" alt=\"Open In Colab\"/></a>"
      ]
    },
    {
      "cell_type": "code",
      "execution_count": null,
      "metadata": {
        "id": "eyGaqb2wnhjQ"
      },
      "outputs": [],
      "source": [
        "# 문제 : 얼음 생성 문제"
      ]
    },
    {
      "cell_type": "code",
      "source": [
        "# 고민1) 왜 이 문제가 탐색인가?-> 카운팅의 조건이 탐색이 필요함\n",
        "#                                 모든 좌표점에서 시작한다고 했을 때 연결되는 것들을 다 탐색해야하는 것!\n",
        "#                                 할 일)=LRUD 계속계속 이동: 니가 알아서 다 찾아죠! 탐색\n",
        "#                                 한 일)=지도에 0---> 1로 갱신\n",
        "\n",
        "# 고민2) 탐색이라고 한다면,,,어떤 탐색(DFS/BFS)중 뭐가 좋을까?\n",
        "#        --> 이 친구는 그닥 상관이 없음\n",
        "#            why 방문해서 도장만 받으면 끝\n",
        "#            dfs/bfs나 그렇게 크게 문제는 없음\n",
        "#            dfs로 진행을 해볼려고 함! bfs는 직접해보기/ DFS: stack--> 재귀함수\n",
        "\n",
        "# 고민3) 이 문제의 해결하는 큰 틀이 무엇일지?\n",
        "#--> 카운팅! 특정 조건을 만족할 때 마다 카운팅\n",
        "#    카운팅에 대한 조건:0을 LRUD에 연결된 덩어리를 다 탐색하고 오면-> 다 1로 값을 갱신하고-> 그때마다 카운팅\n",
        "#--> 시작점이(0,0)~~~~(n-1,m-1)\n",
        "#    이 모든 점에서 탐색을 시작 하면서 카운팅"
      ],
      "metadata": {
        "id": "qc18q29wn0wT"
      },
      "execution_count": null,
      "outputs": []
    },
    {
      "cell_type": "code",
      "source": [
        "#참고)이 문제의 차이점!\n",
        "#--> 모든(n,m)의 셀에서 탐색이 가능한지 체크\n",
        "#    출발점의 후보들이 1개로 고정된 것이 아니라 주어진 판 전체에 대해서 돌아가면서 시도를 해보아야 함.\n",
        "#-->(n,m) 지점에서 출발이 가능하다면,,, 다 탐색을 하고 그 탐색이 끝나면,, 카운팅+1 갱신해주세요"
      ],
      "metadata": {
        "id": "zE4pSofln00y"
      },
      "execution_count": null,
      "outputs": []
    },
    {
      "cell_type": "code",
      "source": [],
      "metadata": {
        "id": "Ych910ngn03C"
      },
      "execution_count": null,
      "outputs": []
    },
    {
      "cell_type": "code",
      "source": [
        "#시도1)BFS :큰 틀만 체크\n",
        "#큰틀 : 모든 좌표에서 시작한다고 세팅\n",
        "#            for i in 가로줄:\n",
        "#                for i in  세로주리\n",
        "#                  --> 2d상의 임의의(i,j)모든 출발점을 세팅\n",
        "#                     if(i,j)로 시작할 수 있다면\n",
        "#                            다 탐색이 끝날 때까지 하고\n",
        "#                            카운팅+1 갱신"
      ],
      "metadata": {
        "id": "zdNqN4-yn05c"
      },
      "execution_count": null,
      "outputs": []
    },
    {
      "cell_type": "code",
      "source": [],
      "metadata": {
        "id": "3itk9UlhyWuF"
      },
      "execution_count": null,
      "outputs": []
    },
    {
      "cell_type": "code",
      "source": [
        "# 세부적으로 체크해보기\n",
        "# 표현상은 사람 중심으로 인덱스를 한다...코드는 -1\n",
        "# (1,1)로 설명은 하는데,,코드상은 (0,0)\n",
        "\n",
        "# [ 출발점 ] : (1,1)~~(n,m)\n",
        "(1,1) ---> 시작 가능한 출발점인지 체크!!!! : (i,j)값이 0인 경우만 시작!!!!!\n",
        "            ==> 시작이 가능하다고 판정!!!\n",
        "                이것을 출발점으로 시작!!!!\n",
        "                도장찍기 (1,1)에 값을 1로 도장을 찍고,,,,\n",
        "            ==> (1,1)에서 LRUD 4가지 방향을 다 가봐!! 할 일을 받으면됨!!!\n",
        "                L = [(1,1)L, (1,1)R, (1,1)U, (1,1)D]\n",
        "            ==> 다음 할 일을 선택 : BFS --> 맨 앞을 뽑으면 됨!!\n",
        "                (1,1)L ==> (0,1) : outbound --> pass\n",
        "                 L = [(1,1)R, (1,1)U, (1,1)D]\n",
        "            ==> 다음 할 일을 선택 : BFS --> 맨 앞을 뽑으면,\n",
        "                (1,1)R --->(1,2) : IN & 얼음 얼릴 수 있는지 체크 0\n",
        "                (1,2)에 도장1로 찍기\n",
        "                (1,2)한테 할 일을 받아야 함!!!!\n",
        "                L = [ (1,1)U, (1,1)D, (1,2)L, (1,2)R, (1,2)U, (1,2)D]\n",
        "            ==> 다음 할 일을 선택 :BFS\n",
        "                (1,1)U --> 아웃바운드 : pass\n",
        "                L = [ (1,1)D, (1,2)L, (1,2)R, (1,2)U, (1,2)D]\n",
        "            ==> 다음 할 일을 선택 : BFS\n",
        "                (1,1)D --> (2,1) : IN & 얼을 얼릴  수 있음0\n",
        "                (2,1)에 도장 찍기\n",
        "                (2,1)한테 할 일을 받아야 함!!!\n",
        "                L = [ (1,2)L, (1,2)R, (1,2)U, (1,2)D,(2,1)L, (2,1)R, (2,1)U, (2,1)D]\n",
        "            ==> 다음 할 일을 선택 :BFS\n",
        "                (1,2)L --> (1,1) : IN & 값이 1로 이미 갱신 --> pass\n",
        "                L = [  (1,2)R, (1,2)U, (1,2)D,(2,1)L, (2,1)R, (2,1)U, (2,1)D]\n",
        "            ==> 다음 할 일을 선택\n",
        "                (1,2)R --> (1,3) : IN & 이미 칸 --> pass\n",
        "                L = [ (1,2)U, (1,2)D,(2,1)L, (2,1)R, (2,1)U, (2,1)D]\n",
        "            ==> 다음 할 일 선택\n",
        "                (1,2)U --> (0,2) : out ---> pass\n",
        "                L = [ (1,2)D,(2,1)L, (2,1)R, (2,1)U, (2,1)D]\n",
        "            ==> 다음 할 일 선택\n",
        "                (1,2)D --> (2,2) : IN&0으로 얼음 가능\n",
        "                (2,2)에 1로 도장찍기\n",
        "                (2,2)한테 할 일을 받아야 함!!!\n",
        "                L = [ (2,1)L, (2,1)R, (2,1)U, (2,1)D,(2,2)L, (2,2)R, (2,2)U, (2,2)D]\n",
        "            ==> 다음 할 일 선택\n",
        "                (2,1)L : pass\n",
        "                (2,1)R : pass\n",
        "                (2,1)U : pass\n",
        "                (2,1)D : pass\n",
        "                (2,2)L : pass\n",
        "                (2,2)R : in & 값 0 --> 얼릴 수 있음.\n",
        "                (2,3)에 도장1을 찍고\n",
        "                할 일을 추가 받아야 함!!!\n",
        "                L = [(2,2)U, (2,2)D,(2,3)L, (2,3)R, (2,3)U, (2,3)D]\n",
        "            ==> 다음 할 일\n",
        "                (2,2)U : pass\n",
        "                (2,2)D : pass\n",
        "                (2,3)L : pass\n",
        "                (2,3)R : pass\n",
        "                (2,3)U : pass\n",
        "                (2,3)D : pass\n",
        "                L = []\n",
        "                탐색이 종료!!!!!!!!!!!!!! (1,1)에서 탐색을 시작한다면 이제 끝!!!!\n",
        "                +1카운팅\n",
        "\n",
        "(1,2) : 시작할 수 없음\n",
        "(1,3) : 시작할 수 없음\n",
        "(1,4) : 시작할 수 없음\n",
        "(1,5) : 시작할 수 있음!!!\n",
        "       ==> 시작할 수 있으니\n",
        "       (1,5)에 도장1로 찍고,,\n",
        "       (1,5)한테 할 일 받으면 됨!!!\n",
        "       L = [ (1,5)L, (1,5)R,(1,5)U,(1,5)D]\n",
        "       ==> 하나씩 할 일을 꺼내서\n",
        "       (1,5)L : pass\n",
        "       (1,5)R : pass\n",
        "       (1,5)U : pass\n",
        "       (1,5)D : pass\n",
        "       L  = []\n",
        "       탐색이 종료!!! (1,5)에서 시작하는 탐색이 종료!!! +1카운팅\n",
        "\n",
        "(2,1)\n",
        "(2,2)\n",
        ".,...\n",
        "(4,5)"
      ],
      "metadata": {
        "id": "mT8NbLpQyYpC"
      },
      "execution_count": null,
      "outputs": []
    },
    {
      "cell_type": "code",
      "source": [
        "#문제 조건을 세팅\n",
        "graph_45 = [\n",
        "    [0,0,1,1,0],\n",
        "    [0,0,0,1,1],\n",
        "    [1,1,1,1,1],\n",
        "    [0,0,0,0,0]\n",
        "]\n",
        "graph_45"
      ],
      "metadata": {
        "colab": {
          "base_uri": "https://localhost:8080/"
        },
        "id": "bhL142Pa2p1x",
        "outputId": "5cd0a07f-ed96-4525-fe68-2743d27b884f"
      },
      "execution_count": null,
      "outputs": [
        {
          "output_type": "execute_result",
          "data": {
            "text/plain": [
              "[[0, 0, 1, 1, 0], [0, 0, 0, 1, 1], [1, 1, 1, 1, 1], [0, 0, 0, 0, 0]]"
            ]
          },
          "metadata": {},
          "execution_count": 8
        }
      ]
    },
    {
      "cell_type": "code",
      "source": [
        "#bfs로 하려고 세팅: deque\n",
        "from collections import deque"
      ],
      "metadata": {
        "id": "DMFPlyrq2qRv"
      },
      "execution_count": null,
      "outputs": []
    },
    {
      "cell_type": "code",
      "source": [
        "# BFS 로 탐색하는 경우\n",
        "# 입력 : 출발점에 대한 정보(row, col) 좌표\n",
        "# 기능 : 출발점에서 이동이 가능하다면, 모두 이동하고 체크하겠다!!!\n",
        "#        BFS으로 하겠다.\n",
        "# 출력 : 출발점에서 시작을 할 수 있고, 그래서 다 방문을 하고 끝나면 1\n",
        "#        출발점에서 시작을 할 수 없다면                             0\n",
        "\n",
        "def bfs_ice( row_init, col_init):\n",
        "    #1)주어진 시작점의 좌표에 대해서 시작 할 수 있는지 체크\n",
        "    if graph[row_init][col_init]==0:\n",
        "      #2)방문할 곳들에 대한: 할 일에 대한 초기 세팅\n",
        "      q = deque([[row_init,col_init]])\n",
        "      #graph[row_init][col_init]==1       --> 초기 상태를 도장을 찍고 시작해도 되고...(오해없이 하려면) 돌다보면 다시 찍는 과정이 있어서 생략해도 됨\n",
        "\n",
        "      #할 일:graph에서 LRUD돌면서 할 일이 없을 때 까지..\n",
        "      while True: #무한루프... 빠져나갈 세팅!\n",
        "          if not q:\n",
        "              return 1\n",
        "\n",
        "          #갈 곳에 대한 선택\n",
        "          row,col = q.popleft()\n",
        "          #직접 LRUD에 대해서 이동에 대한 체크\n",
        "          for dx,dy in [[0,-1],[0,1],[-1,0],[1,0]]:\n",
        "            #--> 이동 가능한지 체크!!! in/out\n",
        "            if 0<row+dx<n and 0<=col+dy<m: #지도 안쪽\n",
        "                  #--> 얼음을 얼릴 수 있는 공간인지 체크\n",
        "                if graph[row+dx][col+dy] ==0:\n",
        "                    graph[row+dx][col+dy] = 1\n",
        "                    q.append( [ row+dx, col+dy])\n",
        "    else:\n",
        "      # 주어진 좌표에서 시작할 수 없음.\n",
        "        return 0"
      ],
      "metadata": {
        "id": "mb6-BMcz6EoH"
      },
      "execution_count": null,
      "outputs": []
    },
    {
      "cell_type": "code",
      "source": [],
      "metadata": {
        "id": "xc7h3uTX8hAc"
      },
      "execution_count": null,
      "outputs": []
    },
    {
      "cell_type": "code",
      "source": [
        "# 위의 탐색 함수를 사용해서 주어진 문제를 풀려고 할 때\n",
        "graph = graph_45\n",
        "result = 0 # 출력에 대한 카운팅 변수\n",
        "n=4\n",
        "m=5\n",
        "for row in range(n):\n",
        "    for col in range(m):\n",
        "        # 시작점 row, col---> 카운팅!!!! if graph[row][col] ==0:\n",
        "        result += bfs_ice(row,col)\n",
        "print(result)"
      ],
      "metadata": {
        "colab": {
          "base_uri": "https://localhost:8080/"
        },
        "id": "IWr_-ZvK6JRj",
        "outputId": "df47855b-9310-4bd5-cdfe-2e7d31ce245c"
      },
      "execution_count": null,
      "outputs": [
        {
          "output_type": "stream",
          "name": "stdout",
          "text": [
            "4\n"
          ]
        }
      ]
    },
    {
      "cell_type": "code",
      "source": [],
      "metadata": {
        "id": "alzyBBGg9ekq"
      },
      "execution_count": null,
      "outputs": []
    },
    {
      "cell_type": "code",
      "source": [
        "### ===> DFS로 구현할 수 있음!!!!\n",
        "#        위의 BFS코드에서 popleft()--> pop()변경하면 됨!!!!!\n",
        "# ****** DFS로 구현이 가능하면,,,,,재귀함수로 할 수 있다!!!!!\n",
        "# ==> 재귀함수 : 기능 중심으로 코드를 작성할 수 있다!!! 점화식 처럼!!!!"
      ],
      "metadata": {
        "id": "U_UasDWf9BtB"
      },
      "execution_count": null,
      "outputs": []
    },
    {
      "cell_type": "code",
      "source": [
        "def dfs_recursive( row, col):\n",
        "    # 기능 중심!!!!!\n",
        "    # 기능1) 주어진 점이 in/out 체크!!!!!!\n",
        "    if row <=-1 or row >=n or col <= -1 or col >=m: # out\n",
        "        return False\n",
        "    # 기능2) 인바운드이면,,,,---> 얼음을 얼릴 수 있는지 체크!!!!\n",
        "    if graph[row][col] == 0 :\n",
        "        # 2-1) 도장찍기\n",
        "        graph[row][col] = 1\n",
        "        # 2-2) 더 갈 곳이 어딘지 할 일을 추가!!!!:\n",
        "        #      가서 할 일들은 위에서 지정한 것들과 동일 & 단, 시작 위치만 달라요..\n",
        "        dfs_recursive(row, col-1) # L : L막히기 전까지 쭉~~L으로 달릴려고 함!!\n",
        "        dfs_recursive(row, col+1) # R\n",
        "        dfs_recursive(row-1,col) # U\n",
        "        dfs_recursive(row+1,col) # D\n",
        "        # 혹시 문제에서 : L을 먼저 탐색하세요.....\n",
        "        # 탐색의 순서를 지정하게 되면,,,순서에 맞춰서 세팅!!!!!!!!!\n",
        "        # DFS와 정확하게 탐색의 방식이 동일함!!!!\n",
        "        return True\n",
        "    return False"
      ],
      "metadata": {
        "id": "UDMJJ9rC9fE9"
      },
      "execution_count": null,
      "outputs": []
    },
    {
      "cell_type": "code",
      "source": [
        "#To do list 재귀함수를 사용해 이 문제를 풀어보세요"
      ],
      "metadata": {
        "id": "SaN3apO_-aCC"
      },
      "execution_count": null,
      "outputs": []
    },
    {
      "cell_type": "code",
      "source": [],
      "metadata": {
        "id": "q-TSZsIP-dIB"
      },
      "execution_count": null,
      "outputs": []
    },
    {
      "cell_type": "code",
      "source": [
        "정리!1\n",
        "#dfs/bfs 모두 가능한 문제\n",
        "#--> 본인이 편한 스타일로 선택해서 하시면 됨\n",
        "\n",
        "#dfs 사용이 가능하다--> stack--> 재귀함수를 써도 됨!\n",
        "#1)정의 대로 탐색 기본으로 구현:append(),pop()\n",
        "#2)기능 중심으로 재귀함수로 구현이 가능함!\n",
        "\n",
        "#BFS사용이 가능하다!--> queue -->deque\n",
        "# ==> 거리, 출발점에 순서 중요할 떄\n",
        "#     : 출발점에서 뭔가 점진적으로 진행을 해야하는 경우들의 상황!!!\n",
        "# ==> 최단거리 문제로 일반화 : 다익스트라 알고리즘!!!!!\n",
        "#     (거리가 1로 일정하거나 하는 간단한 경우 : BFS로 처리가 가능!!)\n",
        "# ==> 속도 이슈 : deque : append(), popleft()\n",
        "# 주의!!!) 절대로 재귀함수를 사용하면 안 됨!"
      ],
      "metadata": {
        "id": "fZvf1X9z-dKZ"
      },
      "execution_count": null,
      "outputs": []
    },
    {
      "cell_type": "code",
      "source": [],
      "metadata": {
        "id": "5nUvr9mN-dNB"
      },
      "execution_count": null,
      "outputs": []
    }
  ]
}