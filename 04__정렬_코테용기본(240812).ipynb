{
  "nbformat": 4,
  "nbformat_minor": 0,
  "metadata": {
    "colab": {
      "provenance": [],
      "authorship_tag": "ABX9TyM+KqmYJOnwU9xCylON0pVW",
      "include_colab_link": true
    },
    "kernelspec": {
      "name": "python3",
      "display_name": "Python 3"
    },
    "language_info": {
      "name": "python"
    }
  },
  "cells": [
    {
      "cell_type": "markdown",
      "metadata": {
        "id": "view-in-github",
        "colab_type": "text"
      },
      "source": [
        "<a href=\"https://colab.research.google.com/github/HAN-GEONHUI/test/blob/t_academy_%EC%88%98%EC%97%85/04__%EC%A0%95%EB%A0%AC_%EC%BD%94%ED%85%8C%EC%9A%A9%EA%B8%B0%EB%B3%B8(240812).ipynb\" target=\"_parent\"><img src=\"https://colab.research.google.com/assets/colab-badge.svg\" alt=\"Open In Colab\"/></a>"
      ]
    },
    {
      "cell_type": "code",
      "execution_count": null,
      "metadata": {
        "id": "foInTCYRZqzs"
      },
      "outputs": [],
      "source": [
        "#주제 : 정렬\n",
        "#--> 코테용 vs 실제 대면면접/기본 내용들과 차이점\n",
        "#코테용: 정렬과 관련된 개별적인 알고리즘은 주된 내용이 아님_> 정렬만의 문제는 별로 없음\n",
        "#맨 마지막의 출력용/중간에 필요한 정도\n",
        "#핵심: 내가 원하는 대로 정렬 규칙을 세팅+필요한 자료형을 구성,설정(정렬을 하기 위한 필요한 정보들은 어떻게 세팅\n",
        "#실제 대면 면접: 기본적인 정렬 알고리즘의 차이& 코드구현"
      ]
    },
    {
      "cell_type": "code",
      "source": [
        "# 파이썬을 가지고 정렬하는 기본 기능\n",
        "#파이썬을 가지고 정렬하는 경우: 크게 두가지 방법\n",
        "#1) 리스트.sort()메서드: 원본이 날라감!\n",
        "#2) 파이썬 자체의 sorted() 원본은 유지가 됨-> 변경된 결과는 따로 할당\n",
        "#--> 공통점: 사용법이 동일!\n",
        "\n",
        "#중요한 점\n",
        "#위의 2가지 기능을 사용할 때, 문제에서 요구하는 대로 정렬 기준:\n",
        "#    특별한 정렬에 대한 기준:lambda 함수로 규칭을 기술\n",
        "\n",
        "#단순 순서상 재배치:. reverse\n",
        "\n",
        "a.reverse)\n",
        "a+"
      ],
      "metadata": {
        "id": "OunGNskxatie"
      },
      "execution_count": null,
      "outputs": []
    },
    {
      "cell_type": "code",
      "source": [
        "# 정렬 : \"기준\"을 가지고, 기준에 맞춰서 순서들을 정리!!!\n",
        "# --> 기준 : 위치, 값의 크기, 알파벳, 문자순, 성적순....."
      ],
      "metadata": {
        "id": "n8INnX4UNZUa"
      },
      "execution_count": null,
      "outputs": []
    },
    {
      "cell_type": "code",
      "source": [
        "# 단순 순서상 재배치 : reverse()메서드\n",
        "# ---> 주의!!!) 값의 크기 기준 X, 단순 위치!!!"
      ],
      "metadata": {
        "id": "rF6N97lpNboH"
      },
      "execution_count": null,
      "outputs": []
    },
    {
      "cell_type": "code",
      "source": [
        "a = [15,22,8, 79,10]\n",
        "a"
      ],
      "metadata": {
        "colab": {
          "base_uri": "https://localhost:8080/"
        },
        "id": "78XoiJ7kNeep",
        "outputId": "725043c4-cf5d-4577-ef6d-cfc386407f8c"
      },
      "execution_count": null,
      "outputs": [
        {
          "output_type": "execute_result",
          "data": {
            "text/plain": [
              "[15, 22, 8, 79, 10]"
            ]
          },
          "metadata": {},
          "execution_count": 1
        }
      ]
    },
    {
      "cell_type": "code",
      "source": [
        "a.reverse()\n",
        "a # --> 리스트의 변경에 대한 메서드 : 원본이 바로 변경!!"
      ],
      "metadata": {
        "colab": {
          "base_uri": "https://localhost:8080/"
        },
        "id": "VfPB4Q_dNeg7",
        "outputId": "c1719a61-4cc8-4207-a48e-d28b5282fe35"
      },
      "execution_count": null,
      "outputs": [
        {
          "output_type": "execute_result",
          "data": {
            "text/plain": [
              "[10, 79, 8, 22, 15]"
            ]
          },
          "metadata": {},
          "execution_count": 2
        }
      ]
    },
    {
      "cell_type": "code",
      "source": [
        "# 값을 기준으로 정렬 : .sort()메서드\n",
        "#                      sorted()파이썬 함수"
      ],
      "metadata": {
        "id": "TKFV4ggsNejM"
      },
      "execution_count": null,
      "outputs": []
    },
    {
      "cell_type": "code",
      "source": [
        "a"
      ],
      "metadata": {
        "colab": {
          "base_uri": "https://localhost:8080/"
        },
        "id": "VQ2VfjoiNelj",
        "outputId": "28f25e60-bcab-4e01-9a4d-99e3cf8cb744"
      },
      "execution_count": null,
      "outputs": [
        {
          "output_type": "execute_result",
          "data": {
            "text/plain": [
              "[10, 79, 8, 22, 15]"
            ]
          },
          "metadata": {},
          "execution_count": 3
        }
      ]
    },
    {
      "cell_type": "code",
      "source": [
        "sorted(a) # 원소의 값을 크기 기준으로 정렬 : 오름차순"
      ],
      "metadata": {
        "colab": {
          "base_uri": "https://localhost:8080/"
        },
        "id": "Co2_zVyzNlXv",
        "outputId": "9d5cf6e0-356e-439a-f2a3-c12560052e64"
      },
      "execution_count": null,
      "outputs": [
        {
          "output_type": "execute_result",
          "data": {
            "text/plain": [
              "[8, 10, 15, 22, 79]"
            ]
          },
          "metadata": {},
          "execution_count": 4
        }
      ]
    },
    {
      "cell_type": "code",
      "source": [
        "b = sorted(a) # sorted()함수를 사용해서 변경된 값을 사용하려면 할당!!!\n",
        "b"
      ],
      "metadata": {
        "colab": {
          "base_uri": "https://localhost:8080/"
        },
        "id": "aTM9rP7jNlZ3",
        "outputId": "49eb57b4-733f-413d-ac06-c7ca44a9c18f"
      },
      "execution_count": null,
      "outputs": [
        {
          "output_type": "execute_result",
          "data": {
            "text/plain": [
              "[8, 10, 15, 22, 79]"
            ]
          },
          "metadata": {},
          "execution_count": 5
        }
      ]
    },
    {
      "cell_type": "code",
      "source": [
        "a.sort() # 바로 정렬 기준으로 a의 값이 바로 변경--> 할당X\n",
        "a        # 원본이 뭐였는지 날라감!!!!"
      ],
      "metadata": {
        "colab": {
          "base_uri": "https://localhost:8080/"
        },
        "id": "nNJhXSYgNuiS",
        "outputId": "ef56fc20-0d78-4c57-dccd-2f4e0db71543"
      },
      "execution_count": null,
      "outputs": [
        {
          "output_type": "execute_result",
          "data": {
            "text/plain": [
              "[8, 10, 15, 22, 79]"
            ]
          },
          "metadata": {},
          "execution_count": 6
        }
      ]
    },
    {
      "cell_type": "code",
      "source": [
        "# 정리)\n",
        "# 파이썬의 리스트의 sort()메서드 : 원본이 바로 변경!!!\n",
        "# 파이썬의 sorted()함수          : 원본은 유지가 됨!!\n",
        "#                                  변경사항을 따로 할당!!!!"
      ],
      "metadata": {
        "id": "5Rg36JkmNusp"
      },
      "execution_count": null,
      "outputs": []
    },
    {
      "cell_type": "code",
      "source": [
        "# + option) 값에 대한 정렬 : 오름/ 내림차순\n",
        "# --> reverse =False : 오름\n",
        "#     reverse =True  : 내림\n",
        "# FM적인 방법"
      ],
      "metadata": {
        "id": "hT_HaDWkNyXs"
      },
      "execution_count": null,
      "outputs": []
    },
    {
      "cell_type": "code",
      "source": [
        "a = [15,22,8, 79,10]\n",
        "a"
      ],
      "metadata": {
        "colab": {
          "base_uri": "https://localhost:8080/"
        },
        "id": "ryFniNTxNyoZ",
        "outputId": "473eecd6-f62d-4093-dc16-eba32f0be0d4"
      },
      "execution_count": null,
      "outputs": [
        {
          "output_type": "execute_result",
          "data": {
            "text/plain": [
              "[15, 22, 8, 79, 10]"
            ]
          },
          "metadata": {},
          "execution_count": 9
        }
      ]
    },
    {
      "cell_type": "code",
      "source": [
        "a.sort( reverse=True) # 값의 크기 : 내림차순\n",
        "a"
      ],
      "metadata": {
        "colab": {
          "base_uri": "https://localhost:8080/"
        },
        "id": "AwEKXB3ANyq7",
        "outputId": "dd1a9705-0db3-4b47-ea23-b49c6476536c"
      },
      "execution_count": null,
      "outputs": [
        {
          "output_type": "execute_result",
          "data": {
            "text/plain": [
              "[79, 22, 15, 10, 8]"
            ]
          },
          "metadata": {},
          "execution_count": 10
        }
      ]
    },
    {
      "cell_type": "code",
      "source": [
        "a.sort( reverse=False) # 값의 크기 : 오름차순\n",
        "a"
      ],
      "metadata": {
        "colab": {
          "base_uri": "https://localhost:8080/"
        },
        "id": "wuheCVAgN_lA",
        "outputId": "fa49b22a-2dd2-4f56-bde8-7e35adde2f81"
      },
      "execution_count": null,
      "outputs": [
        {
          "output_type": "execute_result",
          "data": {
            "text/plain": [
              "[8, 10, 15, 22, 79]"
            ]
          },
          "metadata": {},
          "execution_count": 11
        }
      ]
    },
    {
      "cell_type": "code",
      "source": [
        "a = [15,22,8, 79,10]\n",
        "a"
      ],
      "metadata": {
        "colab": {
          "base_uri": "https://localhost:8080/"
        },
        "id": "kcOzKCM_N_nf",
        "outputId": "7930082c-ac2e-40ea-cb8e-5f23e2844fda"
      },
      "execution_count": null,
      "outputs": [
        {
          "output_type": "execute_result",
          "data": {
            "text/plain": [
              "[15, 22, 8, 79, 10]"
            ]
          },
          "metadata": {},
          "execution_count": 12
        }
      ]
    },
    {
      "cell_type": "code",
      "source": [
        "sorted(a, reverse=True) #  값을 기준으로 내림차순"
      ],
      "metadata": {
        "colab": {
          "base_uri": "https://localhost:8080/"
        },
        "id": "TvDwMlcON_p-",
        "outputId": "cf415692-226d-45c5-ea2d-a35b9fcf7e38"
      },
      "execution_count": null,
      "outputs": [
        {
          "output_type": "execute_result",
          "data": {
            "text/plain": [
              "[79, 22, 15, 10, 8]"
            ]
          },
          "metadata": {},
          "execution_count": 13
        }
      ]
    },
    {
      "cell_type": "code",
      "source": [
        "sorted(a, reverse=False)#  값을 기준으로 오름차순"
      ],
      "metadata": {
        "colab": {
          "base_uri": "https://localhost:8080/"
        },
        "id": "5I3YfIDRN_sP",
        "outputId": "de7a0be1-4dda-4883-c6bc-859cfbeda084"
      },
      "execution_count": null,
      "outputs": [
        {
          "output_type": "execute_result",
          "data": {
            "text/plain": [
              "[8, 10, 15, 22, 79]"
            ]
          },
          "metadata": {},
          "execution_count": 14
        }
      ]
    },
    {
      "cell_type": "code",
      "source": [
        "# 정리)\n",
        "# 포지션을 중심으로 뒤짚기 : reverse()메서드, reversed()함수\n",
        "# 값을 기준으로 정렬 오름/내림 : reverse파라미터--> sort(), sorted()"
      ],
      "metadata": {
        "id": "5h3L4WPQN_uV"
      },
      "execution_count": null,
      "outputs": []
    },
    {
      "cell_type": "code",
      "source": [
        "str_list = [\"좋은하루\", \"good morning\", \"굿모닝\",\"niceday\"]\n",
        "str_list"
      ],
      "metadata": {
        "colab": {
          "base_uri": "https://localhost:8080/"
        },
        "id": "qJJSVYzhN_wm",
        "outputId": "93f737ea-7870-4908-f2a5-3276f91436e2"
      },
      "execution_count": null,
      "outputs": [
        {
          "output_type": "execute_result",
          "data": {
            "text/plain": [
              "['좋은하루', 'good morning', '굿모닝', 'niceday']"
            ]
          },
          "metadata": {},
          "execution_count": 16
        }
      ]
    },
    {
      "cell_type": "code",
      "source": [
        "sorted(str_list) # --> 기본정렬 : 값 & 오름차순\n",
        "# --> 컴퓨터의 코드값 기준으로 영어가 앞의 숫자로 할당!!!!"
      ],
      "metadata": {
        "colab": {
          "base_uri": "https://localhost:8080/"
        },
        "id": "q6_PSv5vN_y5",
        "outputId": "981c59ca-05a9-459c-8c4b-8f45825af07f"
      },
      "execution_count": null,
      "outputs": [
        {
          "output_type": "execute_result",
          "data": {
            "text/plain": [
              "['good morning', 'niceday', '굿모닝', '좋은하루']"
            ]
          },
          "metadata": {},
          "execution_count": 17
        }
      ]
    },
    {
      "cell_type": "code",
      "source": [
        "sorted(str_list, reverse=True) # 값을 기준/ 내림차순"
      ],
      "metadata": {
        "colab": {
          "base_uri": "https://localhost:8080/"
        },
        "id": "6ufZ5RJnN_1L",
        "outputId": "9c848344-ed13-47c7-e57a-4e8b50aa6a34"
      },
      "execution_count": null,
      "outputs": [
        {
          "output_type": "execute_result",
          "data": {
            "text/plain": [
              "['좋은하루', '굿모닝', 'niceday', 'good morning']"
            ]
          },
          "metadata": {},
          "execution_count": 18
        }
      ]
    },
    {
      "cell_type": "code",
      "source": [
        "##################################################\n",
        "# 원하는 대로 정렬 기준 작성 : key 파라미터 lambda 함수로 기술\n",
        "##################################################"
      ],
      "metadata": {
        "id": "g4XkqziHN_3V"
      },
      "execution_count": null,
      "outputs": []
    },
    {
      "cell_type": "code",
      "source": [
        "str_list"
      ],
      "metadata": {
        "colab": {
          "base_uri": "https://localhost:8080/"
        },
        "id": "fWQv8akGN_6B",
        "outputId": "823f6ce2-bbd5-450e-f186-94018f928147"
      },
      "execution_count": null,
      "outputs": [
        {
          "output_type": "execute_result",
          "data": {
            "text/plain": [
              "['좋은하루', 'good morning', '굿모닝', 'niceday']"
            ]
          },
          "metadata": {},
          "execution_count": 20
        }
      ]
    },
    {
      "cell_type": "code",
      "source": [
        "# ex) 글자의 앞글자 1개만 가지고 정렬을 하려고 함!!!\n",
        "#     ==> 그 외의 글자들은 신경을 안 쓸꼐요!!!!(그냥 원본 순서대로)\n",
        "sorted( str_list, key= lambda x: x[0])"
      ],
      "metadata": {
        "colab": {
          "base_uri": "https://localhost:8080/"
        },
        "id": "50QJHr4HOXVl",
        "outputId": "3d1119a0-f1f4-47b0-900d-de79867c1ac2"
      },
      "execution_count": null,
      "outputs": [
        {
          "output_type": "execute_result",
          "data": {
            "text/plain": [
              "['good morning', 'niceday', '굿모닝', '좋은하루']"
            ]
          },
          "metadata": {},
          "execution_count": 21
        }
      ]
    },
    {
      "cell_type": "code",
      "source": [
        "# ex) 특이하게 글자의 2번째 글자 1개만 가지고 정렬을 하려고 함!!!\n",
        "#     ==> 그 외의 글자들은 신경을 안 쓸꼐요!!!!(그냥 원본 순서대로)\n",
        "# ==> 특이한 정렬 기준!!!++ 내가 직접 핸드메이드!!!!!!!!"
      ],
      "metadata": {
        "id": "-m0rFOAJOXX-"
      },
      "execution_count": null,
      "outputs": []
    },
    {
      "cell_type": "code",
      "source": [
        "sorted( str_list, key= lambda x: x[1])"
      ],
      "metadata": {
        "colab": {
          "base_uri": "https://localhost:8080/"
        },
        "id": "36QBdUenOXae",
        "outputId": "14263433-f910-4fd5-9f72-92dcc8085e7a"
      },
      "execution_count": null,
      "outputs": [
        {
          "output_type": "execute_result",
          "data": {
            "text/plain": [
              "['niceday', 'good morning', '굿모닝', '좋은하루']"
            ]
          },
          "metadata": {},
          "execution_count": 23
        }
      ]
    },
    {
      "cell_type": "code",
      "source": [
        "# ex) 특별하게 글자의 길이순서대로 정렬해주세요!!!\n",
        "#  --> 이것도 특수 기준 : 내가 직접 만들어야 함!!!\n",
        "sorted( str_list, key= lambda x: len(x))\n",
        "# +++ 오름/내림에 대한 지정은 안 했음 : 기본인 오름차순 Default"
      ],
      "metadata": {
        "colab": {
          "base_uri": "https://localhost:8080/"
        },
        "id": "NWU8epd7OXcx",
        "outputId": "59ed9bca-a6c5-4f16-a63e-9a0415096306"
      },
      "execution_count": null,
      "outputs": [
        {
          "output_type": "execute_result",
          "data": {
            "text/plain": [
              "['굿모닝', '좋은하루', 'niceday', 'good morning']"
            ]
          },
          "metadata": {},
          "execution_count": 24
        }
      ]
    },
    {
      "cell_type": "code",
      "source": [
        "# # ex) 특별하게 글자의 길이순서대로 정렬해주세요!!!\n",
        "#  --> 이것도 특수 기준 : 내가 직접 만들어야 함!!!\n",
        "#       단, 길이가 긴 것을 맨 앞의 원소로 해서 내림차순..\n",
        "# FM적인 방법\n",
        "sorted( str_list, key= lambda x: len(x), reverse=True)"
      ],
      "metadata": {
        "colab": {
          "base_uri": "https://localhost:8080/"
        },
        "id": "3qg-mv2sOXfG",
        "outputId": "e7f242f9-c594-4d06-fd52-c5df743c32ed"
      },
      "execution_count": null,
      "outputs": [
        {
          "output_type": "execute_result",
          "data": {
            "text/plain": [
              "['good morning', 'niceday', '좋은하루', '굿모닝']"
            ]
          },
          "metadata": {},
          "execution_count": 25
        }
      ]
    },
    {
      "cell_type": "code",
      "source": [
        "# 내림차순에 대한 AM적인 간단한 방법 : -부호\n",
        "# AM적인 방법 : 오름차순 +. 내림차순 - ==> 부호로 기준 기술!!\n",
        "# ******** 잘 파악해두셔야 함!!!! 조건이 여러개& 다른 오름/내림 기준일 때 ***"
      ],
      "metadata": {
        "id": "OvrgIdS9OXhZ"
      },
      "execution_count": null,
      "outputs": []
    },
    {
      "cell_type": "code",
      "source": [
        "sorted( str_list, key= lambda x: +len(x))"
      ],
      "metadata": {
        "colab": {
          "base_uri": "https://localhost:8080/"
        },
        "id": "HEB4ZriLOXj1",
        "outputId": "01c23c58-993a-45a2-a2d6-20649af35a8c"
      },
      "execution_count": null,
      "outputs": [
        {
          "output_type": "execute_result",
          "data": {
            "text/plain": [
              "['굿모닝', '좋은하루', 'niceday', 'good morning']"
            ]
          },
          "metadata": {},
          "execution_count": 27
        }
      ]
    },
    {
      "cell_type": "code",
      "source": [
        "sorted( str_list, key= lambda x: -len(x))"
      ],
      "metadata": {
        "colab": {
          "base_uri": "https://localhost:8080/"
        },
        "id": "fJOjFApZOXmM",
        "outputId": "6c481b4d-3148-4423-f50c-1a2ac5bb0ba2"
      },
      "execution_count": null,
      "outputs": [
        {
          "output_type": "execute_result",
          "data": {
            "text/plain": [
              "['good morning', 'niceday', '좋은하루', '굿모닝']"
            ]
          },
          "metadata": {},
          "execution_count": 28
        }
      ]
    },
    {
      "cell_type": "code",
      "source": [
        "# 구체적인 예) 이름하고 성적하고 있는 자료들에 대해서 정렬!!!\n",
        "zumsu_list = [ (\"A\",0), (\"B\",1),(\"C\",5), (\"D\",3), (\"E\",5)]\n",
        "zumsu_list"
      ],
      "metadata": {
        "colab": {
          "base_uri": "https://localhost:8080/"
        },
        "id": "04S64gEGOXof",
        "outputId": "28a281b4-0f82-4547-d926-0f93a951ddb7"
      },
      "execution_count": null,
      "outputs": [
        {
          "output_type": "execute_result",
          "data": {
            "text/plain": [
              "[('A', 0), ('B', 1), ('C', 5), ('D', 3), ('E', 5)]"
            ]
          },
          "metadata": {},
          "execution_count": 29
        }
      ]
    },
    {
      "cell_type": "code",
      "source": [
        "# --> 그냥 정렬 해줘!!!\n",
        "sorted(zumsu_list)"
      ],
      "metadata": {
        "colab": {
          "base_uri": "https://localhost:8080/"
        },
        "id": "0Cg8X9XsOokZ",
        "outputId": "50bfadb5-b1d6-408b-9cc4-190b1db8e394"
      },
      "execution_count": null,
      "outputs": [
        {
          "output_type": "execute_result",
          "data": {
            "text/plain": [
              "[('A', 0), ('B', 1), ('C', 5), ('D', 3), ('E', 5)]"
            ]
          },
          "metadata": {},
          "execution_count": 30
        }
      ]
    },
    {
      "cell_type": "code",
      "source": [
        "# --> 정렬 기준 : 이름 중심으로 정렬을 해주세요!!!\n",
        "sorted(zumsu_list, key=lambda x:x[0] )"
      ],
      "metadata": {
        "colab": {
          "base_uri": "https://localhost:8080/"
        },
        "id": "tDaNXKY5Ooml",
        "outputId": "5c6e0066-5491-47d8-85ee-bc65a77354b9"
      },
      "execution_count": null,
      "outputs": [
        {
          "output_type": "execute_result",
          "data": {
            "text/plain": [
              "[('A', 0), ('B', 1), ('C', 5), ('D', 3), ('E', 5)]"
            ]
          },
          "metadata": {},
          "execution_count": 31
        }
      ]
    },
    {
      "cell_type": "code",
      "source": [
        "# --> 정렬 기준 : 성적순으로 정렬을 해주세요!!!\n",
        "sorted(zumsu_list,key=lambda x:x[1] )\n",
        "# ***** 중요!!!\n",
        "# ==> 내가 기준을 지정하지 않은 상황에서 동일한 조건이라면,,\n",
        "#     \"원본의 순서를 그대로 유지함!!!!!\"\n",
        "# *****"
      ],
      "metadata": {
        "colab": {
          "base_uri": "https://localhost:8080/"
        },
        "id": "a4Besm6OOoqd",
        "outputId": "9802c9fd-3fcf-424e-8991-93b8d0478023"
      },
      "execution_count": null,
      "outputs": [
        {
          "output_type": "execute_result",
          "data": {
            "text/plain": [
              "[('A', 0), ('B', 1), ('D', 3), ('C', 5), ('E', 5)]"
            ]
          },
          "metadata": {},
          "execution_count": 32
        }
      ]
    },
    {
      "cell_type": "code",
      "source": [
        "# ---> 성적이 제일 높은 친구를 앞으로 오게하고,\n",
        "#      성적이 낮은 친구들을 뒤로 정렬!!!!\n",
        "# ===> 성적에 대해서 내림차순 : FM - reversed = True\n",
        "#                               AM -부호\n",
        "sorted(zumsu_list,key=lambda x:x[1], reverse=True)"
      ],
      "metadata": {
        "colab": {
          "base_uri": "https://localhost:8080/"
        },
        "id": "QbDEJHZRN_8I",
        "outputId": "ab5249e0-dd51-4104-bd79-0932a1c80e88"
      },
      "execution_count": null,
      "outputs": [
        {
          "output_type": "execute_result",
          "data": {
            "text/plain": [
              "[('C', 5), ('E', 5), ('D', 3), ('B', 1), ('A', 0)]"
            ]
          },
          "metadata": {},
          "execution_count": 33
        }
      ]
    },
    {
      "cell_type": "code",
      "source": [
        "sorted(zumsu_list,key=lambda x:-x[1])"
      ],
      "metadata": {
        "colab": {
          "base_uri": "https://localhost:8080/"
        },
        "id": "kvVExplcOwYM",
        "outputId": "9f73887c-6e3a-4556-9e58-a500f2a7e546"
      },
      "execution_count": null,
      "outputs": [
        {
          "output_type": "execute_result",
          "data": {
            "text/plain": [
              "[('C', 5), ('E', 5), ('D', 3), ('B', 1), ('A', 0)]"
            ]
          },
          "metadata": {},
          "execution_count": 34
        }
      ]
    },
    {
      "cell_type": "code",
      "source": [
        "# 조금 더 유사한 값들이 있는 조건 : 이름- 성적\n",
        "zumsu_list =[\n",
        "    (\"A\",0), (\"B\",5),(\"AA\",3),\n",
        "    (\"C\",5), (\"B\",1),(\"Z\",5),\n",
        "    (\"D\",3),(\"E\",5)\n",
        "]\n",
        "zumsu_list"
      ],
      "metadata": {
        "colab": {
          "base_uri": "https://localhost:8080/"
        },
        "id": "0wGfvLgSOwao",
        "outputId": "7113b7b3-6715-4470-bcaa-57314fac0dac"
      },
      "execution_count": null,
      "outputs": [
        {
          "output_type": "execute_result",
          "data": {
            "text/plain": [
              "[('A', 0),\n",
              " ('B', 5),\n",
              " ('AA', 3),\n",
              " ('C', 5),\n",
              " ('B', 1),\n",
              " ('Z', 5),\n",
              " ('D', 3),\n",
              " ('E', 5)]"
            ]
          },
          "metadata": {},
          "execution_count": 35
        }
      ]
    },
    {
      "cell_type": "code",
      "source": [
        "# --> 그냥 정렬해줘!!!!\n",
        "# 결과 : 이름 순서대로 오름차순 정렬!!!!\n",
        "#        혹 이름이 같으면,,,,성적을 기준으로 오름차순..\n",
        "# ---> 결론 : 기준대로 다 오름차순으로 일괄 적용!!!!!!\n",
        "sorted(zumsu_list)"
      ],
      "metadata": {
        "colab": {
          "base_uri": "https://localhost:8080/"
        },
        "id": "5ymFM5vUOwc9",
        "outputId": "71875efc-6d03-4c84-a6eb-f726da938b6c"
      },
      "execution_count": null,
      "outputs": [
        {
          "output_type": "execute_result",
          "data": {
            "text/plain": [
              "[('A', 0),\n",
              " ('AA', 3),\n",
              " ('B', 1),\n",
              " ('B', 5),\n",
              " ('C', 5),\n",
              " ('D', 3),\n",
              " ('E', 5),\n",
              " ('Z', 5)]"
            ]
          },
          "metadata": {},
          "execution_count": 36
        }
      ]
    },
    {
      "cell_type": "code",
      "source": [
        "# --> 정렬 : 명확하게 정렬 기준을 제시를 하려고 함.\n",
        "#            정렬의 1기준 : 이름 순서\n",
        "#            ( 혹, 1번 기준의 이름이 같다면, 그냥 원본 순서대로)\n",
        "sorted( zumsu_list, key=lambda x: x[0])\n",
        "# ==> 코드적으로 정렬 기준에 안 쓰면 : 원본 순서 유지!!!"
      ],
      "metadata": {
        "colab": {
          "base_uri": "https://localhost:8080/"
        },
        "id": "jriSHxTJOwgq",
        "outputId": "efc1f23b-739a-4823-e08e-dd7716783c67"
      },
      "execution_count": null,
      "outputs": [
        {
          "output_type": "execute_result",
          "data": {
            "text/plain": [
              "[('A', 0),\n",
              " ('AA', 3),\n",
              " ('B', 5),\n",
              " ('B', 1),\n",
              " ('C', 5),\n",
              " ('D', 3),\n",
              " ('E', 5),\n",
              " ('Z', 5)]"
            ]
          },
          "metadata": {},
          "execution_count": 37
        }
      ]
    },
    {
      "cell_type": "code",
      "source": [
        "# --> 정렬 : 아무것도 안 한 sroted()하고 동일하게 나오게 key/lambda\n",
        "#             1번 정렬 기준 : 이름(오름차순)\n",
        "#             2번 정렬 기준 : 성적(오름차순)\n",
        "# ==> lambda함수에 기준을 순서대로 작성하는게 기준 순서!!!!\n",
        "#     : 괄호로 지정/ 괄호에 작성하는 순서가 정렬의 기준 순서!!!\n",
        "sorted(zumsu_list, key=lambda x: (x[0], x[1]) )"
      ],
      "metadata": {
        "colab": {
          "base_uri": "https://localhost:8080/"
        },
        "id": "o1QGjj6hO228",
        "outputId": "c40c651a-7221-4e35-bbb8-2c842840d9ac"
      },
      "execution_count": null,
      "outputs": [
        {
          "output_type": "execute_result",
          "data": {
            "text/plain": [
              "[('A', 0),\n",
              " ('AA', 3),\n",
              " ('B', 1),\n",
              " ('B', 5),\n",
              " ('C', 5),\n",
              " ('D', 3),\n",
              " ('E', 5),\n",
              " ('Z', 5)]"
            ]
          },
          "metadata": {},
          "execution_count": 38
        }
      ]
    },
    {
      "cell_type": "code",
      "source": [
        "#************\n",
        "# --> 보통 썩인 기준(코테)\n",
        "#     1정렬 기준 : 이름 ( 오름차순 )\n",
        "#     2정렬 기준 : 성적 ( 내림차순 )\n",
        "#     그 외는 원본 순서 유지해주세요...\n",
        "sorted(zumsu_list, key=lambda x: (x[0], -x[1]) )\n",
        "# **********"
      ],
      "metadata": {
        "colab": {
          "base_uri": "https://localhost:8080/"
        },
        "id": "YVXQ7G-DO25R",
        "outputId": "a893ea9c-7341-4254-8fb3-298007fdb685"
      },
      "execution_count": null,
      "outputs": [
        {
          "output_type": "execute_result",
          "data": {
            "text/plain": [
              "[('A', 0),\n",
              " ('AA', 3),\n",
              " ('B', 5),\n",
              " ('B', 1),\n",
              " ('C', 5),\n",
              " ('D', 3),\n",
              " ('E', 5),\n",
              " ('Z', 5)]"
            ]
          },
          "metadata": {},
          "execution_count": 39
        }
      ]
    },
    {
      "cell_type": "code",
      "source": [
        "# 참고) reverse 로 컨트롤을 하게 된다면,\n",
        "#       모든 세팅한 정렬기준들이 다 같은 방향!!!\n",
        "sorted(zumsu_list, key=lambda x: (x[0], x[1]) , reverse=True)"
      ],
      "metadata": {
        "colab": {
          "base_uri": "https://localhost:8080/"
        },
        "id": "wsmGgMCpO27m",
        "outputId": "ab179ee3-06c0-47b2-c22f-b19e606cf8b5"
      },
      "execution_count": null,
      "outputs": [
        {
          "output_type": "execute_result",
          "data": {
            "text/plain": [
              "[('Z', 5),\n",
              " ('E', 5),\n",
              " ('D', 3),\n",
              " ('C', 5),\n",
              " ('B', 5),\n",
              " ('B', 1),\n",
              " ('AA', 3),\n",
              " ('A', 0)]"
            ]
          },
          "metadata": {},
          "execution_count": 40
        }
      ]
    },
    {
      "cell_type": "code",
      "source": [
        "sorted(zumsu_list, key=lambda x: (x[0], x[1]) , reverse=False)"
      ],
      "metadata": {
        "colab": {
          "base_uri": "https://localhost:8080/"
        },
        "id": "8XaUJt6QO2-a",
        "outputId": "36b06201-13de-4eef-edca-698d39f6057e"
      },
      "execution_count": null,
      "outputs": [
        {
          "output_type": "execute_result",
          "data": {
            "text/plain": [
              "[('A', 0),\n",
              " ('AA', 3),\n",
              " ('B', 1),\n",
              " ('B', 5),\n",
              " ('C', 5),\n",
              " ('D', 3),\n",
              " ('E', 5),\n",
              " ('Z', 5)]"
            ]
          },
          "metadata": {},
          "execution_count": 41
        }
      ]
    },
    {
      "cell_type": "code",
      "source": [
        "#코테용 입장으로 정렬: 위의 예제들에서 이름/성적 예시-> 가장 기본적인 형"
      ],
      "metadata": {
        "id": "onxB1PcTmyry"
      },
      "execution_count": null,
      "outputs": []
    }
  ]
}