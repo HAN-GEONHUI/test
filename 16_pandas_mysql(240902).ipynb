{
  "cells": [
    {
      "cell_type": "markdown",
      "metadata": {
        "id": "view-in-github",
        "colab_type": "text"
      },
      "source": [
        "<a href=\"https://colab.research.google.com/github/HAN-GEONHUI/test/blob/t_academy_%EC%88%98%EC%97%85_pandas/16_pandas_mysql(240902).ipynb\" target=\"_parent\"><img src=\"https://colab.research.google.com/assets/colab-badge.svg\" alt=\"Open In Colab\"/></a>"
      ]
    },
    {
      "cell_type": "code",
      "execution_count": null,
      "id": "9ad5cedc-f1cc-441b-9b72-3208db425553",
      "metadata": {
        "id": "9ad5cedc-f1cc-441b-9b72-3208db425553",
        "outputId": "8ac08cc8-fd48-4af1-845f-73e581e0d245"
      },
      "outputs": [
        {
          "name": "stdout",
          "output_type": "stream",
          "text": [
            "Collecting pymysql\n",
            "  Downloading PyMySQL-1.1.1-py3-none-any.whl.metadata (4.4 kB)\n",
            "Downloading PyMySQL-1.1.1-py3-none-any.whl (44 kB)\n",
            "   ---------------------------------------- 0.0/45.0 kB ? eta -:--:--\n",
            "   ------------------ --------------------- 20.5/45.0 kB 320.0 kB/s eta 0:00:01\n",
            "   ---------------------------------------- 45.0/45.0 kB 551.3 kB/s eta 0:00:00\n",
            "Installing collected packages: pymysql\n",
            "Successfully installed pymysql-1.1.1\n"
          ]
        }
      ],
      "source": [
        "!pip install pymysql\n",
        "#--> 터미널에서 관리자 권한으로 pip install pymysql\n",
        "#--> 주피터 노트북세에서 하려면 !pip install pymysql"
      ]
    },
    {
      "cell_type": "code",
      "execution_count": null,
      "id": "4d501956-0460-4a5c-9228-46025ecf8ad6",
      "metadata": {
        "id": "4d501956-0460-4a5c-9228-46025ecf8ad6"
      },
      "outputs": [],
      "source": [
        "#위의 패키지 설치는 한 번 했으면 업데이트할 이 없고 더 이상 실행 안해도 됨!"
      ]
    },
    {
      "cell_type": "code",
      "execution_count": null,
      "id": "a1f23c29-2ebc-44b6-ba77-a5b332b36697",
      "metadata": {
        "id": "a1f23c29-2ebc-44b6-ba77-a5b332b36697"
      },
      "outputs": [],
      "source": [
        "import pymysql"
      ]
    },
    {
      "cell_type": "code",
      "execution_count": null,
      "id": "a8569555-f4ab-471e-9cdc-5cac6462d57d",
      "metadata": {
        "id": "a8569555-f4ab-471e-9cdc-5cac6462d57d"
      },
      "outputs": [],
      "source": [
        "#접속 관련 연결 설정!\n",
        "mysql_con = pymysql.connect(\n",
        "    user = \"root\",#접속할 mysql에 대한 계정 이름\n",
        "    passwd = \"qwert12345\",#계정에 대한 비번\n",
        "    host = \"127.0.0.1\", #내가 접속한 mysql서버의 ,ip주소. 이경우는 내 pc여서 자체로\n",
        "    db = \"sqldb\", #mysql에 있는 여러 db 중에서 접속하려는 데이터베이스\n",
        "    charset = \"utf8\" # 데이터에 한글이 있을 때, 파이썬 쪽에서 처리하는 기준!\n",
        ")"
      ]
    },
    {
      "cell_type": "code",
      "execution_count": null,
      "id": "856de449-16fe-4a6e-a102-93e344a5a736",
      "metadata": {
        "id": "856de449-16fe-4a6e-a102-93e344a5a736"
      },
      "outputs": [],
      "source": [
        "#연결\n",
        "my_cursor =mysql_con.cursor(pymysql.cursors.DictCursor)"
      ]
    },
    {
      "cell_type": "code",
      "execution_count": null,
      "id": "e8b02a86-72d1-49a6-887b-5e8aa3112bec",
      "metadata": {
        "id": "e8b02a86-72d1-49a6-887b-5e8aa3112bec"
      },
      "outputs": [],
      "source": [
        "#요청할 쿼리문을 문자열로 작성!-->;까지 포함해서  작성!\n",
        "sql = \"select * from usertbl;\""
      ]
    },
    {
      "cell_type": "code",
      "execution_count": null,
      "id": "8ba66a67-ebef-4475-9fde-812dad8969d4",
      "metadata": {
        "id": "8ba66a67-ebef-4475-9fde-812dad8969d4",
        "outputId": "d94eba4c-b247-4102-f17f-784f7abe8da0"
      },
      "outputs": [
        {
          "data": {
            "text/plain": [
              "10"
            ]
          },
          "execution_count": 21,
          "metadata": {},
          "output_type": "execute_result"
        }
      ],
      "source": [
        "#실제 요청\n",
        "my_cursor.execute(sql)"
      ]
    },
    {
      "cell_type": "code",
      "execution_count": null,
      "id": "ede077f4-4eae-4cad-88a4-60da9906ca77",
      "metadata": {
        "id": "ede077f4-4eae-4cad-88a4-60da9906ca77"
      },
      "outputs": [],
      "source": [
        "# 결과 중에서 몇 개를 가지고 올지 지정을 할 수 있다..\n",
        "result = my_cursor.fetchall()"
      ]
    },
    {
      "cell_type": "code",
      "execution_count": null,
      "id": "3ea7f4a1-4fdc-4879-874b-0e53e99fdd85",
      "metadata": {
        "id": "3ea7f4a1-4fdc-4879-874b-0e53e99fdd85",
        "outputId": "226c71d7-9018-4976-bedd-6934505f941c"
      },
      "outputs": [
        {
          "data": {
            "text/plain": [
              "[{'userID': 'BBK',\n",
              "  'name': '바비킴',\n",
              "  'birthYear': 1973,\n",
              "  'addr': '서울',\n",
              "  'mobile1': '010',\n",
              "  'mobile2': '0000000',\n",
              "  'height': 176,\n",
              "  'mDate': datetime.date(2013, 5, 5)},\n",
              " {'userID': 'EJW',\n",
              "  'name': '은지원',\n",
              "  'birthYear': 1972,\n",
              "  'addr': '경북',\n",
              "  'mobile1': '011',\n",
              "  'mobile2': '8888888',\n",
              "  'height': 174,\n",
              "  'mDate': datetime.date(2014, 3, 3)},\n",
              " {'userID': 'JKW',\n",
              "  'name': '조관우',\n",
              "  'birthYear': 1965,\n",
              "  'addr': '경기',\n",
              "  'mobile1': '018',\n",
              "  'mobile2': '9999999',\n",
              "  'height': 172,\n",
              "  'mDate': datetime.date(2010, 10, 10)},\n",
              " {'userID': 'JYP',\n",
              "  'name': '조용필',\n",
              "  'birthYear': 1950,\n",
              "  'addr': '경기',\n",
              "  'mobile1': '011',\n",
              "  'mobile2': '4444444',\n",
              "  'height': 166,\n",
              "  'mDate': datetime.date(2009, 4, 4)},\n",
              " {'userID': 'KBS',\n",
              "  'name': '김범수',\n",
              "  'birthYear': 1979,\n",
              "  'addr': '경남',\n",
              "  'mobile1': '011',\n",
              "  'mobile2': '2222222',\n",
              "  'height': 173,\n",
              "  'mDate': datetime.date(2012, 4, 4)},\n",
              " {'userID': 'KKH',\n",
              "  'name': '김경호',\n",
              "  'birthYear': 1971,\n",
              "  'addr': '전남',\n",
              "  'mobile1': '019',\n",
              "  'mobile2': '3333333',\n",
              "  'height': 177,\n",
              "  'mDate': datetime.date(2007, 7, 7)},\n",
              " {'userID': 'LJB',\n",
              "  'name': '임재범',\n",
              "  'birthYear': 1963,\n",
              "  'addr': '서울',\n",
              "  'mobile1': '016',\n",
              "  'mobile2': '6666666',\n",
              "  'height': 182,\n",
              "  'mDate': datetime.date(2009, 9, 9)},\n",
              " {'userID': 'LSG',\n",
              "  'name': '이승기',\n",
              "  'birthYear': 1987,\n",
              "  'addr': '서울',\n",
              "  'mobile1': '011',\n",
              "  'mobile2': '1111111',\n",
              "  'height': 182,\n",
              "  'mDate': datetime.date(2008, 8, 8)},\n",
              " {'userID': 'SSK',\n",
              "  'name': '성시경',\n",
              "  'birthYear': 1979,\n",
              "  'addr': '서울',\n",
              "  'mobile1': None,\n",
              "  'mobile2': None,\n",
              "  'height': 186,\n",
              "  'mDate': datetime.date(2013, 12, 12)},\n",
              " {'userID': 'YJS',\n",
              "  'name': '윤종신',\n",
              "  'birthYear': 1969,\n",
              "  'addr': '경남',\n",
              "  'mobile1': None,\n",
              "  'mobile2': None,\n",
              "  'height': 170,\n",
              "  'mDate': datetime.date(2005, 5, 5)}]"
            ]
          },
          "execution_count": 27,
          "metadata": {},
          "output_type": "execute_result"
        }
      ],
      "source": [
        "result"
      ]
    },
    {
      "cell_type": "code",
      "execution_count": null,
      "id": "eba3b5bf-0a27-4bc4-aae6-291c01c817b4",
      "metadata": {
        "id": "eba3b5bf-0a27-4bc4-aae6-291c01c817b4"
      },
      "outputs": [],
      "source": [
        "import pandas as pd"
      ]
    },
    {
      "cell_type": "code",
      "execution_count": null,
      "id": "3a018b31-febb-4050-b183-d10bb0d47129",
      "metadata": {
        "id": "3a018b31-febb-4050-b183-d10bb0d47129",
        "outputId": "4a1ef188-7f57-4659-f652-ce2a93b8d535"
      },
      "outputs": [
        {
          "data": {
            "text/html": [
              "<div>\n",
              "<style scoped>\n",
              "    .dataframe tbody tr th:only-of-type {\n",
              "        vertical-align: middle;\n",
              "    }\n",
              "\n",
              "    .dataframe tbody tr th {\n",
              "        vertical-align: top;\n",
              "    }\n",
              "\n",
              "    .dataframe thead th {\n",
              "        text-align: right;\n",
              "    }\n",
              "</style>\n",
              "<table border=\"1\" class=\"dataframe\">\n",
              "  <thead>\n",
              "    <tr style=\"text-align: right;\">\n",
              "      <th></th>\n",
              "      <th>userID</th>\n",
              "      <th>name</th>\n",
              "      <th>birthYear</th>\n",
              "      <th>addr</th>\n",
              "      <th>mobile1</th>\n",
              "      <th>mobile2</th>\n",
              "      <th>height</th>\n",
              "      <th>mDate</th>\n",
              "    </tr>\n",
              "  </thead>\n",
              "  <tbody>\n",
              "    <tr>\n",
              "      <th>0</th>\n",
              "      <td>BBK</td>\n",
              "      <td>바비킴</td>\n",
              "      <td>1973</td>\n",
              "      <td>서울</td>\n",
              "      <td>010</td>\n",
              "      <td>0000000</td>\n",
              "      <td>176</td>\n",
              "      <td>2013-05-05</td>\n",
              "    </tr>\n",
              "    <tr>\n",
              "      <th>1</th>\n",
              "      <td>EJW</td>\n",
              "      <td>은지원</td>\n",
              "      <td>1972</td>\n",
              "      <td>경북</td>\n",
              "      <td>011</td>\n",
              "      <td>8888888</td>\n",
              "      <td>174</td>\n",
              "      <td>2014-03-03</td>\n",
              "    </tr>\n",
              "    <tr>\n",
              "      <th>2</th>\n",
              "      <td>JKW</td>\n",
              "      <td>조관우</td>\n",
              "      <td>1965</td>\n",
              "      <td>경기</td>\n",
              "      <td>018</td>\n",
              "      <td>9999999</td>\n",
              "      <td>172</td>\n",
              "      <td>2010-10-10</td>\n",
              "    </tr>\n",
              "    <tr>\n",
              "      <th>3</th>\n",
              "      <td>JYP</td>\n",
              "      <td>조용필</td>\n",
              "      <td>1950</td>\n",
              "      <td>경기</td>\n",
              "      <td>011</td>\n",
              "      <td>4444444</td>\n",
              "      <td>166</td>\n",
              "      <td>2009-04-04</td>\n",
              "    </tr>\n",
              "    <tr>\n",
              "      <th>4</th>\n",
              "      <td>KBS</td>\n",
              "      <td>김범수</td>\n",
              "      <td>1979</td>\n",
              "      <td>경남</td>\n",
              "      <td>011</td>\n",
              "      <td>2222222</td>\n",
              "      <td>173</td>\n",
              "      <td>2012-04-04</td>\n",
              "    </tr>\n",
              "    <tr>\n",
              "      <th>5</th>\n",
              "      <td>KKH</td>\n",
              "      <td>김경호</td>\n",
              "      <td>1971</td>\n",
              "      <td>전남</td>\n",
              "      <td>019</td>\n",
              "      <td>3333333</td>\n",
              "      <td>177</td>\n",
              "      <td>2007-07-07</td>\n",
              "    </tr>\n",
              "    <tr>\n",
              "      <th>6</th>\n",
              "      <td>LJB</td>\n",
              "      <td>임재범</td>\n",
              "      <td>1963</td>\n",
              "      <td>서울</td>\n",
              "      <td>016</td>\n",
              "      <td>6666666</td>\n",
              "      <td>182</td>\n",
              "      <td>2009-09-09</td>\n",
              "    </tr>\n",
              "    <tr>\n",
              "      <th>7</th>\n",
              "      <td>LSG</td>\n",
              "      <td>이승기</td>\n",
              "      <td>1987</td>\n",
              "      <td>서울</td>\n",
              "      <td>011</td>\n",
              "      <td>1111111</td>\n",
              "      <td>182</td>\n",
              "      <td>2008-08-08</td>\n",
              "    </tr>\n",
              "    <tr>\n",
              "      <th>8</th>\n",
              "      <td>SSK</td>\n",
              "      <td>성시경</td>\n",
              "      <td>1979</td>\n",
              "      <td>서울</td>\n",
              "      <td>None</td>\n",
              "      <td>None</td>\n",
              "      <td>186</td>\n",
              "      <td>2013-12-12</td>\n",
              "    </tr>\n",
              "    <tr>\n",
              "      <th>9</th>\n",
              "      <td>YJS</td>\n",
              "      <td>윤종신</td>\n",
              "      <td>1969</td>\n",
              "      <td>경남</td>\n",
              "      <td>None</td>\n",
              "      <td>None</td>\n",
              "      <td>170</td>\n",
              "      <td>2005-05-05</td>\n",
              "    </tr>\n",
              "  </tbody>\n",
              "</table>\n",
              "</div>"
            ],
            "text/plain": [
              "  userID name  birthYear addr mobile1  mobile2  height       mDate\n",
              "0    BBK  바비킴       1973   서울     010  0000000     176  2013-05-05\n",
              "1    EJW  은지원       1972   경북     011  8888888     174  2014-03-03\n",
              "2    JKW  조관우       1965   경기     018  9999999     172  2010-10-10\n",
              "3    JYP  조용필       1950   경기     011  4444444     166  2009-04-04\n",
              "4    KBS  김범수       1979   경남     011  2222222     173  2012-04-04\n",
              "5    KKH  김경호       1971   전남     019  3333333     177  2007-07-07\n",
              "6    LJB  임재범       1963   서울     016  6666666     182  2009-09-09\n",
              "7    LSG  이승기       1987   서울     011  1111111     182  2008-08-08\n",
              "8    SSK  성시경       1979   서울    None     None     186  2013-12-12\n",
              "9    YJS  윤종신       1969   경남    None     None     170  2005-05-05"
            ]
          },
          "execution_count": 31,
          "metadata": {},
          "output_type": "execute_result"
        }
      ],
      "source": [
        "result_df=pd.DataFrame(result)\n",
        "result_df"
      ]
    },
    {
      "cell_type": "code",
      "execution_count": null,
      "id": "009bd3c9-155c-43dc-ab87-81b870c763af",
      "metadata": {
        "id": "009bd3c9-155c-43dc-ab87-81b870c763af",
        "outputId": "50ff8e1a-3357-4725-a07d-dd2a84044502"
      },
      "outputs": [
        {
          "name": "stdout",
          "output_type": "stream",
          "text": [
            "<class 'pandas.core.frame.DataFrame'>\n",
            "RangeIndex: 10 entries, 0 to 9\n",
            "Data columns (total 8 columns):\n",
            " #   Column     Non-Null Count  Dtype \n",
            "---  ------     --------------  ----- \n",
            " 0   userID     10 non-null     object\n",
            " 1   name       10 non-null     object\n",
            " 2   birthYear  10 non-null     int64 \n",
            " 3   addr       10 non-null     object\n",
            " 4   mobile1    8 non-null      object\n",
            " 5   mobile2    8 non-null      object\n",
            " 6   height     10 non-null     int64 \n",
            " 7   mDate      10 non-null     object\n",
            "dtypes: int64(2), object(6)\n",
            "memory usage: 772.0+ bytes\n"
          ]
        }
      ],
      "source": [
        "result_df.info()"
      ]
    },
    {
      "cell_type": "code",
      "execution_count": null,
      "id": "673a3f43-e9e5-4c31-8ab6-d596a6c0f3e2",
      "metadata": {
        "id": "673a3f43-e9e5-4c31-8ab6-d596a6c0f3e2",
        "outputId": "d9d37792-d86d-4f8a-d40d-187ee7fd8564"
      },
      "outputs": [
        {
          "data": {
            "text/html": [
              "<div>\n",
              "<style scoped>\n",
              "    .dataframe tbody tr th:only-of-type {\n",
              "        vertical-align: middle;\n",
              "    }\n",
              "\n",
              "    .dataframe tbody tr th {\n",
              "        vertical-align: top;\n",
              "    }\n",
              "\n",
              "    .dataframe thead th {\n",
              "        text-align: right;\n",
              "    }\n",
              "</style>\n",
              "<table border=\"1\" class=\"dataframe\">\n",
              "  <thead>\n",
              "    <tr style=\"text-align: right;\">\n",
              "      <th></th>\n",
              "      <th>name</th>\n",
              "      <th>birthYear</th>\n",
              "      <th>addr</th>\n",
              "      <th>mobile1</th>\n",
              "      <th>mobile2</th>\n",
              "      <th>height</th>\n",
              "      <th>mDate</th>\n",
              "    </tr>\n",
              "    <tr>\n",
              "      <th>userID</th>\n",
              "      <th></th>\n",
              "      <th></th>\n",
              "      <th></th>\n",
              "      <th></th>\n",
              "      <th></th>\n",
              "      <th></th>\n",
              "      <th></th>\n",
              "    </tr>\n",
              "  </thead>\n",
              "  <tbody>\n",
              "    <tr>\n",
              "      <th>BBK</th>\n",
              "      <td>바비킴</td>\n",
              "      <td>1973</td>\n",
              "      <td>서울</td>\n",
              "      <td>010</td>\n",
              "      <td>0000000</td>\n",
              "      <td>176</td>\n",
              "      <td>2013-05-05</td>\n",
              "    </tr>\n",
              "    <tr>\n",
              "      <th>EJW</th>\n",
              "      <td>은지원</td>\n",
              "      <td>1972</td>\n",
              "      <td>경북</td>\n",
              "      <td>011</td>\n",
              "      <td>8888888</td>\n",
              "      <td>174</td>\n",
              "      <td>2014-03-03</td>\n",
              "    </tr>\n",
              "    <tr>\n",
              "      <th>JKW</th>\n",
              "      <td>조관우</td>\n",
              "      <td>1965</td>\n",
              "      <td>경기</td>\n",
              "      <td>018</td>\n",
              "      <td>9999999</td>\n",
              "      <td>172</td>\n",
              "      <td>2010-10-10</td>\n",
              "    </tr>\n",
              "    <tr>\n",
              "      <th>JYP</th>\n",
              "      <td>조용필</td>\n",
              "      <td>1950</td>\n",
              "      <td>경기</td>\n",
              "      <td>011</td>\n",
              "      <td>4444444</td>\n",
              "      <td>166</td>\n",
              "      <td>2009-04-04</td>\n",
              "    </tr>\n",
              "    <tr>\n",
              "      <th>KBS</th>\n",
              "      <td>김범수</td>\n",
              "      <td>1979</td>\n",
              "      <td>경남</td>\n",
              "      <td>011</td>\n",
              "      <td>2222222</td>\n",
              "      <td>173</td>\n",
              "      <td>2012-04-04</td>\n",
              "    </tr>\n",
              "    <tr>\n",
              "      <th>KKH</th>\n",
              "      <td>김경호</td>\n",
              "      <td>1971</td>\n",
              "      <td>전남</td>\n",
              "      <td>019</td>\n",
              "      <td>3333333</td>\n",
              "      <td>177</td>\n",
              "      <td>2007-07-07</td>\n",
              "    </tr>\n",
              "    <tr>\n",
              "      <th>LJB</th>\n",
              "      <td>임재범</td>\n",
              "      <td>1963</td>\n",
              "      <td>서울</td>\n",
              "      <td>016</td>\n",
              "      <td>6666666</td>\n",
              "      <td>182</td>\n",
              "      <td>2009-09-09</td>\n",
              "    </tr>\n",
              "    <tr>\n",
              "      <th>LSG</th>\n",
              "      <td>이승기</td>\n",
              "      <td>1987</td>\n",
              "      <td>서울</td>\n",
              "      <td>011</td>\n",
              "      <td>1111111</td>\n",
              "      <td>182</td>\n",
              "      <td>2008-08-08</td>\n",
              "    </tr>\n",
              "    <tr>\n",
              "      <th>SSK</th>\n",
              "      <td>성시경</td>\n",
              "      <td>1979</td>\n",
              "      <td>서울</td>\n",
              "      <td>None</td>\n",
              "      <td>None</td>\n",
              "      <td>186</td>\n",
              "      <td>2013-12-12</td>\n",
              "    </tr>\n",
              "    <tr>\n",
              "      <th>YJS</th>\n",
              "      <td>윤종신</td>\n",
              "      <td>1969</td>\n",
              "      <td>경남</td>\n",
              "      <td>None</td>\n",
              "      <td>None</td>\n",
              "      <td>170</td>\n",
              "      <td>2005-05-05</td>\n",
              "    </tr>\n",
              "  </tbody>\n",
              "</table>\n",
              "</div>"
            ],
            "text/plain": [
              "       name  birthYear addr mobile1  mobile2  height       mDate\n",
              "userID                                                          \n",
              "BBK     바비킴       1973   서울     010  0000000     176  2013-05-05\n",
              "EJW     은지원       1972   경북     011  8888888     174  2014-03-03\n",
              "JKW     조관우       1965   경기     018  9999999     172  2010-10-10\n",
              "JYP     조용필       1950   경기     011  4444444     166  2009-04-04\n",
              "KBS     김범수       1979   경남     011  2222222     173  2012-04-04\n",
              "KKH     김경호       1971   전남     019  3333333     177  2007-07-07\n",
              "LJB     임재범       1963   서울     016  6666666     182  2009-09-09\n",
              "LSG     이승기       1987   서울     011  1111111     182  2008-08-08\n",
              "SSK     성시경       1979   서울    None     None     186  2013-12-12\n",
              "YJS     윤종신       1969   경남    None     None     170  2005-05-05"
            ]
          },
          "execution_count": 37,
          "metadata": {},
          "output_type": "execute_result"
        }
      ],
      "source": [
        "#mysql 상에서 userID 컬럼이 PK역할을 했었다고 하면\n",
        "#--> DataFrame에서는 index가 가로줄이다.\n",
        "result_df.set_index(\"userID\")"
      ]
    },
    {
      "cell_type": "code",
      "execution_count": null,
      "id": "3a284123-a8bf-43ae-8c9a-9543b4f2622c",
      "metadata": {
        "id": "3a284123-a8bf-43ae-8c9a-9543b4f2622c"
      },
      "outputs": [],
      "source": []
    }
  ],
  "metadata": {
    "kernelspec": {
      "display_name": "Python 3 (ipykernel)",
      "language": "python",
      "name": "python3"
    },
    "language_info": {
      "codemirror_mode": {
        "name": "ipython",
        "version": 3
      },
      "file_extension": ".py",
      "mimetype": "text/x-python",
      "name": "python",
      "nbconvert_exporter": "python",
      "pygments_lexer": "ipython3",
      "version": "3.12.4"
    },
    "colab": {
      "provenance": [],
      "include_colab_link": true
    }
  },
  "nbformat": 4,
  "nbformat_minor": 5
}