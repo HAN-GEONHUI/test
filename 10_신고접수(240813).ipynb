{
  "nbformat": 4,
  "nbformat_minor": 0,
  "metadata": {
    "colab": {
      "provenance": [],
      "include_colab_link": true
    },
    "kernelspec": {
      "name": "python3",
      "display_name": "Python 3"
    },
    "language_info": {
      "name": "python"
    }
  },
  "cells": [
    {
      "cell_type": "markdown",
      "metadata": {
        "id": "view-in-github",
        "colab_type": "text"
      },
      "source": [
        "<a href=\"https://colab.research.google.com/github/HAN-GEONHUI/test/blob/t_academy_%EC%88%98%EC%97%85/10_%EC%8B%A0%EA%B3%A0%EC%A0%91%EC%88%98(240813).ipynb\" target=\"_parent\"><img src=\"https://colab.research.google.com/assets/colab-badge.svg\" alt=\"Open In Colab\"/></a>"
      ]
    },
    {
      "cell_type": "code",
      "execution_count": null,
      "metadata": {
        "id": "3PXl6kOeUfJj"
      },
      "outputs": [],
      "source": [
        "# 실제 기출 문제 : https://school.programmers.co.kr/learn/courses/30/lessons/92334\n",
        "# --> 2022년도 1번 기출!!!(제일 그 때 제일 쉬운 문제)"
      ]
    },
    {
      "cell_type": "code",
      "source": [
        "#1번 문제 난이도 순서로 주로 배치를 함!\n",
        "#최대한 앞의 문제들은 거의 다 맟춰야 함!! 80%정답률"
      ],
      "metadata": {
        "id": "kjKFVWO9UspT"
      },
      "execution_count": null,
      "outputs": []
    },
    {
      "cell_type": "code",
      "source": [
        "# 문제\n",
        "# - 여러번 신고는 가능 but 동일한 사람을 신고하면 1로 처리\n",
        "#                          다른 사람 여러명은 가능\n",
        "# - k 유저를 정지할 기준 값 ( 가변적인 입력 값 ) : 정리 처리 기준\n",
        "#   ==> 정지 당한 사람을 신고한 유저들한테 알림메일 전송!!!!\n",
        "#   ( 중간 중간 처리 X//  다 신고접수를 다 받고 일괄 처리 이후!!!)"
      ],
      "metadata": {
        "id": "aRnih2khUsr5"
      },
      "execution_count": null,
      "outputs": []
    },
    {
      "cell_type": "code",
      "source": [
        "# 어떻게 세팅을 할까? + 속도 이슈\n",
        "#--> 문제상의 관계 고민을 했을 때\n",
        "# 결론 : dict 세팅을 하려고 함!"
      ],
      "metadata": {
        "id": "vNH_5-i7UsuV"
      },
      "execution_count": null,
      "outputs": []
    },
    {
      "cell_type": "code",
      "source": [
        "# dict 한다고 하면 가장 중요한\n",
        "#1) key: 신고 당한 사람을 기준\n",
        "#2) value: 나를 신고한 사람들--> 여러명--> 여러개 자료형\n",
        "#--> 주어진 k의 값을 기준으로 value를 보면서 BlackList 선정\n",
        "# 역으로,,,BlackList에서 신고한 사람들에게 +1씩 카운팅..."
      ],
      "metadata": {
        "id": "BaXMlTVRUsxd"
      },
      "execution_count": null,
      "outputs": []
    },
    {
      "cell_type": "code",
      "source": [],
      "metadata": {
        "id": "KYW6z_hbUs0c"
      },
      "execution_count": null,
      "outputs": []
    },
    {
      "cell_type": "code",
      "source": [
        "# 참고) answer = [,,,,,] : id_list = [\"A\",\"B\",\"C\"]\n",
        "#                          answer  = [0,  0,    0]\n",
        "id_list = [\"A\",\"B\",\"C\"]\n",
        "[0] + [0] +[0]"
      ],
      "metadata": {
        "id": "QuJ2pMY8UkwI",
        "colab": {
          "base_uri": "https://localhost:8080/"
        },
        "outputId": "579f3ba5-b045-4616-9b36-f6bb627b530c"
      },
      "execution_count": null,
      "outputs": [
        {
          "output_type": "execute_result",
          "data": {
            "text/plain": [
              "[0, 0, 0]"
            ]
          },
          "metadata": {},
          "execution_count": 1
        }
      ]
    },
    {
      "cell_type": "code",
      "source": [],
      "metadata": {
        "id": "tt5MVo937MHR"
      },
      "execution_count": null,
      "outputs": []
    },
    {
      "cell_type": "code",
      "source": [
        "#내가 했던 방식"
      ],
      "metadata": {
        "id": "iG51k5sL7G3C"
      },
      "execution_count": null,
      "outputs": []
    },
    {
      "cell_type": "code",
      "source": [
        "id_list = {\"muzi\",\"apeach\",\"frodo\",\"muzi\",\"apeach\",\"con\",\"ryan\"}\n",
        "value = [\"frodo\",\"frodo\",\"neo\",\"nep\",\"muzi\"]"
      ],
      "metadata": {
        "id": "RO6sI7LWjtzW"
      },
      "execution_count": null,
      "outputs": []
    },
    {
      "cell_type": "code",
      "source": [
        "report =[\"muzi frodo\",\"apeach frodo\",\"frodo neo\",\"muzi neo\",\n",
        "         \"apeach muzi\",\"ryan con\", \"ryan con\", \"ryan con\", \"ryan con\"]\n",
        "report.split(\" \")\n",
        "k:count+=1\n",
        "k =2,3\n",
        "result= [2,1,1,0],[0,0]"
      ],
      "metadata": {
        "colab": {
          "base_uri": "https://localhost:8080/",
          "height": 176
        },
        "id": "Z_qWs6PWkgfP",
        "outputId": "df0ef34d-db4b-4125-bd42-4e7065207f8b"
      },
      "execution_count": null,
      "outputs": [
        {
          "output_type": "error",
          "ename": "AttributeError",
          "evalue": "'list' object has no attribute 'split'",
          "traceback": [
            "\u001b[0;31m---------------------------------------------------------------------------\u001b[0m",
            "\u001b[0;31mAttributeError\u001b[0m                            Traceback (most recent call last)",
            "\u001b[0;32m<ipython-input-13-66ac348c4c2e>\u001b[0m in \u001b[0;36m<cell line: 3>\u001b[0;34m()\u001b[0m\n\u001b[1;32m      1\u001b[0m report =[\"muzi frodo\",\"apeach frodo\",\"frodo neo\",\"muzi neo\",\n\u001b[1;32m      2\u001b[0m          \"apeach muzi\",\"ryan con\", \"ryan con\", \"ryan con\", \"ryan con\"]\n\u001b[0;32m----> 3\u001b[0;31m \u001b[0mreport\u001b[0m\u001b[0;34m.\u001b[0m\u001b[0msplit\u001b[0m\u001b[0;34m(\u001b[0m\u001b[0;34m\"\"\u001b[0m\u001b[0;34m)\u001b[0m\u001b[0;34m\u001b[0m\u001b[0;34m\u001b[0m\u001b[0m\n\u001b[0m",
            "\u001b[0;31mAttributeError\u001b[0m: 'list' object has no attribute 'split'"
          ]
        }
      ]
    },
    {
      "cell_type": "code",
      "source": [],
      "metadata": {
        "id": "nARpdRm27KSC"
      },
      "execution_count": null,
      "outputs": []
    },
    {
      "cell_type": "code",
      "source": [
        "[0] * len(id_list)"
      ],
      "metadata": {
        "colab": {
          "base_uri": "https://localhost:8080/"
        },
        "id": "8OvOAyx0iYSl",
        "outputId": "98344cdd-3791-461c-914b-4a7062bcf2f0"
      },
      "execution_count": null,
      "outputs": [
        {
          "output_type": "execute_result",
          "data": {
            "text/plain": [
              "[0, 0, 0]"
            ]
          },
          "metadata": {},
          "execution_count": 2
        }
      ]
    },
    {
      "cell_type": "code",
      "source": [
        "#참고)신고 처리:report\n",
        "#[\"muzi frodo\",\"apeach frodo\",\"frodo neo\",\"muzi neo\",\"apeach muzi\"]\n",
        "\"muzi frodo\".split(\" \")"
      ],
      "metadata": {
        "colab": {
          "base_uri": "https://localhost:8080/"
        },
        "id": "Yuf3CcMhihiN",
        "outputId": "9106fe84-0a30-440a-e084-acb52718a63e"
      },
      "execution_count": null,
      "outputs": [
        {
          "output_type": "execute_result",
          "data": {
            "text/plain": [
              "['muzi', 'frodo']"
            ]
          },
          "metadata": {},
          "execution_count": 5
        }
      ]
    },
    {
      "cell_type": "code",
      "source": [
        "#신고한 사람\n",
        "\"muzi frodo\".split(\" \")[0]\n"
      ],
      "metadata": {
        "colab": {
          "base_uri": "https://localhost:8080/",
          "height": 35
        },
        "id": "Y48hF-9MjJKF",
        "outputId": "fd30e5ce-34fe-4d4d-a169-ea0960bc6ed4"
      },
      "execution_count": null,
      "outputs": [
        {
          "output_type": "execute_result",
          "data": {
            "text/plain": [
              "'muzi'"
            ],
            "application/vnd.google.colaboratory.intrinsic+json": {
              "type": "string"
            }
          },
          "metadata": {},
          "execution_count": 6
        }
      ]
    },
    {
      "cell_type": "code",
      "source": [
        "#신고 당한 사람\n",
        "\"muzi frodo\".split(\" \")[1]"
      ],
      "metadata": {
        "colab": {
          "base_uri": "https://localhost:8080/",
          "height": 35
        },
        "id": "afU2BJ9fjMld",
        "outputId": "ed865897-7679-4738-bed5-aa5e3ca8a1e0"
      },
      "execution_count": null,
      "outputs": [
        {
          "output_type": "execute_result",
          "data": {
            "text/plain": [
              "'frodo'"
            ],
            "application/vnd.google.colaboratory.intrinsic+json": {
              "type": "string"
            }
          },
          "metadata": {},
          "execution_count": 7
        }
      ]
    },
    {
      "cell_type": "code",
      "source": [
        "# 큰틀에서 해결 방법\n",
        "# 1) 문제 세팅\n",
        "# --> 주어진 입력에 대한 정보 처리 : Dict(k : 신고당한사람,\n",
        "#                                         v : 신고한사람\"들\")\n",
        "# --> 입력 id_list를 보고 순회 : for\n",
        "# d = {\"mizi\":[], \"fordo\":[], \"Apeach\":[], \"Neo\":[]}\n",
        "# ???\n",
        "\n",
        "# 2) 신고 결과들을 나의 자료형에 처리 : report(20만건) : for\n",
        "# \"muzi frodo\" ---> .split(\" \")[0] : 신고한 사람   (value)\n",
        "#                   .split(\" \")[1] : 신고당한 사람 ( key )\n",
        "# d = {\"muzi\":[], \"fordo\":[\"muzi\"], \"Apeach\":[], \"Neo\":[]}\n",
        "# \"apeach frodo\"\n",
        "# d = {\"muzi\":[], \"fordo\":[\"muzi\",\"apeach\"], \"Apeach\":[], \"Neo\":[]}\n",
        "# \"frodo neo\"\n",
        "# d = {\"muzi\":[], \"fordo\":[\"muzi\",\"apeach\"], \"Apeach\":[], \"Neo\":[\"fordo\"]}\n",
        "# \"muzi neo\"\n",
        "# d = {\"muzi\":[], \"fordo\":[\"muzi\",\"apeach\"], \"Apeach\":[], \"Neo\":[\"fordo\",\"muzi\"]}\n",
        "# \"apeach muzi\"\n",
        "# d = {\"muzi\":[\"apeach\"], \"fordo\":[\"muzi\",\"apeach\"], \"Apeach\":[], \"Neo\":[\"fordo\",\"muzi\"]}\n",
        "\n",
        "#시스템적으로 k번이상 신고당한 사람들을 리스트업\n",
        "#K=2\n",
        "#d의 values 들에서 원소의 갯수가 2개 이상인 애들의 key 수집\n",
        "#--> Blacklist\n",
        "BL = [:\"fordo\",\"neo\"]\n",
        "\n",
        "#4역으로 blacklist에 해당하는 신고한 사람들을 찾아서 +1 카운팅\n",
        "#-> balcklist를 중심으로 돌아가면서..\n",
        "#   d에서 key를 찾아서 --> key에 해당하는 value에 가서 체크해서 +1 카운팅\n",
        "#--> BL = [\"fordo\",\"neo\"].answer = [0,0,0,0]\n",
        "#    d[\"fordo\"]: [\"muzi\".\"apeach\"]\n",
        "#                     answer에서  muzi위치에서 +1 갱신 [0+1,0,0,0]\n",
        "#                                 apeahc위치에서 +1갱신 [0+1,0,0+1,0]\n",
        "#                     : answer = [1,0,1,0]\n",
        "#        d[\"neo\"] : [\"fordo\",\"muzi\"]\n",
        "#                     answer에서 fordo의 위치 +1갱신 : [1,0+1,1,0]\n",
        "#                                muzi의ㅣ 위치 +1갱신 : [1+1,0+1,1,0]\n",
        "#     쫑!! [1+1,0+1,1,0] = [2,1,1,0]"
      ],
      "metadata": {
        "id": "MLfMmMPpjtBk"
      },
      "execution_count": null,
      "outputs": []
    },
    {
      "cell_type": "code",
      "source": [],
      "metadata": {
        "id": "qtpO7V7KuKCO"
      },
      "execution_count": null,
      "outputs": []
    },
    {
      "cell_type": "code",
      "source": [
        "# 위의 방법대로 하면,,,\n",
        "# [\"ryan con\", \"ryan con\", \"ryan con\", \"ryan con\"]\n",
        "# d = {\"ryan\":[], \"con\":[]}\n",
        "# --> d = {\"ryan\":[], \"con\":[\"ryan\",\"ryan\",\"ryan\",\"ryan\"]}\n",
        "# 어...이러면..con의 value 원소 수가 4가 되어서\n",
        "# 기준 k=3을 넘어서 con 정지\n",
        "# 틀리네...\n",
        "#이유:[:\"ryan\",\"ryan\",\"ryan\",\"ryan\"]-->[\"ryan\"]\n",
        "\n",
        "#--> 자료형을 세팅\n",
        "# 기존  d = {\"ryan\":[], \"con\":[]}\n",
        "# ==> 문제  d = {\"ryan\":[], \"con\":[\"ryan\",\"ryan\",\"ryan\",\"ryan\"]} (X)\n",
        "#\n",
        "# set 자료형 활용\n",
        "# d = {\"ryan\":set([])},\"con\":set([\"ruan\"])}"
      ],
      "metadata": {
        "id": "RZ92W1amuKYN"
      },
      "execution_count": null,
      "outputs": []
    },
    {
      "cell_type": "code",
      "source": [
        "a = [ 1,2,3,4]\n",
        "a.append(99)\n",
        "a.append(99)\n",
        "a"
      ],
      "metadata": {
        "colab": {
          "base_uri": "https://localhost:8080/"
        },
        "id": "Ec-Ja7t5u413",
        "outputId": "cf5c415c-d713-42e1-d8c3-a7c0a7eaa610"
      },
      "execution_count": null,
      "outputs": [
        {
          "output_type": "execute_result",
          "data": {
            "text/plain": [
              "[1, 2, 3, 4, 99, 99]"
            ]
          },
          "metadata": {},
          "execution_count": 22
        }
      ]
    },
    {
      "cell_type": "code",
      "source": [
        "sa = set( [1,2,3,4])\n",
        "sa.add(99)\n",
        "sa.add(99)\n",
        "sa.add(99)\n",
        "sa.add(99)\n",
        "sa"
      ],
      "metadata": {
        "colab": {
          "base_uri": "https://localhost:8080/"
        },
        "id": "X2elTQSYvTk2",
        "outputId": "74ee3e33-089c-438c-bbb0-df045e07dd22"
      },
      "execution_count": null,
      "outputs": [
        {
          "output_type": "execute_result",
          "data": {
            "text/plain": [
              "{1, 2, 3, 4, 99}"
            ]
          },
          "metadata": {},
          "execution_count": 19
        }
      ]
    },
    {
      "cell_type": "code",
      "source": [],
      "metadata": {
        "id": "NZFVmA0T1tyZ"
      },
      "execution_count": null,
      "outputs": []
    },
    {
      "cell_type": "code",
      "source": [
        "len(a)"
      ],
      "metadata": {
        "colab": {
          "base_uri": "https://localhost:8080/"
        },
        "id": "lIkoVjHp1u1Y",
        "outputId": "e429b0bc-be55-4b1e-9cd5-6c1644988e64"
      },
      "execution_count": null,
      "outputs": [
        {
          "output_type": "execute_result",
          "data": {
            "text/plain": [
              "6"
            ]
          },
          "metadata": {},
          "execution_count": 23
        }
      ]
    },
    {
      "cell_type": "code",
      "source": [
        "len(sa)"
      ],
      "metadata": {
        "colab": {
          "base_uri": "https://localhost:8080/"
        },
        "id": "IaLq4Ff-2AsS",
        "outputId": "c8a3029d-f43b-44f1-cd91-6d4723293e5d"
      },
      "execution_count": null,
      "outputs": [
        {
          "output_type": "execute_result",
          "data": {
            "text/plain": [
              "5"
            ]
          },
          "metadata": {},
          "execution_count": 24
        }
      ]
    },
    {
      "cell_type": "code",
      "source": [
        "len(list(sa))"
      ],
      "metadata": {
        "colab": {
          "base_uri": "https://localhost:8080/"
        },
        "id": "XLknGwFa2DPZ",
        "outputId": "a9acc3c3-b150-48ed-aa5b-10b2be876f89"
      },
      "execution_count": null,
      "outputs": [
        {
          "output_type": "execute_result",
          "data": {
            "text/plain": [
              "5"
            ]
          },
          "metadata": {},
          "execution_count": 25
        }
      ]
    },
    {
      "cell_type": "code",
      "source": [
        "# 참고) 신고 내역에 대해서 미리 set 처리하면,,for 롤링을 줄일 수\n",
        "set([\"ryan con\", \"ryan con\", \"ryan con\", \"ryan con\"])"
      ],
      "metadata": {
        "colab": {
          "base_uri": "https://localhost:8080/"
        },
        "id": "EI1-1mYt2GRY",
        "outputId": "d6601e47-8e6d-4333-ca8d-ac8731d3ee75"
      },
      "execution_count": null,
      "outputs": [
        {
          "output_type": "execute_result",
          "data": {
            "text/plain": [
              "{'ryan con'}"
            ]
          },
          "metadata": {},
          "execution_count": 26
        }
      ]
    },
    {
      "cell_type": "code",
      "source": [
        "# Try1) 중복 신경 안 쓰고 문제 발생하도록...."
      ],
      "metadata": {
        "id": "Ny5A32jI2GUA"
      },
      "execution_count": null,
      "outputs": []
    },
    {
      "cell_type": "code",
      "source": [
        "def solution(id_list, report, k):\n",
        "    # answer = []\n",
        "    # 출력의 용이함을 위해서 answer =[ 0,0,00,,,,,]\n",
        "    # 0) 출력의 용이성  유저별로 카운팅 매칭\n",
        "    answer = [0] * len( id_list)\n",
        "    # ---> [0,0,0,,,,,0]\n",
        "\n",
        "    # 1) 신고 내역에 대한 정보 처리\n",
        "    # dict // key - 신고당한사람, value - 신고한사람들[]\n",
        "    # d = {\"muzi\":[], \"prodo\":[],,,,,,}\n",
        "    reported_dict = {}\n",
        "    for id in id_list:\n",
        "        reported_dict[id] = [] # ---> 나를 신고한 사람들...\n",
        "\n",
        "    # 2) 실제 신고 내역들을 처리\n",
        "    # ---> d = {\"muzi\":[\"a\",\"b\"],,,,,,,}\n",
        "    for report_pair in report: # \"A b\"\n",
        "        # \"A b\" --> \"A\",\"b\" : 신고자(v), 신고당한사람(k)\n",
        "        reporter = report_pair.split(\" \")[0] # \"A\"\n",
        "        reported = report_pair.split(\" \")[1] # \"b\"\n",
        "        # --> 나의 자료형 정리!!!\n",
        "        reported_dict[reported].append(reporter)\n",
        "    # 참고 ) 위에 set로하면 append 대신 add로 변경!!!!\n",
        "    # ==> 신고 내역 정리 끝!!!!\n",
        "\n",
        "    # 3) 시스템의 기준 k이상 신고당한 BL 찾으면 됨!!!\n",
        "    # ==> reported_dict 의 values의 원소의 수 >= k\n",
        "    #     [\"prodo\",\"neo\"]\n",
        "    # 정지당한 애들의 이름만 리스트업.\n",
        "    k_reported = []\n",
        "    for key_id, v in reported_dict.items():\n",
        "        if len(v) >=k:\n",
        "            k_reported.append( key_id)\n",
        "\n",
        "    # 4) 최종적으로 신고한 사람들한테 메일 발송!!!!\n",
        "    # ==> 정지당한 리스트를 돌려가면서,,\n",
        "    # d[BL] : value에 신고자\"들\" 나타남...\n",
        "    #        d[\"fordo\"] : [\"muzi\",\"neo\"]\n",
        "    for ban_id in k_reported:\n",
        "        # 정지먹은 id를 신고한 사람\"들\"\n",
        "        mail_res_ids = reported_dict[ban_id] # [\"muzi\",\"neo\"]\n",
        "        # 신고한 id들을 돌려가면서 메일 발송 : +1 갱신\n",
        "        for id in mail_res_ids:\n",
        "            id_index = id_list.index(id)\n",
        "            answer[id_index] += 1\n",
        "\n",
        "    return answer"
      ],
      "metadata": {
        "id": "ounXccyc2N8Q"
      },
      "execution_count": null,
      "outputs": []
    },
    {
      "cell_type": "code",
      "source": [
        "# test1\n",
        "a = [\"muzi\", \"frodo\", \"apeach\", \"neo\"]\n",
        "b = [\"muzi frodo\",\"apeach frodo\",\"frodo neo\",\"muzi neo\",\"apeach muzi\"]\n",
        "solution(a,b,2)"
      ],
      "metadata": {
        "colab": {
          "base_uri": "https://localhost:8080/"
        },
        "id": "PWle_tAD2OHR",
        "outputId": "85899cf0-693e-4e21-aa99-462a024da742"
      },
      "execution_count": null,
      "outputs": [
        {
          "output_type": "execute_result",
          "data": {
            "text/plain": [
              "[2, 1, 1, 0]"
            ]
          },
          "metadata": {},
          "execution_count": 29
        }
      ]
    },
    {
      "cell_type": "code",
      "source": [],
      "metadata": {
        "id": "KqpRdoOk55ZM"
      },
      "execution_count": null,
      "outputs": []
    },
    {
      "cell_type": "code",
      "source": [
        "# test2\n",
        "a = [\"con\", \"ryan\"]\n",
        "b = [\"ryan con\", \"ryan con\", \"ryan con\", \"ryan con\"]\n",
        "solution(a,b,2)"
      ],
      "metadata": {
        "colab": {
          "base_uri": "https://localhost:8080/"
        },
        "id": "joFl2q6B5EL7",
        "outputId": "ceaf28e9-6d35-4bac-fb34-eafa49d670a9"
      },
      "execution_count": null,
      "outputs": [
        {
          "output_type": "execute_result",
          "data": {
            "text/plain": [
              "[0, 4]"
            ]
          },
          "metadata": {},
          "execution_count": 30
        }
      ]
    },
    {
      "cell_type": "code",
      "source": [
        "# 틀렸음-> 중복처리 해결해야 함"
      ],
      "metadata": {
        "id": "EYkzDJGd5K5Z"
      },
      "execution_count": null,
      "outputs": []
    },
    {
      "cell_type": "code",
      "source": [
        "##for id in id_list:\n",
        "##        reported_dict[id] = [] # ---> 나를 신고한 사람들...-> reported_dict[id] = set([]) 로 변\n",
        "\n",
        "\n",
        "##reported_dict[reported].append(reporter)-> reported_dict[reported].add(reporter)로 변경"
      ],
      "metadata": {
        "id": "jbWbTepg5N1h"
      },
      "execution_count": null,
      "outputs": []
    },
    {
      "cell_type": "code",
      "source": [
        "def solution(id_list, report, k):\n",
        "    # answer = []\n",
        "    # 출력의 용이함을 위해서 answer =[ 0,0,00,,,,,]\n",
        "    # 0) 출력의 용이성  유저별로 카운팅 매칭\n",
        "    answer = [0] * len( id_list)\n",
        "    # ---> [0,0,0,,,,,0]\n",
        "\n",
        "    # 1) 신고 내역에 대한 정보 처리\n",
        "    # dict // key - 신고당한사람, value - 신고한사람들[]\n",
        "    # d = {\"muzi\":[], \"prodo\":[],,,,,,}\n",
        "    reported_dict = {}\n",
        "    for id in id_list:\n",
        "        #reported_dict[id] = [] # ---> 나를 신고한 사람들...\n",
        "        reported_dict[id] = set([]) # ******************\n",
        "\n",
        "    # 2) 실제 신고 내역들을 처리\n",
        "    # ---> d = {\"muzi\":[\"a\",\"b\"],,,,,,,}\n",
        "    for report_pair in report: # \"A b\"\n",
        "        # \"A b\" --> \"A\",\"b\" : 신고자(v), 신고당한사람(k)\n",
        "        reporter = report_pair.split(\" \")[0] # \"A\"\n",
        "        reported = report_pair.split(\" \")[1] # \"b\"\n",
        "        # --> 나의 자료형 정리!!!\n",
        "        # reported_dict[reported].append(reporter)\n",
        "        reported_dict[reported].add(reporter) #**********\n",
        "    # 참고 ) 위에 set로하면 append 대신 add로 변경!!!!\n",
        "    # ==> 신고 내역 정리 끝!!!!\n",
        "\n",
        "    # 3) 시스템의 기준 k이상 신고당한 BL 찾으면 됨!!!\n",
        "    # ==> reported_dict 의 values의 원소의 수 >= k\n",
        "    #     [\"prodo\",\"neo\"]\n",
        "    # 정지당한 애들의 이름만 리스트업.\n",
        "    k_reported = []\n",
        "    for key_id, v in reported_dict.items():\n",
        "        if len(v) >=k:\n",
        "            k_reported.append( key_id)\n",
        "\n",
        "    # 4) 최종적으로 신고한 사람들한테 메일 발송!!!!\n",
        "    # ==> 정지당한 리스트를 돌려가면서,,\n",
        "    # d[BL] : value에 신고자\"들\" 나타남...\n",
        "    #        d[\"fordo\"] : [\"muzi\",\"neo\"]\n",
        "    for ban_id in k_reported:\n",
        "        # 정지먹은 id를 신고한 사람\"들\"\n",
        "        mail_res_ids = reported_dict[ban_id] # [\"muzi\",\"neo\"]\n",
        "        # 신고한 id들을 돌려가면서 메일 발송 : +1 갱신\n",
        "        for id in mail_res_ids:\n",
        "            id_index = id_list.index(id)\n",
        "            answer[id_index] += 1\n",
        "\n",
        "    return answer"
      ],
      "metadata": {
        "id": "BSF8d2u652xV"
      },
      "execution_count": null,
      "outputs": []
    },
    {
      "cell_type": "code",
      "source": [
        "# test1\n",
        "a = [\"muzi\", \"frodo\", \"apeach\", \"neo\"]\n",
        "b = [\"muzi frodo\",\"apeach frodo\",\"frodo neo\",\"muzi neo\",\"apeach muzi\"]\n",
        "solution(a,b,2)"
      ],
      "metadata": {
        "colab": {
          "base_uri": "https://localhost:8080/"
        },
        "id": "blDo7FF756T6",
        "outputId": "92a12775-d8bf-473b-bac6-66f7099f9aed"
      },
      "execution_count": null,
      "outputs": [
        {
          "output_type": "execute_result",
          "data": {
            "text/plain": [
              "[2, 1, 1, 0]"
            ]
          },
          "metadata": {},
          "execution_count": 32
        }
      ]
    },
    {
      "cell_type": "code",
      "source": [
        "# test2\n",
        "a = [\"con\", \"ryan\"]\n",
        "b = [\"ryan con\", \"ryan con\", \"ryan con\", \"ryan con\"]\n",
        "solution(a,b,2)"
      ],
      "metadata": {
        "colab": {
          "base_uri": "https://localhost:8080/"
        },
        "id": "AdWNlYM956Y8",
        "outputId": "b239895c-9a1e-4fdb-daf8-bf5dea300f66"
      },
      "execution_count": null,
      "outputs": [
        {
          "output_type": "execute_result",
          "data": {
            "text/plain": [
              "[0, 0]"
            ]
          },
          "metadata": {},
          "execution_count": 33
        }
      ]
    },
    {
      "cell_type": "code",
      "source": [
        "#주석 제거"
      ],
      "metadata": {
        "id": "BX6EApa_6Ozo"
      },
      "execution_count": null,
      "outputs": []
    },
    {
      "cell_type": "code",
      "source": [
        "def solution(id_list, report, k):\n",
        "    answer = [0] * len( id_list)\n",
        "    reported_dict = {}\n",
        "    for id in id_list:\n",
        "        reported_dict[id] = set([]) # ******************\n",
        "    for report_pair in report: # \"A b\"\n",
        "        reporter = report_pair.split(\" \")[0] # \"A\"\n",
        "        reported = report_pair.split(\" \")[1] # \"b\"\n",
        "        reported_dict[reported].add(reporter) #**********\n",
        "    k_reported = []\n",
        "    for key_id, v in reported_dict.items():\n",
        "        if len(v) >=k:\n",
        "            k_reported.append( key_id)\n",
        "    for ban_id in k_reported:\n",
        "        mail_res_ids = reported_dict[ban_id] # [\"muzi\",\"neo\"]\n",
        "        for id in mail_res_ids:\n",
        "            id_index = id_list.index(id)\n",
        "            answer[id_index] += 1\n",
        "    return answer"
      ],
      "metadata": {
        "id": "xKt_kPNy56gl"
      },
      "execution_count": null,
      "outputs": []
    },
    {
      "cell_type": "code",
      "source": [
        "# 코드 정리"
      ],
      "metadata": {
        "id": "tlem84LN6RvI"
      },
      "execution_count": null,
      "outputs": []
    },
    {
      "cell_type": "code",
      "source": [
        "def solution(id_list, report, k):\n",
        "    answer = [0] * len( id_list)\n",
        "    reported_dict = { id:set([]) for id in id_list}\n",
        "    for report_pair in report: # \"A b\"\n",
        "        reporter,reported = report_pair.split(\" \")\n",
        "        reported_dict[reported].add(reporter) #**********\n",
        "    k_reported = [key_id for key_id, v in reported_dict.items() if len(v) >=k]\n",
        "    for ban_id in k_reported:\n",
        "        mail_res_ids = reported_dict[ban_id] # [\"muzi\",\"neo\"]\n",
        "        for id in mail_res_ids:\n",
        "            id_index = id_list.index(id)\n",
        "            answer[id_index] += 1\n",
        "    return answer"
      ],
      "metadata": {
        "id": "LIZONERc6YqX"
      },
      "execution_count": null,
      "outputs": []
    }
  ]
}