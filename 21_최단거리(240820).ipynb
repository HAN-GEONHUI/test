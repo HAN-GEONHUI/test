{
  "nbformat": 4,
  "nbformat_minor": 0,
  "metadata": {
    "colab": {
      "provenance": [],
      "authorship_tag": "ABX9TyNWqQPBTnpup37UGqrDAw5e",
      "include_colab_link": true
    },
    "kernelspec": {
      "name": "python3",
      "display_name": "Python 3"
    },
    "language_info": {
      "name": "python"
    }
  },
  "cells": [
    {
      "cell_type": "markdown",
      "metadata": {
        "id": "view-in-github",
        "colab_type": "text"
      },
      "source": [
        "<a href=\"https://colab.research.google.com/github/HAN-GEONHUI/test/blob/t_academy_%EC%88%98%EC%97%85/21_%EC%B5%9C%EB%8B%A8%EA%B1%B0%EB%A6%AC(240820).ipynb\" target=\"_parent\"><img src=\"https://colab.research.google.com/assets/colab-badge.svg\" alt=\"Open In Colab\"/></a>"
      ]
    },
    {
      "cell_type": "code",
      "execution_count": null,
      "metadata": {
        "id": "xwzbmG7qK8Hj"
      },
      "outputs": [],
      "source": [
        "#기본적인 최단거리 구한느 문제"
      ]
    },
    {
      "cell_type": "code",
      "source": [
        "#기본방식\n",
        "#입력부분\n",
        "INF = float(\"inf\")\n",
        "\n",
        "#입력을 받는 부분은 지난 번에 했어서 skip\n",
        "n=6 #도시의 숫자 == node 숫자\n",
        "m=11 # 도로의 숫자 == edge숫자 -> for : 어디, 어디가, 얼마\n",
        "start = 1 #출발할 도\n",
        "graph=[\n",
        "    [],\n",
        "    [(2,2),(3,5),(4,1)],#1번 도시:(도착도시,거리)\n",
        "    [(3,3),(4,2)], #2번 도시\n",
        "    [(2,3),(6,5)], #3번 도시\n",
        "    [(3,3),(5,1)],#4번 도시\n",
        "    [(3,1),(6,2)],#5번 도시\n",
        "    []            #6번 도시\n",
        "]\n",
        "#--> 지도 그림: 인접리스ㅡ 방식-->파이썬의 리스트로 코드화\n",
        "graph\n"
      ],
      "metadata": {
        "colab": {
          "base_uri": "https://localhost:8080/"
        },
        "id": "ARe6fCwYLYr5",
        "outputId": "455e5a33-34cf-4f62-f754-ec07325b4f25"
      },
      "execution_count": null,
      "outputs": [
        {
          "output_type": "execute_result",
          "data": {
            "text/plain": [
              "[[],\n",
              " [(2, 2), (3, 5), (4, 1)],\n",
              " [(3, 3), (4, 2)],\n",
              " [(2, 3), (6, 5)],\n",
              " [(3, 3), (5, 1)],\n",
              " [(3, 1), (6, 2)],\n",
              " []]"
            ]
          },
          "metadata": {},
          "execution_count": 2
        }
      ]
    },
    {
      "cell_type": "code",
      "source": [
        "# 2) 필요한 기본 변수\n",
        "# 방문할 도시 리스트 ---> 방문 여부!!!!\n",
        "# 도시별로 최단 거리 모니터링 --> 거리 기록지!!!!\n",
        "distance = [INF] * (n+1) # 0번 도시도 포함되어서...n+1\n",
        "visited = [False] * (n+1) # 방문 여부에 대한 것\n",
        "print(distance)\n",
        "print(visited)\n",
        "#--> 지도/distance/visited: 도시 번호 == 정수인덱스로 공유"
      ],
      "metadata": {
        "colab": {
          "base_uri": "https://localhost:8080/"
        },
        "id": "oGTuKD54M5Xg",
        "outputId": "f0e4abd8-7534-476a-9ce5-e4fc0ee7d576"
      },
      "execution_count": null,
      "outputs": [
        {
          "output_type": "stream",
          "name": "stdout",
          "text": [
            "[inf, inf, inf, inf, inf, inf, inf]\n",
            "[False, False, False, False, False, False, False]\n"
          ]
        }
      ]
    },
    {
      "cell_type": "code",
      "source": [],
      "metadata": {
        "id": "2ICPMKUGPJyI"
      },
      "execution_count": null,
      "outputs": []
    },
    {
      "cell_type": "code",
      "source": [
        "#추가함수: 진행을 하면서, 남은 것들 중에 거리가 제일 짧은 것들에 대한 선택 함수\n",
        "def get_smallest_node():\n",
        "    # 가장 거리가 짧은 거리 정보 & 가장 짧은 도시 번호\n",
        "    min_value = INF\n",
        "    min_index = 0\n",
        "    # 각 도시별로 다 돌아가면서.....\n",
        "    for node in range(n+1):\n",
        "        if ( not visited[node]) & (distance[node]<min_value):\n",
        "          min_value = distance[node]\n",
        "          min_index = node\n",
        "    return min_index\n",
        "#혹시 거리가 같다면,, 작은 도시를 먼저가기"
      ],
      "metadata": {
        "id": "Xol96e71Oj-W"
      },
      "execution_count": null,
      "outputs": []
    },
    {
      "cell_type": "code",
      "source": [],
      "metadata": {
        "id": "cm1NYZ7HPJei"
      },
      "execution_count": null,
      "outputs": []
    },
    {
      "cell_type": "code",
      "source": [
        "def dijstra(start):\n",
        "  #시작점에 대해서 처리: 거리//도장\n",
        "\n",
        "  visited[start] = True\n",
        "  distance[start] = 0\n",
        "\n",
        "  #시작 도시부터 연결 도시들의 정보들을 가지고 오면 됨!\n",
        "  for j in graph[start]:\n",
        "    #j:-->(도시,거리)\n",
        "    distance[j[0]] = j[1]\n",
        "\n",
        "    #시작 도시에 대한 처리는 완료!!-> 남은 도시들을 꺼내가면서\n",
        "  for _ in range(n-1):#n개 도시 중 출발 도시는 처리 했으니\n",
        "      # 지금까지 제일 거리가 짧은 도시가 어딘지?\n",
        "      now = get_smallest_node()\n",
        "      visited[now] = True\n",
        "      #예: 제일 처음 now == 4도시\n",
        "      #여기서 연결된 친구들한테 거리를 계산!: 갱신\n",
        "      #예 : graph[now]=graph[4]:[(3,3),(5,1)]\n",
        "      for k in graph[now]: #K--> 도시,거리\n",
        "          new_distance = distance[now]+k[1]\n",
        "          #지금까지 거리보다 new_distance 더 짧은지 비교\n",
        "          if new_distance<distance[k[0]]:\n",
        "              distance[k[0]]=new_distance"
      ],
      "metadata": {
        "id": "IDt4vBkZNZxm"
      },
      "execution_count": null,
      "outputs": []
    },
    {
      "cell_type": "code",
      "source": [
        "dijstra(start)\n",
        "distance"
      ],
      "metadata": {
        "colab": {
          "base_uri": "https://localhost:8080/"
        },
        "id": "knqWDkpFRquS",
        "outputId": "676c2187-2df7-452a-ef36-1c8b4dbd808a"
      },
      "execution_count": null,
      "outputs": [
        {
          "output_type": "execute_result",
          "data": {
            "text/plain": [
              "[inf, 0, 2, 3, 1, 2, 4]"
            ]
          },
          "metadata": {},
          "execution_count": 8
        }
      ]
    },
    {
      "cell_type": "code",
      "source": [],
      "metadata": {
        "id": "lFh4n8orT9ro"
      },
      "execution_count": null,
      "outputs": []
    },
    {
      "cell_type": "code",
      "source": [
        "#우선 순위 큐 : 별도 패키지이지만\n",
        "#               deque처럼 일반적으로 사용할 수 있는 자료형\n",
        "#               파이썬으로 가지고 하실 때...\n",
        "# --> 다익스트라알고리즈: heapq\n"
      ],
      "metadata": {
        "id": "8grU7WOeT9vI"
      },
      "execution_count": null,
      "outputs": []
    },
    {
      "cell_type": "code",
      "source": [
        "import heapq"
      ],
      "metadata": {
        "id": "Jlj64DGSUOXH"
      },
      "execution_count": null,
      "outputs": []
    },
    {
      "cell_type": "code",
      "source": [
        "# 거리에 대한 변수 초기화\n",
        "distance = [INF] * (n + 1)\n",
        "# 최단거리 함수\n",
        "def short_dis( start):\n",
        "    q = []\n",
        "    heapq.heappush( q, (0,start)) # 거리,도시 --> 우선순위가 앞에서,\n",
        "    distance[start] = 0\n",
        "\n",
        "    # q가 빌 때 까지...\n",
        "    while q:\n",
        "        dist, now = heapq.heappop(q)\n",
        "        # 이미 왔던 곳인지....\n",
        "        if distance[now] < dist:\n",
        "            continue\n",
        "        # 인접도시들을 거리들을 계산하면서 큐에 쌓는다.\n",
        "        for i in graph[now]: ##--> i[0]:연결도시, i[1]:가는거리\n",
        "            cost = dist + i[1] # 예상 거리\n",
        "            if cost < distance[i[0]]:\n",
        "                distance[i[0]] = cost\n",
        "                heapq.heappush(q, (cost, i[0]))"
      ],
      "metadata": {
        "id": "2MET2I1UWdPD"
      },
      "execution_count": null,
      "outputs": []
    },
    {
      "cell_type": "code",
      "source": [
        "short_dis(start)\n",
        "distance"
      ],
      "metadata": {
        "colab": {
          "base_uri": "https://localhost:8080/"
        },
        "id": "Bs0ZvU2WURe3",
        "outputId": "f93daf3c-1608-47b3-b28b-cd1cc5efad80"
      },
      "execution_count": null,
      "outputs": [
        {
          "output_type": "execute_result",
          "data": {
            "text/plain": [
              "[inf, 0, 2, 3, 1, 2, 4]"
            ]
          },
          "metadata": {},
          "execution_count": 16
        }
      ]
    }
  ]
}