{
  "nbformat": 4,
  "nbformat_minor": 0,
  "metadata": {
    "colab": {
      "provenance": [],
      "authorship_tag": "ABX9TyNvfjqtnFZTMcnuS+5HgI/T",
      "include_colab_link": true
    },
    "kernelspec": {
      "name": "python3",
      "display_name": "Python 3"
    },
    "language_info": {
      "name": "python"
    }
  },
  "cells": [
    {
      "cell_type": "markdown",
      "metadata": {
        "id": "view-in-github",
        "colab_type": "text"
      },
      "source": [
        "<a href=\"https://colab.research.google.com/github/HAN-GEONHUI/test/blob/t_academy_%EC%88%98%EC%97%85/05_%EC%BD%94%ED%85%8C_%EC%8B%A4%ED%8C%A8%EC%9C%A8_%EA%B5%AC%ED%95%98%EA%B8%B0(240812).ipynb\" target=\"_parent\"><img src=\"https://colab.research.google.com/assets/colab-badge.svg\" alt=\"Open In Colab\"/></a>"
      ]
    },
    {
      "cell_type": "code",
      "execution_count": null,
      "metadata": {
        "id": "16u0bSmK8o4R"
      },
      "outputs": [],
      "source": [
        "# 문제 링크 주소\n",
        "# ref) https://programmers.co.kr/learn/courses/30/lessons/42889?language=python3"
      ]
    },
    {
      "cell_type": "code",
      "source": [
        "# 문제를 읽으면서 끄적\n",
        "# 문제의 핵심 : 실패율 구하는 코드작성\n",
        "# --> 실패율이 뭐냐?\n",
        "#     실패율 : 실패한 유저수 / 도전한 유저수\n",
        "#      --> case by case :도전한 유저수 == 0 : 실패율 0\n",
        "#                        도전한 유저수 != 0 : 위의 공식 계산\n",
        "# 입력변수 : N --> 전체 스테이지의수\n",
        "#            stages --> 유저들이 지금 어디에 있는지 정보(리스트)\n",
        "# 최종 출력 : 실패율계산 --> 실패율 높은 순서대로(내림차순):정렬\n",
        "#              --> 스테이지번호 리스트\n",
        "#             ( 참고 : 정렬 기준 --> 실패율이 같으면 스테이지번호 낮은거)\n",
        "# 참고) stages : 1~N+1\n",
        "#       ==> 1은 1번 스테이지에 도전하는 사람\n",
        "#           N+1 : N 스테이지 모두 클리어한 사람\n",
        "#       ==> 인덱스가 0X--> 1부터??"
      ],
      "metadata": {
        "id": "3eouWRdU-6mF"
      },
      "execution_count": null,
      "outputs": []
    },
    {
      "cell_type": "code",
      "source": [
        "n/stages = result= anwser\n",
        "#내가 하다 만것"
      ],
      "metadata": {
        "id": "md59itN2AsMR"
      },
      "execution_count": null,
      "outputs": []
    },
    {
      "cell_type": "code",
      "source": [
        "# 사례1\n",
        "# N = 5\n",
        "#stages = [2,1,2,6,2,4,3,3]\n",
        "\n",
        "# 1 stage\n",
        "#도전자\" 8명\n",
        "#실패자: 1명--> 값 1인수\n",
        "#--> 1F = 1/8\n",
        "\n",
        "# 2 stage\n",
        "#도전자\" 7명-> 8-1(1번 스테이지의 도전자- 1번 스테이지 실패자)\n",
        "#실패자: 3명--> 값 2인수\n",
        "#--> 2F = 3/7\n",
        "\n",
        "# 3 stage\n",
        "#도전자\" 4명-> 7-3(2번 스테이지의 도전자- 2번 스테이지 실패자)\n",
        "#실패자: 2명--> 값 3인수\n",
        "#--> 3F = 2/4\n",
        "\n",
        "# 4 stage\n",
        "#도전자\" 2명-> 4-2(3번 스테이지의 도전자- 3번 스테이지 실패자)\n",
        "#실패자: 1명--> 값 4인수\n",
        "#--> 4F = 1/2\n",
        "\n",
        "# 5 stage\n",
        "#도전자\" 1명-> 2-1(4번 스테이지의 도전자- 4번 스테이지 실패자)\n",
        "#실패자: 0명--> 값 5인수\n",
        "#--> 5F = 0/1\n",
        "\n",
        "# 6 stage\n",
        "#도전자\" 1명-> 1-0(5번 스테이지의 도전자- 5번 스테이지 실패자)\n",
        "#실패자: 1명--> 값 6인수\n",
        "#--> 6F = 1/1\n",
        "\n",
        "#스테이지 별로 싶패율 정렬(내림차순&동타 있으먀ㅕㄴ 작은 순서)\n",
        "\n",
        "\n"
      ],
      "metadata": {
        "id": "8cxUDVjgA2Uf"
      },
      "execution_count": null,
      "outputs": []
    },
    {
      "cell_type": "code",
      "source": [
        "#i번째 stage에서는 어찌될까 규칙!\n",
        "\n",
        "#i-stage//3번 스테이지\n",
        "#도전자:(i-1)stage도전자 -(i-1)stage 실패자//3-1 스테이지 도전\n",
        "#실패자:값이 i인 갯수// 값이 3인 갯수\n",
        "#i_F = 실패자/도전자\n",
        "#   ==> 도전자의 수 ==0 : i_F =0\n",
        "#                   !=0 : 실패자/도전자\n",
        "\n",
        "#+++ 실패율 기준으로 내림차순 정렬-> 스테이지 번호만 출력"
      ],
      "metadata": {
        "id": "WXROyeB-DynO"
      },
      "execution_count": null,
      "outputs": []
    },
    {
      "cell_type": "code",
      "source": [
        "#참고: 2번 째 예시\n",
        "#N=4\n",
        "#stages=[4,4,4,4,4]\n",
        "\n",
        "#1stage\n",
        "#도전자 : 5명\n",
        "#실패자 : 0명\n",
        "#1F = 0\n",
        "\n",
        "#2stage\n",
        "\n",
        "#3stage\n",
        "#4stage\n",
        "# 도전자 : 5명\n",
        "# 실패자 : 5명\n",
        "# 4F = 5/5 = 1\n",
        "\n",
        "# ==> 4(1), 1,2,3"
      ],
      "metadata": {
        "id": "wYP7BxZ1FA4a"
      },
      "execution_count": null,
      "outputs": []
    },
    {
      "cell_type": "code",
      "source": [
        "# 큰 틀 : 이름-성적에 대해서 성적순으로 정렬하는 문제하고 동일!\n",
        "#         stage번호 - 실패율(직접 계산!!!)"
      ],
      "metadata": {
        "id": "F2cvcn3bFqfC"
      },
      "execution_count": null,
      "outputs": []
    },
    {
      "cell_type": "code",
      "source": [
        "# 중요 사항\n",
        "# ==> 출력에서 정렬을 사용을 함.\n",
        "# 1) 실패율 : 내림차순\n",
        "# 2) 스테이지 번호 : 오름차순\n",
        "# ===> 따로 따로 정렬 기준별로 정렬방향을 세팅!!!!!!!\n",
        "# + 내가 주어진대로 세팅할 수 있어야 하고!!!\n",
        "#  sorted()/.sort() + key + lambda + (+/-)\n",
        "# ==> 정렬에 필요한 정보 : 스테이지번호, 실패율\n",
        "# 기본 유형 : [ (이름,성적), (이름,성적),(이름,성적),,,,]\n",
        "#             [ (1,1_F), (2, 2_F), (3, 3_F),,,,,(N, N_F)]"
      ],
      "metadata": {
        "id": "RwJarqDqG7of"
      },
      "execution_count": null,
      "outputs": []
    },
    {
      "cell_type": "code",
      "source": [
        "[ [1, 1/8], [2,3/7], [3, 2/4], [4,1/2], [5,0/1] ]\n",
        "\n",
        "==> [ [3, 2/4], [4,1/2], [2,3/7],[1, 1/8] ,[5,0/1]]\n",
        "==> [3,4,2,1,5]"
      ],
      "metadata": {
        "id": "cBddTfu1G-2f"
      },
      "execution_count": null,
      "outputs": []
    },
    {
      "cell_type": "code",
      "source": [
        "\n",
        "# 정렬을 대한 것은 오로지 리스트자료형만 가능한가?\n",
        "# ==> No!\n",
        "# Dict에서도 가능함!\n",
        "# 참고) 저는 Dict로 진행을 하겠습니다.\n",
        "t = {1:1/8, 2: 3/7, 3:2/4, 4:1/2, 5:0}\n",
        "t"
      ],
      "metadata": {
        "colab": {
          "base_uri": "https://localhost:8080/"
        },
        "id": "LBCdlYZGHimX",
        "outputId": "d1328fe9-a6c8-417c-b8fa-54d388a4ddc3"
      },
      "execution_count": null,
      "outputs": [
        {
          "output_type": "execute_result",
          "data": {
            "text/plain": [
              "{1: 0.125, 2: 0.42857142857142855, 3: 0.5, 4: 0.5, 5: 0}"
            ]
          },
          "metadata": {},
          "execution_count": 1
        }
      ]
    },
    {
      "cell_type": "code",
      "source": [
        "t.items()"
      ],
      "metadata": {
        "colab": {
          "base_uri": "https://localhost:8080/"
        },
        "id": "Fepr0oQZI1qj",
        "outputId": "22a8978c-1abc-4a07-a847-0820b6cf9876"
      },
      "execution_count": null,
      "outputs": [
        {
          "output_type": "execute_result",
          "data": {
            "text/plain": [
              "dict_items([(1, 0.125), (2, 0.42857142857142855), (3, 0.5), (4, 0.5), (5, 0)])"
            ]
          },
          "metadata": {},
          "execution_count": 2
        }
      ]
    },
    {
      "cell_type": "code",
      "source": [
        "sorted( t.items(),key = lambda x: ( x) )"
      ],
      "metadata": {
        "colab": {
          "base_uri": "https://localhost:8080/"
        },
        "id": "q__GNkLDI6sL",
        "outputId": "e296cfb2-7797-427f-d6aa-88cd10a49203"
      },
      "execution_count": null,
      "outputs": [
        {
          "output_type": "execute_result",
          "data": {
            "text/plain": [
              "[(1, 0.125), (2, 0.42857142857142855), (3, 0.5), (4, 0.5), (5, 0)]"
            ]
          },
          "metadata": {},
          "execution_count": 3
        }
      ]
    },
    {
      "cell_type": "code",
      "source": [
        "temp =sorted( t.items(),key = lambda x: ( -x[1], x[0]) )\n",
        "temp"
      ],
      "metadata": {
        "colab": {
          "base_uri": "https://localhost:8080/"
        },
        "id": "5zB6qK4JJBB2",
        "outputId": "b60808a8-843f-4c41-b6a1-e433a00dc3fe"
      },
      "execution_count": null,
      "outputs": [
        {
          "output_type": "execute_result",
          "data": {
            "text/plain": [
              "[(3, 0.5), (4, 0.5), (2, 0.42857142857142855), (1, 0.125), (5, 0)]"
            ]
          },
          "metadata": {},
          "execution_count": 4
        }
      ]
    },
    {
      "cell_type": "code",
      "source": [
        "# temp를 최종 출력하려면,,,,:LC\n",
        "[ i[0] for i in temp]"
      ],
      "metadata": {
        "colab": {
          "base_uri": "https://localhost:8080/"
        },
        "id": "tMDkSATyJLZU",
        "outputId": "ca34f822-7f91-43b0-a23f-75ed3c8ee88e"
      },
      "execution_count": null,
      "outputs": [
        {
          "output_type": "execute_result",
          "data": {
            "text/plain": [
              "[3, 4, 2, 1, 5]"
            ]
          },
          "metadata": {},
          "execution_count": 5
        }
      ]
    },
    {
      "cell_type": "code",
      "source": [
        "b = []\n",
        "for i in temp:\n",
        "    b.append(i[0])\n",
        "b"
      ],
      "metadata": {
        "colab": {
          "base_uri": "https://localhost:8080/"
        },
        "id": "KCYBJqvVJlBj",
        "outputId": "fb163043-5cfc-4f3a-af66-396ea5a3255d"
      },
      "execution_count": null,
      "outputs": [
        {
          "output_type": "execute_result",
          "data": {
            "text/plain": [
              "[3, 4, 2, 1, 5]"
            ]
          },
          "metadata": {},
          "execution_count": 6
        }
      ]
    },
    {
      "cell_type": "code",
      "source": [
        "#참고)실패자의 수를 구하는 간단한 방법\n",
        "#i번째 스에티지 실패자 수 == stage에서 i 값의 갯수\n",
        "#m1 리스트 잡다한 메서드: .count()\n",
        "[2,1,2,6,2,4,3,3].count(2)"
      ],
      "metadata": {
        "colab": {
          "base_uri": "https://localhost:8080/"
        },
        "id": "RuSTxxssJsH4",
        "outputId": "5b5f9661-4b71-4bf7-a706-29e49ee9473f"
      },
      "execution_count": null,
      "outputs": [
        {
          "output_type": "execute_result",
          "data": {
            "text/plain": [
              "3"
            ]
          },
          "metadata": {},
          "execution_count": 8
        }
      ]
    },
    {
      "cell_type": "code",
      "source": [
        "# m2) 필터링+카운팅!! ==> 혈핵형 카운팅 LC\n",
        "a = [2, 1, 2, 6, 2, 4, 3, 3]\n",
        "len([ i for i in a if i == 2])"
      ],
      "metadata": {
        "colab": {
          "base_uri": "https://localhost:8080/"
        },
        "id": "X5wp0CK4KHMJ",
        "outputId": "c8ddc025-5adb-4e75-fccc-71d207ee1395"
      },
      "execution_count": null,
      "outputs": [
        {
          "output_type": "execute_result",
          "data": {
            "text/plain": [
              "3"
            ]
          },
          "metadata": {},
          "execution_count": 9
        }
      ]
    },
    {
      "cell_type": "code",
      "source": [
        "# m3) 꾸역 계산...\n",
        "cnt = 0\n",
        "a = [2, 1, 2, 6, 2, 4, 3, 3]\n",
        "for i in a:\n",
        "    if i==2:\n",
        "        cnt +=1\n",
        "print(cnt)"
      ],
      "metadata": {
        "colab": {
          "base_uri": "https://localhost:8080/"
        },
        "id": "3dUzQoPxKiHo",
        "outputId": "f0e165d1-9586-434b-8b33-2f9d568b3821"
      },
      "execution_count": null,
      "outputs": [
        {
          "output_type": "stream",
          "name": "stdout",
          "text": [
            "3\n"
          ]
        }
      ]
    },
    {
      "cell_type": "code",
      "source": [
        "def solution(N, stages):\n",
        "    answer = []\n",
        "    ##########################\n",
        "    # 1) 필요한 정보들을 세팅!!!!!!\n",
        "    # 1-1) 정렬을 위한 기본 세팅 : dict--> k:스테이지번호, v:실패율\n",
        "    fail_dict = {} # 스테이지별로 돌아가면서 추가하자!!!\n",
        "    # 1-2) 최초 도전자에 대한 수 : ==> 각 스테이지별로(갱신)\n",
        "    num_people = len(stages) # --> 갱신 : i_stage도전자수\n",
        "    # 처음은 1번 스테이지의 도전자 수에 대한 초기화!!!\n",
        "\n",
        "\n",
        "    # 2) 큰 구조 : 스테이지를 중심으로 돌려가면서 실패율\n",
        "    # ===> 1,2,3,....N 숫자로 돌리 : range(1, N+1)\n",
        "    for i_stage in range(1, N+1,1):\n",
        "        # 2-1) i번째 스테이지에서 할 일들을 기술\n",
        "        # 2-1-1) i번째 스테이지의 실패자 수 : 카운팅/ .count()\n",
        "        fail_num = stages.count(i_stage)\n",
        "        # len([ s for s in stages if s==i]) : 필터링&카운팅!\n",
        "        # 2-2-2) 실패율 : case by case\n",
        "        if num_people >0: # 1명 이상 참가자 --> 계산\n",
        "            fail_dict[i_stage] = fail_num / num_people\n",
        "        else : # 0명의 참가자 --> 계산X : 정의대로 0\n",
        "            fail_dict[i_stage] = 0\n",
        "        # 2-2-3) 다음 라우드에 참가자에 대한 정보 : 갱신\n",
        "        #num_people = num_people - fail_num\n",
        "        num_people -= fail_num\n",
        "    # ----> fail_dict = {1:1/8, 2:3/7, 3:2/4 ....}\n",
        "\n",
        "    # 3) 출력을 위한 정리/정렬!!!\n",
        "    # --> 정렬 1기준 : 실패율 * 내림차순\n",
        "    #     정렬 2기준 : 스테이지번호 * 오름차순'\n",
        "    # fail_dict.items() : [ (1, 1/8), (2, 3/7), (3, 2/4) ,,]\n",
        "    # --> x : (3, 2/4)\n",
        "    fail_list = sorted(fail_dict.items(), key = lambda x: (-x[1], x[0]) )\n",
        "    # [ (3, 2/4) , (2, 3/7),(1, 1/8),,,,, ]\n",
        "\n",
        "    # 4) 제출 양식 : stage 번호만 추려서 리스트로\n",
        "    answer = [fail_info[0] for fail_info in fail_list]\n",
        "    # [3,2,1]\n",
        "    ##########################\n",
        "    return answer"
      ],
      "metadata": {
        "id": "uWP4TcxbQTC1"
      },
      "execution_count": null,
      "outputs": []
    },
    {
      "cell_type": "code",
      "source": [
        "# Test\n",
        "a = 5\n",
        "b = [2, 1, 2, 6, 2, 4, 3, 3]\n",
        "solution(a,b) # [3,4,2,1,5]"
      ],
      "metadata": {
        "colab": {
          "base_uri": "https://localhost:8080/"
        },
        "id": "VKNG3WpvUwUr",
        "outputId": "dc983ba0-fa59-40c4-cf89-e0a7787acc8c"
      },
      "execution_count": null,
      "outputs": [
        {
          "output_type": "execute_result",
          "data": {
            "text/plain": [
              "[3, 4, 2, 1, 5]"
            ]
          },
          "metadata": {},
          "execution_count": 13
        }
      ]
    },
    {
      "cell_type": "code",
      "source": [
        "# Test\n",
        "a = 4\n",
        "b = [4,4,4,4,4]\n",
        "solution(a,b) # [4,1,2,3]"
      ],
      "metadata": {
        "colab": {
          "base_uri": "https://localhost:8080/"
        },
        "id": "c5olfIeUU2ej",
        "outputId": "c971afa2-5e9b-4d34-97fe-67516d20aa61"
      },
      "execution_count": null,
      "outputs": [
        {
          "output_type": "execute_result",
          "data": {
            "text/plain": [
              "[4, 1, 2, 3]"
            ]
          },
          "metadata": {},
          "execution_count": 14
        }
      ]
    },
    {
      "cell_type": "code",
      "source": [
        "# 포인트 : 코드 자체가 난이도가 있지는 않음!!!\n",
        "# ==> 차분히 분석을 하고 구현을 해야하는 과정 필요!!!\n",
        "#     + 계산하는 부분이나 구하는 부분이 조금 복잡할 수 있음!!\n",
        "# ==> 문제이해!!!  규칙화 !!!! 과거 기본 문제 뭐하고 유사한지!!!\n",
        "# ++ 정렬 : 정렬을 하기 위한 정보들을 모아야 함!!!\n",
        "#    ( 이름, 성적) , {이름:성적,,,,}\n",
        "# ==> 코드적인 : sort(), sorted() + key + lambda + (부호 오름/내림)\n",
        "\n",
        "# 참고) 리스트.sort() : 원본 변경\n",
        "#       sorted( )     : 원본은 유지\n",
        "#       dict --> dict.items() 풀어서ㅕ 리스트처럼 사용!!!!\n",
        "# *** 유연하게 생각을 하셔야 함!!!!!"
      ],
      "metadata": {
        "id": "n2DwO6TJWMrY"
      },
      "execution_count": null,
      "outputs": []
    },
    {
      "cell_type": "code",
      "source": [
        "t.items()"
      ],
      "metadata": {
        "id": "BWV6agbFWPHx",
        "outputId": "c8bfbbac-0d0e-4ffa-f913-1d8e325a8db2",
        "colab": {
          "base_uri": "https://localhost:8080/"
        }
      },
      "execution_count": null,
      "outputs": [
        {
          "output_type": "execute_result",
          "data": {
            "text/plain": [
              "dict_items([(1, 0.125), (2, 0.42857142857142855), (3, 0.5), (4, 0.5), (5, 0)])"
            ]
          },
          "metadata": {},
          "execution_count": 15
        }
      ]
    }
  ]
}